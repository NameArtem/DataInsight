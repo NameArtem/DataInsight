{
 "cells": [
  {
   "cell_type": "markdown",
   "metadata": {},
   "source": [
    " # Insurance prediction\n",
    " \n",
    " marketing campaign from the insurance industry "
   ]
  },
  {
   "cell_type": "code",
   "execution_count": 6,
   "metadata": {},
   "outputs": [
    {
     "ename": "ERROR",
     "evalue": "Error in library(compareGroups): there is no package called ‘compareGroups’\n",
     "execution_count": 6,
     "output_type": "error",
     "traceback": [
      "Error in library(compareGroups): there is no package called ‘compareGroups’\nTraceback:\n",
      "1. library(compareGroups)",
      "2. stop(txt, domain = NA)"
     ]
    }
   ],
   "source": [
    "### Loading libraries\n",
    "library(Information)\n",
    "library(gridExtra)\n",
    "library(compareGroups)\n",
    "library(ClustOfVar)\n",
    "library(reshape2)\n",
    "library(plyr)\n",
    "\n",
    "options(scipen=10)"
   ]
  },
  {
   "cell_type": "code",
   "execution_count": 2,
   "metadata": {},
   "outputs": [],
   "source": [
    "### Loading the data\n",
    "data(train, package=\"Information\")\n",
    "data(valid, package=\"Information\")"
   ]
  },
  {
   "cell_type": "code",
   "execution_count": 4,
   "metadata": {},
   "outputs": [],
   "source": [
    "### Exclude the control group\n",
    "train <- subset(train, TREATMENT==1)\n",
    "valid <- subset(valid, TREATMENT==1)"
   ]
  },
  {
   "cell_type": "code",
   "execution_count": 5,
   "metadata": {},
   "outputs": [],
   "source": [
    "### Ranking variables using penalized Information Value (IV)\n",
    "IV <-  create_infotables(data=train,\n",
    "                  valid=valid,\n",
    "                  y=\"PURCHASE\")\n",
    "\n",
    "grid.table(head(IV$Summary), rows=NULL)"
   ]
  },
  {
   "cell_type": "code",
   "execution_count": null,
   "metadata": {},
   "outputs": [],
   "source": [
    "grid.table(IV$Tables$N_OPEN_REV_ACTS, rows=NULL)"
   ]
  },
  {
   "cell_type": "code",
   "execution_count": null,
   "metadata": {},
   "outputs": [],
   "source": [
    "plot_infotables(IV, \"N_OPEN_REV_ACTS\")"
   ]
  },
  {
   "cell_type": "code",
   "execution_count": null,
   "metadata": {},
   "outputs": [],
   "source": [
    "for (i in 1:length(n)){\n",
    "    plot_infotables(IV, n[i])\n",
    " }"
   ]
  },
  {
   "cell_type": "code",
   "execution_count": null,
   "metadata": {},
   "outputs": [],
   "source": [
    "MultiPlot(IV, IV$Summary$Variable[1:9])"
   ]
  },
  {
   "cell_type": "code",
   "execution_count": null,
   "metadata": {},
   "outputs": [],
   "source": [
    "IV <- create_infotables(data=train, y=\"PURCHASE\")"
   ]
  },
  {
   "cell_type": "code",
   "execution_count": null,
   "metadata": {},
   "outputs": [],
   "source": [
    "IV <- create_infotables(data=train, valid=valid, y=\"PURCHASE\", bins=20)"
   ]
  },
  {
   "cell_type": "code",
   "execution_count": null,
   "metadata": {},
   "outputs": [],
   "source": [
    "grid.table(IV$Tables$N_OPEN_REV_ACTS,\n",
    "           %gp=gpar(fontsize=12),\n",
    "           rows=NULL)"
   ]
  },
  {
   "cell_type": "code",
   "execution_count": null,
   "metadata": {},
   "outputs": [],
   "source": []
  },
  {
   "cell_type": "code",
   "execution_count": null,
   "metadata": {},
   "outputs": [],
   "source": [
    "NIV <- create_infotables(data=train,\n",
    "                         valid=valid,\n",
    "                         y=\"PURCHASE\",\n",
    "                         trt=\"TREATMENT\")"
   ]
  },
  {
   "cell_type": "code",
   "execution_count": null,
   "metadata": {},
   "outputs": [],
   "source": [
    "grid.table(head(NIV$Summary),\n",
    "           rows=NULL,\n",
    "           gp=gpar(fontsize=12))"
   ]
  },
  {
   "cell_type": "markdown",
   "metadata": {},
   "source": [
    "## Combining IV Analysis With Variable Clustering\n",
    "\n",
    "Variable clustering divides a set of numeric variables into mutually exclusive clusters. The algorithm attempts to generate clusters such that\n",
    "\n",
    "the correlations between variables assigned to the same cluster are maximized.\n",
    "the correlations between variables in different clusters are minimized.\n",
    "\n",
    "Using this algorithm we can replace a large set of variables by a single member of each cluster, often with little loss of information. The question is which member to choose from a given cluster. One option is to choose the variable that has the highest multiple correlation with the variables within its cluster, and the lowest correlation with variables outside the cluster. A more meaningful choice for a predictive modeling is to choose the variable that has the highest information value. "
   ]
  },
  {
   "cell_type": "code",
   "execution_count": null,
   "metadata": {},
   "outputs": [],
   "source": [
    "tree <- hclustvar(train[,!(names(train) %in% c(\"PURCHASE\", \"TREATMENT\"))])\n",
    "nvars <- length(tree[tree$height<0.7])\n",
    "part_init<-cutreevar(tree,nvars)$cluster\n",
    "kmeans<-kmeansvar(X.quanti=train[,!(names(train) %in% c(\"PURCHASE\", \"TREATMENT\"))],init=part_init)"
   ]
  },
  {
   "cell_type": "code",
   "execution_count": null,
   "metadata": {},
   "outputs": [],
   "source": [
    "clusters <- cbind.data.frame(melt(kmeans$cluster), row.names(melt(kmeans$cluster)))\n",
    "names(clusters) <- c(\"Cluster\", \"Variable\")\n",
    "clusters <- join(clusters, IV$Summary, by=\"Variable\", type=\"left\")\n",
    "clusters <- clusters[order(clusters$Cluster),]\n",
    "clusters$Rank <- ave(-clusters$AdjIV, clusters$Cluster, FUN=rank)"
   ]
  },
  {
   "cell_type": "code",
   "execution_count": null,
   "metadata": {},
   "outputs": [],
   "source": [
    "selected_members <- subset(clusters, Rank==1)\n",
    "selected_members$Rank <- NULL"
   ]
  },
  {
   "cell_type": "markdown",
   "metadata": {},
   "source": [
    "Using variable clustering in combination with IV cuts the number of variables from 68 to 21:"
   ]
  },
  {
   "cell_type": "code",
   "execution_count": null,
   "metadata": {},
   "outputs": [],
   "source": [
    "nrow(selected_members)\n",
    "nrow(clusters)"
   ]
  },
  {
   "cell_type": "code",
   "execution_count": null,
   "metadata": {},
   "outputs": [],
   "source": [
    "grid.table(head(selected_members),\n",
    "           rows=NULL,\n",
    "           gp=gpar(fontsize=12))"
   ]
  },
  {
   "cell_type": "markdown",
   "metadata": {},
   "source": [
    "### Summary\n",
    "\n",
    "The purpose of exploratory analysis and variable screening is to get to know the data and assess “univariate” predictive strength, before we deploy more sophisticated variable selection approaches.\n",
    "\n",
    "The weight of evidence (WOE) and information value (IV) provide a great framework for performing exploratory analysis and variable screening prior to building a binary classifier (e.g., logistic regression). It seamlessly handles missing values and character variables, and the output is easy to interpret.\n",
    "\n",
    "The information value originates from information theory and is closely related to the concept of mutual information.\n",
    "\n",
    "The information package is specifically written to perform this type of analysis using parallel processing. It also supports exploratory analysis for uplift models, a growing area within marketing analytics. The information package is not designed to transfer data into WOE vectors for Naive Bayes models, although this feature could be added later."
   ]
  },
  {
   "cell_type": "code",
   "execution_count": null,
   "metadata": {},
   "outputs": [],
   "source": []
  }
 ],
 "metadata": {
  "kernelspec": {
   "display_name": "R",
   "language": "R",
   "name": "ir"
  },
  "language_info": {
   "codemirror_mode": "r",
   "file_extension": ".r",
   "mimetype": "text/x-r-source",
   "name": "R",
   "pygments_lexer": "r",
   "version": "3.3.3"
  }
 },
 "nbformat": 4,
 "nbformat_minor": 2
}
