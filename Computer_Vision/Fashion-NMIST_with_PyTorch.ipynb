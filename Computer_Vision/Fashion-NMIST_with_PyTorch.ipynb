{
 "cells": [
  {
   "cell_type": "markdown",
   "metadata": {},
   "source": [
    "##  Fashion-MNIST\n",
    "\n",
    "In this project, we can see the difference in accuracy and validation loss after implementing Dropout regularization to a Neural Network. We will build a Sequential Neural Network from scratch using PyTorch library to classify 10 different classes in the fashion-MNIST dataset. The dataset is a 28x28 greyscale image of clothes. We will dive in into the implementation of dropouts and prove if it will prevent overfitting."
   ]
  },
  {
   "cell_type": "code",
   "execution_count": 123,
   "metadata": {},
   "outputs": [],
   "source": [
    "import torch\n",
    "from torchvision import datasets, transforms\n",
    "import helper\n",
    "import numpy as np"
   ]
  },
  {
   "cell_type": "code",
   "execution_count": 2,
   "metadata": {},
   "outputs": [],
   "source": [
    "from torch import nn\n",
    "from torch.functional import F\n",
    "from torch import optim"
   ]
  },
  {
   "cell_type": "code",
   "execution_count": 3,
   "metadata": {},
   "outputs": [],
   "source": [
    "# Plot the graph here\n",
    "%matplotlib inline\n",
    "%config InlineBackend.figure_format = 'retina'\n",
    "import matplotlib.pyplot as plt"
   ]
  },
  {
   "cell_type": "code",
   "execution_count": 64,
   "metadata": {},
   "outputs": [],
   "source": [
    "#transform = transforms.Compose([\n",
    "#                                transforms.ToTensor(), \n",
    "#                                transforms.Normalize(\n",
    "#                                    (0.5, 0.5, 0.5),\n",
    "#                                    (0.5, 0.5, 0.5)\n",
    "#                                )\n",
    "#                               ])"
   ]
  },
  {
   "cell_type": "code",
   "execution_count": 73,
   "metadata": {},
   "outputs": [],
   "source": [
    "transform = transforms.Compose([\n",
    "    transforms.ToTensor(),\n",
    "    transforms.Normalize((0.5,), (0.5,))\n",
    "])"
   ]
  },
  {
   "cell_type": "code",
   "execution_count": 74,
   "metadata": {},
   "outputs": [],
   "source": [
    "traindataset = datasets.FashionMNIST('~/.pytorch/F_MNIST_data/', \n",
    "                                     download=True,\n",
    "                                     train=True,\n",
    "                                     transform=transform)"
   ]
  },
  {
   "cell_type": "code",
   "execution_count": 75,
   "metadata": {},
   "outputs": [],
   "source": [
    "trainloader = torch.utils.data.DataLoader(dataset=traindataset, \n",
    "                                          batch_size=64, \n",
    "                                          shuffle=True)"
   ]
  },
  {
   "cell_type": "code",
   "execution_count": 76,
   "metadata": {},
   "outputs": [],
   "source": [
    "testdataset = datasets.FashionMNIST('~/.pytorch/F_MNIST_data/', \n",
    "                                    download=True,\n",
    "                                    train=False,\n",
    "                                    transform=transform)"
   ]
  },
  {
   "cell_type": "code",
   "execution_count": 77,
   "metadata": {},
   "outputs": [],
   "source": [
    "testloader = torch.utils.data.DataLoader(dataset=testdataset, \n",
    "                                         batch_size=64, \n",
    "                                         shuffle=True)"
   ]
  },
  {
   "cell_type": "code",
   "execution_count": 78,
   "metadata": {},
   "outputs": [],
   "source": [
    "### Define Network without Dropouts\n",
    "class NeuralNetwork(nn.Module):\n",
    "    def __init__(self):\n",
    "        super().__init__()\n",
    "        # Create layers here\n",
    "        self.layer_input      = nn.Linear(784,256)\n",
    "        self.layer_hidden_one = nn.Linear(256,128)\n",
    "        self.layer_hidden_two = nn.Linear(128,64)\n",
    "        self.layer_output     = nn.Linear(64,10)\n",
    "        \n",
    "    def forward(self, x):\n",
    "        # Flattened the input to make sure it fits the layer input\n",
    "        x = x.view(x.shape[0], -1)\n",
    "        \n",
    "        # Pass in the input to the layer and do forward propagation\n",
    "        x = F.relu(self.layer_input(x))\n",
    "        x = F.relu(self.layer_hidden_one(x))\n",
    "        x = F.relu(self.layer_hidden_two(x))\n",
    "        \n",
    "        # Dimension = 1\n",
    "        x = F.log_softmax(self.layer_output(x), dim=1)\n",
    "        \n",
    "        return x"
   ]
  },
  {
   "cell_type": "code",
   "execution_count": 79,
   "metadata": {},
   "outputs": [],
   "source": [
    "# Instantiate the model\n",
    "model = NeuralNetwork()"
   ]
  },
  {
   "cell_type": "code",
   "execution_count": 80,
   "metadata": {},
   "outputs": [],
   "source": [
    "# Get the images and labels from the test loader\n",
    "images, labels = next(iter(testloader))"
   ]
  },
  {
   "cell_type": "code",
   "execution_count": 81,
   "metadata": {},
   "outputs": [],
   "source": [
    "# Get the log probability prediction from our model\n",
    "log_ps = model(images)"
   ]
  },
  {
   "cell_type": "code",
   "execution_count": 82,
   "metadata": {},
   "outputs": [],
   "source": [
    "# Normalize the probability by taking the exponent of the log-prob\n",
    "ps = torch.exp(log_ps)"
   ]
  },
  {
   "cell_type": "code",
   "execution_count": 83,
   "metadata": {},
   "outputs": [
    {
     "name": "stdout",
     "output_type": "stream",
     "text": [
      "torch.Size([64, 10])\n"
     ]
    }
   ],
   "source": [
    "# Print out the size\n",
    "print(ps.shape)"
   ]
  },
  {
   "cell_type": "code",
   "execution_count": 84,
   "metadata": {},
   "outputs": [],
   "source": [
    "top_p, top_class = ps.topk(1,dim=1)"
   ]
  },
  {
   "cell_type": "code",
   "execution_count": 85,
   "metadata": {},
   "outputs": [
    {
     "name": "stdout",
     "output_type": "stream",
     "text": [
      "tensor([[1],\n",
      "        [1],\n",
      "        [1],\n",
      "        [1],\n",
      "        [1],\n",
      "        [1],\n",
      "        [1],\n",
      "        [1],\n",
      "        [1],\n",
      "        [1]])\n"
     ]
    }
   ],
   "source": [
    "# Print out the most likely classes for the first 10 examples\n",
    "print(top_class[:10,:])"
   ]
  },
  {
   "cell_type": "code",
   "execution_count": 86,
   "metadata": {},
   "outputs": [],
   "source": [
    "# We have to reshape the labels to 64x1 using the view() method\n",
    "equals = top_class == labels.view(*top_class.shape)"
   ]
  },
  {
   "cell_type": "code",
   "execution_count": 87,
   "metadata": {},
   "outputs": [
    {
     "name": "stdout",
     "output_type": "stream",
     "text": [
      "torch.Size([64, 1])\n"
     ]
    }
   ],
   "source": [
    "print(equals.shape)"
   ]
  },
  {
   "cell_type": "code",
   "execution_count": 88,
   "metadata": {},
   "outputs": [],
   "source": [
    "accuracy = torch.mean(equals.type(torch.FloatTensor))"
   ]
  },
  {
   "cell_type": "code",
   "execution_count": 89,
   "metadata": {},
   "outputs": [
    {
     "name": "stdout",
     "output_type": "stream",
     "text": [
      "Accuracy: 7.8125%\n"
     ]
    }
   ],
   "source": [
    "# Print the accuracy\n",
    "print(f'Accuracy: {accuracy.item()*100}%')"
   ]
  },
  {
   "cell_type": "code",
   "execution_count": 90,
   "metadata": {},
   "outputs": [],
   "source": [
    "# Instantiate the model\n",
    "model = NeuralNetwork()"
   ]
  },
  {
   "cell_type": "code",
   "execution_count": 91,
   "metadata": {},
   "outputs": [],
   "source": [
    "# Use Negative Log Likelyhood as our loss function\n",
    "loss_function = nn.NLLLoss()"
   ]
  },
  {
   "cell_type": "code",
   "execution_count": 92,
   "metadata": {},
   "outputs": [],
   "source": [
    "# Use ADAM optimizer to utilize momentum\n",
    "optimizer = optim.Adam(model.parameters(), lr=0.003)"
   ]
  },
  {
   "cell_type": "code",
   "execution_count": 93,
   "metadata": {},
   "outputs": [],
   "source": [
    "# Train the model 30 cycles\n",
    "epochs = 30"
   ]
  },
  {
   "cell_type": "code",
   "execution_count": 94,
   "metadata": {},
   "outputs": [],
   "source": [
    "# Initialize two empty arrays to hold the train and test losses\n",
    "train_losses, test_losses = [],[]"
   ]
  },
  {
   "cell_type": "code",
   "execution_count": 95,
   "metadata": {},
   "outputs": [],
   "source": [
    "# Start the training\n",
    "for i in range(epochs):\n",
    "    running_loss = 0\n",
    "    # Loop through all of the train set forward and back propagate\n",
    "    for images,labels in trainloader:\n",
    "        optimizer.zero_grad()                      \n",
    "        log_ps = model(images)                     \n",
    "        loss = loss_function(log_ps, labels)       \n",
    "        loss.backward()                            # Backpropagate\n",
    "        optimizer.step()                           \n",
    "        running_loss += loss.item()                \n",
    "    \n",
    "    # Initialize test loss and accuracy to be 0 \n",
    "    test_loss = 0\n",
    "    accuracy = 0\n",
    "    \n",
    "    # Turn off the gradients\n",
    "    with torch.no_grad():\n",
    "        # Loop through all of the validation set\n",
    "        for images, labels in testloader:\n",
    "            log_ps = model(images)                                 \n",
    "            ps = torch.exp(log_ps)                                 \n",
    "            test_loss += loss_function(log_ps, labels)             \n",
    "            top_p, top_class = ps.topk(1,dim=1)                    \n",
    "            equals = top_class == labels.view(*top_class.shape)   \n",
    "            accuracy += torch.mean(equals.type(torch.FloatTensor))\n",
    "    \n",
    "    # Append the average losses to the array for plotting       \n",
    "    train_losses.append(running_loss/len(trainloader))\n",
    "    test_losses.append(test_loss/len(testloader))"
   ]
  },
  {
   "cell_type": "code",
   "execution_count": 96,
   "metadata": {},
   "outputs": [
    {
     "data": {
      "text/plain": [
       "<matplotlib.legend.Legend at 0x1260222e8>"
      ]
     },
     "execution_count": 96,
     "metadata": {},
     "output_type": "execute_result"
    },
    {
     "data": {
      "image/png": "[encoded data removed]",
      "text/plain": [
       "<Figure size 432x288 with 1 Axes>"
      ]
     },
     "metadata": {
      "image/png": {
       "height": 250,
       "width": 380
      },
      "needs_background": "light"
     },
     "output_type": "display_data"
    }
   ],
   "source": [
    "plt.plot(train_losses, label='Training Loss')\n",
    "plt.plot(test_losses,  label='Validation Loss')\n",
    "plt.legend(frameon=True)"
   ]
  },
  {
   "cell_type": "code",
   "execution_count": 97,
   "metadata": {},
   "outputs": [],
   "source": [
    "### Define Network with Dropouts\n",
    "class NeuralNetworkDropout(nn.Module):\n",
    "    def __init__(self):\n",
    "        super().__init__()\n",
    "        # Create layers here\n",
    "        self.layer_input      = nn.Linear(784,256)\n",
    "        self.layer_hidden_one = nn.Linear(256,128)\n",
    "        self.layer_hidden_two = nn.Linear(128,64)\n",
    "        self.layer_output     = nn.Linear(64,10)\n",
    "        \n",
    "        # 20% Dropout here\n",
    "        self.dropout = nn.Dropout(p=0.2)\n",
    "        \n",
    "    def forward(self, x):\n",
    "        #input_data = input_data.expand(input_data.data.shape[0], 3, 28, 28)\n",
    "        # Flattened the input to make sure it fits the layer input\n",
    "        x = x.view(x.shape[0],-1)\n",
    "        \n",
    "        # Pass in the input to the layer and do forward propagation\n",
    "        x = self.dropout(F.relu(self.layer_input(x)))\n",
    "        x = self.dropout(F.relu(self.layer_hidden_one(x)))\n",
    "        x = self.dropout(F.relu(self.layer_hidden_two(x)))\n",
    "        \n",
    "        # Dimension = 1\n",
    "        x = F.log_softmax(self.layer_output(x),dim=1)\n",
    "        return x"
   ]
  },
  {
   "cell_type": "code",
   "execution_count": 98,
   "metadata": {},
   "outputs": [],
   "source": [
    "# Instantiate the model\n",
    "model = NeuralNetworkDropout()"
   ]
  },
  {
   "cell_type": "code",
   "execution_count": 99,
   "metadata": {},
   "outputs": [],
   "source": [
    "# Use Negative Log Likelyhood as our loss function\n",
    "loss_function = nn.NLLLoss()"
   ]
  },
  {
   "cell_type": "code",
   "execution_count": 100,
   "metadata": {},
   "outputs": [],
   "source": [
    "# Use ADAM optimizer to utilize momentum\n",
    "optimizer = optim.Adam(model.parameters(), lr=0.003)"
   ]
  },
  {
   "cell_type": "code",
   "execution_count": 101,
   "metadata": {},
   "outputs": [],
   "source": [
    "# Train the model 30 cycles\n",
    "epochs = 30"
   ]
  },
  {
   "cell_type": "code",
   "execution_count": 102,
   "metadata": {},
   "outputs": [],
   "source": [
    "# Initialize two empty arrays to hold the train and test losses\n",
    "train_losses, test_losses = [],[]"
   ]
  },
  {
   "cell_type": "code",
   "execution_count": 103,
   "metadata": {},
   "outputs": [],
   "source": [
    "# Start the training\n",
    "for i in range(epochs):\n",
    "    running_loss = 0\n",
    "    # Loop through all of the train set forward and back propagate\n",
    "    for images,labels in trainloader:\n",
    "        optimizer.zero_grad()                      \n",
    "        log_ps = model(images)                     \n",
    "        loss = loss_function(log_ps, labels)   \n",
    "        # Backpropagate\n",
    "        loss.backward()\n",
    "        optimizer.step()                           \n",
    "        running_loss += loss.item()                \n",
    "    \n",
    "    # Initialize test loss and accuracy to be 0 \n",
    "    test_loss = 0\n",
    "    accuracy = 0\n",
    "    \n",
    "    # Turn off the gradients\n",
    "    with torch.no_grad():\n",
    "        # Turn on Evaluation mode\n",
    "        model.eval()\n",
    "        # Loop through all of the validation set\n",
    "        for images, labels in testloader:\n",
    "            log_ps = model(images)                                 \n",
    "            ps = torch.exp(log_ps)                                 \n",
    "            test_loss += loss_function(log_ps, labels)             \n",
    "            top_p, top_class = ps.topk(1,dim=1)                    \n",
    "            equals = top_class == labels.view(*top_class.shape)   \n",
    "            accuracy += torch.mean(equals.type(torch.FloatTensor))\n",
    "\n",
    "    # Turn on Training mode again\n",
    "    model.train()\n",
    "    \n",
    "    # Append the average losses to the array for plotting       \n",
    "    train_losses.append(running_loss/len(trainloader))\n",
    "    test_losses.append(test_loss/len(testloader))"
   ]
  },
  {
   "cell_type": "code",
   "execution_count": 104,
   "metadata": {},
   "outputs": [
    {
     "data": {
      "text/plain": [
       "<matplotlib.legend.Legend at 0x11f780d68>"
      ]
     },
     "execution_count": 104,
     "metadata": {},
     "output_type": "execute_result"
    },
    {
     "data": {
      "image/png": "[encoded data removed]",
      "text/plain": [
       "<Figure size 432x288 with 1 Axes>"
      ]
     },
     "metadata": {
      "image/png": {
       "height": 250,
       "width": 380
      },
      "needs_background": "light"
     },
     "output_type": "display_data"
    }
   ],
   "source": [
    "plt.plot(train_losses, label='Training Loss')\n",
    "plt.plot(test_losses, label='Validation Loss')\n",
    "plt.legend(frameon=True)"
   ]
  },
  {
   "cell_type": "markdown",
   "metadata": {},
   "source": [
    "### Inference"
   ]
  },
  {
   "cell_type": "code",
   "execution_count": 105,
   "metadata": {},
   "outputs": [
    {
     "data": {
      "text/plain": [
       "NeuralNetworkDropout(\n",
       "  (layer_input): Linear(in_features=784, out_features=256, bias=True)\n",
       "  (layer_hidden_one): Linear(in_features=256, out_features=128, bias=True)\n",
       "  (layer_hidden_two): Linear(in_features=128, out_features=64, bias=True)\n",
       "  (layer_output): Linear(in_features=64, out_features=10, bias=True)\n",
       "  (dropout): Dropout(p=0.2)\n",
       ")"
      ]
     },
     "execution_count": 105,
     "metadata": {},
     "output_type": "execute_result"
    }
   ],
   "source": [
    "# Make sure to make our model in the evaluation mode\n",
    "model.eval()"
   ]
  },
  {
   "cell_type": "code",
   "execution_count": 106,
   "metadata": {},
   "outputs": [],
   "source": [
    "# Get the next image and label\n",
    "images, labels = next(iter(testloader))\n",
    "img = images[0]"
   ]
  },
  {
   "cell_type": "code",
   "execution_count": 107,
   "metadata": {},
   "outputs": [],
   "source": [
    "# Convert 2D image to 1D vector\n",
    "img = img.view(1, 784)"
   ]
  },
  {
   "cell_type": "code",
   "execution_count": 108,
   "metadata": {},
   "outputs": [],
   "source": [
    "# Calculate the class probabilities (log-softmax) for img\n",
    "with torch.no_grad():\n",
    "    output = model.forward(img)"
   ]
  },
  {
   "cell_type": "code",
   "execution_count": 109,
   "metadata": {},
   "outputs": [],
   "source": [
    "# Normalize the output\n",
    "ps = torch.exp(output)"
   ]
  },
  {
   "cell_type": "code",
   "execution_count": 121,
   "metadata": {},
   "outputs": [],
   "source": [
    "## Visualize the classification of the model\n",
    "def view_classify(img, ps, version=\"MNIST\"):\n",
    "    ''' Function for viewing an image and it's predicted classes.\n",
    "    '''\n",
    "    ps = ps.data.numpy().squeeze()\n",
    "\n",
    "    fig, (ax1, ax2) = plt.subplots(figsize=(6,9), ncols=2)\n",
    "    ax1.imshow(img.resize_(1, 28, 28).numpy().squeeze())\n",
    "    ax1.axis('off')\n",
    "    ax2.barh(np.arange(10), ps)\n",
    "    ax2.set_aspect(0.1)\n",
    "    ax2.set_yticks(np.arange(10))\n",
    "    if version == \"MNIST\":\n",
    "        ax2.set_yticklabels(np.arange(10))\n",
    "    elif version == \"Fashion\":\n",
    "        ax2.set_yticklabels(['T-shirt/top',\n",
    "                            'Trouser',\n",
    "                            'Pullover',\n",
    "                            'Dress',\n",
    "                            'Coat',\n",
    "                            'Sandal',\n",
    "                            'Shirt',\n",
    "                            'Sneaker',\n",
    "                            'Bag',\n",
    "                            'Ankle Boot'], size='small');\n",
    "    ax2.set_title('Class Probability')\n",
    "    ax2.set_xlim(0, 1.1)\n",
    "\n",
    "    plt.tight_layout()"
   ]
  },
  {
   "cell_type": "code",
   "execution_count": 122,
   "metadata": {},
   "outputs": [
    {
     "data": {
      "image/png": "[encoded data removed]",
      "text/plain": [
       "<Figure size 432x648 with 2 Axes>"
      ]
     },
     "metadata": {
      "image/png": {
       "height": 206,
       "width": 423
      },
      "needs_background": "light"
     },
     "output_type": "display_data"
    }
   ],
   "source": [
    "# Plot the image and probabilities\n",
    "view_classify(img.view(1, 28, 28), ps, version='Fashion')"
   ]
  },
  {
   "cell_type": "code",
   "execution_count": null,
   "metadata": {},
   "outputs": [],
   "source": []
  }
 ],
 "metadata": {
  "kernelspec": {
   "display_name": "Python 3",
   "language": "python",
   "name": "python3"
  },
  "language_info": {
   "codemirror_mode": {
    "name": "ipython",
    "version": 3
   },
   "file_extension": ".py",
   "mimetype": "text/x-python",
   "name": "python",
   "nbconvert_exporter": "python",
   "pygments_lexer": "ipython3",
   "version": "3.7.3"
  }
 },
 "nbformat": 4,
 "nbformat_minor": 2
}
