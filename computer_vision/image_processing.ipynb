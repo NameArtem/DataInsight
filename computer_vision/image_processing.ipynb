{
  "nbformat": 4,
  "nbformat_minor": 0,
  "metadata": {
    "colab": {
      "name": "image_processing.ipynb",
      "version": "0.3.2",
      "provenance": [],
      "collapsed_sections": []
    },
    "kernelspec": {
      "name": "python3",
      "display_name": "Python 3"
    }
  },
  "cells": [
    {
      "metadata": {
        "id": "uo6F4KvmhKMo",
        "colab_type": "text"
      },
      "cell_type": "markdown",
      "source": [
        ""
      ]
    },
    {
      "metadata": {
        "id": "UspTBCL9gl5Q",
        "colab_type": "code",
        "colab": {}
      },
      "cell_type": "code",
      "source": [
        "# example of a multilayer perceptron\n",
        "from keras.utils import plot_model\n",
        "from keras.models import Model\n",
        "from keras.layers import Input\n",
        "from keras.layers import Dense\n",
        "\n",
        "from keras.layers.convolutional import Conv2D\n",
        "from keras.layers.pooling import MaxPooling2D\n",
        "from keras.layers.recurrent import LSTM\n",
        "\n",
        "import matplotlib.pyplot as plt\n",
        "\n",
        "from numpy import clip\n",
        "from numpy import asarray"
      ],
      "execution_count": 0,
      "outputs": []
    },
    {
      "metadata": {
        "id": "waviEB1bhNZL",
        "colab_type": "text"
      },
      "cell_type": "markdown",
      "source": [
        "## Multilayer Perceptron\n",
        "\n",
        "We define a Multilayer Perceptron model for binary classification."
      ]
    },
    {
      "metadata": {
        "id": "48E7JsOYhK3H",
        "colab_type": "code",
        "colab": {
          "base_uri": "https://localhost:8080/",
          "height": 88
        },
        "outputId": "9f4fb1af-841a-448b-d21b-2f94b8135f22"
      },
      "cell_type": "code",
      "source": [
        "# Model architecture\n",
        "visible = Input(shape=(10,))\n",
        "hidden1 = Dense(10, activation='relu')(visible) \n",
        "hidden2 = Dense(20, activation='relu')(hidden1) \n",
        "hidden3 = Dense(10, activation='relu')(hidden2) \n",
        "output = Dense(1, activation='sigmoid')(hidden3) \n",
        "model = Model(inputs=visible, outputs=output)"
      ],
      "execution_count": 2,
      "outputs": [
        {
          "output_type": "stream",
          "text": [
            "WARNING:tensorflow:From /usr/local/lib/python3.6/dist-packages/tensorflow/python/framework/op_def_library.py:263: colocate_with (from tensorflow.python.framework.ops) is deprecated and will be removed in a future version.\n",
            "Instructions for updating:\n",
            "Colocations handled automatically by placer.\n"
          ],
          "name": "stdout"
        }
      ]
    },
    {
      "metadata": {
        "id": "iOZR7VonhPgf",
        "colab_type": "code",
        "colab": {
          "base_uri": "https://localhost:8080/",
          "height": 306
        },
        "outputId": "7cbe50e3-7e60-44e5-87e1-d339e7753795"
      },
      "cell_type": "code",
      "source": [
        "# summarize layers\n",
        "model.summary()"
      ],
      "execution_count": 3,
      "outputs": [
        {
          "output_type": "stream",
          "text": [
            "_________________________________________________________________\n",
            "Layer (type)                 Output Shape              Param #   \n",
            "=================================================================\n",
            "input_1 (InputLayer)         (None, 10)                0         \n",
            "_________________________________________________________________\n",
            "dense_1 (Dense)              (None, 10)                110       \n",
            "_________________________________________________________________\n",
            "dense_2 (Dense)              (None, 20)                220       \n",
            "_________________________________________________________________\n",
            "dense_3 (Dense)              (None, 10)                210       \n",
            "_________________________________________________________________\n",
            "dense_4 (Dense)              (None, 1)                 11        \n",
            "=================================================================\n",
            "Total params: 551\n",
            "Trainable params: 551\n",
            "Non-trainable params: 0\n",
            "_________________________________________________________________\n"
          ],
          "name": "stdout"
        }
      ]
    },
    {
      "metadata": {
        "id": "ymQPryFMhRG3",
        "colab_type": "code",
        "colab": {
          "base_uri": "https://localhost:8080/",
          "height": 51
        },
        "outputId": "1983cb47-bbea-4ff9-81d6-bc6532d09a35"
      },
      "cell_type": "code",
      "source": [
        "# check PIL and Pillow version numbers\n",
        "import PIL\n",
        "from PIL import Image\n",
        "print('Pillow Version:', PIL.__version__) \n",
        "print('PIL Version:', PIL.VERSION)"
      ],
      "execution_count": 4,
      "outputs": [
        {
          "output_type": "stream",
          "text": [
            "Pillow Version: 4.1.1\n",
            "PIL Version: 1.1.7\n"
          ],
          "name": "stdout"
        }
      ]
    },
    {
      "metadata": {
        "id": "1K0T6vrDhSwE",
        "colab_type": "code",
        "colab": {}
      },
      "cell_type": "code",
      "source": [
        "# plot model graph\n",
        "plot_model(model, to_file='multilayer_perceptron_graph.png')"
      ],
      "execution_count": 0,
      "outputs": []
    },
    {
      "metadata": {
        "id": "H24qkA3BhYUT",
        "colab_type": "code",
        "colab": {
          "base_uri": "https://localhost:8080/",
          "height": 68
        },
        "outputId": "4f6a225e-2c4a-4109-b879-bf21d724d946"
      },
      "cell_type": "code",
      "source": [
        "!curl -O https://www.travelsavvygal.com/wp-content/uploads/2017/05/Featured-Opera-House-Sydney-Australia-DSC_0630-1038x576.jpg"
      ],
      "execution_count": 6,
      "outputs": [
        {
          "output_type": "stream",
          "text": [
            "  % Total    % Received % Xferd  Average Speed   Time    Time     Time  Current\n",
            "                                 Dload  Upload   Total   Spent    Left  Speed\n",
            "100  168k  100  168k    0     0   189k      0 --:--:-- --:--:-- --:--:--  189k\n"
          ],
          "name": "stdout"
        }
      ]
    },
    {
      "metadata": {
        "id": "YJeo0sIBiX9q",
        "colab_type": "code",
        "colab": {}
      },
      "cell_type": "code",
      "source": [
        "!mv Featured-Opera-House-Sydney-Australia-DSC_0630-1038x576.jpg opera_house.jpg"
      ],
      "execution_count": 0,
      "outputs": []
    },
    {
      "metadata": {
        "id": "UQ-bGb_vhd1v",
        "colab_type": "code",
        "colab": {}
      },
      "cell_type": "code",
      "source": [
        "# load the image\n",
        "filename= 'opera_house.jpg'\n",
        "image = Image.open(filename)"
      ],
      "execution_count": 0,
      "outputs": []
    },
    {
      "metadata": {
        "id": "1p0SHWzcj3Fp",
        "colab_type": "code",
        "colab": {
          "base_uri": "https://localhost:8080/",
          "height": 68
        },
        "outputId": "45dc1489-816f-49ca-aa62-a9d8631c1353"
      },
      "cell_type": "code",
      "source": [
        "# summarize some details about the image \n",
        "print(image.format)\n",
        "print(image.mode)\n",
        "print(image.size)"
      ],
      "execution_count": 9,
      "outputs": [
        {
          "output_type": "stream",
          "text": [
            "JPEG\n",
            "RGB\n",
            "(1038, 576)\n"
          ],
          "name": "stdout"
        }
      ]
    },
    {
      "metadata": {
        "id": "eWLx16NHj-nI",
        "colab_type": "code",
        "colab": {}
      },
      "cell_type": "code",
      "source": [
        "# show the image\n",
        "image.show()"
      ],
      "execution_count": 0,
      "outputs": []
    },
    {
      "metadata": {
        "id": "7AbMq_kpj-qK",
        "colab_type": "code",
        "colab": {}
      },
      "cell_type": "code",
      "source": [
        "# load and display an image with Matplotlib\n",
        "from matplotlib import image\n",
        "from matplotlib import pyplot\n",
        "\n",
        "# load image as pixel array\n",
        "data = image.imread('opera_house.jpg')"
      ],
      "execution_count": 0,
      "outputs": []
    },
    {
      "metadata": {
        "id": "-PHm0htqj-vk",
        "colab_type": "code",
        "colab": {
          "base_uri": "https://localhost:8080/",
          "height": 51
        },
        "outputId": "6a5308d3-3139-43d2-8437-ce99d45b8333"
      },
      "cell_type": "code",
      "source": [
        "# summarize shape of the pixel array\n",
        "print(data.dtype)\n",
        "print(data.shape)"
      ],
      "execution_count": 12,
      "outputs": [
        {
          "output_type": "stream",
          "text": [
            "uint8\n",
            "(576, 1038, 3)\n"
          ],
          "name": "stdout"
        }
      ]
    },
    {
      "metadata": {
        "id": "6E00uvGtj-yZ",
        "colab_type": "code",
        "colab": {}
      },
      "cell_type": "code",
      "source": [
        "# display the array of pixels as an image pyplot.imshow(data)\n",
        "pyplot.show()"
      ],
      "execution_count": 0,
      "outputs": []
    },
    {
      "metadata": {
        "id": "gX0JuBfUhhB_",
        "colab_type": "text"
      },
      "cell_type": "markdown",
      "source": [
        "### Convert Images to NumPy Arrays and Back\n",
        "\n",
        "Running the example first loads the photo as a Pillow image then converts it to a NumPy array and reports the shape of the array. Finally, the array is converted back into a Pillow image and the details are reported."
      ]
    },
    {
      "metadata": {
        "id": "Vz-7WNwqj-tC",
        "colab_type": "code",
        "colab": {}
      },
      "cell_type": "code",
      "source": [
        "from PIL import Image"
      ],
      "execution_count": 0,
      "outputs": []
    },
    {
      "metadata": {
        "id": "g33NY62wmcAp",
        "colab_type": "code",
        "colab": {}
      },
      "cell_type": "code",
      "source": [
        "# load the image\n",
        "image = Image.open('opera_house.jpg')"
      ],
      "execution_count": 0,
      "outputs": []
    },
    {
      "metadata": {
        "id": "24uP8eg0md4a",
        "colab_type": "code",
        "colab": {}
      },
      "cell_type": "code",
      "source": [
        "# convert image to numpy array\n",
        "data = asarray(image)"
      ],
      "execution_count": 0,
      "outputs": []
    },
    {
      "metadata": {
        "id": "JTv9qv20mgIJ",
        "colab_type": "code",
        "colab": {
          "base_uri": "https://localhost:8080/",
          "height": 34
        },
        "outputId": "83ae40d2-ef60-4219-9859-b57b25d7d2e1"
      },
      "cell_type": "code",
      "source": [
        "# summarize shape\n",
        "print(data.shape)"
      ],
      "execution_count": 18,
      "outputs": [
        {
          "output_type": "stream",
          "text": [
            "(576, 1038, 3)\n"
          ],
          "name": "stdout"
        }
      ]
    },
    {
      "metadata": {
        "id": "ZLKjdIRKmhuB",
        "colab_type": "code",
        "colab": {}
      },
      "cell_type": "code",
      "source": [
        "# create Pillow image\n",
        "image2 = Image.fromarray(data)"
      ],
      "execution_count": 0,
      "outputs": []
    },
    {
      "metadata": {
        "id": "PFP0Ikddmk5r",
        "colab_type": "code",
        "colab": {
          "base_uri": "https://localhost:8080/",
          "height": 68
        },
        "outputId": "2ce1f77a-37d6-4eed-d222-cc12e1a8c087"
      },
      "cell_type": "code",
      "source": [
        "# summarize image details \n",
        "print(image2.format) \n",
        "print(image2.mode) \n",
        "print(image2.size)"
      ],
      "execution_count": 20,
      "outputs": [
        {
          "output_type": "stream",
          "text": [
            "None\n",
            "RGB\n",
            "(1038, 576)\n"
          ],
          "name": "stdout"
        }
      ]
    },
    {
      "metadata": {
        "id": "jfFmPuSNmvkC",
        "colab_type": "code",
        "colab": {}
      },
      "cell_type": "code",
      "source": [
        "# load all images in a directory\n",
        "from os import listdir\n",
        "from matplotlib import image\n",
        "\n",
        "# load all images in a directory loaded_images = list()\n",
        "for filename in listdir('images'):\n",
        "  # load image\n",
        "  img_data = image.imread(✬images/✬ + filename)\n",
        "\n",
        "  # store loaded image\n",
        "  loaded_images.append(img_data)\n",
        "  print('> loaded %s %s '% (filename, img_data.shape))"
      ],
      "execution_count": 0,
      "outputs": []
    },
    {
      "metadata": {
        "id": "E7ieUaSrnP8i",
        "colab_type": "text"
      },
      "cell_type": "markdown",
      "source": [
        "### Save Images to File"
      ]
    },
    {
      "metadata": {
        "id": "QcwVR1f5nQmU",
        "colab_type": "code",
        "colab": {
          "base_uri": "https://localhost:8080/",
          "height": 34
        },
        "outputId": "39e81838-5a21-40fc-f567-b44845c79dfb"
      },
      "cell_type": "code",
      "source": [
        "# save as PNG format \n",
        "image.save('opera_house.png', format='PNG') \n",
        "\n",
        "# load the image again and inspect the format \n",
        "image2 = Image.open('opera_house.png') \n",
        "print(image2.format)"
      ],
      "execution_count": 21,
      "outputs": [
        {
          "output_type": "stream",
          "text": [
            "PNG\n"
          ],
          "name": "stdout"
        }
      ]
    },
    {
      "metadata": {
        "id": "LYmDCMKJn5gp",
        "colab_type": "text"
      },
      "cell_type": "markdown",
      "source": [
        "Running the example below loads the photograph, converts it to grayscale, saves the image in a new file, then loads it again and shows it to confirm that the photo is now grayscale instead of color."
      ]
    },
    {
      "metadata": {
        "id": "VsSNJoENntcH",
        "colab_type": "code",
        "colab": {}
      },
      "cell_type": "code",
      "source": [
        "# convert the image to grayscale\n",
        "gs_image = image.convert(mode='L')\n",
        "\n",
        "# save in jpeg format \n",
        "gs_image.save('opera_house_grayscale.jpg')"
      ],
      "execution_count": 0,
      "outputs": []
    },
    {
      "metadata": {
        "id": "nkqrq7ltoEmY",
        "colab_type": "code",
        "colab": {}
      },
      "cell_type": "code",
      "source": [
        "# load the image again and show it\n",
        "image2 = Image.open('opera_house_grayscale.jpg')\n",
        "\n",
        "# show the image\n",
        "image2.show()"
      ],
      "execution_count": 0,
      "outputs": []
    },
    {
      "metadata": {
        "id": "JmCu5YrQoLwD",
        "colab_type": "text"
      },
      "cell_type": "markdown",
      "source": [
        "### Resize Images"
      ]
    },
    {
      "metadata": {
        "id": "E_7VP4xPoIwe",
        "colab_type": "code",
        "colab": {
          "base_uri": "https://localhost:8080/",
          "height": 34
        },
        "outputId": "93c977ff-2a56-4932-bfc1-5829d44825c9"
      },
      "cell_type": "code",
      "source": [
        "# report the size of the image \n",
        "print(image.size)"
      ],
      "execution_count": 24,
      "outputs": [
        {
          "output_type": "stream",
          "text": [
            "(1038, 576)\n"
          ],
          "name": "stdout"
        }
      ]
    },
    {
      "metadata": {
        "id": "Te5IHgDropGL",
        "colab_type": "text"
      },
      "cell_type": "markdown",
      "source": [
        "The largest dimension, in this case, the width, will be reduced to 100, and the height will be scaled in order to retain the aspect ratio of\n",
        "the image. "
      ]
    },
    {
      "metadata": {
        "id": "q3xuyOfiokoq",
        "colab_type": "code",
        "colab": {}
      },
      "cell_type": "code",
      "source": [
        "# create a thumbnail and preserve aspect ratio \n",
        "image.thumbnail((100,100))"
      ],
      "execution_count": 0,
      "outputs": []
    },
    {
      "metadata": {
        "id": "OtDd6mMaovdi",
        "colab_type": "code",
        "colab": {
          "base_uri": "https://localhost:8080/",
          "height": 34
        },
        "outputId": "0120fe4f-c414-4051-c921-2522e7f5718f"
      },
      "cell_type": "code",
      "source": [
        "# report the size of the modified image \n",
        "print(image.size)"
      ],
      "execution_count": 26,
      "outputs": [
        {
          "output_type": "stream",
          "text": [
            "(100, 55)\n"
          ],
          "name": "stdout"
        }
      ]
    },
    {
      "metadata": {
        "id": "wUFrgLyeo5Hl",
        "colab_type": "code",
        "colab": {}
      },
      "cell_type": "code",
      "source": [
        "# show the image\n",
        "image.show()"
      ],
      "execution_count": 0,
      "outputs": []
    },
    {
      "metadata": {
        "id": "80hQRVbEpDgr",
        "colab_type": "text"
      },
      "cell_type": "markdown",
      "source": [
        "We may not want to preserve the aspect ratio, and instead, we may want to force the pixels into a new shape, whereby the image will be reduced or stretched to fit the new shape."
      ]
    },
    {
      "metadata": {
        "id": "iC9UsPX8o65B",
        "colab_type": "code",
        "colab": {}
      },
      "cell_type": "code",
      "source": [
        "# resize image and ignore original aspect ratio \n",
        "img_resized = image.resize((200,200))\n",
        "# report the size of the thumbnail \n",
        "print(img_resized.size)\n",
        "\n",
        "# show the image\n",
        "img_resized.show()"
      ],
      "execution_count": 0,
      "outputs": []
    },
    {
      "metadata": {
        "id": "IgCFgbuxphRW",
        "colab_type": "text"
      },
      "cell_type": "markdown",
      "source": [
        "### Flip, Rotate, and Crop Images\n",
        "\n",
        "Image manipulation can be used to create new versions of images that, in turn, can provide a richer training dataset when modeling. Generally, this is referred to as data augmentation and may involve creating flipped, rotated, cropped, or other modified versions of the original images with the hope that the algorithm will learn to extract the same features from the image data regardless of where they might appear.\n",
        "\n",
        "### Flip Image"
      ]
    },
    {
      "metadata": {
        "id": "kDKaFNo1piRL",
        "colab_type": "code",
        "colab": {}
      },
      "cell_type": "code",
      "source": [
        "# load image\n",
        "image = Image.open('opera_house.jpg')"
      ],
      "execution_count": 0,
      "outputs": []
    },
    {
      "metadata": {
        "id": "ToVhYO2Jp75p",
        "colab_type": "code",
        "colab": {}
      },
      "cell_type": "code",
      "source": [
        "# horizontal flip\n",
        "hoz_flip = image.transpose(Image.FLIP_LEFT_RIGHT)"
      ],
      "execution_count": 0,
      "outputs": []
    },
    {
      "metadata": {
        "id": "eGHLxXU6qAxD",
        "colab_type": "code",
        "colab": {}
      },
      "cell_type": "code",
      "source": [
        "# vertical flip\n",
        "ver_flip = image.transpose(Image.FLIP_TOP_BOTTOM)"
      ],
      "execution_count": 0,
      "outputs": []
    },
    {
      "metadata": {
        "id": "TmsRXO9sqMBU",
        "colab_type": "text"
      },
      "cell_type": "markdown",
      "source": [
        "Running the example below loads the photograph and creates horizontally and vertically flipped versions of the photograph, then plots all three versions as subplots."
      ]
    },
    {
      "metadata": {
        "id": "klgRssTvqA1Q",
        "colab_type": "code",
        "colab": {
          "base_uri": "https://localhost:8080/",
          "height": 368
        },
        "outputId": "ec8c837b-198c-4e4e-b929-31aa5a80b509"
      },
      "cell_type": "code",
      "source": [
        "# plot all three images using matplotlib \n",
        "pyplot.subplot(311)\n",
        "pyplot.imshow(image)\n",
        "pyplot.subplot(312)\n",
        "pyplot.imshow(hoz_flip)\n",
        "pyplot.subplot(313)\n",
        "pyplot.imshow(ver_flip)"
      ],
      "execution_count": 32,
      "outputs": [
        {
          "output_type": "execute_result",
          "data": {
            "text/plain": [
              "<matplotlib.image.AxesImage at 0x7fecd7378668>"
            ]
          },
          "metadata": {
            "tags": []
          },
          "execution_count": 32
        },
        {
          "output_type": "display_data",
          "data": {
            "image/png": "[encoded data removed]",
            "text/plain": [
              "<Figure size 576x396 with 3 Axes>"
            ]
          },
          "metadata": {
            "tags": []
          }
        }
      ]
    },
    {
      "metadata": {
        "id": "L4Yi_8iUqdYW",
        "colab_type": "text"
      },
      "cell_type": "markdown",
      "source": [
        "### Rotate Image\n",
        "\n",
        "Additional control such as whether or not to expand the dimensions of the image to fit the rotated pixel values (default is to clip to the same size), where to center the rotation of the image (default is the center), and the fill color for pixels outside of the image (default is black)."
      ]
    },
    {
      "metadata": {
        "id": "Y_7g0-JQqUZJ",
        "colab_type": "code",
        "colab": {
          "base_uri": "https://localhost:8080/",
          "height": 157
        },
        "outputId": "a527e9f7-bfbe-44b8-b856-30edebcc9b83"
      },
      "cell_type": "code",
      "source": [
        "# plot original image\n",
        "pyplot.subplot(311)\n",
        "pyplot.imshow(image)"
      ],
      "execution_count": 33,
      "outputs": [
        {
          "output_type": "execute_result",
          "data": {
            "text/plain": [
              "<matplotlib.image.AxesImage at 0x7fecd7301cf8>"
            ]
          },
          "metadata": {
            "tags": []
          },
          "execution_count": 33
        },
        {
          "output_type": "display_data",
          "data": {
            "image/png": "[encoded data removed]",
            "text/plain": [
              "<Figure size 576x396 with 1 Axes>"
            ]
          },
          "metadata": {
            "tags": []
          }
        }
      ]
    },
    {
      "metadata": {
        "id": "YiSpewiiqodD",
        "colab_type": "code",
        "colab": {
          "base_uri": "https://localhost:8080/",
          "height": 157
        },
        "outputId": "4a8024cf-d94a-4d44-ee29-f4fe0be82bbd"
      },
      "cell_type": "code",
      "source": [
        "# rotate 45 degrees\n",
        "pyplot.subplot(312)\n",
        "pyplot.imshow(image.rotate(45))"
      ],
      "execution_count": 34,
      "outputs": [
        {
          "output_type": "execute_result",
          "data": {
            "text/plain": [
              "<matplotlib.image.AxesImage at 0x7fecd72d69e8>"
            ]
          },
          "metadata": {
            "tags": []
          },
          "execution_count": 34
        },
        {
          "output_type": "display_data",
          "data": {
            "image/png": "[encoded data removed]",
            "text/plain": [
              "<Figure size 576x396 with 1 Axes>"
            ]
          },
          "metadata": {
            "tags": []
          }
        }
      ]
    },
    {
      "metadata": {
        "id": "xfPVi_EJqvPF",
        "colab_type": "text"
      },
      "cell_type": "markdown",
      "source": [
        "The fill color for pixels outside of the image is black by default."
      ]
    },
    {
      "metadata": {
        "id": "dcg512QWqqeb",
        "colab_type": "code",
        "colab": {
          "base_uri": "https://localhost:8080/",
          "height": 140
        },
        "outputId": "86da9430-4b9b-481a-c3b7-bf0f2a48b108"
      },
      "cell_type": "code",
      "source": [
        "# rotate 90 degrees\n",
        "pyplot.subplot(313)\n",
        "pyplot.imshow(image.rotate(90))\n",
        "pyplot.show()"
      ],
      "execution_count": 35,
      "outputs": [
        {
          "output_type": "display_data",
          "data": {
            "image/png": "[encoded data removed]",
            "text/plain": [
              "<Figure size 576x396 with 1 Axes>"
            ]
          },
          "metadata": {
            "tags": []
          }
        }
      ]
    },
    {
      "metadata": {
        "id": "Hihs6aVMrGSH",
        "colab_type": "text"
      },
      "cell_type": "markdown",
      "source": [
        "The pixels are clipped to the original dimensions of the image and that the empty pixels are filled with black color."
      ]
    },
    {
      "metadata": {
        "id": "3RturlwwrJNC",
        "colab_type": "text"
      },
      "cell_type": "markdown",
      "source": [
        "### Cropped Image\n",
        "\n",
        " A piece can be cut out to create a new image (i.e. cropped)."
      ]
    },
    {
      "metadata": {
        "id": "fntJad2GqzRy",
        "colab_type": "code",
        "colab": {}
      },
      "cell_type": "code",
      "source": [
        "# create a cropped image\n",
        "cropped = image.crop((100, 100, 200, 200))"
      ],
      "execution_count": 0,
      "outputs": []
    },
    {
      "metadata": {
        "id": "PFZBqmSercaW",
        "colab_type": "text"
      },
      "cell_type": "markdown",
      "source": [
        "Running the example creates a cropped square image of 100 pixels starting at 100,100 and extending down and left to 200,200. The cropped square is then displayed."
      ]
    },
    {
      "metadata": {
        "id": "eC31rr-MrYSb",
        "colab_type": "code",
        "colab": {}
      },
      "cell_type": "code",
      "source": [
        "# show cropped image\n",
        "cropped.show()"
      ],
      "execution_count": 0,
      "outputs": []
    },
    {
      "metadata": {
        "id": "GkBcxi5kuEAz",
        "colab_type": "code",
        "colab": {
          "base_uri": "https://localhost:8080/",
          "height": 204
        },
        "outputId": "9136f8c5-946d-4659-c056-2231984df55d"
      },
      "cell_type": "code",
      "source": [
        "!wget http://www.iloveperth.co.kr/upload/smartEditor/20181129121359_6bd8407bf6d5ceee8602.jpg"
      ],
      "execution_count": 42,
      "outputs": [
        {
          "output_type": "stream",
          "text": [
            "--2019-04-05 08:58:39--  http://www.iloveperth.co.kr/upload/smartEditor/20181129121359_6bd8407bf6d5ceee8602.jpg\n",
            "Resolving www.iloveperth.co.kr (www.iloveperth.co.kr)... 218.232.75.188\n",
            "Connecting to www.iloveperth.co.kr (www.iloveperth.co.kr)|218.232.75.188|:80... connected.\n",
            "HTTP request sent, awaiting response... 200 OK\n",
            "Length: 824136 (805K) [image/jpeg]\n",
            "Saving to: ‘20181129121359_6bd8407bf6d5ceee8602.jpg’\n",
            "\n",
            "20181129121359_6bd8 100%[===================>] 804.82K   353KB/s    in 2.3s    \n",
            "\n",
            "2019-04-05 08:58:42 (353 KB/s) - ‘20181129121359_6bd8407bf6d5ceee8602.jpg’ saved [824136/824136]\n",
            "\n"
          ],
          "name": "stdout"
        }
      ]
    },
    {
      "metadata": {
        "id": "O8vAtiE-uI7X",
        "colab_type": "code",
        "colab": {}
      },
      "cell_type": "code",
      "source": [
        "!mv 20181129121359_6bd8407bf6d5ceee8602.jpg sydney_bridge.jpg"
      ],
      "execution_count": 0,
      "outputs": []
    },
    {
      "metadata": {
        "id": "7IhDN7Zlsy_Y",
        "colab_type": "text"
      },
      "cell_type": "markdown",
      "source": [
        "## Sample Image"
      ]
    },
    {
      "metadata": {
        "id": "OpFlVoEarpOW",
        "colab_type": "code",
        "colab": {}
      },
      "cell_type": "code",
      "source": [
        "# load the image\n",
        "image = Image.open('sydney_bridge.jpg')"
      ],
      "execution_count": 0,
      "outputs": []
    },
    {
      "metadata": {
        "id": "c_Qy5DeFtoM3",
        "colab_type": "code",
        "colab": {
          "base_uri": "https://localhost:8080/",
          "height": 68
        },
        "outputId": "b077f0db-e847-4e7d-e53b-35ec22da3ed0"
      },
      "cell_type": "code",
      "source": [
        "# summarize some details about the image \n",
        "print(image.format)\n",
        "print(image.mode)\n",
        "print(image.size)"
      ],
      "execution_count": 46,
      "outputs": [
        {
          "output_type": "stream",
          "text": [
            "JPEG\n",
            "RGB\n",
            "(1920, 1281)\n"
          ],
          "name": "stdout"
        }
      ]
    },
    {
      "metadata": {
        "id": "V0wvFibrucQG",
        "colab_type": "text"
      },
      "cell_type": "markdown",
      "source": [
        "### Normalize Pixel Values\n",
        "\n",
        "To normalize the pixel values so that each pixel value has a value between 0 and 1. It is valid for images to have pixel values in the range 0-1 and images can be viewed normally. This can be achieved by dividing all pixels values by the largest pixel value; that is 255. This is performed across all channels, regardless of the actual range of pixel values that are present in the image. "
      ]
    },
    {
      "metadata": {
        "id": "NjyiUh2juRCL",
        "colab_type": "code",
        "colab": {}
      },
      "cell_type": "code",
      "source": [
        "# Converts it into a NumPy array\n",
        "pixels = asarray(image)"
      ],
      "execution_count": 0,
      "outputs": []
    },
    {
      "metadata": {
        "id": "Vna-w0OGvI0l",
        "colab_type": "code",
        "colab": {
          "base_uri": "https://localhost:8080/",
          "height": 51
        },
        "outputId": "cd168611-e59e-42ed-e2ec-241649697034"
      },
      "cell_type": "code",
      "source": [
        "# confirm pixel range is 0-255\n",
        "print('Data Type: %s' % pixels.dtype)\n",
        "print('Min: %.3f, Max: %.3f' % (pixels.min(), pixels.max()))"
      ],
      "execution_count": 48,
      "outputs": [
        {
          "output_type": "stream",
          "text": [
            "Data Type: uint8\n",
            "Min: 0.000, Max: 255.000\n"
          ],
          "name": "stdout"
        }
      ]
    },
    {
      "metadata": {
        "id": "bJWA9UYwvQ38",
        "colab_type": "code",
        "colab": {}
      },
      "cell_type": "code",
      "source": [
        "# convert from integers to floats\n",
        "pixels = pixels.astype('float32')"
      ],
      "execution_count": 0,
      "outputs": []
    },
    {
      "metadata": {
        "id": "7HypRFySvU1E",
        "colab_type": "code",
        "colab": {}
      },
      "cell_type": "code",
      "source": [
        "# normalize to the range 0-1\n",
        "pixels /= 255.0"
      ],
      "execution_count": 0,
      "outputs": []
    },
    {
      "metadata": {
        "id": "ENftDyUxvWbM",
        "colab_type": "code",
        "colab": {
          "base_uri": "https://localhost:8080/",
          "height": 34
        },
        "outputId": "e8d35da9-9de7-421f-b869-2a78a1831540"
      },
      "cell_type": "code",
      "source": [
        "# confirm the normalization\n",
        "print('Min: %.3f, Max: %.3f' % (pixels.min(), pixels.max()))"
      ],
      "execution_count": 52,
      "outputs": [
        {
          "output_type": "stream",
          "text": [
            "Min: 0.000, Max: 1.000\n"
          ],
          "name": "stdout"
        }
      ]
    },
    {
      "metadata": {
        "id": "FYxXZZePvqBp",
        "colab_type": "text"
      },
      "cell_type": "markdown",
      "source": [
        "### Center Pixel Values\n",
        "\n",
        "A data preparation technique for image data is to subtract the mean value from the pixel values. This approach is called centering, as the distribution of the pixel values is centered on the value of zero. Centering can be performed before or after normalization. Centering the pixels then normalizing will mean that the pixel values will be centered close to 0.5 and be in the range 0-1. Centering after normalization will mean that the pixels will have positive and negative values, in which case images will not display correctly (e.g. pixels are expected to have value in the range 0-255 or 0-1).\n",
        "\n",
        "There are multiple ways that the mean can be calculated; for example:\n",
        " Per image.\n",
        "\n",
        "*   Per image.\n",
        "*   Per minibatch of images (under stochastic gradient descent).\n",
        "*   Per training dataset.\n",
        "\n",
        "The mean can be calculated for all pixels in the image, referred to as a global centering, or it can be calculated for each channel in the case of color images, referred to as local centering.\n",
        "\n",
        "*   Global Centering: Calculating and subtracting the mean pixel value across color channels.\n",
        "*    Local Centering: Calculating and subtracting the mean pixel value per color channel.\n",
        "\n",
        "Per-image global centering is common because it is trivial to implement. Also common is per minibatch global or local centering for the same reason: it is fast and easy to implement.\n",
        "\n",
        "### Global Centering\n",
        "\n",
        "Calculate a global mean across all three color channels in the loaded image, then centers the pixel values using the global mean."
      ]
    },
    {
      "metadata": {
        "id": "dOMW_n38vYpE",
        "colab_type": "code",
        "colab": {}
      },
      "cell_type": "code",
      "source": [
        "# load image\n",
        "image = Image.open('sydney_bridge.jpg') \n",
        "pixels = asarray(image)"
      ],
      "execution_count": 0,
      "outputs": []
    },
    {
      "metadata": {
        "id": "QheqQpS8xq6q",
        "colab_type": "code",
        "colab": {}
      },
      "cell_type": "code",
      "source": [
        "# convert from integers to floats\n",
        "pixels = pixels.astype('float32')"
      ],
      "execution_count": 0,
      "outputs": []
    },
    {
      "metadata": {
        "id": "nDGIRCx4xuYC",
        "colab_type": "code",
        "colab": {}
      },
      "cell_type": "code",
      "source": [
        "# calculate global mean\n",
        "mean = pixels.mean()"
      ],
      "execution_count": 0,
      "outputs": []
    },
    {
      "metadata": {
        "id": "3kcpnt2gxwJx",
        "colab_type": "code",
        "colab": {
          "base_uri": "https://localhost:8080/",
          "height": 51
        },
        "outputId": "39b71425-e7a8-4273-b9f0-84ca5d5ec936"
      },
      "cell_type": "code",
      "source": [
        "print('Mean: %.3f' % mean)\n",
        "print('Min: %.3f, Max: %.3f' % (pixels.min(), pixels.max()))"
      ],
      "execution_count": 56,
      "outputs": [
        {
          "output_type": "stream",
          "text": [
            "Mean: 114.794\n",
            "Min: 0.000, Max: 255.000\n"
          ],
          "name": "stdout"
        }
      ]
    },
    {
      "metadata": {
        "id": "liq_t1LfyE4d",
        "colab_type": "text"
      },
      "cell_type": "markdown",
      "source": [
        "Running the example, we can see that the mean pixel value is about 115."
      ]
    },
    {
      "metadata": {
        "id": "PYRosJKhx1kJ",
        "colab_type": "code",
        "colab": {}
      },
      "cell_type": "code",
      "source": [
        "# global centering of pixels\n",
        "pixels = pixels - mean"
      ],
      "execution_count": 0,
      "outputs": []
    },
    {
      "metadata": {
        "id": "5Xqu0_z_x4pt",
        "colab_type": "code",
        "colab": {
          "base_uri": "https://localhost:8080/",
          "height": 51
        },
        "outputId": "438fff9c-dc03-46d2-f54f-204ea4d7be26"
      },
      "cell_type": "code",
      "source": [
        "# confirm it had the desired effect\n",
        "mean = pixels.mean()\n",
        "print('Mean: %.3f' % mean)\n",
        "print('Min: %.3f, Max: %.3f' % (pixels.min(), pixels.max()))"
      ],
      "execution_count": 58,
      "outputs": [
        {
          "output_type": "stream",
          "text": [
            "Mean: -0.000\n",
            "Min: -114.794, Max: 140.206\n"
          ],
          "name": "stdout"
        }
      ]
    },
    {
      "metadata": {
        "id": "9GCoHlE1zBdk",
        "colab_type": "text"
      },
      "cell_type": "markdown",
      "source": [
        "### Local Centering\n",
        "\n",
        "We calculate the mean for each color channel in the loaded image, then centers the pixel values for each channel separately."
      ]
    },
    {
      "metadata": {
        "id": "MsFRpDTm1XFT",
        "colab_type": "code",
        "colab": {}
      },
      "cell_type": "code",
      "source": [
        "# load image\n",
        "image = Image.open('sydney_bridge.jpg') \n",
        "pixels = asarray(image)"
      ],
      "execution_count": 0,
      "outputs": []
    },
    {
      "metadata": {
        "id": "XfZGwX_72Gjf",
        "colab_type": "code",
        "colab": {}
      },
      "cell_type": "code",
      "source": [
        "# convert from integers to floats\n",
        "pixels = pixels.astype('float32')"
      ],
      "execution_count": 0,
      "outputs": []
    },
    {
      "metadata": {
        "id": "t750_t13x-qE",
        "colab_type": "code",
        "colab": {
          "base_uri": "https://localhost:8080/",
          "height": 51
        },
        "outputId": "38d3c2d9-22e9-4008-a6fb-58e8d0b09a40"
      },
      "cell_type": "code",
      "source": [
        "# calculate per-channel means and standard deviations\n",
        "means = pixels.mean(axis=(0,1), dtype='float64')\n",
        "\n",
        "print('Means: %s' % means)\n",
        "print('Mins: %s, Maxs: %s' % (pixels.min(axis=(0,1)), pixels.max(axis=(0,1))))"
      ],
      "execution_count": 66,
      "outputs": [
        {
          "output_type": "stream",
          "text": [
            "Means: [101.22930003 118.70896476 124.44231679]\n",
            "Mins: [0. 0. 0.], Maxs: [255. 255. 255.]\n"
          ],
          "name": "stdout"
        }
      ]
    },
    {
      "metadata": {
        "id": "jg3Q9jofzVWl",
        "colab_type": "code",
        "colab": {}
      },
      "cell_type": "code",
      "source": [
        "# per-channel centering of pixels\n",
        "pixels -= means"
      ],
      "execution_count": 0,
      "outputs": []
    },
    {
      "metadata": {
        "id": "3eXQfRQ00S6d",
        "colab_type": "text"
      },
      "cell_type": "markdown",
      "source": [
        "\n",
        "Running the example first reports the mean pixels values for each channel, as well as the min and max values for each channel. The pixel values are centered, then the new means and min/max pixel values across each channel are reported"
      ]
    },
    {
      "metadata": {
        "id": "Yz742GCBzVTz",
        "colab_type": "code",
        "colab": {
          "base_uri": "https://localhost:8080/",
          "height": 51
        },
        "outputId": "bced4229-9b10-4d0c-c486-22440bdf128b"
      },
      "cell_type": "code",
      "source": [
        "# confirm it had the desired effect\n",
        "means = pixels.mean(axis=(0,1), dtype='float64')\n",
        "print('Means: %s' % means)\n",
        "print('Mins: %s, Maxs: %s' % (pixels.min(axis=(0,1)), pixels.max(axis=(0,1))))"
      ],
      "execution_count": 68,
      "outputs": [
        {
          "output_type": "stream",
          "text": [
            "Means: [-6.72902201e-07  1.64739401e-06  1.44365265e-06]\n",
            "Mins: [-101.2293   -118.70896  -124.442314], Maxs: [153.7707  136.29103 130.55768]\n"
          ],
          "name": "stdout"
        }
      ]
    },
    {
      "metadata": {
        "id": "zmzQc_7HzbE-",
        "colab_type": "text"
      },
      "cell_type": "markdown",
      "source": [
        "## Standardize Pixel Values\n",
        "\n",
        "The distribution of pixel values often follows a Normal or Gaussian distribution, this distribution may be present per image, per minibatch of images, or across the training dataset and globally or per channel. There may be benefit in transforming the distribution of pixel values to be a standard Gaussian: that is both centering the pixel values on zero and normalizing the values by the standard deviation. The result is a standard Gaussian of pixel values with a mean of 0.0 and a standard deviation of 1.0.\n",
        "\n",
        "As with centering, the operation can be performed per image, per minibatch, and across the entire training dataset, and it can be performed globally across channels or locally per channel.\n",
        "\n",
        "For consistency of the input data, it may make more sense to standardize images per-channel using statistics calculated per minibatch or across the training dataset, if possible.\n",
        "\n",
        "### Global Standardization\n",
        "\n",
        "We calculate the mean and standard deviations across all color channels in the loaded image, then uses these values to standardize the pixel values."
      ]
    },
    {
      "metadata": {
        "id": "ZlbPkKGYzaaN",
        "colab_type": "code",
        "colab": {}
      },
      "cell_type": "code",
      "source": [
        "# load image\n",
        "image = Image.open('sydney_bridge.jpg') \n",
        "pixels = asarray(image)"
      ],
      "execution_count": 0,
      "outputs": []
    },
    {
      "metadata": {
        "id": "v5ZPd8Va2a9D",
        "colab_type": "code",
        "colab": {}
      },
      "cell_type": "code",
      "source": [
        "# convert from integers to floats\n",
        "pixels = pixels.astype('float32')"
      ],
      "execution_count": 0,
      "outputs": []
    },
    {
      "metadata": {
        "id": "7PSASGEp2d9S",
        "colab_type": "code",
        "colab": {
          "base_uri": "https://localhost:8080/",
          "height": 34
        },
        "outputId": "f51c0191-a028-41a3-b0cd-9f2582ae32da"
      },
      "cell_type": "code",
      "source": [
        "# calculate global mean and standard deviation\n",
        "mean, std = pixels.mean(), pixels.std()\n",
        "print('Mean: %.3f, Standard Deviation: %.3f' % (mean, std))"
      ],
      "execution_count": 72,
      "outputs": [
        {
          "output_type": "stream",
          "text": [
            "Mean: 114.794, Standard Deviation: 74.072\n"
          ],
          "name": "stdout"
        }
      ]
    },
    {
      "metadata": {
        "id": "t-l25vMU2imK",
        "colab_type": "code",
        "colab": {}
      },
      "cell_type": "code",
      "source": [
        "# global standardization of pixels\n",
        "pixels = (pixels - mean) / std"
      ],
      "execution_count": 0,
      "outputs": []
    },
    {
      "metadata": {
        "id": "db5SmFYA2r-w",
        "colab_type": "text"
      },
      "cell_type": "markdown",
      "source": [
        "Running the example first calculates the global mean and standard deviation pixel values, standardizes the pixel values, then confirms the transform by reporting the new global mean and standard deviation of 0.0 and 1.0 respectively."
      ]
    },
    {
      "metadata": {
        "id": "SPFdAJ4O2lNk",
        "colab_type": "code",
        "colab": {
          "base_uri": "https://localhost:8080/",
          "height": 34
        },
        "outputId": "0ae2221e-857c-4e06-a64b-f8ec1f3236a7"
      },
      "cell_type": "code",
      "source": [
        "# confirm it had the desired effect\n",
        "mean, std = pixels.mean(), pixels.std()\n",
        "print('Mean: %.3f, Standard Deviation: %.3f' % (mean, std))"
      ],
      "execution_count": 75,
      "outputs": [
        {
          "output_type": "stream",
          "text": [
            "Mean: -0.000, Standard Deviation: 1.000\n"
          ],
          "name": "stdout"
        }
      ]
    },
    {
      "metadata": {
        "id": "29otLay125wB",
        "colab_type": "text"
      },
      "cell_type": "markdown",
      "source": [
        "## Positive Global Standardization\n",
        "\n",
        "There may be a desire to maintain the pixel values in the positive domain, perhaps so the images can be visualized or perhaps for the benefit of a chosen activation function in the model. A popular way of achieving this is to clip the standardized pixel values to the range [-1, 1] and then rescale the values from [-1,1] to [0,1]. The example below updates the global standardization example to demonstrate this additional rescaling."
      ]
    },
    {
      "metadata": {
        "id": "MXhTQq2_2mgC",
        "colab_type": "code",
        "colab": {}
      },
      "cell_type": "code",
      "source": [
        "# load image\n",
        "image = Image.open('sydney_bridge.jpg') \n",
        "pixels = asarray(image)"
      ],
      "execution_count": 0,
      "outputs": []
    },
    {
      "metadata": {
        "id": "uJ7-dp7W2_ip",
        "colab_type": "code",
        "colab": {}
      },
      "cell_type": "code",
      "source": [
        "# convert from integers to floats \n",
        "pixels = pixels.astype('float32')"
      ],
      "execution_count": 0,
      "outputs": []
    },
    {
      "metadata": {
        "id": "xQ738LFu2_fe",
        "colab_type": "code",
        "colab": {
          "base_uri": "https://localhost:8080/",
          "height": 34
        },
        "outputId": "4ca48064-6fbd-4f30-f3e2-6729cf2c7e62"
      },
      "cell_type": "code",
      "source": [
        "# calculate global mean and standard deviation\n",
        "mean, std = pixels.mean(), pixels.std()\n",
        "print('Mean: %.3f, Standard Deviation: %.3f' % (mean, std))"
      ],
      "execution_count": 78,
      "outputs": [
        {
          "output_type": "stream",
          "text": [
            "Mean: 114.794, Standard Deviation: 74.072\n"
          ],
          "name": "stdout"
        }
      ]
    },
    {
      "metadata": {
        "id": "yDg3aGS22_ca",
        "colab_type": "code",
        "colab": {}
      },
      "cell_type": "code",
      "source": [
        "# global standardization of pixels\n",
        "pixels = (pixels - mean) / std"
      ],
      "execution_count": 0,
      "outputs": []
    },
    {
      "metadata": {
        "id": "DTvdNzD73Ej6",
        "colab_type": "code",
        "colab": {}
      },
      "cell_type": "code",
      "source": [
        "# clip pixel values to [-1,1]\n",
        "pixels = clip(pixels, -1.0, 1.0)"
      ],
      "execution_count": 0,
      "outputs": []
    },
    {
      "metadata": {
        "id": "zUEOb3Yp3GZ-",
        "colab_type": "code",
        "colab": {}
      },
      "cell_type": "code",
      "source": [
        "# shift from [-1,1] to [0,1] with 0.5 mean\n",
        "pixels = (pixels + 1.0) / 2.0"
      ],
      "execution_count": 0,
      "outputs": []
    },
    {
      "metadata": {
        "id": "JlIfycEf3Oxa",
        "colab_type": "text"
      },
      "cell_type": "markdown",
      "source": [
        "Running the example first reports the global mean and standard deviation pixel values; the pixels are standardized then rescaled. Next, the new mean and standard deviation are reported of about 0.5 and 0.3 respectively and the new minimum and maximum values are confirmed of 0.0 and 1.0."
      ]
    },
    {
      "metadata": {
        "id": "o4jA522O3GW-",
        "colab_type": "code",
        "colab": {
          "base_uri": "https://localhost:8080/",
          "height": 51
        },
        "outputId": "a66ed2bd-cb99-4035-e06d-3a6f2d599f9c"
      },
      "cell_type": "code",
      "source": [
        "# confirm it had the desired effect\n",
        "mean, std = pixels.mean(), pixels.std()\n",
        "print('Mean: %.3f, Standard Deviation: %.3f' % (mean, std)) \n",
        "print('Min: %.3f, Max: %.3f' % (pixels.min(), pixels.max()))"
      ],
      "execution_count": 85,
      "outputs": [
        {
          "output_type": "stream",
          "text": [
            "Mean: 0.729, Standard Deviation: 0.221\n",
            "Min: 0.363, Max: 1.000\n"
          ],
          "name": "stdout"
        }
      ]
    },
    {
      "metadata": {
        "id": "fcaCKpsW4C-3",
        "colab_type": "text"
      },
      "cell_type": "markdown",
      "source": [
        "## Local Standardization\n",
        "\n",
        "We calculate the mean and standard deviation of the loaded image per-channel, then uses these statistics to standardize the pixels separately in each channel."
      ]
    },
    {
      "metadata": {
        "id": "SDtDbNFo3gwZ",
        "colab_type": "code",
        "colab": {}
      },
      "cell_type": "code",
      "source": [
        "# load image\n",
        "image = Image.open('sydney_bridge.jpg') \n",
        "pixels = asarray(image)"
      ],
      "execution_count": 0,
      "outputs": []
    },
    {
      "metadata": {
        "id": "ukVI31Bq4KHR",
        "colab_type": "code",
        "colab": {}
      },
      "cell_type": "code",
      "source": [
        "# convert from integers to floats\n",
        "pixels = pixels.astype('float32')"
      ],
      "execution_count": 0,
      "outputs": []
    },
    {
      "metadata": {
        "id": "xLLXKxJM4KEC",
        "colab_type": "code",
        "colab": {
          "base_uri": "https://localhost:8080/",
          "height": 34
        },
        "outputId": "ca51c424-e3ad-454a-fbee-6693de140f77"
      },
      "cell_type": "code",
      "source": [
        "# calculate per-channel means and standard deviations \n",
        "means = pixels.mean(axis=(0,1), dtype='float64') \n",
        "stds = pixels.std(axis=(0,1), dtype='float64')\n",
        "print('Means: %s, Stds: %s' % (means, stds))"
      ],
      "execution_count": 88,
      "outputs": [
        {
          "output_type": "stream",
          "text": [
            "Means: [101.22930003 118.70896476 124.44231679], Stds: [68.75944991 72.01688562 79.07804374]\n"
          ],
          "name": "stdout"
        }
      ]
    },
    {
      "metadata": {
        "id": "iNaM3Sa14KBU",
        "colab_type": "code",
        "colab": {}
      },
      "cell_type": "code",
      "source": [
        "# per-channel standardization of pixels\n",
        "  pixels = (pixels - means) / stds"
      ],
      "execution_count": 0,
      "outputs": []
    },
    {
      "metadata": {
        "id": "xfrF6pZG4T1A",
        "colab_type": "text"
      },
      "cell_type": "markdown",
      "source": [
        "Running the example first calculates and reports the means and standard deviation of the pixel values in each channel. The pixel values are then standardized and statistics are re-calculated, confirming the new zero-mean and unit standard deviation."
      ]
    },
    {
      "metadata": {
        "id": "q2lkM66u4TBI",
        "colab_type": "code",
        "colab": {
          "base_uri": "https://localhost:8080/",
          "height": 34
        },
        "outputId": "5fcbaf29-7264-4a73-e8b7-655365bf8801"
      },
      "cell_type": "code",
      "source": [
        "# confirm it had the desired effect\n",
        "means = pixels.mean(axis=(0,1), dtype='float64') \n",
        "stds = pixels.std(axis=(0,1), dtype='float64') \n",
        "print('Means: %s, Stds: %s' % (means, stds))"
      ],
      "execution_count": 90,
      "outputs": [
        {
          "output_type": "stream",
          "text": [
            "Means: [-2.26325086e-13  4.61757818e-14  1.22197351e-13], Stds: [1. 1. 1.]\n"
          ],
          "name": "stdout"
        }
      ]
    },
    {
      "metadata": {
        "id": "dd3m7bhY4uxB",
        "colab_type": "text"
      },
      "cell_type": "markdown",
      "source": [
        "We could investigate and implement data preparation methods that remove linear correlations from the pixel data, such as PCA and ZCA.\n"
      ]
    },
    {
      "metadata": {
        "id": "0axO4y2f4oq3",
        "colab_type": "code",
        "colab": {}
      },
      "cell_type": "code",
      "source": [
        ""
      ],
      "execution_count": 0,
      "outputs": []
    }
  ]
}