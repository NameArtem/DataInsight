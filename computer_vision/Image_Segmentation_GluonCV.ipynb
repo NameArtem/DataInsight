{
 "cells": [
  {
   "cell_type": "markdown",
   "metadata": {},
   "source": [
    "## Image Segmentation"
   ]
  },
  {
   "cell_type": "code",
   "execution_count": 21,
   "metadata": {},
   "outputs": [],
   "source": [
    "# import libraries\n",
    "import mxnet as mx\n",
    "import gluoncv as gcv\n",
    "import matplotlib.pyplot as plt\n",
    "\n",
    "from mxnet.gluon.data.vision import transforms\n",
    "from gluoncv.data.ade20k.segmentation import ADE20KSegmentation\n",
    "from gluoncv.utils.viz import get_color_pallete"
   ]
  },
  {
   "cell_type": "code",
   "execution_count": 2,
   "metadata": {},
   "outputs": [
    {
     "data": {
      "text/plain": [
       "'dog.jpg'"
      ]
     },
     "execution_count": 2,
     "metadata": {},
     "output_type": "execute_result"
    }
   ],
   "source": [
    "# download image\n",
    "image_url = 'https://raw.githubusercontent.com/zhreshold/mxnet-ssd/master/data/demo/dog.jpg'\n",
    "image_filepath = 'dog.jpg'\n",
    "gcv.utils.download(url=image_url, path=image_filepath)"
   ]
  },
  {
   "cell_type": "code",
   "execution_count": 3,
   "metadata": {},
   "outputs": [
    {
     "name": "stdout",
     "output_type": "stream",
     "text": [
      "('shape:', (576, 768, 3))\n",
      "('data type:', <type 'numpy.uint8'>)\n",
      "('minimum value:', 0)\n",
      "('maximum value:', 255)\n"
     ]
    }
   ],
   "source": [
    "# load image\n",
    "image = mx.image.imread(image_filepath)\n",
    "print('shape:', image.shape)\n",
    "print('data type:', image.dtype)\n",
    "print('minimum value:', image.min().asscalar())\n",
    "print('maximum value:', image.max().asscalar())"
   ]
  },
  {
   "cell_type": "code",
   "execution_count": 4,
   "metadata": {},
   "outputs": [],
   "source": [
    "# Visual image\n",
    "#plt.imshow(image);"
   ]
  },
  {
   "cell_type": "code",
   "execution_count": 5,
   "metadata": {},
   "outputs": [],
   "source": [
    "# custom transform image no pre-set transformation for the data or model we plan to use\n",
    "transform_fn = transforms.Compose([\n",
    "    transforms.ToTensor(),\n",
    "    transforms.Normalize([0.485, 0.456, 0.406], \n",
    "                         [0.229, 0.224, 0.225])\n",
    "    ])"
   ]
  },
  {
   "cell_type": "markdown",
   "metadata": {},
   "source": [
    "We using two transforms, ToTensor and Normalize, and they're applied one after another. Using ToTensor, the data layer of the image will be converted from HWC to CHW. The datatype will be converted from an 8-bit integer to a 32-bit float. The method called normalize will normalize the values of the image using the ImageNet one case statistics. "
   ]
  },
  {
   "cell_type": "code",
   "execution_count": 6,
   "metadata": {},
   "outputs": [
    {
     "name": "stdout",
     "output_type": "stream",
     "text": [
      "('shape:', (3, 576, 768))\n",
      "('data type:', <type 'numpy.float32'>)\n",
      "('minimum value:', -2.117904)\n",
      "('maximum value:', 2.64)\n"
     ]
    }
   ],
   "source": [
    "image = transform_fn(image)\n",
    "print('shape:', image.shape)\n",
    "print('data type:', image.dtype)\n",
    "print('minimum value:', image.min().asscalar())\n",
    "print('maximum value:', image.max().asscalar())"
   ]
  },
  {
   "cell_type": "code",
   "execution_count": 7,
   "metadata": {},
   "outputs": [
    {
     "name": "stdout",
     "output_type": "stream",
     "text": [
      "(1, 3, 576, 768)\n"
     ]
    }
   ],
   "source": [
    "# create a batch from a single image\n",
    "image = image.expand_dims(0)\n",
    "print(image.shape)"
   ]
  },
  {
   "cell_type": "markdown",
   "metadata": {},
   "source": [
    "We use the FCN network with a resonant 50 backbone that's been trained on the ADE20K data set."
   ]
  },
  {
   "cell_type": "code",
   "execution_count": 8,
   "metadata": {},
   "outputs": [],
   "source": [
    "# load pre-trained model \n",
    "network = gcv.model_zoo.get_model('fcn_resnet50_ade', pretrained=True)"
   ]
  },
  {
   "cell_type": "code",
   "execution_count": 9,
   "metadata": {},
   "outputs": [
    {
     "name": "stdout",
     "output_type": "stream",
     "text": [
      "(1, 150, 576, 768)\n"
     ]
    },
    {
     "name": "stderr",
     "output_type": "stream",
     "text": [
      "/Users/chrisjcc/virtualenvs/ml/lib/python2.7/site-packages/gluoncv/model_zoo/segbase.py:92: UserWarning: demo method will be deprecated in favor of predict.\n",
      "  warnings.warn('demo method will be deprecated in favor of predict.')\n"
     ]
    }
   ],
   "source": [
    "# preduction (Output is a single mxnet.ndarray)\n",
    "output = network.demo(image)\n",
    "print(output.shape)"
   ]
  },
  {
   "cell_type": "code",
   "execution_count": 10,
   "metadata": {},
   "outputs": [
    {
     "name": "stdout",
     "output_type": "stream",
     "text": [
      "(150, 576, 768)\n"
     ]
    }
   ],
   "source": [
    "# output is a batch\n",
    "output = output[0] # slash off batch dimension\n",
    "print(output.shape) # 150 channels (number of classes in the ADE20K dataset)"
   ]
  },
  {
   "cell_type": "markdown",
   "metadata": {},
   "source": [
    "All the values in the array are Logits, so we still need to process the outputs to obtain probabilities. We don't want to apply the softmax to all of these values at once though. We want to do this independently for all pixels so that each pixel has a predicted probability distribution across classes"
   ]
  },
  {
   "cell_type": "code",
   "execution_count": 11,
   "metadata": {},
   "outputs": [],
   "source": [
    "# pixel slice\n",
    "px_height, px_width = 300, 500 # coordinates of pixel where the origin is located top-left of the image"
   ]
  },
  {
   "cell_type": "code",
   "execution_count": 12,
   "metadata": {},
   "outputs": [],
   "source": [
    "px_logit = output[:, px_height, px_width] # CHW FORMAT"
   ]
  },
  {
   "cell_type": "code",
   "execution_count": 13,
   "metadata": {},
   "outputs": [
    {
     "name": "stdout",
     "output_type": "stream",
     "text": [
      "\n",
      "[0.   0.   0.   0.   0.   0.   0.   0.   0.   0.   0.   0.   0.   0.\n",
      " 0.   0.   0.   0.   0.   0.   0.   0.   0.   0.   0.   0.   0.   0.\n",
      " 0.   0.   0.   0.   0.   0.   0.   0.   0.   0.   0.   0.   0.   0.\n",
      " 0.   0.   0.   0.   0.   0.   0.   0.   0.   0.   0.   0.   0.   0.\n",
      " 0.   0.   0.   0.   0.   0.   0.   0.   0.   0.   0.   0.   0.   0.\n",
      " 0.   0.   0.   0.   0.   0.   0.   0.   0.   0.   0.   0.   0.   0.\n",
      " 0.   0.   0.   0.   0.   0.   0.   0.   0.   0.   0.   0.   0.   0.\n",
      " 0.   0.   0.   0.   0.   0.   0.   0.   0.   0.   0.   0.   0.   0.\n",
      " 0.   0.   0.   0.   0.01 0.   0.   0.   0.   0.   0.   0.   0.   0.\n",
      " 0.   0.96 0.   0.   0.   0.   0.   0.   0.   0.   0.   0.   0.   0.\n",
      " 0.   0.   0.   0.   0.   0.   0.   0.   0.   0.  ]\n",
      "<NDArray 150 @cpu(0)>\n"
     ]
    }
   ],
   "source": [
    "# use softmax function to convert logits to probabilities\n",
    "px_probability = mx.nd.softmax(px_logit)\n",
    "px_rounded_probability = mx.nd.round(px_probability*100)/100\n",
    "print(px_rounded_probability)"
   ]
  },
  {
   "cell_type": "markdown",
   "metadata": {},
   "source": [
    "We can see the probability distribution across classes for this particular pixel. One of the highest probabilities is towards the end with a probability of 96%."
   ]
  },
  {
   "cell_type": "code",
   "execution_count": 14,
   "metadata": {},
   "outputs": [
    {
     "name": "stdout",
     "output_type": "stream",
     "text": [
      "127\n"
     ]
    }
   ],
   "source": [
    "# with the argmax function to find the most likely class for this pixel\n",
    "class_index = mx.nd.argmax(px_logit, axis=0)\n",
    "class_index = class_index[0].astype('int').asscalar()\n",
    "print(class_index)"
   ]
  },
  {
   "cell_type": "code",
   "execution_count": 15,
   "metadata": {},
   "outputs": [
    {
     "name": "stdout",
     "output_type": "stream",
     "text": [
      "bicycle, bike, wheel, cycle\n"
     ]
    }
   ],
   "source": [
    "class_label = ADE20KSegmentation.CLASSES[class_index] # lookup table from class index to class labels\n",
    "print(class_label)"
   ]
  },
  {
   "cell_type": "markdown",
   "metadata": {},
   "source": [
    "We find that the most likely class for the selected pixel is bike. We know our image contains a bike near the center."
   ]
  },
  {
   "cell_type": "code",
   "execution_count": 16,
   "metadata": {},
   "outputs": [],
   "source": [
    "output_proba = mx.nd.softmax(output, axis=0)"
   ]
  },
  {
   "cell_type": "markdown",
   "metadata": {},
   "source": [
    "Specifying axis equals 0, we can apply softmax independently for all pixels. Axis zero corresponds to the channel dimension which are the classes. So the output is a probability distribution across classes for every pixel. "
   ]
  },
  {
   "cell_type": "code",
   "execution_count": 18,
   "metadata": {},
   "outputs": [
    {
     "data": {
      "image/png": "[encoded data removed]",
      "text/plain": [
       "<matplotlib.figure.Figure at 0x131b20fd0>"
      ]
     },
     "metadata": {
      "needs_background": "light"
     },
     "output_type": "display_data"
    }
   ],
   "source": [
    "output_heatmap = output_proba[127]\n",
    "plt.imshow(output_heatmap.asnumpy()); # image of bike"
   ]
  },
  {
   "cell_type": "code",
   "execution_count": 19,
   "metadata": {},
   "outputs": [
    {
     "name": "stdout",
     "output_type": "stream",
     "text": [
      "(576, 768)\n"
     ]
    }
   ],
   "source": [
    "# Visualize most likely class for every pixel\n",
    "prediction = mx.nd.argmax(output, 0).asnumpy()\n",
    "print(prediction.shape)"
   ]
  },
  {
   "cell_type": "code",
   "execution_count": 20,
   "metadata": {},
   "outputs": [
    {
     "name": "stdout",
     "output_type": "stream",
     "text": [
      "[[0. 0. 0. ... 4. 4. 4.]\n",
      " [0. 0. 0. ... 4. 4. 4.]\n",
      " [0. 0. 0. ... 4. 4. 4.]\n",
      " ...\n",
      " [3. 3. 3. ... 0. 0. 0.]\n",
      " [3. 3. 3. ... 0. 0. 0.]\n",
      " [3. 3. 3. ... 0. 0. 0.]]\n"
     ]
    }
   ],
   "source": [
    "print(prediction)"
   ]
  },
  {
   "cell_type": "markdown",
   "metadata": {},
   "source": [
    "We interpreted the network outputs and visualize the segments."
   ]
  },
  {
   "cell_type": "code",
   "execution_count": 22,
   "metadata": {},
   "outputs": [
    {
     "data": {
      "image/png": "[encoded data removed]",
      "text/plain": [
       "<PIL.Image.Image image mode=P size=768x576 at 0x14DD76090>"
      ]
     },
     "execution_count": 22,
     "metadata": {},
     "output_type": "execute_result"
    }
   ],
   "source": [
    "prediction_image = get_color_pallete(prediction, 'ade20k') # preset color mapping\n",
    "prediction_image # i"
   ]
  },
  {
   "cell_type": "code",
   "execution_count": null,
   "metadata": {},
   "outputs": [],
   "source": []
  },
  {
   "cell_type": "code",
   "execution_count": null,
   "metadata": {},
   "outputs": [],
   "source": []
  }
 ],
 "metadata": {
  "kernelspec": {
   "display_name": "Python 2",
   "language": "python",
   "name": "python2"
  },
  "language_info": {
   "codemirror_mode": {
    "name": "ipython",
    "version": 2
   },
   "file_extension": ".py",
   "mimetype": "text/x-python",
   "name": "python",
   "nbconvert_exporter": "python",
   "pygments_lexer": "ipython2",
   "version": "2.7.10"
  }
 },
 "nbformat": 4,
 "nbformat_minor": 2
}
