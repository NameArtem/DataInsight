{
  "nbformat": 4,
  "nbformat_minor": 0,
  "metadata": {
    "colab": {
      "name": "cnn_tensorflow_fashion_dataset.ipynb",
      "version": "0.3.2",
      "provenance": []
    },
    "kernelspec": {
      "name": "python3",
      "display_name": "Python 3"
    },
    "accelerator": "GPU"
  },
  "cells": [
    {
      "metadata": {
        "id": "6yY1Sy3B5M0N",
        "colab_type": "text"
      },
      "cell_type": "markdown",
      "source": [
        "## Convolutional Neural Networks modelin on Fashion-MNIST datase\n",
        "\n",
        "The Fashion-MNIST dataset contains Zalando's article images, with 28x28 grayscale images of 65,000 fashion products from 10 categories, and 6,500 images per category. The training set has 55,000 images, and the test set has 10,000 images."
      ]
    },
    {
      "metadata": {
        "id": "c-6GxFOKfXjA",
        "colab_type": "code",
        "colab": {}
      },
      "cell_type": "code",
      "source": [
        "# Import libraries\n",
        "import numpy as np\n",
        "import matplotlib.pyplot as plt\n",
        "import tensorflow as tf\n",
        "from tensorflow.examples.tutorials.mnist import input_data\n",
        "%matplotlib inline\n",
        "import os\n",
        "os.environ[\"CUDA_VISIBLE_DEVICES\"]=\"0\" #for training on gpu"
      ],
      "execution_count": 0,
      "outputs": []
    },
    {
      "metadata": {
        "id": "tOtDkNLbfaQS",
        "colab_type": "code",
        "colab": {
          "base_uri": "https://localhost:8080/",
          "height": 102
        },
        "outputId": "b1cfca7e-b1ff-4fab-e520-d9b861f1d924"
      },
      "cell_type": "code",
      "source": [
        "!git clone https://github.com/zalandoresearch/fashion-mnist.git"
      ],
      "execution_count": 2,
      "outputs": [
        {
          "output_type": "stream",
          "text": [
            "Cloning into 'fashion-mnist'...\n",
            "remote: Enumerating objects: 681, done.\u001b[K\n",
            "remote: Total 681 (delta 0), reused 0 (delta 0), pack-reused 681\u001b[K\n",
            "Receiving objects: 100% (681/681), 105.20 MiB | 39.01 MiB/s, done.\n",
            "Resolving deltas: 100% (393/393), done.\n"
          ],
          "name": "stdout"
        }
      ]
    },
    {
      "metadata": {
        "id": "5A2OEvaG5ekv",
        "colab_type": "text"
      },
      "cell_type": "markdown",
      "source": [
        "### Load the data"
      ]
    },
    {
      "metadata": {
        "id": "YS4KTU9efuzC",
        "colab_type": "code",
        "colab": {
          "base_uri": "https://localhost:8080/",
          "height": 411
        },
        "outputId": "7de8bf5c-5d61-4c83-b0b3-9eb7be32d95f"
      },
      "cell_type": "code",
      "source": [
        "data = input_data.read_data_sets('fashion-mnist/data/fashion',one_hot=True)"
      ],
      "execution_count": 3,
      "outputs": [
        {
          "output_type": "stream",
          "text": [
            "WARNING:tensorflow:From <ipython-input-3-57baa565d11d>:1: read_data_sets (from tensorflow.contrib.learn.python.learn.datasets.mnist) is deprecated and will be removed in a future version.\n",
            "Instructions for updating:\n",
            "Please use alternatives such as official/mnist/dataset.py from tensorflow/models.\n",
            "WARNING:tensorflow:From /usr/local/lib/python3.6/dist-packages/tensorflow/contrib/learn/python/learn/datasets/mnist.py:260: maybe_download (from tensorflow.contrib.learn.python.learn.datasets.base) is deprecated and will be removed in a future version.\n",
            "Instructions for updating:\n",
            "Please write your own downloading logic.\n",
            "WARNING:tensorflow:From /usr/local/lib/python3.6/dist-packages/tensorflow/contrib/learn/python/learn/datasets/mnist.py:262: extract_images (from tensorflow.contrib.learn.python.learn.datasets.mnist) is deprecated and will be removed in a future version.\n",
            "Instructions for updating:\n",
            "Please use tf.data to implement this functionality.\n",
            "Extracting fashion-mnist/data/fashion/train-images-idx3-ubyte.gz\n",
            "WARNING:tensorflow:From /usr/local/lib/python3.6/dist-packages/tensorflow/contrib/learn/python/learn/datasets/mnist.py:267: extract_labels (from tensorflow.contrib.learn.python.learn.datasets.mnist) is deprecated and will be removed in a future version.\n",
            "Instructions for updating:\n",
            "Please use tf.data to implement this functionality.\n",
            "Extracting fashion-mnist/data/fashion/train-labels-idx1-ubyte.gz\n",
            "WARNING:tensorflow:From /usr/local/lib/python3.6/dist-packages/tensorflow/contrib/learn/python/learn/datasets/mnist.py:110: dense_to_one_hot (from tensorflow.contrib.learn.python.learn.datasets.mnist) is deprecated and will be removed in a future version.\n",
            "Instructions for updating:\n",
            "Please use tf.one_hot on tensors.\n",
            "Extracting fashion-mnist/data/fashion/t10k-images-idx3-ubyte.gz\n",
            "Extracting fashion-mnist/data/fashion/t10k-labels-idx1-ubyte.gz\n",
            "WARNING:tensorflow:From /usr/local/lib/python3.6/dist-packages/tensorflow/contrib/learn/python/learn/datasets/mnist.py:290: DataSet.__init__ (from tensorflow.contrib.learn.python.learn.datasets.mnist) is deprecated and will be removed in a future version.\n",
            "Instructions for updating:\n",
            "Please use alternatives such as official/mnist/dataset.py from tensorflow/models.\n"
          ],
          "name": "stdout"
        }
      ]
    },
    {
      "metadata": {
        "id": "ZS-ooIGKgAeG",
        "colab_type": "code",
        "colab": {
          "base_uri": "https://localhost:8080/",
          "height": 85
        },
        "outputId": "79020381-ee0c-4cc7-9901-338cba95d498"
      },
      "cell_type": "code",
      "source": [
        "# Shapes of training set\n",
        "print(\"Training set (images) shape: {shape}\".format(shape=data.train.images.shape))\n",
        "print(\"Training set (labels) shape: {shape}\".format(shape=data.train.labels.shape))\n",
        "\n",
        "# Shapes of test set\n",
        "print(\"Test set (images) shape: {shape}\".format(shape=data.test.images.shape))\n",
        "print(\"Test set (labels) shape: {shape}\".format(shape=data.test.labels.shape))"
      ],
      "execution_count": 4,
      "outputs": [
        {
          "output_type": "stream",
          "text": [
            "Training set (images) shape: (55000, 784)\n",
            "Training set (labels) shape: (55000, 10)\n",
            "Test set (images) shape: (10000, 784)\n",
            "Test set (labels) shape: (10000, 10)\n"
          ],
          "name": "stdout"
        }
      ]
    },
    {
      "metadata": {
        "id": "7AChYtEGgXRE",
        "colab_type": "text"
      },
      "cell_type": "markdown",
      "source": [
        " The training data has a shape of 55000 x 784: there are 55,000 training samples each of 784-dimensional vector. Similarly, the test data has a shape of 10000 x 784, since there are 10,000 testing samples. The 784 dimensional vector is nothing but a 28 x 28 dimensional matrix. \n",
        " \n",
        " We will be reshaping each training and testing sample from a 784 dimensional vector to a 28 x 28 x 1 dimensional matrix in order to feed the samples in to the CNN model.\n",
        "\n"
      ]
    },
    {
      "metadata": {
        "id": "y95RDdLXgGZH",
        "colab_type": "code",
        "colab": {}
      },
      "cell_type": "code",
      "source": [
        "# Create dictionary of target classes\n",
        "label_dict = {\n",
        " 0: 'T-shirt/top',\n",
        " 1: 'Trouser',\n",
        " 2: 'Pullover',\n",
        " 3: 'Dress',\n",
        " 4: 'Coat',\n",
        " 5: 'Sandal',\n",
        " 6: 'Shirt',\n",
        " 7: 'Sneaker',\n",
        " 8: 'Bag',\n",
        " 9: 'Ankle boot',\n",
        "}"
      ],
      "execution_count": 0,
      "outputs": []
    },
    {
      "metadata": {
        "id": "aEMzAIF4g-8o",
        "colab_type": "text"
      },
      "cell_type": "markdown",
      "source": [
        "let's take a look at the images in your dataset"
      ]
    },
    {
      "metadata": {
        "id": "kaRRkNCeglze",
        "colab_type": "code",
        "colab": {
          "base_uri": "https://localhost:8080/",
          "height": 207
        },
        "outputId": "c84d4dd0-f9d3-4ae3-d681-d0ac90b07084"
      },
      "cell_type": "code",
      "source": [
        "plt.figure(figsize=[5,5])\n",
        "\n",
        "# Display the first image in training data\n",
        "plt.subplot(121)\n",
        "curr_img = np.reshape(data.train.images[0], (28,28))\n",
        "curr_lbl = np.argmax(data.train.labels[0,:])\n",
        "plt.imshow(curr_img, cmap='gray')\n",
        "plt.title(\"(Label: \" + str(label_dict[curr_lbl]) + \")\")\n",
        "\n",
        "# Display the first image in testing data\n",
        "plt.subplot(122)\n",
        "curr_img = np.reshape(data.test.images[0], (28,28))\n",
        "curr_lbl = np.argmax(data.test.labels[0,:])\n",
        "plt.imshow(curr_img, cmap='gray')\n",
        "plt.title(\"(Label: \" + str(label_dict[curr_lbl]) + \")\")"
      ],
      "execution_count": 6,
      "outputs": [
        {
          "output_type": "execute_result",
          "data": {
            "text/plain": [
              "Text(0.5, 1.0, '(Label: Ankle boot)')"
            ]
          },
          "metadata": {
            "tags": []
          },
          "execution_count": 6
        },
        {
          "output_type": "display_data",
          "data": {
            "image/png": "[encoded data removed]",
            "text/plain": [
              "<Figure size 360x360 with 2 Axes>"
            ]
          },
          "metadata": {
            "tags": []
          }
        }
      ]
    },
    {
      "metadata": {
        "id": "7dn-eafjhuNz",
        "colab_type": "text"
      },
      "cell_type": "markdown",
      "source": [
        "The output of above two plots are one of the sample images from both training and testing data, and these images are assigned a class label of 4 (Coat) and 9 (Ankle boot). Similarly, other fashion products will have different labels, but similar products will have same labels. This means that all the 6,500 ankle boot images will have a class label of 9."
      ]
    },
    {
      "metadata": {
        "id": "Pi8KGwXkhEQJ",
        "colab_type": "code",
        "colab": {
          "base_uri": "https://localhost:8080/",
          "height": 51
        },
        "outputId": "4d15d014-19ec-40f0-8963-87beb0815148"
      },
      "cell_type": "code",
      "source": [
        "# Data Preprocessing\n",
        "print(np.max(data.train.images[0]))\n",
        "print(np.min(data.train.images[0]))\n",
        "\n",
        "# Reshape training and testing image (to 8 x 28 x 1, and feed this as an input to the network)\n",
        "train_X = data.train.images.reshape(-1, 28, 28, 1)\n",
        "test_X = data.test.images.reshape(-1,28,28,1)"
      ],
      "execution_count": 7,
      "outputs": [
        {
          "output_type": "stream",
          "text": [
            "1.0\n",
            "0.0\n"
          ],
          "name": "stdout"
        }
      ]
    },
    {
      "metadata": {
        "id": "9Wk-WNSHiECE",
        "colab_type": "code",
        "colab": {
          "base_uri": "https://localhost:8080/",
          "height": 51
        },
        "outputId": "dba65d6d-4a6c-41e4-9be4-c8d662eea329"
      },
      "cell_type": "code",
      "source": [
        "print(train_X.shape)\n",
        "print(test_X.shape)"
      ],
      "execution_count": 8,
      "outputs": [
        {
          "output_type": "stream",
          "text": [
            "(55000, 28, 28, 1)\n",
            "(10000, 28, 28, 1)\n"
          ],
          "name": "stdout"
        }
      ]
    },
    {
      "metadata": {
        "id": "jmfMVz9ViH5c",
        "colab_type": "code",
        "colab": {}
      },
      "cell_type": "code",
      "source": [
        "# Let's put the training and testing labels in separate variables\n",
        "train_y = data.train.labels\n",
        "test_y = data.test.labels"
      ],
      "execution_count": 0,
      "outputs": []
    },
    {
      "metadata": {
        "id": "KYdoo3tjiVNx",
        "colab_type": "code",
        "colab": {
          "base_uri": "https://localhost:8080/",
          "height": 51
        },
        "outputId": "912251e5-3bdd-4d01-daad-238fba94a029"
      },
      "cell_type": "code",
      "source": [
        "print(train_y.shape)\n",
        "print(test_y.shape)"
      ],
      "execution_count": 10,
      "outputs": [
        {
          "output_type": "stream",
          "text": [
            "(55000, 10)\n",
            "(10000, 10)\n"
          ],
          "name": "stdout"
        }
      ]
    },
    {
      "metadata": {
        "id": "SMTEQ_siiZID",
        "colab_type": "code",
        "colab": {}
      },
      "cell_type": "code",
      "source": [
        ""
      ],
      "execution_count": 0,
      "outputs": []
    },
    {
      "metadata": {
        "id": "AVcm3btdjgce",
        "colab_type": "text"
      },
      "cell_type": "markdown",
      "source": [
        "### The Deep Neural Network\n",
        "\n",
        "We use three convolutional layers: the first layer will have 32-3 x 3 filters, the second layer will have 64-3 x 3 filters and the third layer will have 128-3 x 3 filters. In addition, there are three max-pooling layers each of size 2 x 2 between convolutional layers.\n",
        "\n"
      ]
    },
    {
      "metadata": {
        "id": "MDRBrjooidOX",
        "colab_type": "code",
        "colab": {}
      },
      "cell_type": "code",
      "source": [
        "training_iters = 200 # number of times we train our network\n",
        "learning_rate  = 0.001 # factor that is multiplied with the weights based on which the weights get updated \n",
        "batch_size     = 128 # training images will be divided in a fixed batch size to train on them"
      ],
      "execution_count": 0,
      "outputs": []
    },
    {
      "metadata": {
        "id": "erKsJZfcidQv",
        "colab_type": "code",
        "colab": {}
      },
      "cell_type": "code",
      "source": [
        "# MNIST data input (img shape: 28*28)\n",
        "n_input = 28\n",
        "\n",
        "# MNIST total classes (0-9 digits)\n",
        "n_classes = 10"
      ],
      "execution_count": 0,
      "outputs": []
    },
    {
      "metadata": {
        "id": "kuURQ-y2idTO",
        "colab_type": "code",
        "colab": {}
      },
      "cell_type": "code",
      "source": [
        "# Both placeholders are of type float\n",
        "x = tf.placeholder(\"float\", [None, 28,28,1])    # row dimension is None\n",
        "y = tf.placeholder(\"float\", [None, n_classes])  # row dimension is None"
      ],
      "execution_count": 0,
      "outputs": []
    },
    {
      "metadata": {
        "id": "zRd7jexKikSk",
        "colab_type": "code",
        "colab": {}
      },
      "cell_type": "code",
      "source": [
        "# Creating wrappers for simplicity\n",
        "def conv2d(x, W, b, strides=1):\n",
        "    # Conv2D wrapper, with bias and relu activation\n",
        "    x = tf.nn.conv2d(x, W, strides=[1, strides, strides, 1], \n",
        "                     padding='SAME')\n",
        "    x = tf.nn.bias_add(x, b)\n",
        "    return tf.nn.relu(x) \n",
        "\n",
        "def maxpool2d(x, k=2):\n",
        "    return tf.nn.max_pool(x, ksize=[1, k, k, 1], strides=[1, k, k, 1],\n",
        "                          padding='SAME')"
      ],
      "execution_count": 0,
      "outputs": []
    },
    {
      "metadata": {
        "id": "EPOVT5W2ikVE",
        "colab_type": "code",
        "colab": {
          "base_uri": "https://localhost:8080/",
          "height": 88
        },
        "outputId": "7aa0cf80-c822-4669-c2df-405454ec8573"
      },
      "cell_type": "code",
      "source": [
        "weights = {\n",
        "    'wc1': tf.get_variable('W0', shape=(3,3,1,32), initializer=tf.contrib.layers.xavier_initializer()), \n",
        "    'wc2': tf.get_variable('W1', shape=(3,3,32,64), initializer=tf.contrib.layers.xavier_initializer()), \n",
        "    'wc3': tf.get_variable('W2', shape=(3,3,64,128), initializer=tf.contrib.layers.xavier_initializer()), \n",
        "    'wd1': tf.get_variable('W3', shape=(4*4*128,128), initializer=tf.contrib.layers.xavier_initializer()), \n",
        "    'out': tf.get_variable('W6', shape=(128,n_classes), initializer=tf.contrib.layers.xavier_initializer()), \n",
        "}\n",
        "biases = {\n",
        "    'bc1': tf.get_variable('B0', shape=(32), initializer=tf.contrib.layers.xavier_initializer()),\n",
        "    'bc2': tf.get_variable('B1', shape=(64), initializer=tf.contrib.layers.xavier_initializer()),\n",
        "    'bc3': tf.get_variable('B2', shape=(128), initializer=tf.contrib.layers.xavier_initializer()),\n",
        "    'bd1': tf.get_variable('B3', shape=(128), initializer=tf.contrib.layers.xavier_initializer()),\n",
        "    'out': tf.get_variable('B4', shape=(10), initializer=tf.contrib.layers.xavier_initializer()),\n",
        "}"
      ],
      "execution_count": 15,
      "outputs": [
        {
          "output_type": "stream",
          "text": [
            "WARNING:tensorflow:From /usr/local/lib/python3.6/dist-packages/tensorflow/python/framework/op_def_library.py:263: colocate_with (from tensorflow.python.framework.ops) is deprecated and will be removed in a future version.\n",
            "Instructions for updating:\n",
            "Colocations handled automatically by placer.\n"
          ],
          "name": "stdout"
        }
      ]
    },
    {
      "metadata": {
        "id": "oV-ad_4cikXe",
        "colab_type": "code",
        "colab": {}
      },
      "cell_type": "code",
      "source": [
        "# Convolutional neural network architecture\n",
        "def conv_net(x, weights, biases):  \n",
        "    '''\n",
        "    Function takes 3 arguments as an input: the input x and the weights and biases dictionaries\n",
        "    '''\n",
        "\n",
        "    # here we call the conv2d function we had defined above and pass the input image x, weights wc1 and bias bc1.\n",
        "    conv1 = conv2d(x, weights['wc1'], biases['bc1'])\n",
        "    # Max Pooling (down-sampling), this chooses the max value from a 2*2 matrix window and outputs a 14*14 matrix.\n",
        "    conv1 = maxpool2d(conv1, k=2)\n",
        "\n",
        "    # Convolution Layer\n",
        "    # here we call the conv2d function we had defined above and pass the input image x, weights wc2 and bias bc2.\n",
        "    conv2 = conv2d(conv1, weights['wc2'], biases['bc2'])\n",
        "    # Max Pooling (down-sampling), this chooses the max value from a 2*2 matrix window and outputs a 7*7 matrix.\n",
        "    conv2 = maxpool2d(conv2, k=2)\n",
        "\n",
        "    conv3 = conv2d(conv2, weights['wc3'], biases['bc3'])\n",
        "    # Max Pooling (down-sampling), this chooses the max value from a 2*2 matrix window and outputs a 4*4.\n",
        "    conv3 = maxpool2d(conv3, k=2)\n",
        "\n",
        "\n",
        "    # Fully connected layer\n",
        "    # Reshape conv3 output to fit fully connected layer input\n",
        "    fc1 = tf.reshape(conv3, [-1, weights['wd1'].get_shape().as_list()[0]])\n",
        "    fc1 = tf.add(tf.matmul(fc1, weights['wd1']), biases['bd1'])\n",
        "    fc1 = tf.nn.relu(fc1)\n",
        "    # Output, class prediction\n",
        "    # finally we multiply the fully connected layer with the weights and add a bias term. \n",
        "    out = tf.add(tf.matmul(fc1, weights['out']), biases['out'])\n",
        "    return out"
      ],
      "execution_count": 0,
      "outputs": []
    },
    {
      "metadata": {
        "id": "PJjcfrDrmtSl",
        "colab_type": "code",
        "colab": {
          "base_uri": "https://localhost:8080/",
          "height": 34
        },
        "outputId": "e18b60bb-02fd-489a-fcae-98b8e7a2ef8e"
      },
      "cell_type": "code",
      "source": [
        "pred = conv_net(x, weights, biases)\n",
        "print(pred)"
      ],
      "execution_count": 17,
      "outputs": [
        {
          "output_type": "stream",
          "text": [
            "Tensor(\"Add_1:0\", shape=(?, 10), dtype=float32)\n"
          ],
          "name": "stdout"
        }
      ]
    },
    {
      "metadata": {
        "id": "Banayo0TmxOC",
        "colab_type": "code",
        "colab": {
          "base_uri": "https://localhost:8080/",
          "height": 190
        },
        "outputId": "bf4d0827-8fa6-49bc-eea2-dbc91bea9f8e"
      },
      "cell_type": "code",
      "source": [
        "cost = tf.reduce_mean(tf.nn.softmax_cross_entropy_with_logits(logits=pred, labels=y))\n",
        "print(cost)"
      ],
      "execution_count": 18,
      "outputs": [
        {
          "output_type": "stream",
          "text": [
            "WARNING:tensorflow:From <ipython-input-18-f9833bcc094b>:1: softmax_cross_entropy_with_logits (from tensorflow.python.ops.nn_ops) is deprecated and will be removed in a future version.\n",
            "Instructions for updating:\n",
            "\n",
            "Future major versions of TensorFlow will allow gradients to flow\n",
            "into the labels input on backprop by default.\n",
            "\n",
            "See `tf.nn.softmax_cross_entropy_with_logits_v2`.\n",
            "\n",
            "Tensor(\"Mean:0\", shape=(), dtype=float32)\n"
          ],
          "name": "stdout"
        }
      ]
    },
    {
      "metadata": {
        "id": "NrXm17LLm0CH",
        "colab_type": "code",
        "colab": {
          "base_uri": "https://localhost:8080/",
          "height": 272
        },
        "outputId": "fdf0c3ad-300c-45ca-999a-3f73b67be4c3"
      },
      "cell_type": "code",
      "source": [
        "optimizer = tf.train.AdamOptimizer(learning_rate=learning_rate).minimize(cost)\n",
        "print(optimizer)"
      ],
      "execution_count": 19,
      "outputs": [
        {
          "output_type": "stream",
          "text": [
            "name: \"Adam\"\n",
            "op: \"NoOp\"\n",
            "input: \"^Adam/update_W0/ApplyAdam\"\n",
            "input: \"^Adam/update_W1/ApplyAdam\"\n",
            "input: \"^Adam/update_W2/ApplyAdam\"\n",
            "input: \"^Adam/update_W3/ApplyAdam\"\n",
            "input: \"^Adam/update_W6/ApplyAdam\"\n",
            "input: \"^Adam/update_B0/ApplyAdam\"\n",
            "input: \"^Adam/update_B1/ApplyAdam\"\n",
            "input: \"^Adam/update_B2/ApplyAdam\"\n",
            "input: \"^Adam/update_B3/ApplyAdam\"\n",
            "input: \"^Adam/update_B4/ApplyAdam\"\n",
            "input: \"^Adam/Assign\"\n",
            "input: \"^Adam/Assign_1\"\n",
            "\n"
          ],
          "name": "stdout"
        }
      ]
    },
    {
      "metadata": {
        "id": "QndMaZzym64G",
        "colab_type": "text"
      },
      "cell_type": "markdown",
      "source": [
        "### Evaluate Model Node\n"
      ]
    },
    {
      "metadata": {
        "id": "1Mg5smiVm4JD",
        "colab_type": "code",
        "colab": {}
      },
      "cell_type": "code",
      "source": [
        "# Check whether the index of the maximum value of the predicted image is equal to the actual labelled image. \n",
        "# and both will be a column vector.\n",
        "correct_prediction = tf.equal(tf.argmax(pred, 1), tf.argmax(y, 1))"
      ],
      "execution_count": 0,
      "outputs": []
    },
    {
      "metadata": {
        "id": "R0jqT5tgnAqa",
        "colab_type": "code",
        "colab": {}
      },
      "cell_type": "code",
      "source": [
        "# Calculate accuracy across all the given images and average them out. \n",
        "accuracy = tf.reduce_mean(tf.cast(correct_prediction, tf.float32))"
      ],
      "execution_count": 0,
      "outputs": []
    },
    {
      "metadata": {
        "id": "hvFdrpW5nB0a",
        "colab_type": "code",
        "colab": {}
      },
      "cell_type": "code",
      "source": [
        "# Initializing the variables\n",
        "init = tf.global_variables_initializer()"
      ],
      "execution_count": 0,
      "outputs": []
    },
    {
      "metadata": {
        "id": "2-JNVucenEaa",
        "colab_type": "text"
      },
      "cell_type": "markdown",
      "source": [
        "### Training and Testing the Model"
      ]
    },
    {
      "metadata": {
        "id": "Cztfax8XnGL7",
        "colab_type": "code",
        "colab": {
          "base_uri": "https://localhost:8080/",
          "height": 10217
        },
        "outputId": "b7331b26-91c2-46fe-84ae-b77e972999bc"
      },
      "cell_type": "code",
      "source": [
        "with tf.Session() as sess:\n",
        "  \n",
        "    sess.run(init) \n",
        "    train_loss = []\n",
        "    test_loss = []\n",
        "    train_accuracy = []\n",
        "    test_accuracy = []\n",
        "    summary_writer = tf.summary.FileWriter('./Output', sess.graph)\n",
        "    \n",
        "    for i in range(training_iters):\n",
        "            \n",
        "        for batch in range(len(train_X)//batch_size):\n",
        "          \n",
        "            batch_x = train_X[batch*batch_size: min((batch+1)*batch_size, len(train_X))]\n",
        "            batch_y = train_y[batch*batch_size: min((batch+1)*batch_size, len(train_y))]  \n",
        "            \n",
        "            # Run optimization op (backprop).\n",
        "            # And calculate batch loss and accuracy.\n",
        "            opt = sess.run(optimizer, feed_dict={x: batch_x, \n",
        "                                                 y: batch_y})\n",
        "            loss, acc = sess.run([cost, accuracy], feed_dict={x: batch_x,\n",
        "                                                              y: batch_y})\n",
        "            \n",
        "        print(\"Iter \" + str(i) + \", Loss= \" + \\\n",
        "                      \"{:.6f}\".format(loss) + \", Training Accuracy= \" + \\\n",
        "                      \"{:.5f}\".format(acc))\n",
        "        print(\"Optimization Finished!\")\n",
        "\n",
        "        # Calculate accuracy for all 10000 mnist test images (test ==> validation set)\n",
        "        valid_acc, valid_loss = sess.run([accuracy,cost], feed_dict={x: test_X,y : test_y})\n",
        "        train_loss.append(loss)\n",
        "        test_loss.append(valid_loss)\n",
        "        train_accuracy.append(acc)\n",
        "        test_accuracy.append(valid_acc)\n",
        "        \n",
        "        print(\"Testing Accuracy:\",\"{:.5f}\".format(valid_acc))\n",
        "        \n",
        "    summary_writer.close()"
      ],
      "execution_count": 23,
      "outputs": [
        {
          "output_type": "stream",
          "text": [
            "Iter 0, Loss= 0.366561, Training Accuracy= 0.86719\n",
            "Optimization Finished!\n",
            "Testing Accuracy: 0.84040\n",
            "Iter 1, Loss= 0.230187, Training Accuracy= 0.91406\n",
            "Optimization Finished!\n",
            "Testing Accuracy: 0.87450\n",
            "Iter 2, Loss= 0.184084, Training Accuracy= 0.92969\n",
            "Optimization Finished!\n",
            "Testing Accuracy: 0.88880\n",
            "Iter 3, Loss= 0.151563, Training Accuracy= 0.93750\n",
            "Optimization Finished!\n",
            "Testing Accuracy: 0.89090\n",
            "Iter 4, Loss= 0.136419, Training Accuracy= 0.95312\n",
            "Optimization Finished!\n",
            "Testing Accuracy: 0.88740\n",
            "Iter 5, Loss= 0.119384, Training Accuracy= 0.96875\n",
            "Optimization Finished!\n",
            "Testing Accuracy: 0.88740\n",
            "Iter 6, Loss= 0.123813, Training Accuracy= 0.94531\n",
            "Optimization Finished!\n",
            "Testing Accuracy: 0.88410\n",
            "Iter 7, Loss= 0.094054, Training Accuracy= 0.96875\n",
            "Optimization Finished!\n",
            "Testing Accuracy: 0.89420\n",
            "Iter 8, Loss= 0.088368, Training Accuracy= 0.96094\n",
            "Optimization Finished!\n",
            "Testing Accuracy: 0.90020\n",
            "Iter 9, Loss= 0.092932, Training Accuracy= 0.95312\n",
            "Optimization Finished!\n",
            "Testing Accuracy: 0.90150\n",
            "Iter 10, Loss= 0.073678, Training Accuracy= 0.96094\n",
            "Optimization Finished!\n",
            "Testing Accuracy: 0.89950\n",
            "Iter 11, Loss= 0.073009, Training Accuracy= 0.96875\n",
            "Optimization Finished!\n",
            "Testing Accuracy: 0.89930\n",
            "Iter 12, Loss= 0.061942, Training Accuracy= 0.96875\n",
            "Optimization Finished!\n",
            "Testing Accuracy: 0.89360\n",
            "Iter 13, Loss= 0.051167, Training Accuracy= 0.98438\n",
            "Optimization Finished!\n",
            "Testing Accuracy: 0.90310\n",
            "Iter 14, Loss= 0.055562, Training Accuracy= 0.99219\n",
            "Optimization Finished!\n",
            "Testing Accuracy: 0.90260\n",
            "Iter 15, Loss= 0.042543, Training Accuracy= 0.99219\n",
            "Optimization Finished!\n",
            "Testing Accuracy: 0.90610\n",
            "Iter 16, Loss= 0.044471, Training Accuracy= 0.97656\n",
            "Optimization Finished!\n",
            "Testing Accuracy: 0.90820\n",
            "Iter 17, Loss= 0.063144, Training Accuracy= 0.98438\n",
            "Optimization Finished!\n",
            "Testing Accuracy: 0.90820\n",
            "Iter 18, Loss= 0.071649, Training Accuracy= 0.98438\n",
            "Optimization Finished!\n",
            "Testing Accuracy: 0.90550\n",
            "Iter 19, Loss= 0.072156, Training Accuracy= 0.99219\n",
            "Optimization Finished!\n",
            "Testing Accuracy: 0.90510\n",
            "Iter 20, Loss= 0.060263, Training Accuracy= 0.99219\n",
            "Optimization Finished!\n",
            "Testing Accuracy: 0.89610\n",
            "Iter 21, Loss= 0.063199, Training Accuracy= 0.98438\n",
            "Optimization Finished!\n",
            "Testing Accuracy: 0.89830\n",
            "Iter 22, Loss= 0.021353, Training Accuracy= 0.99219\n",
            "Optimization Finished!\n",
            "Testing Accuracy: 0.90040\n",
            "Iter 23, Loss= 0.037348, Training Accuracy= 0.98438\n",
            "Optimization Finished!\n",
            "Testing Accuracy: 0.90250\n",
            "Iter 24, Loss= 0.005922, Training Accuracy= 1.00000\n",
            "Optimization Finished!\n",
            "Testing Accuracy: 0.90910\n",
            "Iter 25, Loss= 0.016343, Training Accuracy= 1.00000\n",
            "Optimization Finished!\n",
            "Testing Accuracy: 0.91130\n",
            "Iter 26, Loss= 0.014123, Training Accuracy= 1.00000\n",
            "Optimization Finished!\n",
            "Testing Accuracy: 0.91220\n",
            "Iter 27, Loss= 0.010083, Training Accuracy= 0.99219\n",
            "Optimization Finished!\n",
            "Testing Accuracy: 0.91370\n",
            "Iter 28, Loss= 0.010888, Training Accuracy= 1.00000\n",
            "Optimization Finished!\n",
            "Testing Accuracy: 0.91130\n",
            "Iter 29, Loss= 0.017218, Training Accuracy= 0.98438\n",
            "Optimization Finished!\n",
            "Testing Accuracy: 0.91310\n",
            "Iter 30, Loss= 0.012554, Training Accuracy= 1.00000\n",
            "Optimization Finished!\n",
            "Testing Accuracy: 0.91170\n",
            "Iter 31, Loss= 0.010768, Training Accuracy= 1.00000\n",
            "Optimization Finished!\n",
            "Testing Accuracy: 0.90870\n",
            "Iter 32, Loss= 0.009581, Training Accuracy= 1.00000\n",
            "Optimization Finished!\n",
            "Testing Accuracy: 0.90480\n",
            "Iter 33, Loss= 0.021520, Training Accuracy= 0.99219\n",
            "Optimization Finished!\n",
            "Testing Accuracy: 0.90350\n",
            "Iter 34, Loss= 0.004662, Training Accuracy= 1.00000\n",
            "Optimization Finished!\n",
            "Testing Accuracy: 0.90270\n",
            "Iter 35, Loss= 0.004393, Training Accuracy= 1.00000\n",
            "Optimization Finished!\n",
            "Testing Accuracy: 0.90940\n",
            "Iter 36, Loss= 0.010486, Training Accuracy= 1.00000\n",
            "Optimization Finished!\n",
            "Testing Accuracy: 0.91010\n",
            "Iter 37, Loss= 0.001100, Training Accuracy= 1.00000\n",
            "Optimization Finished!\n",
            "Testing Accuracy: 0.91240\n",
            "Iter 38, Loss= 0.009909, Training Accuracy= 1.00000\n",
            "Optimization Finished!\n",
            "Testing Accuracy: 0.90730\n",
            "Iter 39, Loss= 0.004651, Training Accuracy= 1.00000\n",
            "Optimization Finished!\n",
            "Testing Accuracy: 0.90620\n",
            "Iter 40, Loss= 0.001442, Training Accuracy= 1.00000\n",
            "Optimization Finished!\n",
            "Testing Accuracy: 0.91250\n",
            "Iter 41, Loss= 0.003017, Training Accuracy= 1.00000\n",
            "Optimization Finished!\n",
            "Testing Accuracy: 0.91080\n",
            "Iter 42, Loss= 0.005249, Training Accuracy= 1.00000\n",
            "Optimization Finished!\n",
            "Testing Accuracy: 0.90750\n",
            "Iter 43, Loss= 0.023729, Training Accuracy= 0.99219\n",
            "Optimization Finished!\n",
            "Testing Accuracy: 0.90450\n",
            "Iter 44, Loss= 0.000672, Training Accuracy= 1.00000\n",
            "Optimization Finished!\n",
            "Testing Accuracy: 0.91270\n",
            "Iter 45, Loss= 0.005175, Training Accuracy= 1.00000\n",
            "Optimization Finished!\n",
            "Testing Accuracy: 0.90830\n",
            "Iter 46, Loss= 0.001119, Training Accuracy= 1.00000\n",
            "Optimization Finished!\n",
            "Testing Accuracy: 0.91660\n",
            "Iter 47, Loss= 0.004564, Training Accuracy= 1.00000\n",
            "Optimization Finished!\n",
            "Testing Accuracy: 0.90660\n",
            "Iter 48, Loss= 0.000400, Training Accuracy= 1.00000\n",
            "Optimization Finished!\n",
            "Testing Accuracy: 0.90770\n",
            "Iter 49, Loss= 0.000798, Training Accuracy= 1.00000\n",
            "Optimization Finished!\n",
            "Testing Accuracy: 0.91530\n",
            "Iter 50, Loss= 0.000774, Training Accuracy= 1.00000\n",
            "Optimization Finished!\n",
            "Testing Accuracy: 0.91270\n",
            "Iter 51, Loss= 0.011362, Training Accuracy= 0.99219\n",
            "Optimization Finished!\n",
            "Testing Accuracy: 0.91670\n",
            "Iter 52, Loss= 0.014617, Training Accuracy= 1.00000\n",
            "Optimization Finished!\n",
            "Testing Accuracy: 0.91090\n",
            "Iter 53, Loss= 0.009886, Training Accuracy= 0.99219\n",
            "Optimization Finished!\n",
            "Testing Accuracy: 0.91150\n",
            "Iter 54, Loss= 0.001644, Training Accuracy= 1.00000\n",
            "Optimization Finished!\n",
            "Testing Accuracy: 0.90900\n",
            "Iter 55, Loss= 0.002038, Training Accuracy= 1.00000\n",
            "Optimization Finished!\n",
            "Testing Accuracy: 0.91510\n",
            "Iter 56, Loss= 0.002506, Training Accuracy= 1.00000\n",
            "Optimization Finished!\n",
            "Testing Accuracy: 0.91490\n",
            "Iter 57, Loss= 0.000703, Training Accuracy= 1.00000\n",
            "Optimization Finished!\n",
            "Testing Accuracy: 0.91170\n",
            "Iter 58, Loss= 0.001504, Training Accuracy= 1.00000\n",
            "Optimization Finished!\n",
            "Testing Accuracy: 0.91170\n",
            "Iter 59, Loss= 0.001947, Training Accuracy= 1.00000\n",
            "Optimization Finished!\n",
            "Testing Accuracy: 0.91460\n",
            "Iter 60, Loss= 0.000856, Training Accuracy= 1.00000\n",
            "Optimization Finished!\n",
            "Testing Accuracy: 0.91680\n",
            "Iter 61, Loss= 0.001731, Training Accuracy= 1.00000\n",
            "Optimization Finished!\n",
            "Testing Accuracy: 0.91250\n",
            "Iter 62, Loss= 0.001974, Training Accuracy= 1.00000\n",
            "Optimization Finished!\n",
            "Testing Accuracy: 0.91760\n",
            "Iter 63, Loss= 0.001246, Training Accuracy= 1.00000\n",
            "Optimization Finished!\n",
            "Testing Accuracy: 0.91410\n",
            "Iter 64, Loss= 0.000879, Training Accuracy= 1.00000\n",
            "Optimization Finished!\n",
            "Testing Accuracy: 0.91280\n",
            "Iter 65, Loss= 0.001229, Training Accuracy= 1.00000\n",
            "Optimization Finished!\n",
            "Testing Accuracy: 0.91410\n",
            "Iter 66, Loss= 0.000223, Training Accuracy= 1.00000\n",
            "Optimization Finished!\n",
            "Testing Accuracy: 0.91380\n",
            "Iter 67, Loss= 0.001054, Training Accuracy= 1.00000\n",
            "Optimization Finished!\n",
            "Testing Accuracy: 0.91150\n",
            "Iter 68, Loss= 0.000723, Training Accuracy= 1.00000\n",
            "Optimization Finished!\n",
            "Testing Accuracy: 0.91450\n",
            "Iter 69, Loss= 0.000963, Training Accuracy= 1.00000\n",
            "Optimization Finished!\n",
            "Testing Accuracy: 0.91030\n",
            "Iter 70, Loss= 0.000208, Training Accuracy= 1.00000\n",
            "Optimization Finished!\n",
            "Testing Accuracy: 0.91600\n",
            "Iter 71, Loss= 0.000449, Training Accuracy= 1.00000\n",
            "Optimization Finished!\n",
            "Testing Accuracy: 0.91340\n",
            "Iter 72, Loss= 0.000816, Training Accuracy= 1.00000\n",
            "Optimization Finished!\n",
            "Testing Accuracy: 0.91040\n",
            "Iter 73, Loss= 0.002134, Training Accuracy= 1.00000\n",
            "Optimization Finished!\n",
            "Testing Accuracy: 0.91100\n",
            "Iter 74, Loss= 0.001182, Training Accuracy= 1.00000\n",
            "Optimization Finished!\n",
            "Testing Accuracy: 0.91640\n",
            "Iter 75, Loss= 0.000406, Training Accuracy= 1.00000\n",
            "Optimization Finished!\n",
            "Testing Accuracy: 0.91630\n",
            "Iter 76, Loss= 0.001729, Training Accuracy= 1.00000\n",
            "Optimization Finished!\n",
            "Testing Accuracy: 0.91730\n",
            "Iter 77, Loss= 0.000909, Training Accuracy= 1.00000\n",
            "Optimization Finished!\n",
            "Testing Accuracy: 0.91480\n",
            "Iter 78, Loss= 0.001078, Training Accuracy= 1.00000\n",
            "Optimization Finished!\n",
            "Testing Accuracy: 0.91650\n",
            "Iter 79, Loss= 0.001170, Training Accuracy= 1.00000\n",
            "Optimization Finished!\n",
            "Testing Accuracy: 0.91200\n",
            "Iter 80, Loss= 0.000805, Training Accuracy= 1.00000\n",
            "Optimization Finished!\n",
            "Testing Accuracy: 0.91340\n",
            "Iter 81, Loss= 0.000194, Training Accuracy= 1.00000\n",
            "Optimization Finished!\n",
            "Testing Accuracy: 0.91450\n",
            "Iter 82, Loss= 0.000774, Training Accuracy= 1.00000\n",
            "Optimization Finished!\n",
            "Testing Accuracy: 0.91680\n",
            "Iter 83, Loss= 0.000677, Training Accuracy= 1.00000\n",
            "Optimization Finished!\n",
            "Testing Accuracy: 0.91580\n",
            "Iter 84, Loss= 0.001347, Training Accuracy= 1.00000\n",
            "Optimization Finished!\n",
            "Testing Accuracy: 0.91330\n",
            "Iter 85, Loss= 0.001018, Training Accuracy= 1.00000\n",
            "Optimization Finished!\n",
            "Testing Accuracy: 0.91510\n",
            "Iter 86, Loss= 0.001414, Training Accuracy= 1.00000\n",
            "Optimization Finished!\n",
            "Testing Accuracy: 0.91200\n",
            "Iter 87, Loss= 0.001561, Training Accuracy= 1.00000\n",
            "Optimization Finished!\n",
            "Testing Accuracy: 0.91430\n",
            "Iter 88, Loss= 0.000735, Training Accuracy= 1.00000\n",
            "Optimization Finished!\n",
            "Testing Accuracy: 0.91370\n",
            "Iter 89, Loss= 0.001060, Training Accuracy= 1.00000\n",
            "Optimization Finished!\n",
            "Testing Accuracy: 0.91530\n",
            "Iter 90, Loss= 0.000344, Training Accuracy= 1.00000\n",
            "Optimization Finished!\n",
            "Testing Accuracy: 0.91670\n",
            "Iter 91, Loss= 0.000880, Training Accuracy= 1.00000\n",
            "Optimization Finished!\n",
            "Testing Accuracy: 0.91030\n",
            "Iter 92, Loss= 0.001250, Training Accuracy= 1.00000\n",
            "Optimization Finished!\n",
            "Testing Accuracy: 0.91370\n",
            "Iter 93, Loss= 0.000785, Training Accuracy= 1.00000\n",
            "Optimization Finished!\n",
            "Testing Accuracy: 0.91660\n",
            "Iter 94, Loss= 0.001211, Training Accuracy= 1.00000\n",
            "Optimization Finished!\n",
            "Testing Accuracy: 0.91430\n",
            "Iter 95, Loss= 0.000938, Training Accuracy= 1.00000\n",
            "Optimization Finished!\n",
            "Testing Accuracy: 0.91560\n",
            "Iter 96, Loss= 0.003806, Training Accuracy= 1.00000\n",
            "Optimization Finished!\n",
            "Testing Accuracy: 0.91840\n",
            "Iter 97, Loss= 0.000223, Training Accuracy= 1.00000\n",
            "Optimization Finished!\n",
            "Testing Accuracy: 0.91540\n",
            "Iter 98, Loss= 0.000154, Training Accuracy= 1.00000\n",
            "Optimization Finished!\n",
            "Testing Accuracy: 0.91670\n",
            "Iter 99, Loss= 0.000797, Training Accuracy= 1.00000\n",
            "Optimization Finished!\n",
            "Testing Accuracy: 0.91430\n",
            "Iter 100, Loss= 0.000377, Training Accuracy= 1.00000\n",
            "Optimization Finished!\n",
            "Testing Accuracy: 0.91300\n",
            "Iter 101, Loss= 0.000404, Training Accuracy= 1.00000\n",
            "Optimization Finished!\n",
            "Testing Accuracy: 0.91780\n",
            "Iter 102, Loss= 0.000067, Training Accuracy= 1.00000\n",
            "Optimization Finished!\n",
            "Testing Accuracy: 0.91530\n",
            "Iter 103, Loss= 0.003932, Training Accuracy= 1.00000\n",
            "Optimization Finished!\n",
            "Testing Accuracy: 0.91370\n",
            "Iter 104, Loss= 0.000242, Training Accuracy= 1.00000\n",
            "Optimization Finished!\n",
            "Testing Accuracy: 0.91540\n",
            "Iter 105, Loss= 0.004754, Training Accuracy= 1.00000\n",
            "Optimization Finished!\n",
            "Testing Accuracy: 0.91220\n",
            "Iter 106, Loss= 0.001121, Training Accuracy= 1.00000\n",
            "Optimization Finished!\n",
            "Testing Accuracy: 0.91520\n",
            "Iter 107, Loss= 0.000116, Training Accuracy= 1.00000\n",
            "Optimization Finished!\n",
            "Testing Accuracy: 0.91500\n",
            "Iter 108, Loss= 0.000393, Training Accuracy= 1.00000\n",
            "Optimization Finished!\n",
            "Testing Accuracy: 0.91030\n",
            "Iter 109, Loss= 0.001197, Training Accuracy= 1.00000\n",
            "Optimization Finished!\n",
            "Testing Accuracy: 0.91360\n",
            "Iter 110, Loss= 0.000063, Training Accuracy= 1.00000\n",
            "Optimization Finished!\n",
            "Testing Accuracy: 0.91280\n",
            "Iter 111, Loss= 0.000225, Training Accuracy= 1.00000\n",
            "Optimization Finished!\n",
            "Testing Accuracy: 0.91570\n",
            "Iter 112, Loss= 0.000335, Training Accuracy= 1.00000\n",
            "Optimization Finished!\n",
            "Testing Accuracy: 0.91370\n",
            "Iter 113, Loss= 0.000325, Training Accuracy= 1.00000\n",
            "Optimization Finished!\n",
            "Testing Accuracy: 0.91730\n",
            "Iter 114, Loss= 0.001321, Training Accuracy= 1.00000\n",
            "Optimization Finished!\n",
            "Testing Accuracy: 0.91280\n",
            "Iter 115, Loss= 0.000056, Training Accuracy= 1.00000\n",
            "Optimization Finished!\n",
            "Testing Accuracy: 0.91590\n",
            "Iter 116, Loss= 0.000213, Training Accuracy= 1.00000\n",
            "Optimization Finished!\n",
            "Testing Accuracy: 0.91510\n",
            "Iter 117, Loss= 0.000133, Training Accuracy= 1.00000\n",
            "Optimization Finished!\n",
            "Testing Accuracy: 0.91440\n",
            "Iter 118, Loss= 0.000778, Training Accuracy= 1.00000\n",
            "Optimization Finished!\n",
            "Testing Accuracy: 0.91110\n",
            "Iter 119, Loss= 0.002190, Training Accuracy= 1.00000\n",
            "Optimization Finished!\n",
            "Testing Accuracy: 0.91360\n",
            "Iter 120, Loss= 0.000251, Training Accuracy= 1.00000\n",
            "Optimization Finished!\n",
            "Testing Accuracy: 0.91250\n",
            "Iter 121, Loss= 0.000017, Training Accuracy= 1.00000\n",
            "Optimization Finished!\n",
            "Testing Accuracy: 0.91680\n",
            "Iter 122, Loss= 0.000390, Training Accuracy= 1.00000\n",
            "Optimization Finished!\n",
            "Testing Accuracy: 0.91290\n",
            "Iter 123, Loss= 0.001846, Training Accuracy= 1.00000\n",
            "Optimization Finished!\n",
            "Testing Accuracy: 0.91010\n",
            "Iter 124, Loss= 0.001325, Training Accuracy= 1.00000\n",
            "Optimization Finished!\n",
            "Testing Accuracy: 0.91330\n",
            "Iter 125, Loss= 0.002103, Training Accuracy= 1.00000\n",
            "Optimization Finished!\n",
            "Testing Accuracy: 0.91140\n",
            "Iter 126, Loss= 0.000482, Training Accuracy= 1.00000\n",
            "Optimization Finished!\n",
            "Testing Accuracy: 0.91540\n",
            "Iter 127, Loss= 0.000477, Training Accuracy= 1.00000\n",
            "Optimization Finished!\n",
            "Testing Accuracy: 0.91660\n",
            "Iter 128, Loss= 0.000045, Training Accuracy= 1.00000\n",
            "Optimization Finished!\n",
            "Testing Accuracy: 0.91490\n",
            "Iter 129, Loss= 0.000677, Training Accuracy= 1.00000\n",
            "Optimization Finished!\n",
            "Testing Accuracy: 0.91370\n",
            "Iter 130, Loss= 0.000994, Training Accuracy= 1.00000\n",
            "Optimization Finished!\n",
            "Testing Accuracy: 0.91450\n",
            "Iter 131, Loss= 0.000221, Training Accuracy= 1.00000\n",
            "Optimization Finished!\n",
            "Testing Accuracy: 0.91570\n",
            "Iter 132, Loss= 0.000383, Training Accuracy= 1.00000\n",
            "Optimization Finished!\n",
            "Testing Accuracy: 0.91750\n",
            "Iter 133, Loss= 0.016659, Training Accuracy= 0.99219\n",
            "Optimization Finished!\n",
            "Testing Accuracy: 0.91440\n",
            "Iter 134, Loss= 0.000523, Training Accuracy= 1.00000\n",
            "Optimization Finished!\n",
            "Testing Accuracy: 0.91500\n",
            "Iter 135, Loss= 0.007886, Training Accuracy= 0.99219\n",
            "Optimization Finished!\n",
            "Testing Accuracy: 0.91390\n",
            "Iter 136, Loss= 0.001229, Training Accuracy= 1.00000\n",
            "Optimization Finished!\n",
            "Testing Accuracy: 0.91480\n",
            "Iter 137, Loss= 0.000436, Training Accuracy= 1.00000\n",
            "Optimization Finished!\n",
            "Testing Accuracy: 0.91140\n",
            "Iter 138, Loss= 0.000200, Training Accuracy= 1.00000\n",
            "Optimization Finished!\n",
            "Testing Accuracy: 0.91450\n",
            "Iter 139, Loss= 0.000022, Training Accuracy= 1.00000\n",
            "Optimization Finished!\n",
            "Testing Accuracy: 0.91430\n",
            "Iter 140, Loss= 0.043501, Training Accuracy= 0.99219\n",
            "Optimization Finished!\n",
            "Testing Accuracy: 0.91460\n",
            "Iter 141, Loss= 0.000092, Training Accuracy= 1.00000\n",
            "Optimization Finished!\n",
            "Testing Accuracy: 0.91710\n",
            "Iter 142, Loss= 0.000334, Training Accuracy= 1.00000\n",
            "Optimization Finished!\n",
            "Testing Accuracy: 0.91580\n",
            "Iter 143, Loss= 0.000105, Training Accuracy= 1.00000\n",
            "Optimization Finished!\n",
            "Testing Accuracy: 0.91580\n",
            "Iter 144, Loss= 0.000042, Training Accuracy= 1.00000\n",
            "Optimization Finished!\n",
            "Testing Accuracy: 0.91580\n",
            "Iter 145, Loss= 0.000021, Training Accuracy= 1.00000\n",
            "Optimization Finished!\n",
            "Testing Accuracy: 0.91480\n",
            "Iter 146, Loss= 0.000154, Training Accuracy= 1.00000\n",
            "Optimization Finished!\n",
            "Testing Accuracy: 0.91360\n",
            "Iter 147, Loss= 0.000018, Training Accuracy= 1.00000\n",
            "Optimization Finished!\n",
            "Testing Accuracy: 0.91460\n",
            "Iter 148, Loss= 0.000178, Training Accuracy= 1.00000\n",
            "Optimization Finished!\n",
            "Testing Accuracy: 0.91030\n",
            "Iter 149, Loss= 0.000027, Training Accuracy= 1.00000\n",
            "Optimization Finished!\n",
            "Testing Accuracy: 0.91180\n",
            "Iter 150, Loss= 0.000474, Training Accuracy= 1.00000\n",
            "Optimization Finished!\n",
            "Testing Accuracy: 0.91190\n",
            "Iter 151, Loss= 0.000088, Training Accuracy= 1.00000\n",
            "Optimization Finished!\n",
            "Testing Accuracy: 0.91400\n",
            "Iter 152, Loss= 0.000204, Training Accuracy= 1.00000\n",
            "Optimization Finished!\n",
            "Testing Accuracy: 0.91460\n",
            "Iter 153, Loss= 0.001044, Training Accuracy= 1.00000\n",
            "Optimization Finished!\n",
            "Testing Accuracy: 0.91370\n",
            "Iter 154, Loss= 0.000522, Training Accuracy= 1.00000\n",
            "Optimization Finished!\n",
            "Testing Accuracy: 0.91510\n",
            "Iter 155, Loss= 0.000003, Training Accuracy= 1.00000\n",
            "Optimization Finished!\n",
            "Testing Accuracy: 0.91470\n",
            "Iter 156, Loss= 0.001506, Training Accuracy= 1.00000\n",
            "Optimization Finished!\n",
            "Testing Accuracy: 0.90980\n",
            "Iter 157, Loss= 0.000500, Training Accuracy= 1.00000\n",
            "Optimization Finished!\n",
            "Testing Accuracy: 0.91440\n",
            "Iter 158, Loss= 0.000023, Training Accuracy= 1.00000\n",
            "Optimization Finished!\n",
            "Testing Accuracy: 0.91450\n",
            "Iter 159, Loss= 0.000016, Training Accuracy= 1.00000\n",
            "Optimization Finished!\n",
            "Testing Accuracy: 0.91250\n",
            "Iter 160, Loss= 0.000255, Training Accuracy= 1.00000\n",
            "Optimization Finished!\n",
            "Testing Accuracy: 0.91320\n",
            "Iter 161, Loss= 0.000004, Training Accuracy= 1.00000\n",
            "Optimization Finished!\n",
            "Testing Accuracy: 0.91440\n",
            "Iter 162, Loss= 0.000017, Training Accuracy= 1.00000\n",
            "Optimization Finished!\n",
            "Testing Accuracy: 0.91330\n",
            "Iter 163, Loss= 0.000026, Training Accuracy= 1.00000\n",
            "Optimization Finished!\n",
            "Testing Accuracy: 0.91500\n",
            "Iter 164, Loss= 0.000041, Training Accuracy= 1.00000\n",
            "Optimization Finished!\n",
            "Testing Accuracy: 0.91260\n",
            "Iter 165, Loss= 0.000151, Training Accuracy= 1.00000\n",
            "Optimization Finished!\n",
            "Testing Accuracy: 0.91280\n",
            "Iter 166, Loss= 0.000202, Training Accuracy= 1.00000\n",
            "Optimization Finished!\n",
            "Testing Accuracy: 0.91140\n",
            "Iter 167, Loss= 0.000129, Training Accuracy= 1.00000\n",
            "Optimization Finished!\n",
            "Testing Accuracy: 0.91380\n",
            "Iter 168, Loss= 0.000562, Training Accuracy= 1.00000\n",
            "Optimization Finished!\n",
            "Testing Accuracy: 0.91210\n",
            "Iter 169, Loss= 0.000137, Training Accuracy= 1.00000\n",
            "Optimization Finished!\n",
            "Testing Accuracy: 0.91370\n",
            "Iter 170, Loss= 0.000587, Training Accuracy= 1.00000\n",
            "Optimization Finished!\n",
            "Testing Accuracy: 0.91540\n",
            "Iter 171, Loss= 0.000043, Training Accuracy= 1.00000\n",
            "Optimization Finished!\n",
            "Testing Accuracy: 0.91420\n",
            "Iter 172, Loss= 0.000477, Training Accuracy= 1.00000\n",
            "Optimization Finished!\n",
            "Testing Accuracy: 0.91510\n",
            "Iter 173, Loss= 0.000424, Training Accuracy= 1.00000\n",
            "Optimization Finished!\n",
            "Testing Accuracy: 0.91280\n",
            "Iter 174, Loss= 0.000768, Training Accuracy= 1.00000\n",
            "Optimization Finished!\n",
            "Testing Accuracy: 0.91420\n",
            "Iter 175, Loss= 0.000211, Training Accuracy= 1.00000\n",
            "Optimization Finished!\n",
            "Testing Accuracy: 0.91120\n",
            "Iter 176, Loss= 0.000233, Training Accuracy= 1.00000\n",
            "Optimization Finished!\n",
            "Testing Accuracy: 0.91590\n",
            "Iter 177, Loss= 0.000328, Training Accuracy= 1.00000\n",
            "Optimization Finished!\n",
            "Testing Accuracy: 0.91720\n",
            "Iter 178, Loss= 0.000271, Training Accuracy= 1.00000\n",
            "Optimization Finished!\n",
            "Testing Accuracy: 0.91480\n",
            "Iter 179, Loss= 0.000351, Training Accuracy= 1.00000\n",
            "Optimization Finished!\n",
            "Testing Accuracy: 0.91780\n",
            "Iter 180, Loss= 0.001646, Training Accuracy= 1.00000\n",
            "Optimization Finished!\n",
            "Testing Accuracy: 0.91730\n",
            "Iter 181, Loss= 0.000379, Training Accuracy= 1.00000\n",
            "Optimization Finished!\n",
            "Testing Accuracy: 0.91330\n",
            "Iter 182, Loss= 0.000008, Training Accuracy= 1.00000\n",
            "Optimization Finished!\n",
            "Testing Accuracy: 0.91440\n",
            "Iter 183, Loss= 0.000460, Training Accuracy= 1.00000\n",
            "Optimization Finished!\n",
            "Testing Accuracy: 0.91240\n",
            "Iter 184, Loss= 0.000027, Training Accuracy= 1.00000\n",
            "Optimization Finished!\n",
            "Testing Accuracy: 0.91340\n",
            "Iter 185, Loss= 0.000000, Training Accuracy= 1.00000\n",
            "Optimization Finished!\n",
            "Testing Accuracy: 0.91400\n",
            "Iter 186, Loss= 0.000851, Training Accuracy= 1.00000\n",
            "Optimization Finished!\n",
            "Testing Accuracy: 0.91630\n",
            "Iter 187, Loss= 0.000096, Training Accuracy= 1.00000\n",
            "Optimization Finished!\n",
            "Testing Accuracy: 0.91460\n",
            "Iter 188, Loss= 0.000277, Training Accuracy= 1.00000\n",
            "Optimization Finished!\n",
            "Testing Accuracy: 0.91180\n",
            "Iter 189, Loss= 0.000195, Training Accuracy= 1.00000\n",
            "Optimization Finished!\n",
            "Testing Accuracy: 0.91560\n",
            "Iter 190, Loss= 0.000023, Training Accuracy= 1.00000\n",
            "Optimization Finished!\n",
            "Testing Accuracy: 0.91290\n",
            "Iter 191, Loss= 0.001468, Training Accuracy= 1.00000\n",
            "Optimization Finished!\n",
            "Testing Accuracy: 0.91590\n",
            "Iter 192, Loss= 0.000003, Training Accuracy= 1.00000\n",
            "Optimization Finished!\n",
            "Testing Accuracy: 0.90910\n",
            "Iter 193, Loss= 0.000004, Training Accuracy= 1.00000\n",
            "Optimization Finished!\n",
            "Testing Accuracy: 0.91420\n",
            "Iter 194, Loss= 0.000184, Training Accuracy= 1.00000\n",
            "Optimization Finished!\n",
            "Testing Accuracy: 0.91290\n",
            "Iter 195, Loss= 0.000644, Training Accuracy= 1.00000\n",
            "Optimization Finished!\n",
            "Testing Accuracy: 0.91700\n",
            "Iter 196, Loss= 0.000524, Training Accuracy= 1.00000\n",
            "Optimization Finished!\n",
            "Testing Accuracy: 0.91680\n",
            "Iter 197, Loss= 0.000002, Training Accuracy= 1.00000\n",
            "Optimization Finished!\n",
            "Testing Accuracy: 0.91450\n",
            "Iter 198, Loss= 0.001061, Training Accuracy= 1.00000\n",
            "Optimization Finished!\n",
            "Testing Accuracy: 0.91380\n",
            "Iter 199, Loss= 0.000007, Training Accuracy= 1.00000\n",
            "Optimization Finished!\n",
            "Testing Accuracy: 0.91390\n"
          ],
          "name": "stdout"
        }
      ]
    },
    {
      "metadata": {
        "id": "7iBXQG2Y4SMH",
        "colab_type": "text"
      },
      "cell_type": "markdown",
      "source": [
        "The test accuracy looks impressive, but is it?\n",
        "\n",
        "Let's  plot the accuracy and loss plots between training and validation data to evaluate the model."
      ]
    },
    {
      "metadata": {
        "id": "5mOfN6mXnSYT",
        "colab_type": "code",
        "colab": {
          "base_uri": "https://localhost:8080/",
          "height": 316
        },
        "outputId": "34814ce3-e0f8-47ad-ee34-75814888a510"
      },
      "cell_type": "code",
      "source": [
        "plt.plot(range(len(train_loss)), train_loss, 'b', label='Training loss')\n",
        "plt.plot(range(len(train_loss)), test_loss, 'r', label='Test loss')\n",
        "plt.title('Training and Test loss')\n",
        "plt.xlabel('Epochs ',fontsize=16)\n",
        "plt.ylabel('Loss',fontsize=16)\n",
        "plt.legend()\n",
        "plt.figure()\n",
        "plt.show()"
      ],
      "execution_count": 24,
      "outputs": [
        {
          "output_type": "display_data",
          "data": {
            "image/png": "[encoded data removed]",
            "text/plain": [
              "<Figure size 432x288 with 1 Axes>"
            ]
          },
          "metadata": {
            "tags": []
          }
        },
        {
          "output_type": "display_data",
          "data": {
            "text/plain": [
              "<Figure size 432x288 with 0 Axes>"
            ]
          },
          "metadata": {
            "tags": []
          }
        }
      ]
    },
    {
      "metadata": {
        "id": "kUHAYfBGnUR2",
        "colab_type": "code",
        "colab": {
          "base_uri": "https://localhost:8080/",
          "height": 316
        },
        "outputId": "02146792-3385-4b51-85b5-1e3fd81399f6"
      },
      "cell_type": "code",
      "source": [
        "plt.plot(range(len(train_loss)), train_accuracy, 'b', label='Training Accuracy')\n",
        "plt.plot(range(len(train_loss)), test_accuracy, 'r', label='Test Accuracy')\n",
        "plt.title('Training and Test Accuracy')\n",
        "plt.xlabel('Epochs ',fontsize=16)\n",
        "plt.ylabel('Loss',fontsize=16)\n",
        "plt.legend()\n",
        "plt.figure()\n",
        "plt.show()"
      ],
      "execution_count": 25,
      "outputs": [
        {
          "output_type": "display_data",
          "data": {
            "image/png": "[encoded data removed]",
            "text/plain": [
              "<Figure size 432x288 with 1 Axes>"
            ]
          },
          "metadata": {
            "tags": []
          }
        },
        {
          "output_type": "display_data",
          "data": {
            "text/plain": [
              "<Figure size 432x288 with 0 Axes>"
            ]
          },
          "metadata": {
            "tags": []
          }
        }
      ]
    },
    {
      "metadata": {
        "id": "DDUKHT8J4F1q",
        "colab_type": "text"
      },
      "cell_type": "markdown",
      "source": [
        "We see  that the model looks like it is overfitting since the training accuracy is more than the testing accuracy (showing the variational gap).\n",
        "\n",
        "From the above two plots, you can see that the test accuracy almost became stagnant after 50-60 epochs and rarely increased at certain epochs. In the beginning, the validation accuracy was linearly increasing with loss, but then it did not increase much.\n",
        "\n",
        "The validation loss shows that this is the sign of overfitting, similar to test accuracy it linearly decreased but after 25-30 epochs, it started to increase. This means that the model tried to memorize the data and succeeded.\n",
        "\n",
        "One approach to improve and avoid against overfitting is to inject dropout layers in the neural network architecure to prevent the neurons, via the weights, from becomeing overly specialized in what they are learning. "
      ]
    },
    {
      "metadata": {
        "id": "0gHonDrQnrq2",
        "colab_type": "code",
        "colab": {}
      },
      "cell_type": "code",
      "source": [
        ""
      ],
      "execution_count": 0,
      "outputs": []
    }
  ]
}