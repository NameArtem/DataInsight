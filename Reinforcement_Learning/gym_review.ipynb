{
 "cells": [
  {
   "cell_type": "markdown",
   "metadata": {},
   "source": [
    "## Basic GYM rewview on Cartpole problem\n",
    "\n",
    "We use sample from uniform random actions"
   ]
  },
  {
   "cell_type": "code",
   "execution_count": 2,
   "metadata": {},
   "outputs": [],
   "source": [
    "import gym\n",
    "import numpy as np\n",
    "import matplotlib.pyplot as plt"
   ]
  },
  {
   "cell_type": "code",
   "execution_count": 70,
   "metadata": {},
   "outputs": [],
   "source": [
    "def get_action(s, w):\n",
    "    return 1 if s.dot(w) > 0 else 0\n",
    "\n",
    "def play_one_episode(env, params):\n",
    "    observation = env.reset()\n",
    "    done = False\n",
    "    t = 0 # initial number of step\n",
    "    r = 0 # total reward\n",
    "    \n",
    "    while not done and t < 10000: # number of games/iterations\n",
    "        t += 1\n",
    "        action = get_action(observation, params)\n",
    "        observation, reward, done, info = env.step(action)\n",
    "        \n",
    "        r += reward\n",
    "\n",
    "    return r\n",
    "\n",
    "# we play multiple games as the environment are stochastic\n",
    "def play_multiple_episodes(env, T, params): # T number of episodes\n",
    "    episode_rewards = np.empty(T)\n",
    "\n",
    "    for i in range(T):\n",
    "        episode_rewards[i] = play_one_episode(env, params)\n",
    "\n",
    "    avg_reward = episode_rewards.mean()\n",
    "    print(\"avg reward:\", avg_reward)\n",
    "    \n",
    "    return avg_reward\n",
    "\n",
    "def random_search(env):\n",
    "    \"\"\"\n",
    "    Takes in an environment object and performs \n",
    "    a random search algorithm to find the best parameters\n",
    "    \"\"\"\n",
    "    episode_rewards = [] # store rewards\n",
    "    best = 0 # best rewards\n",
    "    params = None # set of parameters\n",
    "    \n",
    "    for t in range(100): # number of games\n",
    "        # state space of cartpole is of size 4 and policy is just a dot producdt\n",
    "        new_params = np.random.random(4)*2 - 1 # vector of size 4 uniform distributed [-1, +1]\n",
    "        avg_reward = play_multiple_episodes(env, 100, new_params) # 200 episodes\n",
    "        episode_rewards.append(avg_reward) # save rewards\n",
    "        \n",
    "        if avg_reward > best: # check if new average reward is better than current best reward\n",
    "            params = new_params\n",
    "            best = avg_reward\n",
    "            \n",
    "    return episode_rewards, params"
   ]
  },
  {
   "cell_type": "code",
   "execution_count": 71,
   "metadata": {},
   "outputs": [],
   "source": [
    "env = gym.make('CartPole-v0')"
   ]
  },
  {
   "cell_type": "code",
   "execution_count": 72,
   "metadata": {},
   "outputs": [
    {
     "name": "stdout",
     "output_type": "stream",
     "text": [
      "avg reward: 40.52\n",
      "avg reward: 9.65\n",
      "avg reward: 93.96\n",
      "avg reward: 11.58\n",
      "avg reward: 54.27\n",
      "avg reward: 9.88\n",
      "avg reward: 9.43\n",
      "avg reward: 157.05\n",
      "avg reward: 9.48\n",
      "avg reward: 9.61\n",
      "avg reward: 9.27\n",
      "avg reward: 9.69\n",
      "avg reward: 9.18\n",
      "avg reward: 8.98\n",
      "avg reward: 9.22\n",
      "avg reward: 9.37\n",
      "avg reward: 9.0\n",
      "avg reward: 9.07\n",
      "avg reward: 9.16\n",
      "avg reward: 80.03\n",
      "avg reward: 8.83\n",
      "avg reward: 35.86\n",
      "avg reward: 194.86\n",
      "avg reward: 9.84\n",
      "avg reward: 39.87\n",
      "avg reward: 9.9\n",
      "avg reward: 9.34\n",
      "avg reward: 9.6\n",
      "avg reward: 8.88\n",
      "avg reward: 9.76\n",
      "avg reward: 74.41\n",
      "avg reward: 56.61\n",
      "avg reward: 37.89\n",
      "avg reward: 9.3\n",
      "avg reward: 121.52\n",
      "avg reward: 9.71\n",
      "avg reward: 8.84\n",
      "avg reward: 9.2\n",
      "avg reward: 58.67\n",
      "avg reward: 9.16\n",
      "avg reward: 48.94\n",
      "avg reward: 9.49\n",
      "avg reward: 8.97\n",
      "avg reward: 88.09\n",
      "avg reward: 45.54\n",
      "avg reward: 9.21\n",
      "avg reward: 126.84\n",
      "avg reward: 200.0\n",
      "avg reward: 9.64\n",
      "avg reward: 200.0\n",
      "avg reward: 32.78\n",
      "avg reward: 16.13\n",
      "avg reward: 9.71\n",
      "avg reward: 33.85\n",
      "avg reward: 9.3\n",
      "avg reward: 58.58\n",
      "avg reward: 9.02\n",
      "avg reward: 9.49\n",
      "avg reward: 9.25\n",
      "avg reward: 9.54\n",
      "avg reward: 9.3\n",
      "avg reward: 8.94\n",
      "avg reward: 8.75\n",
      "avg reward: 30.17\n",
      "avg reward: 120.77\n",
      "avg reward: 9.15\n",
      "avg reward: 45.04\n",
      "avg reward: 9.15\n",
      "avg reward: 80.18\n",
      "avg reward: 9.31\n",
      "avg reward: 9.26\n",
      "avg reward: 48.85\n",
      "avg reward: 200.0\n",
      "avg reward: 8.97\n",
      "avg reward: 65.88\n",
      "avg reward: 9.03\n",
      "avg reward: 46.55\n",
      "avg reward: 9.17\n",
      "avg reward: 98.39\n",
      "avg reward: 9.76\n",
      "avg reward: 98.08\n",
      "avg reward: 9.71\n",
      "avg reward: 61.6\n",
      "avg reward: 8.96\n",
      "avg reward: 9.51\n",
      "avg reward: 9.79\n",
      "avg reward: 8.99\n",
      "avg reward: 8.93\n",
      "avg reward: 9.58\n",
      "avg reward: 8.85\n",
      "avg reward: 23.44\n",
      "avg reward: 77.11\n",
      "avg reward: 9.17\n",
      "avg reward: 103.6\n",
      "avg reward: 115.33\n",
      "avg reward: 67.02\n",
      "avg reward: 50.56\n",
      "avg reward: 45.82\n",
      "avg reward: 9.13\n",
      "avg reward: 107.98\n"
     ]
    }
   ],
   "source": [
    "episode_rewards, params = random_search(env)"
   ]
  },
  {
   "cell_type": "code",
   "execution_count": 73,
   "metadata": {},
   "outputs": [
    {
     "data": {
      "image/png": "[encoded data removed]",
      "text/plain": [
       "<Figure size 432x288 with 1 Axes>"
      ]
     },
     "metadata": {
      "needs_background": "light"
     },
     "output_type": "display_data"
    }
   ],
   "source": [
    "# plot reward\n",
    "plt.plot(episode_rewards)\n",
    "plt.show()"
   ]
  },
  {
   "cell_type": "code",
   "execution_count": 74,
   "metadata": {},
   "outputs": [
    {
     "name": "stdout",
     "output_type": "stream",
     "text": [
      "***Final run with final weights**\n",
      "avg reward: 200.0\n"
     ]
    },
    {
     "data": {
      "text/plain": [
       "200.0"
      ]
     },
     "execution_count": 74,
     "metadata": {},
     "output_type": "execute_result"
    }
   ],
   "source": [
    "# play a final set of episodes\n",
    "print(\"***Final run with final weights**\")\n",
    "play_multiple_episodes(env, 100, params)"
   ]
  },
  {
   "cell_type": "code",
   "execution_count": null,
   "metadata": {},
   "outputs": [],
   "source": []
  }
 ],
 "metadata": {
  "kernelspec": {
   "display_name": "Python 3",
   "language": "python",
   "name": "python3"
  },
  "language_info": {
   "codemirror_mode": {
    "name": "ipython",
    "version": 3
   },
   "file_extension": ".py",
   "mimetype": "text/x-python",
   "name": "python",
   "nbconvert_exporter": "python",
   "pygments_lexer": "ipython3",
   "version": "3.7.5"
  }
 },
 "nbformat": 4,
 "nbformat_minor": 2
}
