{
 "cells": [
  {
   "cell_type": "markdown",
   "metadata": {},
   "source": [
    "## Solving OpenAI Gym Taxi-v2 problem\n",
    "\n",
    "    \"There are 4 locations (labelled by different letters), and our job\n",
    "    is to pick up the passenger at one location and drop him off at\n",
    "    another. We receive +20 points for a successful drop-off and lose 1\n",
    "    point for every time-step it takes. There is also a 10 point penalty\n",
    "    for illegal pick-up and drop-off actions.” \n",
    "\n",
    "We will have an agent learn Gym’s taxi-environment with the Q-learning algorithm. \n",
    "\n",
    "Game consist of a 5×5 matrix containing our taxi and four different cabstands labeled with letters.  Also, there are some walls in the environment that our taxi can’t pass. The task of the game is to pick up passengers at one of the cabstands and carry them to their destinations.\n",
    "\n",
    "To do that, our agent has six possible actions to choose from. He can go north, south, east or west and he can try to pick up or drop off a passenger. This is called the action space of our taxi. Besides the action space we also have to define the state space. As we have 5*5 taxi locations, 5 different passenger locations (because we have to include the passenger being in our taxi) and 4 different destinations, the total number of states is 5*5*5*4 = 500.\n",
    "\n",
    "Performing actions rewards the agent with points. He receives 20 points for a successful drop-off and loses 1 point for every time-step it takes. The latter results in our agent trying to solve the task fairly quick and prevents him from wandering around. There is also a -10 point penalty for illegal pick-up and drop-off actions and -1 penalty for driving against a wall.\n",
    "\n",
    "## Q-learning agent\n",
    "\n",
    "A good way to approach a solution is using the simple Q-learning algorithm, which gives our agent a memory in form of a Q-table of size states x actions we store a value for each state-action combination. hose values estimate the reward we get by taking that action and are called Q-values. Thus Q-values represent the “quality” of an action taken from that state. Higher Q-values imply better chances of getting greater rewards. \n",
    "\n",
    "**Source:**\n",
    "https://www.novatec-gmbh.de/en/blog/introduction-to-q-learning/\n",
    "\n",
    "$\\bf{More\\;Reinforcement\\;Techniques}$:\n",
    "- MDPs and Bellman Equations\n",
    "- Dynamic Programming: Model-Based RL, Policy Iteration and Value Iteration\n",
    "- Deep Q Learning\n",
    "- Policy Gradient Methods\n",
    "- SARSA"
   ]
  },
  {
   "cell_type": "code",
   "execution_count": 1,
   "metadata": {},
   "outputs": [],
   "source": [
    "import gym\n",
    "from time import sleep\n",
    "\n",
    "import numpy as np\n",
    "import random\n",
    "\n",
    "from IPython.display import clear_output"
   ]
  },
  {
   "cell_type": "code",
   "execution_count": 2,
   "metadata": {},
   "outputs": [],
   "source": [
    "# Init Taxi-V2 Env\n",
    "env = gym.make(\"Taxi-v2\").env"
   ]
  },
  {
   "cell_type": "code",
   "execution_count": 3,
   "metadata": {},
   "outputs": [
    {
     "name": "stdout",
     "output_type": "stream",
     "text": [
      "+---------+\n",
      "|R: | : :G|\n",
      "| : : : : |\n",
      "| : : : : |\n",
      "| | : | : |\n",
      "|\u001b[34;1mY\u001b[0m| : |\u001b[35mB\u001b[0m:\u001b[43m \u001b[0m|\n",
      "+---------+\n",
      "\n"
     ]
    }
   ],
   "source": [
    "env.reset()\n",
    "env.render()"
   ]
  },
  {
   "cell_type": "code",
   "execution_count": 4,
   "metadata": {},
   "outputs": [
    {
     "data": {
      "text/plain": [
       "{0: [(1.0, 428, -1, False)],\n",
       " 1: [(1.0, 228, -1, False)],\n",
       " 2: [(1.0, 348, -1, False)],\n",
       " 3: [(1.0, 328, -1, False)],\n",
       " 4: [(1.0, 328, -10, False)],\n",
       " 5: [(1.0, 328, -10, False)]}"
      ]
     },
     "execution_count": 4,
     "metadata": {},
     "output_type": "execute_result"
    }
   ],
   "source": [
    "env.P[328]"
   ]
  },
  {
   "cell_type": "code",
   "execution_count": 5,
   "metadata": {},
   "outputs": [],
   "source": [
    "env.s = 328"
   ]
  },
  {
   "cell_type": "code",
   "execution_count": 7,
   "metadata": {},
   "outputs": [],
   "source": [
    "# Setting the number of iterations, penalties and reward to zero,\n",
    "epochs = 0\n",
    "penalties, reward = 0, 0\n",
    "\n",
    "frames = []\n",
    "\n",
    "done = False"
   ]
  },
  {
   "cell_type": "code",
   "execution_count": 8,
   "metadata": {},
   "outputs": [],
   "source": [
    "while not done:\n",
    "    action = env.action_space.sample()\n",
    "    state, reward, done, info = env.step(action)\n",
    "\n",
    "    if reward == -10:\n",
    "        penalties += 1\n",
    "\n",
    "    # Put each rendered frame into the dictionary for animation\n",
    "    frames.append({\n",
    "        'frame': env.render(mode='ansi'),\n",
    "        'state': state,\n",
    "        'action': action,\n",
    "        'reward': reward\n",
    "    }\n",
    "    )\n",
    "\n",
    "    epochs += 1"
   ]
  },
  {
   "cell_type": "code",
   "execution_count": 9,
   "metadata": {},
   "outputs": [
    {
     "name": "stdout",
     "output_type": "stream",
     "text": [
      "Timesteps taken: 246\n",
      "Penalties incurred: 86\n"
     ]
    }
   ],
   "source": [
    "print(\"Timesteps taken: {}\".format(epochs))\n",
    "print(\"Penalties incurred: {}\".format(penalties))"
   ]
  },
  {
   "cell_type": "code",
   "execution_count": 10,
   "metadata": {},
   "outputs": [
    {
     "data": {
      "text/plain": [
       "246"
      ]
     },
     "execution_count": 10,
     "metadata": {},
     "output_type": "execute_result"
    }
   ],
   "source": [
    "len(frames)"
   ]
  },
  {
   "cell_type": "code",
   "execution_count": 11,
   "metadata": {},
   "outputs": [],
   "source": [
    "# Printing all the possible actions, states, rewards.\n",
    "def print_frames(frames):\n",
    "    for i, frame in enumerate(frames):\n",
    "        clear_output(wait=True)\n",
    "        #print(frame['frame'].getvalue())\n",
    "        print(frame['frame'])\n",
    "        print(f\"Timestep: {i + 1}\")\n",
    "        print(f\"State: {frame['state']}\")\n",
    "        print(f\"Action: {frame['action']}\")\n",
    "        print(f\"Reward: {frame['reward']}\")\n",
    "        sleep(.1)       "
   ]
  },
  {
   "cell_type": "code",
   "execution_count": 12,
   "metadata": {},
   "outputs": [
    {
     "name": "stdout",
     "output_type": "stream",
     "text": [
      "+---------+\n",
      "|\u001b[35m\u001b[34;1m\u001b[43mR\u001b[0m\u001b[0m\u001b[0m: | : :G|\n",
      "| : : : : |\n",
      "| : : : : |\n",
      "| | : | : |\n",
      "|Y| : |B: |\n",
      "+---------+\n",
      "  (Dropoff)\n",
      "\n",
      "Timestep: 246\n",
      "State: 0\n",
      "Action: 5\n",
      "Reward: 20\n"
     ]
    }
   ],
   "source": [
    "print_frames(frames)"
   ]
  },
  {
   "cell_type": "markdown",
   "metadata": {},
   "source": [
    "## Q-Learning"
   ]
  },
  {
   "cell_type": "code",
   "execution_count": 13,
   "metadata": {},
   "outputs": [],
   "source": [
    "# Init arbitary values\n",
    "q_table = np.zeros([env.observation_space.n, env.action_space.n])"
   ]
  },
  {
   "cell_type": "code",
   "execution_count": 14,
   "metadata": {},
   "outputs": [],
   "source": [
    "# Hyperparameters\n",
    "alpha = 0.1\n",
    "gamma = 0.6\n",
    "epsilon = 0.1\n",
    "\n",
    "\n",
    "all_epochs = []\n",
    "all_penalties = []"
   ]
  },
  {
   "cell_type": "code",
   "execution_count": 15,
   "metadata": {},
   "outputs": [
    {
     "name": "stdout",
     "output_type": "stream",
     "text": [
      "Episode: {i}\n",
      "Training finished.\n"
     ]
    }
   ],
   "source": [
    "for i in range(1, 100001):\n",
    "    state = env.reset()\n",
    "\n",
    "    # Init Vars\n",
    "    epochs, penalties, reward, = 0, 0, 0\n",
    "    done = False\n",
    "\n",
    "    while not done:\n",
    "        if random.uniform(0, 1) < epsilon:\n",
    "            # Check the action space\n",
    "            action = env.action_space.sample()\n",
    "        else:\n",
    "            # Check the learned values\n",
    "            action = np.argmax(q_table[state])\n",
    "\n",
    "        next_state, reward, done, info = env.step(action)\n",
    "\n",
    "        old_value = q_table[state, action]\n",
    "        next_max = np.max(q_table[next_state])\n",
    "\n",
    "        # Update the new value\n",
    "        new_value = (1 - alpha) * old_value + alpha * \\\n",
    "            (reward + gamma * next_max)\n",
    "        q_table[state, action] = new_value\n",
    "\n",
    "        if reward == -10:\n",
    "            penalties += 1\n",
    "\n",
    "        state = next_state\n",
    "        epochs += 1\n",
    "\n",
    "    if i % 100 == 0:\n",
    "        clear_output(wait=True)\n",
    "        print(\"Episode: {i}\")\n",
    "\n",
    "print(\"Training finished.\")"
   ]
  },
  {
   "cell_type": "code",
   "execution_count": 14,
   "metadata": {},
   "outputs": [],
   "source": [
    "env.close()"
   ]
  },
  {
   "cell_type": "code",
   "execution_count": null,
   "metadata": {},
   "outputs": [],
   "source": [
    "# Import libraries\n",
    "import gym.spaces\n",
    "import numpy as np\n",
    "import matplotlib.pyplot as plt\n",
    "import csv"
   ]
  },
  {
   "cell_type": "code",
   "execution_count": null,
   "metadata": {},
   "outputs": [],
   "source": [
    "# Set environment\n",
    "env = gym.make(\"Taxi-v2\")"
   ]
  },
  {
   "cell_type": "code",
   "execution_count": null,
   "metadata": {},
   "outputs": [],
   "source": []
  },
  {
   "cell_type": "code",
   "execution_count": null,
   "metadata": {
    "colab": {},
    "colab_type": "code",
    "id": "NoZ2Y76HlthF"
   },
   "outputs": [],
   "source": [
    "# Initialize stat-action space\n",
    "state_space = env.observation_space.n\n",
    "action_space = env.action_space.n\n",
    "\n",
    "# Create Q-table\n",
    "qtable = np.zeros((state_space, action_space))"
   ]
  },
  {
   "cell_type": "code",
   "execution_count": null,
   "metadata": {
    "colab": {},
    "colab_type": "code",
    "id": "-TkV-lUTl_RG"
   },
   "outputs": [],
   "source": [
    "# The learning-rate and discount-factor in the Q-function can be tweaked to improve the learning process (predefined hyper-parameters)\n",
    "epsilon = 1.0           # Greed 100%\n",
    " \n",
    "epsilon_min = 0.005     # Minimum greed 0.05%\n",
    " \n",
    "epsilon_decay = 0.99993 # Decay multiplied with epsilon after each episode\n",
    " \n",
    "episodes = 50000        # Amount of games\n",
    " \n",
    "max_steps = 100         # Maximum steps per episode\n",
    " \n",
    "learning_rate = 0.65    # learning-rate\n",
    "\n",
    "gamma = 0.65            # discount-factor of reward\n",
    "\n",
    "# List of all scores\n",
    "q_agent_scores = []"
   ]
  },
  {
   "cell_type": "markdown",
   "metadata": {
    "colab_type": "text",
    "id": "hz8T6NczmjwO"
   },
   "source": [
    "All that’s left to do is implementing the procedure of playing games over and over again. In every episode we reset the state. After resetting we choose an action, step the game forward and update our Q-table until the game is over or we reach the maximum steps allowed. Finally we decrease our epsilon each episode."
   ]
  },
  {
   "cell_type": "code",
   "execution_count": null,
   "metadata": {
    "colab": {},
    "colab_type": "code",
    "id": "b2igLk1OmbZh"
   },
   "outputs": [],
   "source": [
    "for episode in range(episodes):\n",
    " \n",
    "    # Reset the game state, done and score before every episode/game\n",
    "    state = env.reset() # Gets current game state\n",
    "    done = False        # decides whether the game is over\n",
    "    score = 0\n",
    " \n",
    "    for _ in range(max_steps):\n",
    " \n",
    "        # With the probability of (1 - epsilon) take the best action in our Q-table\n",
    "        if np.random.uniform(0, 1) > epsilon:\n",
    "            action = np.argmax(qtable[state, :])\n",
    "        # Else take a random action\n",
    "        else:\n",
    "            action = env.action_space.sample()\n",
    "        \n",
    "        # Step the game forward\n",
    "        next_state, reward, done, _ = env.step(action)\n",
    " \n",
    "        # Add up the score\n",
    "        score += reward\n",
    " \n",
    "        # Update our Q-table with our Q-function\n",
    "        qtable[state, action] = (1 - learning_rate) * qtable[state, action] \\\n",
    "            + learning_rate * (reward + gamma * np.max(qtable[next_state,:]))\n",
    " \n",
    "        # Set the next state as the current state\n",
    "        state = next_state\n",
    " \n",
    "        if done:\n",
    "            break\n",
    " \n",
    "    # Reducing our epsilon each episode (Exploration-Exploitation trade-off)\n",
    "    if epsilon >= epsilon_min:\n",
    "        epsilon *= epsilon_decay\n",
    "        \n",
    "        \n",
    "    q_agent_scores.append(score)\n",
    "    \n",
    "    #print(\"Episode: {}/{}, score: {}\".format(episode+1, episodes, score))"
   ]
  },
  {
   "cell_type": "markdown",
   "metadata": {
    "colab_type": "text",
    "id": "L0ANf7L0o3WL"
   },
   "source": [
    "## Random agent\n",
    "\n",
    "Another attempt to solve the environment is an agent that just takes random actions. Neither does the agent learn, nor remember anything. We are only restricting the allowed amount of moves as before. The implementation is a slimmed version of the Q-learning agent – we are leaving the whole Q-table aspect out. This agent presumably will not performing very well, but we can use the agent in contrast to our Q-learning agent."
   ]
  },
  {
   "cell_type": "code",
   "execution_count": null,
   "metadata": {
    "colab": {},
    "colab_type": "code",
    "id": "naGV1coAmoxW"
   },
   "outputs": [],
   "source": [
    "# Initializing the list of scores\n",
    "random_agent_scores = []\n",
    "\n",
    "# Amount of games the agent plays\n",
    "episodes = 50000\n",
    "\n",
    "# Maximum steps the agent has per episode\n",
    "max_steps = 100"
   ]
  },
  {
   "cell_type": "code",
   "execution_count": null,
   "metadata": {
    "colab": {},
    "colab_type": "code",
    "id": "7oJUnetBpX2C"
   },
   "outputs": [],
   "source": [
    "for episode in range(episodes):\n",
    "  # Reset the state, done and score before every episode\n",
    "  env.reset()\n",
    "  done = False\n",
    "  score = 0\n",
    "  \n",
    "  for _ in range(max_steps):\n",
    "    # Act randomly until done or maximum steps reached\n",
    "    action = env.action_space.sample()\n",
    "    _, reward, done, _ = env.step(action)\n",
    "    score += reward\n",
    "    \n",
    "    if done:\n",
    "      break\n",
    "      \n",
    "    random_agent_scores.append(score)\n",
    "    \n",
    "    #print(\"Episode: {}/{}, score: {}\".format(episode+1, episodes, score))"
   ]
  },
  {
   "cell_type": "markdown",
   "metadata": {
    "colab_type": "text",
    "id": "CS5I5SR3qiY6"
   },
   "source": [
    "## Evaluation of agent\n",
    "\n",
    "Now that we have created both a random agent and a Q-learning agent let’s compare them."
   ]
  },
  {
   "cell_type": "code",
   "execution_count": null,
   "metadata": {
    "colab": {},
    "colab_type": "code",
    "id": "NnbwGpkytW8I"
   },
   "outputs": [],
   "source": [
    "# Save the scores of both agents as csv\n",
    "with open(\"random_scores.csv\", \"w\") as output:\n",
    "    writer = csv.writer(output, lineterminator='\\n')\n",
    "    for v in random_agent_scores:\n",
    "        writer.writerow([v])"
   ]
  },
  {
   "cell_type": "code",
   "execution_count": null,
   "metadata": {
    "colab": {},
    "colab_type": "code",
    "id": "bKPltB_EpX4X"
   },
   "outputs": [],
   "source": [
    "with open(\"q_scores.csv\", \"w\") as output:\n",
    "    writer = csv.writer(output, lineterminator='\\n')\n",
    "    for v in q_agent_scores:\n",
    "        writer.writerow([v])"
   ]
  },
  {
   "cell_type": "code",
   "execution_count": 20,
   "metadata": {
    "colab": {
     "base_uri": "https://localhost:8080/",
     "height": 376
    },
    "colab_type": "code",
    "id": "jHf1m_OBpX68",
    "outputId": "d8fc7151-bfee-4de1-9276-c75776686d0b"
   },
   "outputs": [
    {
     "data": {
      "image/png": "[encoded data removed]",
      "text/plain": [
       "<Figure size 576x396 with 1 Axes>"
      ]
     },
     "metadata": {
      "tags": []
     },
     "output_type": "display_data"
    }
   ],
   "source": [
    "# Plot random agents\n",
    "plt.plot(random_agent_scores, \"ko\", markersize=0.3)\n",
    "plt.title(\"Random Agent\")\n",
    "plt.xlabel('Episodes')\n",
    "plt.ylabel('Score')\n",
    "plt.show()"
   ]
  },
  {
   "cell_type": "markdown",
   "metadata": {
    "colab_type": "text",
    "id": "U15x0yL6GJHE"
   },
   "source": [
    "The random agent is behaving pretty consistent throughout all games. Most of the games ended up with a score between around -300 and -500, although in some of them the agent played nearly perfectly around the 0 score region. But these games are pretty rare and the score-scale would have likely extended downwards as we have limited the moves of our agent.\n",
    "\n"
   ]
  },
  {
   "cell_type": "code",
   "execution_count": 21,
   "metadata": {
    "colab": {
     "base_uri": "https://localhost:8080/",
     "height": 376
    },
    "colab_type": "code",
    "id": "qZ2DVGLAqsdv",
    "outputId": "63549398-74ef-409e-805d-890ab984d71d"
   },
   "outputs": [
    {
     "data": {
      "image/png": "[encoded data removed]",
      "text/plain": [
       "<Figure size 576x396 with 1 Axes>"
      ]
     },
     "metadata": {
      "tags": []
     },
     "output_type": "display_data"
    }
   ],
   "source": [
    "# Plot Q-learning agents\n",
    "plt.plot(q_agent_scores, \"ko\", markersize=0.3)\n",
    "plt.title(\"Q-learning Agent\")\n",
    "plt.xlabel('Episodes')\n",
    "plt.ylabel('Score')\n",
    "plt.show()"
   ]
  },
  {
   "cell_type": "markdown",
   "metadata": {
    "colab_type": "text",
    "id": "wG2sh9_DGU8t"
   },
   "source": [
    "Q-learning agent’s performance looks a lot better. The first 3000 games are similar to the random agent. But after that the average performance goes up pretty rapidly. At 20000 games the performance converges. Still there are some games that end up with up to -100, because at that point we have an exploration rate of about 25%."
   ]
  },
  {
   "cell_type": "code",
   "execution_count": null,
   "metadata": {},
   "outputs": [],
   "source": []
  },
  {
   "cell_type": "markdown",
   "metadata": {},
   "source": [
    "## Solving Taxi-v2 Problem on OpenAI GYM using crossentropy method\n",
    "\n",
    "In this notebook we solve a reinforcement learning problem with crossentropy method.\n",
    "\n",
    "“There are 4 locations (labelled by different letters), and our job is to pick up the passenger at one location and drop him off at another. We receive +20 points for a successful drop-off and lose 1 point for every time-step it takes. There is also a 10 point penalty for illegal pick-up and drop-off actions.”"
   ]
  },
  {
   "cell_type": "markdown",
   "metadata": {},
   "source": [
    "### Additional resources:\n",
    "- https://github.com/y2ee201/Coursera-Practical-RL-NRUSHE\n",
    "- https://github.com/BoYanSTKO/Practical_RL-coursera"
   ]
  },
  {
   "cell_type": "code",
   "execution_count": 2,
   "metadata": {},
   "outputs": [],
   "source": [
    "import gym\n",
    "import numpy as np\n",
    "import pandas as pd"
   ]
  },
  {
   "cell_type": "code",
   "execution_count": 23,
   "metadata": {},
   "outputs": [],
   "source": [
    "from IPython.display import clear_output"
   ]
  },
  {
   "cell_type": "code",
   "execution_count": 3,
   "metadata": {},
   "outputs": [],
   "source": [
    "env = gym.make(\"Taxi-v2\")"
   ]
  },
  {
   "cell_type": "code",
   "execution_count": 4,
   "metadata": {},
   "outputs": [
    {
     "name": "stdout",
     "output_type": "stream",
     "text": [
      "+---------+\n",
      "|\u001b[35mR\u001b[0m: | : :\u001b[43mG\u001b[0m|\n",
      "| : : : : |\n",
      "| : : : : |\n",
      "| | : | : |\n",
      "|Y| : |\u001b[34;1mB\u001b[0m: |\n",
      "+---------+\n",
      "\n"
     ]
    }
   ],
   "source": [
    "env.reset()\n",
    "env.render()"
   ]
  },
  {
   "cell_type": "code",
   "execution_count": 5,
   "metadata": {},
   "outputs": [
    {
     "name": "stdout",
     "output_type": "stream",
     "text": [
      "n_states=500, n_actions=6\n"
     ]
    }
   ],
   "source": [
    "n_states  = env.observation_space.n\n",
    "n_actions = env.action_space.n\n",
    "\n",
    "print(\"n_states=%i, n_actions=%i\"%(n_states, n_actions))"
   ]
  },
  {
   "cell_type": "markdown",
   "metadata": {},
   "source": [
    "### Create a stochastic policy\n",
    "\n",
    "Our policy will be a probability distribution \n",
    "\n",
    "$\\rm policy[s,a] = P(take\\;action\\;a\\;|\\;in\\;state\\;s)$\n",
    "\n",
    "Since we still use integer state and action representation, we use a 2-dimensional array to represent the policy. We initialize policy \"uniformly\", that is, probabilities of all action will be equal. "
   ]
  },
  {
   "cell_type": "code",
   "execution_count": 7,
   "metadata": {},
   "outputs": [],
   "source": [
    "#policy = <your code here! Create an array to store action probabilities>\n",
    "policy = np.ones((n_states, n_actions))/n_actions"
   ]
  },
  {
   "cell_type": "code",
   "execution_count": 8,
   "metadata": {},
   "outputs": [],
   "source": [
    "assert type(policy) in (np.ndarray,np.matrix)\n",
    "assert np.allclose(policy,1./n_actions)\n",
    "assert np.allclose(np.sum(policy,axis=1), 1)"
   ]
  },
  {
   "cell_type": "markdown",
   "metadata": {},
   "source": [
    "## Play the game\n",
    "\n",
    "We also record all states and actions we took."
   ]
  },
  {
   "cell_type": "code",
   "execution_count": 9,
   "metadata": {},
   "outputs": [],
   "source": [
    "def generate_session(policy,t_max=10**4):\n",
    "    \"\"\"\n",
    "    Play game until end or for t_max ticks.\n",
    "    :param policy: an array of shape [n_states,n_actions] with action probabilities\n",
    "    :returns: list of states, list of actions and sum of rewards\n",
    "    \"\"\"\n",
    "    states,actions = [],[]\n",
    "    total_reward = 0.\n",
    "    \n",
    "    s = env.reset()\n",
    "    \n",
    "    for t in range(t_max):\n",
    "        \n",
    "        #a = <sample action from policy (hint: use np.random.choice)>\n",
    "        a = np.random.choice(n_actions, size=1, p=policy[s])[0]\n",
    "        \n",
    "        new_s, r, done, info = env.step(a)\n",
    "        \n",
    "        # Record state, action and add up reward to states,actions and total_reward accordingly. \n",
    "        states.append(s)\n",
    "        actions.append(a)\n",
    "        total_reward += r\n",
    "        \n",
    "        s = new_s\n",
    "        if done:\n",
    "            break\n",
    "    return states, actions, total_reward"
   ]
  },
  {
   "cell_type": "code",
   "execution_count": 10,
   "metadata": {},
   "outputs": [],
   "source": [
    "s,a,r = generate_session(policy)\n",
    "assert type(s) == type(a) == list\n",
    "assert len(s) == len(a)\n",
    "assert type(r) in [float,np.float]"
   ]
  },
  {
   "cell_type": "code",
   "execution_count": 11,
   "metadata": {},
   "outputs": [
    {
     "data": {
      "text/plain": [
       "<matplotlib.legend.Legend at 0x117d854a8>"
      ]
     },
     "execution_count": 11,
     "metadata": {},
     "output_type": "execute_result"
    },
    {
     "data": {
      "image/png": "[encoded data removed]",
      "text/plain": [
       "<Figure size 432x288 with 1 Axes>"
      ]
     },
     "metadata": {
      "needs_background": "light"
     },
     "output_type": "display_data"
    }
   ],
   "source": [
    "# Let's see the initial reward distribution\n",
    "import matplotlib.pyplot as plt\n",
    "%matplotlib inline\n",
    "\n",
    "sample_rewards = [generate_session(policy,t_max=1000)[-1] for _ in range(200)]\n",
    "\n",
    "plt.hist(sample_rewards,bins=20);\n",
    "plt.vlines([np.percentile(sample_rewards, 50)], [0], [100], label=\"50'th percentile\", color='green')\n",
    "plt.vlines([np.percentile(sample_rewards, 90)], [0], [100], label=\"90'th percentile\", color='red')\n",
    "plt.legend()"
   ]
  },
  {
   "cell_type": "markdown",
   "metadata": {},
   "source": [
    "### Crossentropy method steps "
   ]
  },
  {
   "cell_type": "code",
   "execution_count": 12,
   "metadata": {},
   "outputs": [],
   "source": [
    "def select_elites(states_batch,actions_batch,rewards_batch,percentile=50):\n",
    "    \"\"\"\n",
    "    Select states and actions from games that have rewards >= percentile\n",
    "    :param states_batch: list of lists of states, states_batch[session_i][t]\n",
    "    :param actions_batch: list of lists of actions, actions_batch[session_i][t]\n",
    "    :param rewards_batch: list of rewards, rewards_batch[session_i][t]\n",
    "    \n",
    "    :returns: elite_states,elite_actions, both 1D lists of states and respective actions from elite sessions\n",
    "    \n",
    "    Please return elite states and actions in their original order \n",
    "    [i.e. sorted by session number and timestep within session]\n",
    "    \n",
    "    If you're confused, see examples below. Please don't assume that states are integers (they'll get different later).\n",
    "    \"\"\"\n",
    "    \n",
    "    #reward_threshold = <Compute minimum reward for elite sessions. Hint: use np.percentile>\n",
    "    reward_threshold = np.percentile(rewards_batch, percentile)\n",
    "    \n",
    "    #elite_states  = <your code here>\n",
    "    # Version 1.\n",
    "    elite_states  = [s for i in range(len(states_batch)) if rewards_batch[i]>=reward_threshold \\\n",
    "                     for s in states_batch[i]]\n",
    "    \n",
    "    #elite_actions = <your code here>\n",
    "    elite_actions = [a for i in range(len(actions_batch)) if rewards_batch[i]>=reward_threshold \\\n",
    "                     for a in actions_batch[i]]\n",
    "    \n",
    "    # Version 2.\n",
    "    #elite_states  = [states_batch[i] for i in np.where(rewards_batch>=reward_threshold)[0]]\n",
    "    #elite_states = [item for sublist in elite_states for item in sublist]\n",
    "    #elite_actions = [actions_batch[i] for i in np.where(rewards_batch>=reward_threshold)[0]]\n",
    "    #elite_actions = [item for sublist in elite_actions for item in sublist]\n",
    "    \n",
    "    # Version 3.\n",
    "    #from itertools import chain\n",
    "    #elite_states  = list(chain(*[state for state,_ in zip(states_batch,rewards_batch) if _ >= reward_threshold]))\n",
    "    #elite_actions = list(chain(*[state for state,_ in zip(actions_batch,rewards_batch) if _ >=reward_threshold]))\n",
    "    \n",
    "    # Version 4.\n",
    "    #elite_states = []\n",
    "    #elite_actions = []\n",
    "    #for i in range(len(rewards_batch)):\n",
    "    #    reward = rewards_batch[i]\n",
    "    #    if reward>=reward_threshold:\n",
    "    #        for state_element, action_element in zip(states_batch[i], actions_batch[i]):\n",
    "    #            elite_states.append(state_element)\n",
    "    #            elite_actions.append(action_element)\n",
    "    \n",
    "    # Version 5.\n",
    "    #elite_states  = [state for i in range(len(rewards_batch))   if rewards_batch[i]>= reward_threshold for state in states_batch[i] ]\n",
    "    #elite_actions = [action for i in range(len(rewards_batch))  if rewards_batch[i] >= reward_threshold for action in actions_batch[i]]\n",
    "    \n",
    "    return elite_states,elite_actions"
   ]
  },
  {
   "cell_type": "code",
   "execution_count": 13,
   "metadata": {},
   "outputs": [
    {
     "name": "stdout",
     "output_type": "stream",
     "text": [
      "Ok!\n"
     ]
    }
   ],
   "source": [
    "states_batch = [\n",
    "    [1,2,3],   #game1\n",
    "    [4,2,0,2], #game2\n",
    "    [3,1]      #game3\n",
    "]\n",
    "\n",
    "actions_batch = [\n",
    "    [0,2,4],   #game1\n",
    "    [3,2,0,1], #game2\n",
    "    [3,3]      #game3\n",
    "]\n",
    "rewards_batch = [\n",
    "    3,         #game1\n",
    "    4,         #game2\n",
    "    5,         #game3\n",
    "]\n",
    "\n",
    "test_result_0   = select_elites(states_batch, actions_batch, rewards_batch, percentile=0)\n",
    "test_result_40  = select_elites(states_batch, actions_batch, rewards_batch, percentile=30)\n",
    "test_result_90  = select_elites(states_batch, actions_batch, rewards_batch, percentile=90)\n",
    "test_result_100 = select_elites(states_batch, actions_batch, rewards_batch, percentile=100)\n",
    "\n",
    "assert np.all(test_result_0[0] == [1, 2, 3, 4, 2, 0, 2, 3, 1])  \\\n",
    "   and np.all(test_result_0[1] == [0, 2, 4, 3, 2, 0, 1, 3, 3]),\\\n",
    "        \"For percentile 0 you should return all states and actions in chronological order\"\n",
    "assert np.all(test_result_40[0] == [4, 2, 0, 2, 3, 1]) and \\\n",
    "        np.all(test_result_40[1] ==[3, 2, 0, 1, 3, 3]),\\\n",
    "        \"For percentile 30 you should only select states/actions from two first\"\n",
    "assert np.all(test_result_90[0] == [3,1]) and \\\n",
    "        np.all(test_result_90[1] == [3,3]),\\\n",
    "        \"For percentile 90 you should only select states/actions from one game\"\n",
    "assert np.all(test_result_100[0] == [3,1]) and\\\n",
    "       np.all(test_result_100[1] == [3,3]),\\\n",
    "        \"Please make sure you use >=, not >. Also double-check how you compute percentile.\"\n",
    "print(\"Ok!\")"
   ]
  },
  {
   "cell_type": "code",
   "execution_count": 16,
   "metadata": {},
   "outputs": [],
   "source": [
    "from collections import defaultdict\n",
    "\n",
    "def update_policy(elite_states,elite_actions):\n",
    "    \"\"\"\n",
    "    Given old policy and a list of elite states/actions from select_elites,\n",
    "    return new updated policy where each action probability is proportional to\n",
    "    \n",
    "    policy[s_i,a_i] ~ #[occurences of si and ai in elite states/actions]\n",
    "    \n",
    "    Don't forget to normalize policy to get valid probabilities and handle 0/0 case.\n",
    "    In case you never visited a state, set probabilities for all actions to 1./n_actions\n",
    "    \n",
    "    :param elite_states: 1D list of states from elite sessions\n",
    "    :param elite_actions: 1D list of actions from elite sessions\n",
    "    \n",
    "    \"\"\"\n",
    "    \n",
    "    new_policy = np.zeros([n_states,n_actions])\n",
    "    \n",
    "    #Don't forget to set 1/n_actions for all actions in unvisited states.\n",
    "    #<Your code here: update probabilities for actions given elite states & actions>\n",
    "    # Version 1.\n",
    "    state_action_dict = defaultdict(lambda: [0]*n_actions)\n",
    "    \n",
    "    for i in range(len(elite_states)):\n",
    "        state_action_dict[elite_states[i]][elite_actions[i]]+=1\n",
    "\n",
    "    for i in range(n_states):\n",
    "        if i not in state_action_dict:\n",
    "            new_policy[i] = [1/n_actions]*n_actions\n",
    "        else:\n",
    "            new_policy[i] = [p/sum(state_action_dict[i]) for p in state_action_dict[i]]\n",
    "    \n",
    "    # Version 2.\n",
    "    #for i,j in list(zip(elite_states, elite_actions)):\n",
    "    #    new_policy[i,j] = new_policy[i,j] + 1\n",
    "    \n",
    "    #row_sums = new_policy.sum(axis=1)\n",
    "    #new_policy = new_policy / row_sums[:, np.newaxis]\n",
    "    #new_policy[np.isnan(new_policy)]=1/n_actions\n",
    "    \n",
    "    # Version 3.\n",
    "    #for s,a in zip(elite_states,elite_actions):\n",
    "    #    new_policy[s,a] += 1.0\n",
    "    #for r_id in [r for r in range(new_policy.shape[0]) if r not in elite_states]:\n",
    "    #    new_policy[r_id].fill(1. /n_actions)\n",
    "    \n",
    "    # Normalise\n",
    "    #new_policy = new_policy/new_policy.sum(axis = 1,keepdims=1 )\n",
    "    \n",
    "    # Version 4.\n",
    "    #visit_states = defaultdict(int)\n",
    "    #default_list = lambda : [0]*n_actions\n",
    "    #state_action_dict = defaultdict(default_list)\n",
    "    #new_policy = np.zeros([n_states,n_actions])\n",
    "    \n",
    "    #for state, action in zip(elite_states, elite_actions):\n",
    "    #    visit_states[state]+=1\n",
    "    #    state_action_dict[state][action]+=1\n",
    "    \n",
    "    #for i in range (n_states):\n",
    "    #    for j in range (n_actions):\n",
    "    #        if visit_states[i]:\n",
    "    #            new_policy[i][j] = state_action_dict[i][j]/visit_states[i]\n",
    "    #        else : \n",
    "    #            new_policy[i][j] = 1/n_actions\n",
    "    \n",
    "    # Version 5.\n",
    "    #for s,a in zip(elite_states,elite_actions):\n",
    "    #    new_policy[s][a] += 1\n",
    "    #default_p = 1/n_actions\n",
    "    #for i in range(new_policy.shape[0]):\n",
    "    #    sa_sum  = new_policy[i].sum()\n",
    "    #    if sa_sum == 0:\n",
    "    #        new_policy[i] = np.ones(n_actions) * default_p\n",
    "    #    else:      \n",
    "    #        for j  in range(new_policy.shape[1]):\n",
    "    #            if new_policy[i][j] > 0:\n",
    "    #                new_policy[i][j]/= sa_sum\n",
    "    \n",
    "    return new_policy"
   ]
  },
  {
   "cell_type": "code",
   "execution_count": 17,
   "metadata": {},
   "outputs": [
    {
     "name": "stdout",
     "output_type": "stream",
     "text": [
      "Ok!\n"
     ]
    }
   ],
   "source": [
    "elite_states, elite_actions = ([1, 2, 3, 4, 2, 0, 2, 3, 1], [0, 2, 4, 3, 2, 0, 1, 3, 3])\n",
    "\n",
    "\n",
    "new_policy = update_policy(elite_states,elite_actions)\n",
    "\n",
    "assert np.isfinite(new_policy).all(), \"Your new policy contains NaNs or +-inf. Make sure you don't divide by zero.\"\n",
    "assert np.all(new_policy>=0), \"Your new policy can't have negative action probabilities\"\n",
    "assert np.allclose(new_policy.sum(axis=-1),1), \"Your new policy should be a valid probability distribution over actions\"\n",
    "reference_answer = np.array([\n",
    "       [ 1.        ,  0.        ,  0.        ,  0.        ,  0.        ],\n",
    "       [ 0.5       ,  0.        ,  0.        ,  0.5       ,  0.        ],\n",
    "       [ 0.        ,  0.33333333,  0.66666667,  0.        ,  0.        ],\n",
    "       [ 0.        ,  0.        ,  0.        ,  0.5       ,  0.5       ]])\n",
    "assert np.allclose(new_policy[:4,:5],reference_answer)\n",
    "print(\"Ok!\")"
   ]
  },
  {
   "cell_type": "code",
   "execution_count": 18,
   "metadata": {},
   "outputs": [],
   "source": [
    "def show_progress(batch_rewards, log, percentile, reward_range=[-990,+10]):\n",
    "    \"\"\"\n",
    "    A convenience function that displays training progress. \n",
    "    No cool math here, just charts.\n",
    "    \"\"\"\n",
    "    \n",
    "    mean_reward, threshold = np.mean(batch_rewards), np.percentile(batch_rewards, percentile)\n",
    "    log.append([mean_reward,threshold])\n",
    "\n",
    "    clear_output(True)\n",
    "    print(\"mean reward = %.3f, threshold=%.3f\"%(mean_reward, threshold))\n",
    "    plt.figure(figsize=[8,4])\n",
    "    plt.subplot(1,2,1)\n",
    "    plt.plot(list(zip(*log))[0], label='Mean rewards')\n",
    "    plt.plot(list(zip(*log))[1], label='Reward thresholds')\n",
    "    plt.legend()\n",
    "    plt.grid()\n",
    "    \n",
    "    plt.subplot(1,2,2)\n",
    "    plt.hist(batch_rewards,range=reward_range);\n",
    "    plt.vlines([np.percentile(batch_rewards, percentile)], [0], [100], label=\"percentile\", color='red')\n",
    "    plt.legend()\n",
    "    plt.grid()\n",
    "\n",
    "    return plt.show()"
   ]
  },
  {
   "cell_type": "code",
   "execution_count": 19,
   "metadata": {},
   "outputs": [],
   "source": [
    "# reset policy just in case\n",
    "policy = np.ones([n_states, n_actions]) / n_actions "
   ]
  },
  {
   "cell_type": "code",
   "execution_count": 20,
   "metadata": {},
   "outputs": [],
   "source": [
    "n_sessions = 250  #sample this many sessions\n",
    "percentile = 50  #take this percent of session with highest rewards\n",
    "learning_rate = 0.5  #add this thing to all counts for stability"
   ]
  },
  {
   "cell_type": "code",
   "execution_count": 24,
   "metadata": {},
   "outputs": [
    {
     "name": "stdout",
     "output_type": "stream",
     "text": [
      "mean reward = -202.212, threshold=-0.500\n"
     ]
    },
    {
     "data": {
      "image/png": "[encoded data removed]",
      "text/plain": [
       "<Figure size 576x288 with 2 Axes>"
      ]
     },
     "metadata": {
      "needs_background": "light"
     },
     "output_type": "display_data"
    }
   ],
   "source": [
    "log = []\n",
    "\n",
    "for i in range(100):\n",
    "    \n",
    "    #%time sessions = [<generate a list of n_sessions new sessions>]\n",
    "    %time sessions = [generate_session(policy) for _ in range(n_sessions)]\n",
    "    \n",
    "    batch_states,batch_actions,batch_rewards = zip(*sessions)\n",
    "\n",
    "    #elite_states, elite_actions = <select elite states/actions>\n",
    "    elite_states, elite_actions = select_elites(batch_states, \n",
    "                                                batch_actions, \n",
    "                                                batch_rewards, \n",
    "                                                percentile=percentile)\n",
    "    \n",
    "    #new_policy = <compute new policy>\n",
    "    new_policy = update_policy(elite_states ,elite_actions)\n",
    "    \n",
    "    policy = learning_rate * new_policy + (1-learning_rate) * policy\n",
    "    \n",
    "    # display results on chart\n",
    "    show_progress(batch_rewards, log, percentile)"
   ]
  },
  {
   "cell_type": "markdown",
   "metadata": {},
   "source": [
    "### Reflecting on results\n",
    "\n",
    "You may have noticed that the taxi problem quickly converges from <-1000 to a near-optimal score and then descends back into -50/-100. This is in part because the environment has some innate randomness. Namely, the starting points of passenger/driver change from episode to episode.\n",
    "\n",
    "In case cross-entropy method (CEM) failed to learn how to win from one distinct starting point, it will simply discard it because no sessions from that starting point will make it into the \"elites\".\n",
    "\n",
    "To mitigate that problem, you can either reduce the threshold for elite sessions (duct tape way) or change the way you evaluate strategy (theoretically correct way). You can first sample an action for every possible state and then evaluate this choice of actions by running several games and averaging rewards."
   ]
  },
  {
   "cell_type": "code",
   "execution_count": null,
   "metadata": {},
   "outputs": [],
   "source": [
    "# Submit to coursera¶\n",
    "from submit import submit_taxi\n",
    "submit_taxi(generate_session, policy, 'email', 'token')"
   ]
  },
  {
   "cell_type": "code",
   "execution_count": null,
   "metadata": {},
   "outputs": [],
   "source": [
    "env.close()"
   ]
  },
  {
   "cell_type": "markdown",
   "metadata": {},
   "source": [
    "# Sarsa, Expected sarsa and Q-learning on the OpenAI taxi environment\n",
    "\n",
    "According to $\\bf{Sarsa}$, once the agent gets to s’, it will follow its policy, π. Knowing this information, we can sample an action a’ from π at state s’, and use q(s’, a’) as the estimate of the next state:\n",
    "\n",
    "q(s,a)=q(s,a)+α[Rt+1+γq(s′,a′)−q(s,a)]\n",
    "\n",
    "\n",
    "$\\bf{Expected\\;Sarsa}$, on the other hand, reasons that rather than sampling from π to pick an action a’ by, we should just calculate the expected value of s’. This way, the estimate of how good s’ is won’t fluctuate around, like it would when sampling an action from a distribution, but rather remain steady around the “average” outcome for the state.\n",
    "\n",
    "q(s,a)=q(s,a)+α[Rt+1+γ∑a′π(a′|s′)q(s′,a′)−q(s,a)]\n",
    "\n",
    "$\\bf{Q-learning}$ takes a different approach. It assumes that when the agent is in state s’, it will take the action a’ that it thinks is the best action. In other words, it will take the action a’ that maximises q(s’, a’).\n",
    "\n",
    "q(s,a)=q(s,a)+α[Rt+1+γmaxa′q(s′,a′)−q(s,a)]"
   ]
  },
  {
   "cell_type": "code",
   "execution_count": 4,
   "metadata": {},
   "outputs": [],
   "source": [
    "import gym \n",
    "import numpy as np\n",
    "import pandas as pd \n",
    "import matplotlib.pyplot as plt\n",
    "%matplotlib inline\n",
    "\n",
    "# For animation \n",
    "from IPython.display import clear_output\n",
    "from time import sleep"
   ]
  },
  {
   "cell_type": "code",
   "execution_count": 11,
   "metadata": {},
   "outputs": [],
   "source": [
    "class Agent: \n",
    "    def __init__(self, method, start_alpha = 0.3, start_gamma = 0.9, start_epsilon = 0.5):\n",
    "        \"\"\"method: one of 'q_learning', 'sarsa' or 'expected_sarsa' \"\"\"\n",
    "        self.method = method\n",
    "        self.env = gym.make('Taxi-v3')\n",
    "        self.n_squares = 25 \n",
    "        self.n_passenger_locs = 5 \n",
    "        self.n_dropoffs = 4 \n",
    "        self.n_actions = self.env.action_space.n\n",
    "        self.epsilon = start_epsilon\n",
    "        self.gamma = start_gamma #  the discount factor for future rewards, towards the end of the episode once we don’t have many time steps left.\n",
    "        self.alpha = start_alpha\n",
    "        \n",
    "        # Set up initial q-table \n",
    "        self.q = np.zeros(shape = (self.n_squares*self.n_passenger_locs*self.n_dropoffs, self.env.action_space.n))\n",
    "        \n",
    "        # Set up policy pi, init as equiprobable random policy\n",
    "        self.pi = np.zeros_like(self.q)\n",
    "        \n",
    "        for i in range(self.pi.shape[0]): \n",
    "            for a in range(self.n_actions): \n",
    "                self.pi[i,a] = 1/self.n_actions\n",
    "\n",
    "    def simulate_episode(self):  # runs an episode of the environment placing the car in a random position and randomising the passenger/dropoff locations\n",
    "        s = self.env.reset() # used to start a new episode\n",
    "        done = False\n",
    "        r_sum = 0 # holds a running reward sum from the episode\n",
    "        n_steps = 0 # used to track when we are getting close to the end of the episode\n",
    "        gam = self.gamma\n",
    "        \n",
    "        while not done: \n",
    "            n_steps += 1\n",
    "            # take action from policy\n",
    "            x = np.random.random()\n",
    "            a = np.argmax(np.cumsum(self.pi[s,:]) > x) #  sample an action from our policy\n",
    "            # take step \n",
    "            s_prime,r,done,info = self.env.step(a)  \n",
    "            \n",
    "            if self.method == 'q_learning': \n",
    "                a_prime = np.random.choice(np.where(self.q[s_prime] == max(self.q[s_prime]))[0])\n",
    "                self.q[s,a] = self.q[s,a] + self.alpha * \\\n",
    "                    (r + gam*self.q[s_prime,a_prime] - self.q[s,a])\n",
    "            elif self.method == 'sarsa': \n",
    "                a_prime = np.argmax(np.cumsum(self.pi[s_prime,:]) > np.random.random())\n",
    "                self.q[s,a] = self.q[s,a] + self.alpha * \\\n",
    "                    (r + gam*self.q[s_prime,a_prime ] - self.q[s,a])\n",
    "            elif self.method == 'expected_sarsa':\n",
    "                self.q[s,a] = self.q[s,a] + self.alpha * \\\n",
    "                    (r + gam* np.dot(self.pi[s_prime,:],self.q[s_prime,:]) - self.q[s,a])\n",
    "            else: \n",
    "                raise Exception(\"Invalid method provided\")\n",
    "        \n",
    "            # update policy\n",
    "            best_a = np.random.choice(np.where(self.q[s] == max(self.q[s]))[0])\n",
    "            for i in range(self.n_actions): # First we find what the best action is for our current state\n",
    "                if i == best_a:      \n",
    "                    self.pi[s,i] = 1 - (self.n_actions-1) * (self.epsilon / self.n_actions)\n",
    "                else:                \n",
    "                    self.pi[s,i] = self.epsilon / self.n_actions\n",
    "\n",
    "            # decay gamma close to the end of the episode\n",
    "            if n_steps > 185: \n",
    "                gam *= 0.875\n",
    "            s = s_prime\n",
    "            r_sum += r\n",
    "            \n",
    "        return r_sum"
   ]
  },
  {
   "cell_type": "code",
   "execution_count": 12,
   "metadata": {},
   "outputs": [],
   "source": [
    "def train_agent(agent, n_episodes= 200001, epsilon_decay = 0.99995, alpha_decay = 0.99995, print_trace = False):\n",
    "    r_sums = []\n",
    "    for ep in range(n_episodes): \n",
    "        r_sum = agent.simulate_episode()\n",
    "        # decrease epsilon and learning rate \n",
    "        agent.epsilon *= epsilon_decay\n",
    "        agent.alpha *= alpha_decay\n",
    "        if print_trace: \n",
    "            if ep % 20000 == 0 and ep > 0 : \n",
    "                print(\"Episode:\", ep, \"alpha:\", np.round(agent.alpha, 3), \"epsilon:\",  np.round(agent.epsilon, 3))\n",
    "                print (\"Last 100 episodes avg reward: \", np.mean(r_sums[ep-100:ep]))\n",
    "        r_sums.append(r_sum)\n",
    "    return r_sums"
   ]
  },
  {
   "cell_type": "markdown",
   "metadata": {},
   "source": [
    "Now we can create our agents and train them."
   ]
  },
  {
   "cell_type": "code",
   "execution_count": 13,
   "metadata": {},
   "outputs": [],
   "source": [
    "# Create agents \n",
    "sarsa_agent      = Agent(method='sarsa')\n",
    "e_sarsa_agent    = Agent(method='expected_sarsa')\n",
    "q_learning_agent = Agent(method='q_learning')"
   ]
  },
  {
   "cell_type": "code",
   "execution_count": 14,
   "metadata": {},
   "outputs": [
    {
     "name": "stdout",
     "output_type": "stream",
     "text": [
      "Episode: 20000 alpha: 0.11 epsilon: 0.184\n",
      "Last 100 episodes avg reward:  -3.81\n",
      "Episode: 40000 alpha: 0.041 epsilon: 0.068\n",
      "Last 100 episodes avg reward:  4.37\n",
      "Episode: 60000 alpha: 0.015 epsilon: 0.025\n",
      "Last 100 episodes avg reward:  7.27\n",
      "Episode: 80000 alpha: 0.005 epsilon: 0.009\n",
      "Last 100 episodes avg reward:  7.97\n",
      "Episode: 100000 alpha: 0.002 epsilon: 0.003\n",
      "Last 100 episodes avg reward:  7.45\n",
      "Episode: 120000 alpha: 0.001 epsilon: 0.001\n",
      "Last 100 episodes avg reward:  8.47\n",
      "Episode: 140000 alpha: 0.0 epsilon: 0.0\n",
      "Last 100 episodes avg reward:  8.15\n",
      "Episode: 160000 alpha: 0.0 epsilon: 0.0\n",
      "Last 100 episodes avg reward:  8.11\n",
      "Episode: 180000 alpha: 0.0 epsilon: 0.0\n",
      "Last 100 episodes avg reward:  7.97\n",
      "Episode: 200000 alpha: 0.0 epsilon: 0.0\n",
      "Last 100 episodes avg reward:  8.31\n",
      "Episode: 20000 alpha: 0.11 epsilon: 0.184\n",
      "Last 100 episodes avg reward:  -4.45\n",
      "Episode: 40000 alpha: 0.041 epsilon: 0.068\n",
      "Last 100 episodes avg reward:  5.17\n",
      "Episode: 60000 alpha: 0.015 epsilon: 0.025\n",
      "Last 100 episodes avg reward:  6.36\n",
      "Episode: 80000 alpha: 0.005 epsilon: 0.009\n",
      "Last 100 episodes avg reward:  7.29\n",
      "Episode: 100000 alpha: 0.002 epsilon: 0.003\n",
      "Last 100 episodes avg reward:  7.85\n",
      "Episode: 120000 alpha: 0.001 epsilon: 0.001\n",
      "Last 100 episodes avg reward:  7.67\n",
      "Episode: 140000 alpha: 0.0 epsilon: 0.0\n",
      "Last 100 episodes avg reward:  8.21\n",
      "Episode: 160000 alpha: 0.0 epsilon: 0.0\n",
      "Last 100 episodes avg reward:  7.82\n",
      "Episode: 180000 alpha: 0.0 epsilon: 0.0\n",
      "Last 100 episodes avg reward:  7.98\n",
      "Episode: 200000 alpha: 0.0 epsilon: 0.0\n",
      "Last 100 episodes avg reward:  8.05\n",
      "Episode: 20000 alpha: 0.11 epsilon: 0.184\n",
      "Last 100 episodes avg reward:  -3.63\n",
      "Episode: 40000 alpha: 0.041 epsilon: 0.068\n",
      "Last 100 episodes avg reward:  4.7\n",
      "Episode: 60000 alpha: 0.015 epsilon: 0.025\n",
      "Last 100 episodes avg reward:  6.33\n",
      "Episode: 80000 alpha: 0.005 epsilon: 0.009\n",
      "Last 100 episodes avg reward:  8.53\n",
      "Episode: 100000 alpha: 0.002 epsilon: 0.003\n",
      "Last 100 episodes avg reward:  7.91\n",
      "Episode: 120000 alpha: 0.001 epsilon: 0.001\n",
      "Last 100 episodes avg reward:  7.81\n",
      "Episode: 140000 alpha: 0.0 epsilon: 0.0\n",
      "Last 100 episodes avg reward:  8.01\n",
      "Episode: 160000 alpha: 0.0 epsilon: 0.0\n",
      "Last 100 episodes avg reward:  7.46\n",
      "Episode: 180000 alpha: 0.0 epsilon: 0.0\n",
      "Last 100 episodes avg reward:  7.92\n",
      "Episode: 200000 alpha: 0.0 epsilon: 0.0\n",
      "Last 100 episodes avg reward:  8.33\n"
     ]
    }
   ],
   "source": [
    "# Train agents\n",
    "r_sums_sarsa      = train_agent(sarsa_agent, print_trace=True)\n",
    "r_sums_e_sarsa    = train_agent(e_sarsa_agent, print_trace=True)\n",
    "r_sums_q_learning = train_agent(q_learning_agent, print_trace=True)"
   ]
  },
  {
   "cell_type": "markdown",
   "metadata": {},
   "source": [
    "Which method is best?\n",
    "\n",
    "After training our agents we can compare their performance to each other. The criteria for comparison we’ll use is the best 100-epsiode average reward for each agent"
   ]
  },
  {
   "cell_type": "code",
   "execution_count": 15,
   "metadata": {},
   "outputs": [
    {
     "data": {
      "text/plain": [
       "<matplotlib.axes._subplots.AxesSubplot at 0x12b8fc590>"
      ]
     },
     "execution_count": 15,
     "metadata": {},
     "output_type": "execute_result"
    },
    {
     "data": {
      "image/png": "[encoded data removed]",
      "text/plain": [
       "<Figure size 432x288 with 1 Axes>"
      ]
     },
     "metadata": {
      "needs_background": "light"
     },
     "output_type": "display_data"
    }
   ],
   "source": [
    "# Let’s plot the 100-epsiode rolling cumulative reward over time\n",
    "df = pd.DataFrame({\"Sarsa\": r_sums_sarsa, \n",
    "             \"Expected_Sarsa\": r_sums_e_sarsa, \n",
    "             \"Q-Learning\": r_sums_q_learning})\n",
    "df_ma = df.rolling(100, min_periods = 100).mean()\n",
    "df_ma.iloc[1:1000].plot()"
   ]
  },
  {
   "cell_type": "markdown",
   "metadata": {},
   "source": [
    "The green line (sarsa) seems to be below the others fairly consistently, but it’s close. Looks like the Sarsa agent tends to train slower than the other two, but not by a whole lot. At the end of 200000 episodes, however, it’s Expected Sarsa that’s delivered the best reward."
   ]
  },
  {
   "cell_type": "code",
   "execution_count": 16,
   "metadata": {},
   "outputs": [
    {
     "data": {
      "text/plain": [
       "Sarsa             9.12\n",
       "Expected_Sarsa    8.86\n",
       "Q-Learning        8.88\n",
       "dtype: float64"
      ]
     },
     "execution_count": 16,
     "metadata": {},
     "output_type": "execute_result"
    }
   ],
   "source": [
    "np.max(df_ma)"
   ]
  },
  {
   "cell_type": "markdown",
   "metadata": {},
   "source": [
    "The best 100-episode streak gave this average return. Expected Sarsa comes out on top, but all three agents are close."
   ]
  },
  {
   "cell_type": "markdown",
   "metadata": {},
   "source": [
    "### Viewing the policy\n",
    "We can try to understand the difference between agents. Even if one agent does better than the other two, it isn’t straightforward to see the reasons why. Visualising the policy is one way to find out. We can render the environment and to see how the agent behaves."
   ]
  },
  {
   "cell_type": "code",
   "execution_count": 28,
   "metadata": {},
   "outputs": [],
   "source": [
    "def generate_frames(agent, start_state):\n",
    "    agent.env.reset()\n",
    "    agent.env.env.s = start_state\n",
    "    s = start_state\n",
    "    policy = np.argmax(agent.pi,axis =1)\n",
    "    epochs = 0\n",
    "    penalties, reward = 0, 0\n",
    "    frames = [] \n",
    "    done = False\n",
    "    frames.append({\n",
    "        'frame': agent.env.render(mode='ansi'),\n",
    "        'state': agent.env.env.s ,\n",
    "        'action': \"Start\",\n",
    "        'reward': 0\n",
    "        }\n",
    "    )\n",
    "    while not done:\n",
    "        a = policy[s]\n",
    "        s, reward, done, info = agent.env.step(a)\n",
    "        if reward == -10:\n",
    "            penalties += 1\n",
    "\n",
    "        # Put each rendered frame into dict for animation\n",
    "        frames.append({\n",
    "            'frame': agent.env.render(mode='ansi'),\n",
    "            'state': s,\n",
    "            'action': a,\n",
    "            'reward': reward\n",
    "            }\n",
    "        )\n",
    "        epochs += 1\n",
    "    print(\"Timesteps taken: {}\".format(epochs))\n",
    "    print(\"Penalties incurred: {}\".format(penalties))\n",
    "    return frames\n",
    "\n",
    "def print_frames(frames):\n",
    "    for i, frame in enumerate(frames):\n",
    "        clear_output(wait=True)\n",
    "        #print(frame['frame'].getvalue())\n",
    "        print(frame['frame'])\n",
    "        print(f\"Timestep: {i + 1}\")\n",
    "        print(f\"State: {frame['state']}\")\n",
    "        print(f\"Action: {frame['action']}\")\n",
    "        print(f\"Reward: {frame['reward']}\")\n",
    "        sleep(.4)"
   ]
  },
  {
   "cell_type": "markdown",
   "metadata": {},
   "source": [
    "#### Expected Sarsa"
   ]
  },
  {
   "cell_type": "code",
   "execution_count": 32,
   "metadata": {},
   "outputs": [
    {
     "name": "stdout",
     "output_type": "stream",
     "text": [
      "+---------+\n",
      "|R: | : :G|\n",
      "| : | : : |\n",
      "| : : : : |\n",
      "| | : | : |\n",
      "|\u001b[43mY\u001b[0m| : |\u001b[35m\u001b[34;1mB\u001b[0m\u001b[0m: |\n",
      "+---------+\n",
      "  (South)\n",
      "\n",
      "Timestep: 201\n",
      "State: 415\n",
      "Action: 0\n",
      "Reward: -1\n"
     ]
    }
   ],
   "source": [
    "agent = e_sarsa_agent\n",
    "start_state = 315\n",
    "frames = generate_frames(agent, start_state)\n",
    "print_frames(frames)"
   ]
  },
  {
   "cell_type": "markdown",
   "metadata": {},
   "source": [
    "#### Sarsa"
   ]
  },
  {
   "cell_type": "code",
   "execution_count": 34,
   "metadata": {},
   "outputs": [
    {
     "name": "stdout",
     "output_type": "stream",
     "text": [
      "+---------+\n",
      "|R: | : :G|\n",
      "| : | : : |\n",
      "| : : : : |\n",
      "| | : | : |\n",
      "|\u001b[43mY\u001b[0m| : |\u001b[35m\u001b[34;1mB\u001b[0m\u001b[0m: |\n",
      "+---------+\n",
      "  (South)\n",
      "\n",
      "Timestep: 201\n",
      "State: 415\n",
      "Action: 0\n",
      "Reward: -1\n"
     ]
    }
   ],
   "source": [
    "agent = sarsa_agent\n",
    "start_state = 315\n",
    "frames = generate_frames(agent, start_state)\n",
    "print_frames(frames)"
   ]
  },
  {
   "cell_type": "markdown",
   "metadata": {},
   "source": [
    "#### Q-learning"
   ]
  },
  {
   "cell_type": "code",
   "execution_count": 35,
   "metadata": {},
   "outputs": [
    {
     "name": "stdout",
     "output_type": "stream",
     "text": [
      "+---------+\n",
      "|R: | : :G|\n",
      "| : | : : |\n",
      "| : : : : |\n",
      "| | : | : |\n",
      "|\u001b[43mY\u001b[0m| : |\u001b[35m\u001b[34;1mB\u001b[0m\u001b[0m: |\n",
      "+---------+\n",
      "  (South)\n",
      "\n",
      "Timestep: 201\n",
      "State: 415\n",
      "Action: 0\n",
      "Reward: -1\n"
     ]
    }
   ],
   "source": [
    "agent = q_learning_agent\n",
    "start_state = 315\n",
    "frames = generate_frames(agent, start_state)\n",
    "print_frames(frames)"
   ]
  },
  {
   "cell_type": "markdown",
   "metadata": {},
   "source": [
    "Below we demonstrate some differences in policy between the expected sarsa agent and the sarsa agent. While the expected sarsa agent has learned the optimal policy, the sarsa agent hasn’t yet - but it’s not far off. (Note: these policies are before the agent is fully trained (after around 15000 episodes))."
   ]
  },
  {
   "cell_type": "markdown",
   "metadata": {},
   "source": [
    "### Conclusion\n",
    "The three agents seemed to perform around the same on this task, with Sarsa being a little worse than the other two.\n",
    "\n",
    "Source: https://tomroth.com.au/sarsa-qlearning/"
   ]
  },
  {
   "cell_type": "code",
   "execution_count": null,
   "metadata": {},
   "outputs": [],
   "source": []
  }
 ],
 "metadata": {
  "kernelspec": {
   "display_name": "Python 3",
   "language": "python",
   "name": "python3"
  },
  "language_info": {
   "codemirror_mode": {
    "name": "ipython",
    "version": 3
   },
   "file_extension": ".py",
   "mimetype": "text/x-python",
   "name": "python",
   "nbconvert_exporter": "python",
   "pygments_lexer": "ipython3",
   "version": "3.7.5"
  }
 },
 "nbformat": 4,
 "nbformat_minor": 2
}
