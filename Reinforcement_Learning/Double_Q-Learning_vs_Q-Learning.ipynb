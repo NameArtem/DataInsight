{
 "cells": [
  {
   "cell_type": "markdown",
   "metadata": {},
   "source": [
    "## Double Q-Learning Tempoeral-Difference control reinforcement learning algorithm\n",
    "\n",
    "Example of simulation of Double Q-Learning and Q-Learning. Double Q-learning maintance two Q-value functions where each one gets update from the other for the next state. The update consists of finding the action that maximises one of the Q-function in the next state, then uses the optimal action to get the value of the Q-function of the other one in order to update the Q-function."
   ]
  },
  {
   "cell_type": "code",
   "execution_count": 1,
   "metadata": {},
   "outputs": [],
   "source": [
    "import numpy as np\n",
    "import matplotlib.pyplot as plt"
   ]
  },
  {
   "cell_type": "code",
   "execution_count": 2,
   "metadata": {},
   "outputs": [],
   "source": [
    "# these are the control variables, change them to customize the execution of this program\n",
    "cntExperiments= 1001 # number of experiments to run, large number means longer execution time\n",
    "MAX_ITER = 301      # number of episodes per experiment, large number means longer execution time\n",
    "ACTIONS_FOR_B = 10  #number of actions at state B"
   ]
  },
  {
   "cell_type": "code",
   "execution_count": 3,
   "metadata": {},
   "outputs": [],
   "source": [
    "#identify the states\n",
    "STATE_A = 0\n",
    "STATE_B = 1\n",
    "STATE_C = 2\n",
    "STATE_D = 3\n",
    "\n",
    "#identify the actions\n",
    "ACTION_LEFT = 0\n",
    "ACTION_RIGHT = 1"
   ]
  },
  {
   "cell_type": "code",
   "execution_count": 4,
   "metadata": {},
   "outputs": [],
   "source": [
    "#map actions to states\n",
    "actionsPerState = {}\n",
    "actionsPerState[STATE_A] = [ACTION_LEFT, ACTION_RIGHT]\n",
    "actionsPerState[STATE_B] = [i for i in range(ACTIONS_FOR_B)]\n",
    "actionsPerState[STATE_C] = [ACTION_RIGHT]\n",
    "actionsPerState[STATE_D] = [ACTION_LEFT]"
   ]
  },
  {
   "cell_type": "code",
   "execution_count": 6,
   "metadata": {},
   "outputs": [],
   "source": [
    "#init Q values\n",
    "Q1={}\n",
    "Q2={}\n",
    "\n",
    "GAMMA = 1"
   ]
  },
  {
   "cell_type": "code",
   "execution_count": 7,
   "metadata": {},
   "outputs": [],
   "source": [
    "# reset the variables, to be called on each experiment\n",
    "def reset():\n",
    "    Q1[STATE_A] = {}\n",
    "    Q1[STATE_A][ACTION_LEFT] = 0\n",
    "    Q1[STATE_A][ACTION_RIGHT] = 0\n",
    "\n",
    "    Q1[STATE_B] = {}\n",
    "\n",
    "    Q1[STATE_C] = {}\n",
    "    Q1[STATE_C][ACTION_LEFT] = 0\n",
    "    Q1[STATE_C][ACTION_RIGHT] = 0\n",
    "\n",
    "    Q1[STATE_D] = {}\n",
    "    Q1[STATE_D][ACTION_LEFT] = 0\n",
    "    Q1[STATE_D][ACTION_RIGHT] = 0\n",
    "\n",
    "    Q2[STATE_A] = {}\n",
    "    Q2[STATE_A][ACTION_LEFT] = 0\n",
    "    Q2[STATE_A][ACTION_RIGHT] = 0\n",
    "\n",
    "    Q2[STATE_B] = {}\n",
    "\n",
    "    Q2[STATE_C] = {}\n",
    "    Q2[STATE_C][ACTION_LEFT] = 0\n",
    "    Q2[STATE_C][ACTION_RIGHT] = 0\n",
    "\n",
    "    Q2[STATE_D] = {}\n",
    "    Q2[STATE_D][ACTION_LEFT] = 0\n",
    "    Q2[STATE_D][ACTION_RIGHT] = 0\n",
    "    for i in range(ACTIONS_FOR_B):\n",
    "        Q1[STATE_B][i] = 0\n",
    "        Q2[STATE_B][i] = 0"
   ]
  },
  {
   "cell_type": "code",
   "execution_count": 8,
   "metadata": {},
   "outputs": [],
   "source": [
    "# epsilon greedy action\n",
    "# it return action a 1-epsilon times\n",
    "# and a random action epsilon times\n",
    "def random_action(s, a, eps=.1):\n",
    "    p = np.random.random()\n",
    "    if p < (1 - eps):\n",
    "        return a\n",
    "    else:\n",
    "        return np.random.choice(actionsPerState[s])"
   ]
  },
  {
   "cell_type": "code",
   "execution_count": 9,
   "metadata": {},
   "outputs": [],
   "source": [
    "# move from state s using action a\n",
    "# it returns the reward and the new state\n",
    "def move(s, a):\n",
    "    if(s==STATE_A):\n",
    "        if(a == ACTION_LEFT): return 0, STATE_B\n",
    "        else: return 0, STATE_C\n",
    "    if s==STATE_B:\n",
    "        return np.random.normal(-.5, 1), STATE_D\n",
    "    return 0, s"
   ]
  },
  {
   "cell_type": "code",
   "execution_count": 10,
   "metadata": {},
   "outputs": [],
   "source": [
    "# returns the action that makes the max Q value, as welle as the max Q value\n",
    "def maxQA(q, s):\n",
    "    max=-9999\n",
    "    sa = 0\n",
    "    for k in q[s]:\n",
    "        if(q[s][k] > max):\n",
    "            max = q[s][k]\n",
    "            sa = k\n",
    "    return sa, max"
   ]
  },
  {
   "cell_type": "code",
   "execution_count": 11,
   "metadata": {},
   "outputs": [],
   "source": [
    "# return true if this is a terminal state\n",
    "def isTerminal(s):\n",
    "    return s == STATE_C or s == STATE_D"
   ]
  },
  {
   "cell_type": "code",
   "execution_count": 12,
   "metadata": {},
   "outputs": [],
   "source": [
    "# select the initial action at state A, it uses greedy method\n",
    "# it takes into the mode doubleQLearning or not\n",
    "def selectInitialAction(doubleQLearning, startState):\n",
    "    if doubleQLearning:\n",
    "        QS = {}\n",
    "        QS[STATE_A] = {}\n",
    "        QS[STATE_A][ACTION_LEFT] = Q1[STATE_A][ACTION_LEFT] + Q2[STATE_A][ACTION_LEFT]\n",
    "        QS[STATE_A][ACTION_RIGHT] = Q1[STATE_A][ACTION_RIGHT] + Q2[STATE_A][ACTION_RIGHT]\n",
    "        a, _ = maxQA(QS, startState)\n",
    "\n",
    "    else:\n",
    "        a, _ = maxQA(Q1, startState)\n",
    "    return a"
   ]
  },
  {
   "cell_type": "code",
   "execution_count": 13,
   "metadata": {},
   "outputs": [],
   "source": [
    "#update Q values depending on whether the mode  is doubleQLearning or not\n",
    "def updateQValues(doubleQLearning, s, a, r, nxt_s, alpha):\n",
    "    if doubleQLearning:\n",
    "        p = np.random.random()\n",
    "        if (p < .5):\n",
    "            nxt_a, maxq = maxQA(Q1, nxt_s)\n",
    "            Q1[s][a] = Q1[s][a] + alpha * (r + GAMMA * Q2[nxt_s][nxt_a] - Q1[s][a])\n",
    "        else:\n",
    "            nxt_a, maxq = maxQA(Q2, nxt_s)\n",
    "            Q2[s][a] = Q2[s][a] + alpha * (r + GAMMA * Q1[nxt_s][nxt_a] - Q2[s][a])\n",
    "    else:\n",
    "        nxt_a, maxq = maxQA(Q1, nxt_s)\n",
    "        Q1[s][a] = Q1[s][a] + alpha * (r + GAMMA * maxq - Q1[s][a])\n",
    "    return nxt_a"
   ]
  },
  {
   "cell_type": "code",
   "execution_count": 14,
   "metadata": {},
   "outputs": [],
   "source": [
    "# do the experiment by running MAX_ITER episodes and fill the restults in the episods parameter\n",
    "def experiment(episods, doubleQLearning = False):\n",
    "    reset()\n",
    "    #contains the number of times left action is chosen at A\n",
    "    ALeft = 0\n",
    "\n",
    "    # contains the number of visits for each state\n",
    "    N={}\n",
    "    N[STATE_A] = 1\n",
    "    N[STATE_B] = 1\n",
    "    N[STATE_C] = 1\n",
    "    N[STATE_D] = 1\n",
    "\n",
    "    # contains the number of visits for each state and action\n",
    "    NSA = {}\n",
    "\n",
    "    # loop for MAX_ITER episods\n",
    "    for i in range(1, MAX_ITER):\n",
    "\n",
    "        s = STATE_A\n",
    "        gameover = False\n",
    "\n",
    "        # use greedy for the action at STATE A\n",
    "        a = selectInitialAction(doubleQLearning, s)\n",
    "\n",
    "        #loop until game is over, this will be ONE episode\n",
    "        while not gameover:\n",
    "\n",
    "            # apply epsilon greedy selection (including for action chosen at STATE A)\n",
    "            a = random_action(s, a, 1/np.sqrt(N[s]))\n",
    "\n",
    "            #update the number of visits for state s\n",
    "            N[s] += 1\n",
    "\n",
    "            # if left action is chosen at state A, increment the counter\n",
    "            if (s == STATE_A and a == ACTION_LEFT):\n",
    "                ALeft += 1\n",
    "\n",
    "            #move to the next state and get the reward\n",
    "            r, nxt_s = move(s, a)\n",
    "\n",
    "            #update the number of visists per state and action\n",
    "            if not s in NSA:\n",
    "                NSA[s] = {}\n",
    "            if not a in NSA[s]:\n",
    "                NSA[s][a] = 0\n",
    "            NSA[s][a] += 1\n",
    "\n",
    "            #compute alpha\n",
    "            alpha = 1 / np.power(NSA[s][a], .8)\n",
    "\n",
    "            #update the Q values and get the best action for the next state\n",
    "            nxt_a = updateQValues(doubleQLearning, s, a, r, nxt_s, alpha)\n",
    "\n",
    "            #if next state is terminal then mark as gameover (end of episode)\n",
    "            gameover = isTerminal(nxt_s)\n",
    "\n",
    "            s = nxt_s\n",
    "            a = nxt_a\n",
    "\n",
    "        #update stats for each episode\n",
    "        if not (i in episods):\n",
    "            episods[i] = {}\n",
    "            episods[i][\"count\"] = 0\n",
    "            episods[i][\"Q1(A)\"] = 0\n",
    "            episods[i][\"Q2(A)\"] = 0\n",
    "        episods[i][\"count\"] = ALeft\n",
    "        episods[i][\"percent\"] = ALeft / i\n",
    "        episods[i][\"Q1(A)\"] = ((episods[i][\"Q1(A)\"] * (i-1)) + Q1[STATE_A][ACTION_LEFT])/i\n",
    "        episods[i][\"Q2(A)\"] = ((episods[i][\"Q2(A)\"] * (i-1)) + Q2[STATE_A][ACTION_LEFT])/i"
   ]
  },
  {
   "cell_type": "code",
   "execution_count": 15,
   "metadata": {},
   "outputs": [],
   "source": [
    "# init a report structure\n",
    "def initReport(report):\n",
    "    for i in range(1,MAX_ITER):\n",
    "        report[i] = {}\n",
    "        report[i][\"steps\"] = i\n",
    "        report[i][\"count\"] = 0\n",
    "        report[i][\"percent\"] = 0\n",
    "        report[i][\"Q1(A)\"] = 0\n",
    "        report[i][\"Q2(A)\"] = 0"
   ]
  },
  {
   "cell_type": "code",
   "execution_count": 16,
   "metadata": {},
   "outputs": [],
   "source": [
    "# run the learning\n",
    "def runLearning(dblQLearn, report, experimentsCount):\n",
    "    #run batch of experiments\n",
    "    for k in range(1, experimentsCount):\n",
    "        tmp = {}\n",
    "        experiment(tmp, dblQLearn)\n",
    "        #aggregate every experiment result into the final report\n",
    "        for i in report:\n",
    "            report[i][\"count\"] = ((report[i][\"count\"] * (k-1)) + tmp[i][\"count\"])/k\n",
    "            report[i][\"percent\"] = 100*report[i][\"count\"] / i\n",
    "            report[i][\"Q1(A)\"] = ((report[i][\"Q1(A)\"] * (k-1)) + tmp[i][\"Q1(A)\"])/k\n",
    "            report[i][\"Q2(A)\"] = ((report[i][\"Q2(A)\"] * (k-1)) + tmp[i][\"Q2(A)\"])/k"
   ]
  },
  {
   "cell_type": "code",
   "execution_count": 17,
   "metadata": {},
   "outputs": [],
   "source": [
    "# print the report\n",
    "def printReport(dblQLearn, report):\n",
    "    # display the final report\n",
    "    print(\"Double Q Learning\" if dblQLearn else \"Q learning\")\n",
    "    for i in report:\n",
    "        if(i==1 or i%10==0):\n",
    "            print(i, \", \", report[i][\"percent\"],\", \", report[i][\"Q1(A)\"],\", \", report[i][\"Q2(A)\"])"
   ]
  },
  {
   "cell_type": "code",
   "execution_count": 18,
   "metadata": {},
   "outputs": [],
   "source": [
    "# draw graphs of both curves QL and Double QL\n",
    "def drawGraph(reportQl, reportDQl):\n",
    "    steps=[]\n",
    "    yQL=[]\n",
    "    yDQL = []\n",
    "    for i in reportQl:\n",
    "        steps.append(i)\n",
    "        yQL.append(reportQl[i][\"percent\"])\n",
    "        yDQL.append(reportDQl[i][\"percent\"])\n",
    "\n",
    "    df= {'steps':steps, 'yQL':yQL, 'yDQL':yDQL}\n",
    "    # multiple line plot\n",
    "    plt.plot('steps', 'yQL' , data=df, marker='', color='red', linewidth=1, label=\"Q-Learning\")\n",
    "    plt.plot('steps', 'yDQL', data=df, marker='', color='blue', linewidth=1, label=\"Double Q-Learning\")\n",
    "    plt.legend()\n",
    "    plt.title(\"Double Q-Learning vs Q-Learning\")\n",
    "    plt.show()"
   ]
  },
  {
   "cell_type": "code",
   "execution_count": 19,
   "metadata": {},
   "outputs": [],
   "source": [
    "# init report variables that will hold all the results\n",
    "reportQL={}\n",
    "reportDQL={}\n",
    "\n",
    "initReport(reportQL)\n",
    "initReport(reportDQL)"
   ]
  },
  {
   "cell_type": "code",
   "execution_count": 20,
   "metadata": {},
   "outputs": [
    {
     "name": "stdout",
     "output_type": "stream",
     "text": [
      "Q learning\n",
      "1 ,  50.4999999999999 ,  0.0 ,  0.0\n",
      "10 ,  74.53 ,  0.02921933878463853 ,  0.0\n",
      "20 ,  80.1099999999998 ,  0.012935559181951167 ,  0.0\n",
      "30 ,  80.05666666666669 ,  0.005294921698263261 ,  0.0\n",
      "40 ,  75.9075 ,  0.001700774787208458 ,  0.0\n",
      "50 ,  69.664 ,  0.0003026239020833505 ,  0.0\n",
      "60 ,  62.93166666666669 ,  -0.00026521716036426293 ,  0.0\n",
      "70 ,  56.62428571428571 ,  -0.0004923344296328894 ,  0.0\n",
      "80 ,  51.101249999999936 ,  -0.0005784946742636395 ,  0.0\n",
      "90 ,  46.406666666666624 ,  -0.0006079818448730489 ,  0.0\n",
      "100 ,  42.45300000000003 ,  -0.0006145382555768618 ,  0.0\n",
      "110 ,  39.11181818181819 ,  -0.0006106091706100876 ,  0.0\n",
      "120 ,  36.309166666666655 ,  -0.0005993305894166879 ,  0.0\n",
      "130 ,  33.893076923076926 ,  -0.0005867182065284287 ,  0.0\n",
      "140 ,  31.81000000000001 ,  -0.0005755593500165112 ,  0.0\n",
      "150 ,  30.007333333333325 ,  -0.0005630563121531191 ,  0.0\n",
      "160 ,  28.41375000000002 ,  -0.00054869532953701 ,  0.0\n",
      "170 ,  27.01058823529409 ,  -0.0005397192463760551 ,  0.0\n",
      "180 ,  25.735000000000007 ,  -0.0005289172166368559 ,  0.0\n",
      "190 ,  24.571578947368412 ,  -0.0005176005261991766 ,  0.0\n",
      "200 ,  23.527999999999984 ,  -0.0005073319715076039 ,  0.0\n",
      "210 ,  22.586666666666694 ,  -0.0004980337660233394 ,  0.0\n",
      "220 ,  21.717727272727245 ,  -0.00048714512235022075 ,  0.0\n",
      "230 ,  20.904782608695665 ,  -0.0004767256413163115 ,  0.0\n",
      "240 ,  20.151666666666667 ,  -0.0004659873272197889 ,  0.0\n",
      "250 ,  19.486800000000002 ,  -0.0004567493243108281 ,  0.0\n",
      "260 ,  18.859999999999992 ,  -0.0004482787435284064 ,  0.0\n",
      "270 ,  18.2774074074074 ,  -0.0004395535779480201 ,  0.0\n",
      "280 ,  17.725714285714286 ,  -0.00043103373899709214 ,  0.0\n",
      "290 ,  17.22896551724138 ,  -0.000424443016035398 ,  0.0\n",
      "300 ,  16.761666666666674 ,  -0.00041702499838711733 ,  0.0\n"
     ]
    }
   ],
   "source": [
    "# run and print QLearning\n",
    "runLearning(False, reportQL, cntExperiments)\n",
    "printReport(False, reportQL)"
   ]
  },
  {
   "cell_type": "code",
   "execution_count": 21,
   "metadata": {},
   "outputs": [
    {
     "name": "stdout",
     "output_type": "stream",
     "text": [
      "Double Q Learning\n",
      "1 ,  49.59999999999995 ,  0.0 ,  0.0\n",
      "10 ,  59.85 ,  -0.008197203961283778 ,  -0.007592237834568716\n",
      "20 ,  43.340000000000046 ,  -0.0066514487737155134 ,  -0.00683905739079252\n",
      "30 ,  34.27666666666665 ,  -0.0052322733791910925 ,  -0.005450299334898906\n",
      "40 ,  28.51000000000002 ,  -0.004384769554660364 ,  -0.0045168631388956\n",
      "50 ,  24.651999999999994 ,  -0.0038145630231118137 ,  -0.0038471161387992714\n",
      "60 ,  21.793333333333337 ,  -0.0033230932132001546 ,  -0.003337057095617264\n",
      "70 ,  19.74285714285715 ,  -0.0029965010472520906 ,  -0.00302811896470719\n",
      "80 ,  18.105 ,  -0.0027086162324080816 ,  -0.0027164077560097037\n",
      "90 ,  16.762222222222224 ,  -0.0024754394711153246 ,  -0.0025023132025798474\n",
      "100 ,  15.698 ,  -0.0022999109841098492 ,  -0.0023261151228138616\n",
      "110 ,  14.767272727272708 ,  -0.0021266335003417196 ,  -0.0021707920283737373\n",
      "120 ,  13.979999999999993 ,  -0.0019998709182757358 ,  -0.0020450921440621057\n",
      "130 ,  13.264615384615402 ,  -0.0018761448174933915 ,  -0.001915657067696798\n",
      "140 ,  12.625000000000016 ,  -0.0017643630280861262 ,  -0.00180886987848943\n",
      "150 ,  12.077999999999992 ,  -0.0016684564488952088 ,  -0.0017055348588292838\n",
      "160 ,  11.570625000000017 ,  -0.0015809634537057307 ,  -0.0016234819897220538\n",
      "170 ,  11.138235294117651 ,  -0.0015069171087326338 ,  -0.001540103088410601\n",
      "180 ,  10.733333333333336 ,  -0.0014312811128057508 ,  -0.001467549499755093\n",
      "190 ,  10.387894736842082 ,  -0.0013725271372353636 ,  -0.001402778474247689\n",
      "200 ,  10.09349999999999 ,  -0.0013269808495228112 ,  -0.0013463283986716076\n",
      "210 ,  9.783333333333339 ,  -0.0012732423628136452 ,  -0.0012943990880560086\n",
      "220 ,  9.502272727272734 ,  -0.0012203571008040104 ,  -0.0012482235691073118\n",
      "230 ,  9.232608695652182 ,  -0.0011732604344049902 ,  -0.001207595593640768\n",
      "240 ,  8.985833333333327 ,  -0.001131176471142018 ,  -0.0011667318054235233\n",
      "250 ,  8.760399999999997 ,  -0.0010950295812183195 ,  -0.001129228689665067\n",
      "260 ,  8.542692307692315 ,  -0.0010593733597366573 ,  -0.0010927796522284172\n",
      "270 ,  8.342962962962966 ,  -0.001027792297437534 ,  -0.0010540893513179032\n",
      "280 ,  8.161785714285713 ,  -0.0010007986429027738 ,  -0.0010184901022267606\n",
      "290 ,  7.987586206896552 ,  -0.000971291377968642 ,  -0.0009884937460454513\n",
      "300 ,  7.824666666666672 ,  -0.0009439023534960052 ,  -0.0009592685302745348\n"
     ]
    }
   ],
   "source": [
    "# run and print Double QLearning\n",
    "runLearning(True, reportDQL, cntExperiments)\n",
    "printReport(True, reportDQL)"
   ]
  },
  {
   "cell_type": "markdown",
   "metadata": {},
   "source": [
    "The figure below show a comparison between Double Q-Learning and Q-Learning when the number of actions at state B are 10 and 100 consecutively. "
   ]
  },
  {
   "cell_type": "code",
   "execution_count": 22,
   "metadata": {},
   "outputs": [
    {
     "data": {
      "image/png": "[encoded data removed]",
      "text/plain": [
       "<Figure size 432x288 with 1 Axes>"
      ]
     },
     "metadata": {
      "needs_background": "light"
     },
     "output_type": "display_data"
    }
   ],
   "source": [
    "# print graphs\n",
    "drawGraph(reportQL, reportDQL)"
   ]
  },
  {
   "cell_type": "markdown",
   "metadata": {},
   "source": [
    "### Conclusion\n",
    "\n",
    "It is clear that the Double Q-Learning converges faster than Q-learning. We can notice that when the number of actions at B increases, Q-learning needs far more training than Double Q-Learning."
   ]
  },
  {
   "cell_type": "code",
   "execution_count": null,
   "metadata": {},
   "outputs": [],
   "source": []
  }
 ],
 "metadata": {
  "kernelspec": {
   "display_name": "Python 3",
   "language": "python",
   "name": "python3"
  },
  "language_info": {
   "codemirror_mode": {
    "name": "ipython",
    "version": 3
   },
   "file_extension": ".py",
   "mimetype": "text/x-python",
   "name": "python",
   "nbconvert_exporter": "python",
   "pygments_lexer": "ipython3",
   "version": "3.7.1"
  }
 },
 "nbformat": 4,
 "nbformat_minor": 2
}
