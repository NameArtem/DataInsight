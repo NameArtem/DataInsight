{
 "cells": [
  {
   "cell_type": "markdown",
   "metadata": {},
   "source": [
    "# Solving OpenAI Gym PongNoFrameskip-v4 problem\n",
    "\n",
    "    Pong-v0\n",
    "    Maximize your score in the Atari 2600 game Pong. In this environment,\n",
    "    the observation is an RGB image of the screen, which is an array \n",
    "    of shape (210, 160, 3) Each action is repeatedly performed for a duration of \n",
    "    kk frames, where kk is uniformly sampled from \\{2, 3, 4\\}{2,3,4}.\n",
    "    \n",
    "\n",
    "#### Reinforcement techniques used\n",
    "- Deep Q-Network (DQN)\n",
    "- Double DQN (DDQN)\n",
    "- Dueling DQN\n",
    "- Dueling Double DQN (DDDQN)"
   ]
  },
  {
   "cell_type": "code",
   "execution_count": 1,
   "metadata": {},
   "outputs": [],
   "source": [
    "import os\n",
    "import gym\n",
    "import numpy as np\n",
    "import torch.nn as nn\n",
    "import torch.nn.functional as F\n",
    "import torch.optim as optim\n",
    "import torch as T\n",
    "\n",
    "import matplotlib.pyplot as plt\n",
    "\n",
    "from utils import plot_learning_curve, make_env\n",
    "from replay_memory import ReplayBuffer\n",
    "from agents import DQNAgent, DDQNAgent, DuelingDQNAgent, DuelingDDQNAgent"
   ]
  },
  {
   "cell_type": "code",
   "execution_count": 2,
   "metadata": {},
   "outputs": [
    {
     "name": "stderr",
     "output_type": "stream",
     "text": [
      "/Users/chrisjcc/.virtualenvs/ml/lib/python3.7/site-packages/gym/envs/registration.py:14: PkgResourcesDeprecationWarning: Parameters to load are deprecated.  Call .resolve and .require separately.\n",
      "  result = entry_point.load(False)\n"
     ]
    }
   ],
   "source": [
    "env = make_env('PongNoFrameskip-v4')"
   ]
  },
  {
   "cell_type": "code",
   "execution_count": 3,
   "metadata": {},
   "outputs": [],
   "source": [
    "best_score = -np.inf # results in saving the model right away\n",
    "load_checkpoint = False\n",
    "#n_games = 500\n",
    "n_games = 1 #100"
   ]
  },
  {
   "cell_type": "markdown",
   "metadata": {},
   "source": [
    "### DQN"
   ]
  },
  {
   "cell_type": "code",
   "execution_count": null,
   "metadata": {},
   "outputs": [],
   "source": [
    "agent = DQNAgent(gamma=0.99, epsilon=1.0, lr=1e-4, \n",
    "                 input_dims=(env.observation_space.shape),\n",
    "                 n_actions=env.action_space.n, \n",
    "                 mem_size=10000, #50000, # if at least 16 GB of RAM\n",
    "                 eps_min=0.1, \n",
    "                 batch_size=32, \n",
    "                 replace=1000, # matter of hours\n",
    "                 eps_dec=1e-5, # get epsilon down to 0.1 in around 100K steps\n",
    "                 chkpt_dir='models/', # do mkdir beforehand \n",
    "                 algo='DQNAgent', # to construct appropriate model file\n",
    "                 env_name='PongNoFrameskip-v4' # environment name\n",
    "                )\n",
    "if load_checkpoint: # handle check point\n",
    "    agent.load_models() # False in training mode"
   ]
  },
  {
   "cell_type": "code",
   "execution_count": null,
   "metadata": {},
   "outputs": [],
   "source": [
    "agent_ = getattr(Agents, algo) # algo type string\n",
    "agent = agent_(\n",
    "                 gamma=0.99, epsilon=1.0, lr=1e-4, \n",
    "                 input_dims=(env.observation_space.shape),\n",
    "                 n_actions=env.action_space.n, \n",
    "                 mem_size=10000, #50000, # if at least 16 GB of RAM\n",
    "                 eps_min=0.1, \n",
    "                 batch_size=32, \n",
    "                 replace=1000, # matter of hours\n",
    "                 eps_dec=1e-5, # get epsilon down to 0.1 in around 100K steps\n",
    "                 chkpt_dir='models/', # do mkdir beforehand \n",
    "                 algo='DQNAgent', # to construct appropriate model file\n",
    "                 env_name='PongNoFrameskip-v4'\n",
    "              )"
   ]
  },
  {
   "cell_type": "code",
   "execution_count": null,
   "metadata": {},
   "outputs": [],
   "source": [
    "fname = agent.algo + '_' + agent.env_name + '_lr' + str(agent.lr) + '_' + str(n_games) + 'games'              \n",
    "figure_file = 'plots/' + fname + '.png'\n",
    "\n",
    "n_steps = 0 # for debug purposes\n",
    "scores, eps_history, steps_array = [], [], [] # to keep track of scores and epsilon history for the plotting"
   ]
  },
  {
   "cell_type": "code",
   "execution_count": null,
   "metadata": {},
   "outputs": [],
   "source": [
    "%%time\n",
    "# play the game\n",
    "for i in range(n_games):\n",
    "    done = False\n",
    "    observation = env.reset()\n",
    "    score = 0\n",
    "    \n",
    "    while not done:\n",
    "        action = agent.choose_action(observation)\n",
    "        observation_, reward, done, info = env.step(action)\n",
    "        score += reward\n",
    "\n",
    "        if not load_checkpoint:\n",
    "            agent.store_transition(observation, action, \n",
    "                                   reward, observation_, int(done))\n",
    "            agent.learn()\n",
    "        observation = observation_\n",
    "        n_steps += 1\n",
    "    scores.append(score)\n",
    "    steps_array.append(n_steps)\n",
    "\n",
    "    avg_score = np.mean(scores[-100:])\n",
    "    print('episode: ', i,'score: ', score,\n",
    "          'average score %.1f' % avg_score, 'best score %.2f' % best_score,\n",
    "          'epsilon %.2f' % agent.epsilon, 'steps', n_steps)\n",
    "\n",
    "    if avg_score > best_score:\n",
    "        #if not load_checkpoint:\n",
    "        #    agent.save_models()\n",
    "        best_score = avg_score\n",
    "\n",
    "    eps_history.append(agent.epsilon)\n",
    "    \n",
    "    if load_checkpoint and n_steps >= 18000:\n",
    "        break"
   ]
  },
  {
   "cell_type": "code",
   "execution_count": null,
   "metadata": {},
   "outputs": [],
   "source": [
    "#x = [i+1 for i in range(len(scores))]\n",
    "#plot_learning_curve(x,  scores, eps_history, figure_file)\n",
    "plot_learning_curve(steps_array, scores, eps_history, figure_file)"
   ]
  },
  {
   "cell_type": "markdown",
   "metadata": {},
   "source": [
    "### Double DQN"
   ]
  },
  {
   "cell_type": "code",
   "execution_count": null,
   "metadata": {},
   "outputs": [],
   "source": [
    "agent = DDQNAgent(gamma=0.99, epsilon=1.0, lr=0.0001,\n",
    "                     input_dims=(env.observation_space.shape),\n",
    "                     n_actions=env.action_space.n, mem_size=50000, eps_min=0.1,\n",
    "                     batch_size=32, replace=10000, eps_dec=1e-5,\n",
    "                     chkpt_dir='models/', algo='DDQNAgent',\n",
    "                     env_name='PongNoFrameskip-v4')\n",
    "\n",
    "if load_checkpoint:\n",
    "    agent.load_models()"
   ]
  },
  {
   "cell_type": "code",
   "execution_count": null,
   "metadata": {},
   "outputs": [],
   "source": [
    "fname = agent.algo + '_' + agent.env_name + '_lr' + str(agent.lr) +'_' \\\n",
    "            + str(n_games) + 'games'\n",
    "figure_file = 'plots/' + fname + '.png'"
   ]
  },
  {
   "cell_type": "code",
   "execution_count": null,
   "metadata": {},
   "outputs": [],
   "source": [
    "n_steps = 0\n",
    "scores, eps_history, steps_array = [], [], []"
   ]
  },
  {
   "cell_type": "code",
   "execution_count": null,
   "metadata": {},
   "outputs": [],
   "source": [
    "# play the game\n",
    "for i in range(n_games):\n",
    "    done = False\n",
    "    observation = env.reset()\n",
    "\n",
    "    score = 0\n",
    "    while not done:\n",
    "        action = agent.choose_action(observation)\n",
    "        observation_, reward, done, info = env.step(action)\n",
    "        score += reward\n",
    "\n",
    "        if not load_checkpoint:\n",
    "            agent.store_transition(observation, action,\n",
    "                                   reward, observation_, int(done))\n",
    "            agent.learn()\n",
    "        observation = observation_\n",
    "        n_steps += 1\n",
    "    scores.append(score)\n",
    "    steps_array.append(n_steps)\n",
    "\n",
    "    avg_score = np.mean(scores[-100:])\n",
    "    print('episode: ', i,'score: ', score,\n",
    "          ' average score %.1f' % avg_score, 'best score %.2f' % best_score,\n",
    "          'epsilon %.2f' % agent.epsilon, 'steps', n_steps)\n",
    "\n",
    "    if avg_score > best_score:\n",
    "        #if not load_checkpoint:\n",
    "        #    agent.save_models()\n",
    "        best_score = avg_score\n",
    "\n",
    "    eps_history.append(agent.epsilon)\n",
    "    if load_checkpoint and n_steps >= 18000:\n",
    "        break"
   ]
  },
  {
   "cell_type": "code",
   "execution_count": null,
   "metadata": {},
   "outputs": [],
   "source": [
    "x = [i+1 for i in range(len(scores))]\n",
    "plot_learning_curve(x,  scores, eps_history, figure_file)"
   ]
  },
  {
   "cell_type": "markdown",
   "metadata": {},
   "source": [
    "### Dueling DQN"
   ]
  },
  {
   "cell_type": "code",
   "execution_count": 4,
   "metadata": {},
   "outputs": [],
   "source": [
    "agent = DuelingDQNAgent(gamma=0.99, epsilon=1.0, lr=0.0001,\n",
    "                     input_dims=(env.observation_space.shape),\n",
    "                     n_actions=env.action_space.n, mem_size=50000, eps_min=0.1,\n",
    "                     batch_size=32, replace=10000, eps_dec=1e-5,\n",
    "                     chkpt_dir='models/', algo='DuelingDQNAgent',\n",
    "                     env_name='PongNoFrameskip-v4')\n",
    "\n",
    "if load_checkpoint:\n",
    "    agent.load_models()"
   ]
  },
  {
   "cell_type": "code",
   "execution_count": 5,
   "metadata": {},
   "outputs": [],
   "source": [
    "fname = agent.algo + '_' + agent.env_name + '_lr' + str(agent.lr) +'_' \\\n",
    "            + str(n_games) + 'games'\n",
    "figure_file = 'plots/' + fname + '.png'"
   ]
  },
  {
   "cell_type": "code",
   "execution_count": 6,
   "metadata": {},
   "outputs": [],
   "source": [
    "n_steps = 0\n",
    "scores, eps_history, steps_array = [], [], []"
   ]
  },
  {
   "cell_type": "code",
   "execution_count": 7,
   "metadata": {},
   "outputs": [
    {
     "name": "stdout",
     "output_type": "stream",
     "text": [
      "episode:  0 score:  -21.0  average score -21.0 best score -inf epsilon 0.99 steps 873\n",
      "... saving checkpoint ...\n",
      "... saving checkpoint ...\n"
     ]
    }
   ],
   "source": [
    "# play the game\n",
    "for i in range(n_games):\n",
    "    done = False\n",
    "    observation = env.reset()\n",
    "    score = 0\n",
    "        \n",
    "    while not done:\n",
    "        action = agent.choose_action(observation)\n",
    "        observation_, reward, done, info = env.step(action)\n",
    "        score += reward\n",
    "\n",
    "        if not load_checkpoint:\n",
    "            agent.store_transition(observation, action,\n",
    "                                   reward, observation_, int(done))\n",
    "            agent.learn()\n",
    "        observation = observation_\n",
    "        n_steps += 1\n",
    "    scores.append(score)\n",
    "    steps_array.append(n_steps)\n",
    "\n",
    "    avg_score = np.mean(scores[-100:])\n",
    "    print('episode: ', i,'score: ', score,\n",
    "          ' average score %.1f' % avg_score, 'best score %.2f' % best_score,\n",
    "          'epsilon %.2f' % agent.epsilon, 'steps', n_steps)\n",
    "\n",
    "    if avg_score > best_score:\n",
    "        if not load_checkpoint:\n",
    "            agent.save_models()\n",
    "        best_score = avg_score\n",
    "\n",
    "    eps_history.append(agent.epsilon)\n",
    "    if load_checkpoint and n_steps >= 18000:\n",
    "        break"
   ]
  },
  {
   "cell_type": "code",
   "execution_count": 8,
   "metadata": {},
   "outputs": [
    {
     "data": {
      "image/png": "[encoded data removed]",
      "text/plain": [
       "<Figure size 432x288 with 2 Axes>"
      ]
     },
     "metadata": {},
     "output_type": "display_data"
    }
   ],
   "source": [
    "#x = [i+1 for i in range(len(scores))]\n",
    "#plot_learning_curve(x,  scores, eps_history, figure_file)\n",
    "plot_learning_curve(steps_array, scores, eps_history, figure_file)"
   ]
  },
  {
   "cell_type": "markdown",
   "metadata": {},
   "source": [
    "### Dueling Double DQN"
   ]
  },
  {
   "cell_type": "code",
   "execution_count": null,
   "metadata": {},
   "outputs": [],
   "source": [
    "agent = DuelingDDQNAgent(gamma=0.99, epsilon=1.0, lr=0.0001,\n",
    "                     input_dims=(env.observation_space.shape),\n",
    "                     n_actions=env.action_space.n, mem_size=50000, eps_min=0.1,\n",
    "                     batch_size=32, replace=10000, eps_dec=1e-5,\n",
    "                     chkpt_dir='models/', algo='DuelingDDQNAgent',\n",
    "                     env_name='PongNoFrameskip-v4')\n",
    "\n",
    "if load_checkpoint:\n",
    "    agent.load_models()"
   ]
  },
  {
   "cell_type": "code",
   "execution_count": null,
   "metadata": {},
   "outputs": [],
   "source": [
    "fname = agent.algo + '_' + agent.env_name + '_lr' + str(agent.lr) +'_' \\\n",
    "            + str(n_games) + 'games'\n",
    "figure_file = 'plots/' + fname + '.png'"
   ]
  },
  {
   "cell_type": "code",
   "execution_count": null,
   "metadata": {},
   "outputs": [],
   "source": [
    "n_steps = 0\n",
    "scores, eps_history, steps_array = [], [], []"
   ]
  },
  {
   "cell_type": "code",
   "execution_count": null,
   "metadata": {},
   "outputs": [],
   "source": [
    "# play the game\n",
    "for i in range(n_games):\n",
    "    done = False\n",
    "    observation = env.reset()\n",
    "    score = 0\n",
    "        \n",
    "    while not done:\n",
    "        action = agent.choose_action(observation)\n",
    "        observation_, reward, done, info = env.step(action)\n",
    "        score += reward\n",
    "\n",
    "        if not load_checkpoint:\n",
    "            agent.store_transition(observation, action,\n",
    "                                   reward, observation_, int(done))\n",
    "            agent.learn()\n",
    "        observation = observation_\n",
    "        n_steps += 1\n",
    "    scores.append(score)\n",
    "    steps_array.append(n_steps)\n",
    "\n",
    "    avg_score = np.mean(scores[-100:])\n",
    "    print('episode: ', i,'score: ', score,\n",
    "          ' average score %.1f' % avg_score, 'best score %.2f' % best_score,\n",
    "          'epsilon %.2f' % agent.epsilon, 'steps', n_steps)\n",
    "\n",
    "    if avg_score > best_score:\n",
    "        if not load_checkpoint:\n",
    "            agent.save_models()\n",
    "        best_score = avg_score\n",
    "\n",
    "    eps_history.append(agent.epsilon)\n",
    "    if load_checkpoint and n_steps >= 18000:\n",
    "        break"
   ]
  },
  {
   "cell_type": "code",
   "execution_count": null,
   "metadata": {},
   "outputs": [],
   "source": [
    "#x = [i+1 for i in range(len(scores))]\n",
    "#plot_learning_curve(x,  scores, eps_history, figure_file)\n",
    "plot_learning_curve(steps_array, scores, eps_history, figure_file)"
   ]
  },
  {
   "cell_type": "markdown",
   "metadata": {},
   "source": [
    "https://github.com/pytorch/examples/blob/master/reinforcement_learning/reinforce.py"
   ]
  },
  {
   "cell_type": "code",
   "execution_count": null,
   "metadata": {},
   "outputs": [],
   "source": []
  }
 ],
 "metadata": {
  "kernelspec": {
   "display_name": "Python 3",
   "language": "python",
   "name": "python3"
  },
  "language_info": {
   "codemirror_mode": {
    "name": "ipython",
    "version": 3
   },
   "file_extension": ".py",
   "mimetype": "text/x-python",
   "name": "python",
   "nbconvert_exporter": "python",
   "pygments_lexer": "ipython3",
   "version": "3.7.3"
  }
 },
 "nbformat": 4,
 "nbformat_minor": 2
}
