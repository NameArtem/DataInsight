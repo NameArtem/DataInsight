{
 "cells": [
  {
   "cell_type": "markdown",
   "metadata": {},
   "source": [
    "## Bike Sharing Problem - Model building and inference\n",
    "\n",
    "This notebook documents the analysis and model development for the Bike Sharing Dataset.\n",
    "\n",
    "$\\bf{Goal}$: To goal is to build a predictive model for the number of bike rides an hour based on time of year and weather. In particular we are interested in predicting the number of rides, cnt.\n",
    "\n",
    "The characteristics of the given problem are\n",
    "\n",
    "- Regression: The target variable is a quantity.\n",
    "- Small dataset: Less than 20K samples.\n",
    "- Few features should be important.\n",
    "    * The correlation matrix indicates that a few features contain the information to predict the target variable.\n",
    "\n",
    "It contains the following steps:\n",
    "- Overview metrics\n",
    "- Model building\n",
    "- Model Selection\n",
    "  * Linear Regession\n",
    "  * Tree-based Ensemble Regression\n",
    "  * Feature importance\n",
    "- Model evaluation"
   ]
  },
  {
   "cell_type": "code",
   "execution_count": 2,
   "metadata": {},
   "outputs": [],
   "source": [
    "## Loading required package\n",
    "import warnings\n",
    "warnings.filterwarnings(\"ignore\", category=DeprecationWarning)\n",
    "warnings.filterwarnings(\"ignore\", category=UserWarning)\n",
    "warnings.filterwarnings(\"ignore\", category=RuntimeWarning)\n",
    "warnings.filterwarnings(\"ignore\", category=FutureWarning)\n",
    "from warnings import filterwarnings\n",
    "filterwarnings('ignore')\n",
    "\n",
    "import numpy as np\n",
    "import pandas as pd\n",
    "import matplotlib.pyplot as plt\n",
    "import seaborn as sns\n",
    "sns.set(style=\"whitegrid\")\n",
    "import scipy.stats as stats\n",
    "\n",
    "# Sklearn metrics\n",
    "from sklearn.metrics import mean_squared_error, mean_squared_log_error\n",
    "from sklearn.metrics import mean_absolute_error, median_absolute_error\n",
    "from sklearn.model_selection import cross_val_predict\n",
    "from sklearn.model_selection import cross_val_score\n",
    "from sklearn import preprocessing\n",
    "\n",
    "# Sklearn models\n",
    "from sklearn.linear_model import Lasso, ElasticNet, Ridge, SGDRegressor, LinearRegression\n",
    "from sklearn.ensemble import RandomForestRegressor, GradientBoostingRegressor, AdaBoostRegressor\n",
    "from sklearn.tree import DecisionTreeRegressor\n",
    "\n",
    "# Sklearn untility functions\n",
    "from sklearn.model_selection import train_test_split\n",
    "\n",
    "# XGBoost, Catboost, and LightGBM models\n",
    "import xgboost as xgb\n",
    "from xgboost import XGBClassifier\n",
    "from catboost import CatBoostRegressor\n",
    "import lightgbm as lgbm\n",
    "\n",
    "# Beautify evaluation tables\n",
    "from prettytable import PrettyTable\n",
    "\n",
    "np.random.seed(42)"
   ]
  },
  {
   "cell_type": "code",
   "execution_count": 3,
   "metadata": {},
   "outputs": [],
   "source": [
    "# File path \n",
    "base_dir = '/Users/chrisjcc/Downloads/'\n",
    "data_path = base_dir + 'hour.csv'\n",
    "\n",
    "# Load data\n",
    "data = pd.read_csv(data_path) "
   ]
  },
  {
   "cell_type": "code",
   "execution_count": 4,
   "metadata": {},
   "outputs": [
    {
     "data": {
      "text/html": [
       "<div>\n",
       "<style scoped>\n",
       "    .dataframe tbody tr th:only-of-type {\n",
       "        vertical-align: middle;\n",
       "    }\n",
       "\n",
       "    .dataframe tbody tr th {\n",
       "        vertical-align: top;\n",
       "    }\n",
       "\n",
       "    .dataframe thead th {\n",
       "        text-align: right;\n",
       "    }\n",
       "</style>\n",
       "<table border=\"1\" class=\"dataframe\">\n",
       "  <thead>\n",
       "    <tr style=\"text-align: right;\">\n",
       "      <th></th>\n",
       "      <th>instant</th>\n",
       "      <th>dteday</th>\n",
       "      <th>season</th>\n",
       "      <th>yr</th>\n",
       "      <th>mnth</th>\n",
       "      <th>hr</th>\n",
       "      <th>holiday</th>\n",
       "      <th>weekday</th>\n",
       "      <th>workingday</th>\n",
       "      <th>weathersit</th>\n",
       "      <th>temp</th>\n",
       "      <th>atemp</th>\n",
       "      <th>hum</th>\n",
       "      <th>windspeed</th>\n",
       "      <th>casual</th>\n",
       "      <th>registered</th>\n",
       "      <th>cnt</th>\n",
       "    </tr>\n",
       "  </thead>\n",
       "  <tbody>\n",
       "    <tr>\n",
       "      <th>0</th>\n",
       "      <td>1</td>\n",
       "      <td>2011-01-01</td>\n",
       "      <td>1</td>\n",
       "      <td>0</td>\n",
       "      <td>1</td>\n",
       "      <td>0</td>\n",
       "      <td>0</td>\n",
       "      <td>6</td>\n",
       "      <td>0</td>\n",
       "      <td>1</td>\n",
       "      <td>0.24</td>\n",
       "      <td>0.2879</td>\n",
       "      <td>0.81</td>\n",
       "      <td>0.0</td>\n",
       "      <td>3</td>\n",
       "      <td>13</td>\n",
       "      <td>16</td>\n",
       "    </tr>\n",
       "    <tr>\n",
       "      <th>1</th>\n",
       "      <td>2</td>\n",
       "      <td>2011-01-01</td>\n",
       "      <td>1</td>\n",
       "      <td>0</td>\n",
       "      <td>1</td>\n",
       "      <td>1</td>\n",
       "      <td>0</td>\n",
       "      <td>6</td>\n",
       "      <td>0</td>\n",
       "      <td>1</td>\n",
       "      <td>0.22</td>\n",
       "      <td>0.2727</td>\n",
       "      <td>0.80</td>\n",
       "      <td>0.0</td>\n",
       "      <td>8</td>\n",
       "      <td>32</td>\n",
       "      <td>40</td>\n",
       "    </tr>\n",
       "    <tr>\n",
       "      <th>2</th>\n",
       "      <td>3</td>\n",
       "      <td>2011-01-01</td>\n",
       "      <td>1</td>\n",
       "      <td>0</td>\n",
       "      <td>1</td>\n",
       "      <td>2</td>\n",
       "      <td>0</td>\n",
       "      <td>6</td>\n",
       "      <td>0</td>\n",
       "      <td>1</td>\n",
       "      <td>0.22</td>\n",
       "      <td>0.2727</td>\n",
       "      <td>0.80</td>\n",
       "      <td>0.0</td>\n",
       "      <td>5</td>\n",
       "      <td>27</td>\n",
       "      <td>32</td>\n",
       "    </tr>\n",
       "    <tr>\n",
       "      <th>3</th>\n",
       "      <td>4</td>\n",
       "      <td>2011-01-01</td>\n",
       "      <td>1</td>\n",
       "      <td>0</td>\n",
       "      <td>1</td>\n",
       "      <td>3</td>\n",
       "      <td>0</td>\n",
       "      <td>6</td>\n",
       "      <td>0</td>\n",
       "      <td>1</td>\n",
       "      <td>0.24</td>\n",
       "      <td>0.2879</td>\n",
       "      <td>0.75</td>\n",
       "      <td>0.0</td>\n",
       "      <td>3</td>\n",
       "      <td>10</td>\n",
       "      <td>13</td>\n",
       "    </tr>\n",
       "    <tr>\n",
       "      <th>4</th>\n",
       "      <td>5</td>\n",
       "      <td>2011-01-01</td>\n",
       "      <td>1</td>\n",
       "      <td>0</td>\n",
       "      <td>1</td>\n",
       "      <td>4</td>\n",
       "      <td>0</td>\n",
       "      <td>6</td>\n",
       "      <td>0</td>\n",
       "      <td>1</td>\n",
       "      <td>0.24</td>\n",
       "      <td>0.2879</td>\n",
       "      <td>0.75</td>\n",
       "      <td>0.0</td>\n",
       "      <td>0</td>\n",
       "      <td>1</td>\n",
       "      <td>1</td>\n",
       "    </tr>\n",
       "  </tbody>\n",
       "</table>\n",
       "</div>"
      ],
      "text/plain": [
       "   instant      dteday  season  yr  mnth  hr  holiday  weekday  workingday  \\\n",
       "0        1  2011-01-01       1   0     1   0        0        6           0   \n",
       "1        2  2011-01-01       1   0     1   1        0        6           0   \n",
       "2        3  2011-01-01       1   0     1   2        0        6           0   \n",
       "3        4  2011-01-01       1   0     1   3        0        6           0   \n",
       "4        5  2011-01-01       1   0     1   4        0        6           0   \n",
       "\n",
       "   weathersit  temp   atemp   hum  windspeed  casual  registered  cnt  \n",
       "0           1  0.24  0.2879  0.81        0.0       3          13   16  \n",
       "1           1  0.22  0.2727  0.80        0.0       8          32   40  \n",
       "2           1  0.22  0.2727  0.80        0.0       5          27   32  \n",
       "3           1  0.24  0.2879  0.75        0.0       3          10   13  \n",
       "4           1  0.24  0.2879  0.75        0.0       0           1    1  "
      ]
     },
     "execution_count": 4,
     "metadata": {},
     "output_type": "execute_result"
    }
   ],
   "source": [
    "# Quick check of proper loading of dataset\n",
    "data.head()"
   ]
  },
  {
   "cell_type": "markdown",
   "metadata": {},
   "source": [
    "### Data Preparation\n",
    "\n",
    "This step involves cleaning the data, dropping unwanted columns, converting the categorical variables to numeric, and finally splitting of training data into train and validation sets."
   ]
  },
  {
   "cell_type": "code",
   "execution_count": 5,
   "metadata": {},
   "outputs": [],
   "source": [
    "# Preprocessing: Renaming columns names to more readable names\n",
    "data.rename(columns={'instant':'rec_id',\n",
    "                     'dteday':'datetime',\n",
    "                     'holiday':'is_holiday',\n",
    "                     'workingday':'is_workingday',\n",
    "                     'weathersit':'weather_condition',\n",
    "                     'hum':'humidity',\n",
    "                     'mnth':'month',\n",
    "                     'cnt':'total_count',\n",
    "                     'hr':'hour',\n",
    "                     'yr':'year',\n",
    "                    },inplace=True)"
   ]
  },
  {
   "cell_type": "code",
   "execution_count": 6,
   "metadata": {},
   "outputs": [],
   "source": [
    "# Setting proper data types\n",
    "\n",
    "# date time conversion\n",
    "data['datetime'] = pd.to_datetime(data.datetime)\n",
    "\n",
    "# categorical fetures\n",
    "data['season']     = data.season.astype('category')\n",
    "data['is_holiday'] = data.is_holiday.astype('category')\n",
    "data['weekday']    = data.weekday.astype('category')\n",
    "data['weather_condition'] = data.weather_condition.astype('category')\n",
    "data['is_workingday']     = data.is_workingday.astype('category')\n",
    "data['month'] = data.month.astype('category')\n",
    "data['hour']  = data.hour.astype('category')\n",
    "data['year']  = data.year.astype('category')"
   ]
  },
  {
   "cell_type": "markdown",
   "metadata": {},
   "source": [
    "### Split data into training and test sets\n",
    "\n",
    "Each observation can either be used for building a model or evaluating a model, not both. For this reason we must perform a train/test partition of the main dataset be used for model training and evaluation, respectively. We'll use this set to make predictions and compare them with the actual number of bike riders."
   ]
  },
  {
   "cell_type": "code",
   "execution_count": 7,
   "metadata": {},
   "outputs": [],
   "source": [
    "# Divide the dataset into training and testing sets (randomly and stratified)\n",
    "X_train, X_test, y_train, y_test = train_test_split(data.iloc[:,0:-3],\n",
    "                                                    data.iloc[:,-1],\n",
    "                                                    test_size=0.33,\n",
    "                                                    stratify=None,\n",
    "                                                    random_state=42)"
   ]
  },
  {
   "cell_type": "code",
   "execution_count": 8,
   "metadata": {},
   "outputs": [
    {
     "name": "stdout",
     "output_type": "stream",
     "text": [
      "We have 11643 training samples and 5736 test samples.\n"
     ]
    }
   ],
   "source": [
    "# Training data used for model developement\n",
    "X_train.reset_index(inplace=True)\n",
    "y_train = y_train.reset_index()\n",
    "\n",
    "# Set aside a hold-out test data used for final model performance\n",
    "X_test.reset_index(inplace=True)\n",
    "y_test = y_test.reset_index()\n",
    "print(\"We have %d training samples and %d test samples.\" % (y_train['total_count'].count(), \n",
    "                                                            y_test['total_count'].count()))"
   ]
  },
  {
   "cell_type": "markdown",
   "metadata": {},
   "source": [
    "### Baseline Model\n",
    "\n",
    "We take as a baseline model a model that does not depend applying any machine learning techniques. We will use Mean Absoluate Deivation (MAD) as the evaluation metric for model performance.\n",
    "\n",
    "\n",
    "#### Evaluation metric\n",
    "\n",
    "The Mean Absolute Deviation (MAD) helps determine whether the set's mean is a useful indicator of the values within the set. The larger the MAD, the less relevant is the mean as an indicator of the values within the set. MAD, the greater variability there is in the data (the data is more spread out). MAE is more robust to outlier than is MSE. MAE assigns equal weight to the data whereas MSE emphasizes the extremes. Since the errors are squared before they are averaged, the Root Mean Square Error (RMSE) gives a relatively high weight to large errors. This means the RMSE is most useful when large errors are particularly undesirable.\n",
    "\n",
    "The MAE and the RMSE can be used together to diagnose the variation in the errors in a set of forecasts. The RMSE will always be larger or equal to the MAE; the greater difference between them, the greater the variance in the individual errors in the sample. If the RMSE=MAE, then all the errors are of the same magnitude.Root RMSE basically tells you to avoid models that give you occasional large errors. And MSE = Bias^2 + Variance.\n",
    "\n",
    "Depending on how we want your model to treat outliers, or extreme values, in our data, we may want to bring more attention to these outliers or downplay them. The issue of outliers can play a major role in which error metric we use.\n",
    "\n",
    "\n",
    "MAE vs MSE\n",
    "Even though MAE is more robust (less sensitive to outliers) than MSE but this doesn’t mean it is always better to use MAE. The following questions help you to decide:\n",
    "\n",
    "1. Do you have outliers in the data? Use MAE.\n",
    "\n",
    "2. Are you sure they are outliers? Use MAE.\n",
    "\n",
    "3. Or they are just unexpected values we should still care about? Use MSE."
   ]
  },
  {
   "cell_type": "code",
   "execution_count": 9,
   "metadata": {},
   "outputs": [
    {
     "name": "stdout",
     "output_type": "stream",
     "text": [
      "Basline Mean Absolute Deviation of Validation data: 141.78\n"
     ]
    }
   ],
   "source": [
    "# Average bike usage from training data\n",
    "avg_bike_usuage = round(np.mean(y_train['total_count']), 2)\n",
    "baseline_pred   = np.repeat(avg_bike_usuage, y_test.shape[0])\n",
    "\n",
    "# Evaluate baseline model\n",
    "baseline_mae = mean_absolute_error(baseline_pred, y_test['total_count'])\n",
    "\n",
    "print(\"Basline Mean Absolute Deviation of Validation data: %.2f\" % baseline_mae)"
   ]
  },
  {
   "cell_type": "markdown",
   "metadata": {},
   "source": [
    "We will predict the average bike usage. This resulted in an MAD of 141.78. So any model we build should have an MAD lower than 141.78."
   ]
  },
  {
   "cell_type": "markdown",
   "metadata": {},
   "source": [
    "### Model Building"
   ]
  },
  {
   "cell_type": "markdown",
   "metadata": {},
   "source": [
    "#### Without Feature Engineering\n",
    "\n",
    "In the following section we will compare linear regresssion/SGD based algorithms against tree-ensemble based methods to see which group performs best out of the box using mean absolute devaition metric evaluation. For linear ression modeling requires converting the cateogrical features into numeric featuers, while tree-based models do not need to transform them or can handle that step internally."
   ]
  },
  {
   "cell_type": "code",
   "execution_count": 10,
   "metadata": {},
   "outputs": [],
   "source": [
    "# Defiting One-hot-encoding and Label-encoding transformation function\n",
    "def fit_transform_ohe(df,col_name):\n",
    "    \"\"\"This function performs one hot encoding for the specified\n",
    "column.\n",
    "    Args:\n",
    "        df(pandas.DataFrame): the data frame containing the mentioned column name\n",
    "        col_name: the column to be one hot encoded\n",
    "    Returns:\n",
    "        tuple: label_encoder, one_hot_encoder, transformed column as pandas Series\n",
    "    \"\"\"\n",
    "    # label encode the column\n",
    "    le = preprocessing.LabelEncoder()\n",
    "    le_labels = le.fit_transform(df[col_name])\n",
    "    df[col_name+'_label'] = le_labels\n",
    "    # one hot encoding\n",
    "    ohe = preprocessing.OneHotEncoder()\n",
    "    feature_arr = ohe.fit_transform(df[[col_name+'_label']]).toarray()\n",
    "    feature_labels = [col_name+'_'+str(cls_label) for cls_label in le.classes_]\n",
    "    features_df = pd.DataFrame(feature_arr, columns=feature_labels)\n",
    "    return le,ohe,features_df\n",
    "\n",
    "# given label encoder and one hot encoder objects, \n",
    "# encode attribute to ohe\n",
    "def transform_ohe(df,le,ohe,col_name):\n",
    "    \"\"\"This function performs one hot encoding for the specified\n",
    "        column using the specified encoder objects.\n",
    "\n",
    "    Args:\n",
    "        df(pandas.DataFrame): the data frame containing the mentioned column name\n",
    "        le(Label Encoder): the label encoder object used to fit label encoding\n",
    "        ohe(One Hot Encoder): the onen hot encoder object used to fit one hot encoding\n",
    "        col_name: the column to be one hot encoded\n",
    "\n",
    "    Returns:\n",
    "        tuple: transformed column as pandas Series\n",
    "\n",
    "    \"\"\"\n",
    "    # label encode\n",
    "    col_labels = le.transform(df[col_name])\n",
    "    df[col_name+'_label'] = col_labels\n",
    "    \n",
    "    # ohe \n",
    "    feature_arr = ohe.fit_transform(df[[col_name+'_label']]).toarray()\n",
    "    feature_labels = [col_name+'_'+str(cls_label) for cls_label in le.classes_]\n",
    "    features_df = pd.DataFrame(feature_arr, columns=feature_labels)\n",
    "    \n",
    "    return features_df"
   ]
  },
  {
   "cell_type": "code",
   "execution_count": 11,
   "metadata": {},
   "outputs": [],
   "source": [
    "# Encoding all the categorical features\n",
    "cat_attr_list = ['season','is_holiday',\n",
    "                 'weather_condition','is_workingday',\n",
    "                 'hour','weekday','month',#'year'\n",
    "                ]\n",
    "\n",
    "# though we have transformed all categoricals into their one-hot encodings, note that ordinal\n",
    "# attributes such as hour, weekday, and so on do not require such encoding.\n",
    "numeric_feature_cols = ['temp','humidity','windspeed', 'atemp',\n",
    "                        'hour','weekday','month',#'year'\n",
    "                       ]\n",
    "subset_cat_features =  ['season','is_holiday','weather_condition','is_workingday']"
   ]
  },
  {
   "cell_type": "code",
   "execution_count": 12,
   "metadata": {},
   "outputs": [
    {
     "name": "stdout",
     "output_type": "stream",
     "text": [
      "Train dataset shape::(11643, 19)\n",
      "   temp  humidity  windspeed   atemp hour weekday month  season_1  season_2  \\\n",
      "0  0.64      0.65     0.1940  0.6061    0       5     9       0.0       0.0   \n",
      "1  0.50      0.45     0.2239  0.4848   13       2     3       0.0       1.0   \n",
      "2  0.86      0.47     0.5224  0.8030   12       0     8       0.0       0.0   \n",
      "3  0.30      0.61     0.0000  0.3333    2       3     2       1.0       0.0   \n",
      "4  0.54      0.19     0.4179  0.5152   17       6     4       0.0       1.0   \n",
      "\n",
      "   season_3  season_4  is_holiday_0  is_holiday_1  weather_condition_1  \\\n",
      "0       1.0       0.0           1.0           0.0                  1.0   \n",
      "1       0.0       0.0           1.0           0.0                  1.0   \n",
      "2       1.0       0.0           1.0           0.0                  1.0   \n",
      "3       0.0       0.0           1.0           0.0                  1.0   \n",
      "4       0.0       0.0           1.0           0.0                  1.0   \n",
      "\n",
      "   weather_condition_2  weather_condition_3  weather_condition_4  \\\n",
      "0                  0.0                  0.0                  0.0   \n",
      "1                  0.0                  0.0                  0.0   \n",
      "2                  0.0                  0.0                  0.0   \n",
      "3                  0.0                  0.0                  0.0   \n",
      "4                  0.0                  0.0                  0.0   \n",
      "\n",
      "   is_workingday_0  is_workingday_1  \n",
      "0              0.0              1.0  \n",
      "1              0.0              1.0  \n",
      "2              1.0              0.0  \n",
      "3              0.0              1.0  \n",
      "4              1.0              0.0  \n"
     ]
    }
   ],
   "source": [
    "# Train dataset\n",
    "encoded_attr_list = []\n",
    "for col in cat_attr_list:\n",
    "    return_obj = fit_transform_ohe(X_train,col)\n",
    "    encoded_attr_list.append({'label_enc':return_obj[0],\n",
    "                              'ohe_enc':return_obj[1],\n",
    "                              'feature_df':return_obj[2],\n",
    "                              'col_name':col})\n",
    "\n",
    "\n",
    "feature_df_list  = [X_train[numeric_feature_cols]]\n",
    "feature_df_list.extend([enc['feature_df'] \\\n",
    "                        for enc in encoded_attr_list \\\n",
    "                        if enc['col_name'] in subset_cat_features])\n",
    "\n",
    "train_df_new = pd.concat(feature_df_list, axis=1)\n",
    "print(\"Train dataset shape::{}\".format(train_df_new.shape))\n",
    "print(train_df_new.head())"
   ]
  },
  {
   "cell_type": "code",
   "execution_count": 13,
   "metadata": {},
   "outputs": [
    {
     "name": "stdout",
     "output_type": "stream",
     "text": [
      "Test dataset shape::(5736, 19)\n",
      "   temp  humidity  windspeed   atemp hour weekday month  season_1  season_2  \\\n",
      "0  0.80      0.27     0.1940  0.6970   19       6     6       0.0       0.0   \n",
      "1  0.24      0.41     0.2239  0.2273   20       1     1       1.0       0.0   \n",
      "2  0.32      0.66     0.2836  0.3030    2       5    10       0.0       0.0   \n",
      "3  0.78      0.52     0.3582  0.7121   19       2     5       0.0       1.0   \n",
      "4  0.26      0.56     0.3881  0.2273    0       4     1       1.0       0.0   \n",
      "\n",
      "   season_3  season_4  is_holiday_0  is_holiday_1  weather_condition_1  \\\n",
      "0       1.0       0.0           1.0           0.0                  1.0   \n",
      "1       0.0       0.0           0.0           1.0                  1.0   \n",
      "2       0.0       1.0           1.0           0.0                  1.0   \n",
      "3       0.0       0.0           1.0           0.0                  1.0   \n",
      "4       0.0       0.0           1.0           0.0                  1.0   \n",
      "\n",
      "   weather_condition_2  weather_condition_3  weather_condition_4  \\\n",
      "0                  0.0                  0.0                  0.0   \n",
      "1                  0.0                  0.0                  0.0   \n",
      "2                  0.0                  0.0                  0.0   \n",
      "3                  0.0                  0.0                  0.0   \n",
      "4                  0.0                  0.0                  0.0   \n",
      "\n",
      "   is_workingday_0  is_workingday_1  \n",
      "0              1.0              0.0  \n",
      "1              1.0              0.0  \n",
      "2              0.0              1.0  \n",
      "3              0.0              1.0  \n",
      "4              0.0              1.0  \n"
     ]
    }
   ],
   "source": [
    "# Test dataset\n",
    "test_encoded_attr_list = []\n",
    "for enc in encoded_attr_list:\n",
    "    col_name = enc['col_name']\n",
    "    le = enc['label_enc']\n",
    "    ohe = enc['ohe_enc']\n",
    "    test_encoded_attr_list.append({'feature_df':transform_ohe(X_test,le,ohe,col_name),'col_name':col_name})\n",
    "    \n",
    "    \n",
    "test_feature_df_list = [X_test[numeric_feature_cols]]\n",
    "test_feature_df_list.extend([enc['feature_df'] \\\n",
    "                             for enc in test_encoded_attr_list \\\n",
    "                             if enc['col_name'] in subset_cat_features])\n",
    "\n",
    "test_df_new = pd.concat(test_feature_df_list, axis=1) \n",
    "print(\"Test dataset shape::{}\".format(test_df_new.shape))\n",
    "print(test_df_new.head())"
   ]
  },
  {
   "cell_type": "code",
   "execution_count": 14,
   "metadata": {},
   "outputs": [],
   "source": [
    "# transform train dataset\n",
    "X_train = train_df_new\n",
    "y_train = y_train.total_count.values.reshape(-1,1)"
   ]
  },
  {
   "cell_type": "code",
   "execution_count": 15,
   "metadata": {},
   "outputs": [],
   "source": [
    "# transform test dataset\n",
    "X_test = test_df_new\n",
    "y_test = y_test.total_count.values.reshape(-1,1)"
   ]
  },
  {
   "cell_type": "code",
   "execution_count": 16,
   "metadata": {},
   "outputs": [],
   "source": [
    "table = PrettyTable()\n",
    "table.field_names = [\"Model\", \"Dataset\", \"MAE\", \"MSE\", \"R² score\", \"Variance\"]"
   ]
  },
  {
   "cell_type": "markdown",
   "metadata": {},
   "source": [
    "#### Linear based methods"
   ]
  },
  {
   "cell_type": "code",
   "execution_count": 17,
   "metadata": {},
   "outputs": [],
   "source": [
    "# Model selection\n",
    "models = [\n",
    "    # specify the hyper-parameters \n",
    "    LinearRegression(),\n",
    "    Lasso(alpha=0.1),\n",
    "    ElasticNet(random_state=0),\n",
    "    Ridge(alpha=.5),\n",
    "    SGDRegressor(max_iter=1000, tol=1e-3),\n",
    "]"
   ]
  },
  {
   "cell_type": "code",
   "execution_count": 18,
   "metadata": {},
   "outputs": [
    {
     "name": "stdout",
     "output_type": "stream",
     "text": [
      "108.49\n",
      "108.47\n",
      "119.80\n",
      "108.49\n",
      "107.75\n",
      "+------------------+----------+--------+----------+----------+----------+\n",
      "|      Model       | Dataset  |  MAE   |   MSE    | R² score | Variance |\n",
      "+------------------+----------+--------+----------+----------+----------+\n",
      "| LinearRegression | training | 108.73 | 20413.31 |   0.36   |   0.24   |\n",
      "|      Lasso       | training | 108.70 | 20420.14 |   0.36   |   0.23   |\n",
      "|    ElasticNet    | training | 119.86 | 24493.28 |   0.23   |   0.06   |\n",
      "|      Ridge       | training | 108.73 | 20413.26 |   0.36   |   0.23   |\n",
      "|   SGDRegressor   | training | 106.09 | 20657.63 |   0.35   |   1.65   |\n",
      "+------------------+----------+--------+----------+----------+----------+\n",
      "CPU times: user 1.17 s, sys: 1.17 s, total: 2.34 s\n",
      "Wall time: 4.97 s\n"
     ]
    }
   ],
   "source": [
    "%%time\n",
    "for model in models:\n",
    "    dataset = 'training'\n",
    "    \n",
    "    # Model training\n",
    "    model.fit(X_train, y_train)\n",
    "    \n",
    "    # Make prediction on test and training data set\n",
    "    y_pred = model.predict(X_test)\n",
    "    y_res  = model.predict(X_train)\n",
    "\n",
    "    # Evaluate model performance (for shortness of time will only CV MAE)\n",
    "    mse = mean_squared_error(y_test, y_pred)\n",
    "    score = model.score(X_test, y_test)\n",
    "    # Cross-Validated Mean Absolute Deviation regression loss\n",
    "    mae = -np.mean(cross_val_score(model, X_train, y_train, cv=3, n_jobs=-1, scoring=\"neg_mean_absolute_error\"))\n",
    "\n",
    "    \n",
    "    \n",
    "    variance  = abs(mean_absolute_error(y_train, y_res) - mae)\n",
    "    \n",
    "    print(\"%.2f\" % mean_absolute_error(y_train, y_res))\n",
    "\n",
    "    \n",
    "    table.add_row([type(model).__name__, \n",
    "                   dataset,\n",
    "                   format(mae, '.2f'),\n",
    "                   format(mse, '.2f'),   \n",
    "                   format(score, '.2f'),\n",
    "                   format(variance, '.2f')\n",
    "                  ],\n",
    "                 )\n",
    "    \n",
    "print(table)"
   ]
  },
  {
   "cell_type": "markdown",
   "metadata": {},
   "source": [
    "Table summary of model's performance across various evaluation metrics typically used in regression problems. For our purposes the most import one being the Mean Absolute Deviation (MAE). The RMSE-MAE difference isn't large enough to indicate the presence of very large errors. If RMSE>MAE, then there is variation in the errors.\n",
    "\n",
    "```\n",
    "+------------------+----------+--------+----------+----------+----------+\n",
    "|      Model       | Dataset  |  MAE   |   MSE    | R² score | Variance |\n",
    "+------------------+----------+--------+----------+----------+----------+\n",
    "| LinearRegression | training | 108.73 | 20413.31 |   0.36   |   0.24   |\n",
    "|      Lasso       | training | 108.70 | 20420.14 |   0.36   |   0.23   |\n",
    "|    ElasticNet    | training | 119.86 | 24493.28 |   0.23   |   0.06   |\n",
    "|      Ridge       | training | 108.73 | 20413.26 |   0.36   |   0.23   |\n",
    "|   SGDRegressor   | training | 106.68 | 20657.63 |   0.35   |   1.07   |\n",
    "+------------------+----------+--------+----------+----------+----------+\n",
    "```\n",
    "\n",
    "The test MAD for Linear Regression-based/SGD model range between 108-119, and the training was 107-119, which provides confidence that's no problem of overfitting is there's not gap between training and test performance range for MAE. These models are an improvement on the baseline prediction which had mean asolute error of 141.78. Still, the error rate is very high in this linear regression models, though the variance is relatively low (0.23-16.86). As we also so in the other metrics they have quite high values an R² score closer to 1. is and indicator of better performance."
   ]
  },
  {
   "cell_type": "code",
   "execution_count": 19,
   "metadata": {},
   "outputs": [],
   "source": [
    "# Cross-validate model's performance using validation dataset\n",
    "predicted = cross_val_predict(Lasso(alpha=0.1), \n",
    "                              X_train, y_train, \n",
    "                              cv=3)"
   ]
  },
  {
   "cell_type": "code",
   "execution_count": 20,
   "metadata": {},
   "outputs": [
    {
     "data": {
      "image/png": "[encoded data removed]",
      "text/plain": [
       "<matplotlib.figure.Figure at 0x123840c10>"
      ]
     },
     "metadata": {
      "needs_background": "light"
     },
     "output_type": "display_data"
    }
   ],
   "source": [
    "# Analysing Residuals in model's predictinos\n",
    "fig,ax = plt.subplots(figsize=(5,5))\n",
    "ax.scatter(y_train, y_train-predicted.reshape(-1,1))\n",
    "ax.axhline(lw=2,color='black')\n",
    "ax.set_xlabel('Observed')\n",
    "ax.set_ylabel('Residual')\n",
    "ax.set_title('Residual Plot')\n",
    "plt.show()"
   ]
  },
  {
   "cell_type": "markdown",
   "metadata": {},
   "source": [
    "This residual plots shows a linear trend across observations. "
   ]
  },
  {
   "cell_type": "markdown",
   "metadata": {},
   "source": [
    "#### Ensemble tree-based algorithms\n",
    "\n",
    "As these tree-based methods have build in handling of categorical feature we will need to re-load data that are not one-hot-encoded."
   ]
  },
  {
   "cell_type": "code",
   "execution_count": 78,
   "metadata": {},
   "outputs": [
    {
     "name": "stdout",
     "output_type": "stream",
     "text": [
      "We have 11643 training samples and 5736 test samples.\n"
     ]
    }
   ],
   "source": [
    "# Divide the dataset into training and testing sets (randomly and stratified)\n",
    "X_train, X_test, y_train, y_test = train_test_split(data.iloc[:,0:-3],\n",
    "                                                    data.iloc[:,-1],\n",
    "                                                    test_size=0.33,\n",
    "                                                    stratify=None,\n",
    "                                                    random_state=42)\n",
    "# Training data used for model developement\n",
    "X_train.reset_index(inplace=True)\n",
    "y_train = y_train.reset_index()\n",
    "\n",
    "# Set aside a hold-out test data used for final model performance\n",
    "X_test.reset_index(inplace=True)\n",
    "y_test = y_test.reset_index()\n",
    "print(\"We have %d training samples and %d test samples.\" % (y_train['total_count'].count(), \n",
    "                                                            y_test['total_count'].count()))"
   ]
  },
  {
   "cell_type": "code",
   "execution_count": 79,
   "metadata": {},
   "outputs": [],
   "source": [
    "# transform train dataset\n",
    "y_train = y_train['total_count']\n",
    "\n",
    "X_train = X_train[['season', 'month','hour','is_holiday','weekday','is_workingday', #'year'\n",
    "                   'weather_condition','temp','atemp','humidity','windspeed']]\n",
    "\n",
    "# transform test dataset\n",
    "y_test = y_test['total_count']\n",
    "X_test = X_test[['season','month','hour','is_holiday','weekday','is_workingday', #'year'\n",
    "                 'weather_condition','temp','atemp','humidity','windspeed']]"
   ]
  },
  {
   "cell_type": "markdown",
   "metadata": {},
   "source": [
    "### Model building, selection, and evaluation"
   ]
  },
  {
   "cell_type": "code",
   "execution_count": 86,
   "metadata": {},
   "outputs": [],
   "source": [
    "# Model selection\n",
    "models = [\n",
    "    # specify the training parameters \n",
    "    CatBoostRegressor(loss_function='MAE', #'RMSE', \n",
    "                      max_depth=3, #None\n",
    "                      cat_features=cat_attr_list,\n",
    "                      random_state=42,\n",
    "                      #one_hot_max_size=10,\n",
    "                      verbose=False\n",
    "                     ),\n",
    "    lgbm.sklearn.LGBMRegressor(boosting_type='gbdt', \n",
    "                               objective='regression',\n",
    "                               min_child_samples=10,  \n",
    "                               max_depth=-1,\n",
    "                               categorical_feature=cat_attr_list,\n",
    "                               nthread=-1,\n",
    "                               random_state=42,\n",
    "                               silent=False\n",
    "                              ),\n",
    "    GradientBoostingRegressor(max_depth=3, \n",
    "                              min_samples_leaf=10, \n",
    "                              random_state=42),\n",
    "    AdaBoostRegressor(DecisionTreeRegressor(max_depth=3, #None \n",
    "                                            min_samples_leaf=10,\n",
    "                                            criterion='mae',\n",
    "                                           ),\n",
    "                      random_state=42),\n",
    "    RandomForestRegressor(criterion='mae', \n",
    "                          min_samples_leaf=10,\n",
    "                          max_depth=None, # If None, then nodes are expanded until all leaves are pure or until all leaves contain less than min_samples_split samples.\n",
    "                          random_state=42,\n",
    "                          n_jobs=-1,\n",
    "                         ),\n",
    "    # Requires OHE the input data before training\n",
    "    #XGBClassifier(max_depth=3, #None\n",
    "    #              objective='count:poisson', #'reg:linear', \n",
    "    #              min_samples_leaf=10,\n",
    "    #              random_state=42),\n",
    "]"
   ]
  },
  {
   "cell_type": "code",
   "execution_count": 87,
   "metadata": {},
   "outputs": [],
   "source": [
    "# Configure the the evaluation metrics of intereset (Mean Absolute Devation is prirmery)\n",
    "table = PrettyTable()\n",
    "table.field_names = [\"Model\", \"Dataset\", \"MAE\", \"MSE\", \"R² score\", \"Variance\"]"
   ]
  },
  {
   "cell_type": "code",
   "execution_count": 88,
   "metadata": {},
   "outputs": [
    {
     "name": "stdout",
     "output_type": "stream",
     "text": [
      "Training MAE:\n",
      "55.69\n",
      "Training MAE:\n",
      "38.69\n",
      "Training MAE:\n",
      "56.78\n",
      "Training MAE:\n",
      "74.19\n",
      "Training MAE:\n",
      "41.07\n",
      "+---------------------------+----------+-------+---------+----------+----------+\n",
      "|           Model           | Dataset  |  MAE  |   MSE   | R² score | Variance |\n",
      "+---------------------------+----------+-------+---------+----------+----------+\n",
      "|     CatBoostRegressor     | training | 57.66 | 7135.36 |   0.78   |   1.96   |\n",
      "|       LGBMRegressor       | training | 46.81 | 4197.48 |   0.87   |   8.12   |\n",
      "| GradientBoostingRegressor | training | 58.60 | 6593.21 |   0.79   |   1.82   |\n",
      "|     AdaBoostRegressor     | training | 73.08 | 9057.61 |   0.72   |   1.11   |\n",
      "|   RandomForestRegressor   | training | 50.10 | 5159.19 |   0.84   |   9.03   |\n",
      "+---------------------------+----------+-------+---------+----------+----------+\n",
      "CPU times: user 4min 10s, sys: 2.25 s, total: 4min 12s\n",
      "Wall time: 5min 32s\n"
     ]
    }
   ],
   "source": [
    "%%time\n",
    "for model in models:\n",
    "    dataset = 'training'\n",
    "    \n",
    "    # Model training\n",
    "    model.fit(X_train, y_train, \n",
    "              #verbose=False # does not work for all algorithms\n",
    "             )\n",
    "    \n",
    "    # Make prediction on test and training data set\n",
    "    y_pred = model.predict(X_test)\n",
    "    y_res  = model.predict(X_train)\n",
    "\n",
    "    # Evaluate model performance (for shortness of time will only CV MAE)\n",
    "    mse = mean_squared_error(y_test, y_pred)\n",
    "    score = model.score(X_test, y_test)\n",
    "    # Cross-Validated Mean Absolute Deviation regression loss\n",
    "    mae = -np.mean(cross_val_score(model, X_train, y_train, cv=3, n_jobs=-1,\n",
    "                                   scoring=\"neg_mean_absolute_error\"))    \n",
    "    \n",
    "    variance  = abs(mean_absolute_error(y_train, y_res) - mae)\n",
    "    \n",
    "    print(\"Training MAE:\")\n",
    "    print(\"%.2f\" % mean_absolute_error(y_train, y_res))\n",
    "\n",
    "    \n",
    "    table.add_row([type(model).__name__, \n",
    "                   dataset,\n",
    "                   format(mae, '.2f'),\n",
    "                   format(mse, '.2f'),   \n",
    "                   format(score, '.2f'),\n",
    "                   format(variance, '.2f')\n",
    "                  ],\n",
    "                 )\n",
    "    \n",
    "print(table)"
   ]
  },
  {
   "cell_type": "markdown",
   "metadata": {},
   "source": [
    "Table summary of model's performance across various evaluation metrics typically used in regression problems. For our purposes the most import one being the Mean Absolute Deviation (MAE).\n",
    "\n",
    "```\n",
    "+---------------------------+----------+-------+---------+----------+----------+\n",
    "|           Model           | Dataset  |  MAE  |   MSE   | R² score | Variance |\n",
    "+---------------------------+----------+-------+---------+----------+----------+\n",
    "|     CatBoostRegressor     | training | 55.60 | 6356.81 |   0.80   |   3.37   |\n",
    "|       LGBMRegressor       | training | 46.81 | 4197.48 |   0.87   |   8.12   |\n",
    "| GradientBoostingRegressor | training | 58.60 | 6593.21 |   0.79   |   1.82   |\n",
    "|     AdaBoostRegressor     | training | 73.08 | 9057.61 |   0.72   |   1.11   |\n",
    "|   RandomForestRegressor   | training | 50.10 | 5159.19 |   0.84   |   9.03   |\n",
    "+---------------------------+----------+-------+---------+----------+----------+\n",
    "```\n",
    "\n",
    "\n",
    "From the table above LGBMRegressor performs best with MAE of 46.81, outperforming linear/sgd-base regression algorithms, but with similar performance as RandomForestRegressor if we factor in the spread in variance of 8.12 on the model's prediction (possibly reduce overtraining using early-stoping method). For this reason we will selected the LGBMRegressor algorithms as our choice of model for further tuning using Bayesian Optimization discussed in the model optimization notebook. Training MAE evaluation ranges between 38.69 - 74.19. \n",
    "\n",
    "LightGBM uses a novel technique of Gradient-based One-Side Sampling (GOSS) to filter out the data instances for finding a split value while XGBoost uses pre-sorted algorithm & Histogram-based algorithm (i.e. discrete bins and uses these bins to find the split value of histogram) for computing the best split. "
   ]
  },
  {
   "cell_type": "code",
   "execution_count": 56,
   "metadata": {},
   "outputs": [],
   "source": [
    "# Cross-validate model prediction\n",
    "predicted = cross_val_predict(\n",
    "    lgbm.sklearn.LGBMRegressor(boosting_type='gbdt', \n",
    "                               objective='regression',\n",
    "                               min_child_samples=10,  \n",
    "                               max_depth=-1,\n",
    "                               categorical_feature=cat_attr_list,\n",
    "                               nthread=-1,\n",
    "                               random_state=42,\n",
    "                               silent=False\n",
    "                              ), \n",
    "    X_train, y_train, cv=3)"
   ]
  },
  {
   "cell_type": "code",
   "execution_count": 57,
   "metadata": {},
   "outputs": [
    {
     "data": {
      "image/png": "[encoded data removed]",
      "text/plain": [
       "<matplotlib.figure.Figure at 0x124af85d0>"
      ]
     },
     "metadata": {
      "needs_background": "light"
     },
     "output_type": "display_data"
    }
   ],
   "source": [
    "# Analysing Residuals in model's predictinos\n",
    "fig,ax = plt.subplots(figsize=(5,5))\n",
    "ax.scatter(y_train, y_train-predicted)\n",
    "ax.axhline(lw=2,color='black')\n",
    "ax.set_xlabel('Observed')\n",
    "ax.set_ylabel('Residual')\n",
    "ax.set_title('Residual Plot')\n",
    "plt.show()"
   ]
  },
  {
   "cell_type": "markdown",
   "metadata": {},
   "source": [
    "From this residual plot we observe a upward linear trend. Positive values for the residual (on the y-axis) mean the prediction was too low, and negative values mean the prediction was too high; 0 means the guess was exactly correct. These plots aren’t evenly distributed vertically, or they have an outlier, or they have a clear shape to them. We detected a clear pattern or trend in your residuals, then our model has room for improvement."
   ]
  },
  {
   "cell_type": "code",
   "execution_count": 58,
   "metadata": {},
   "outputs": [],
   "source": [
    "# Alternatively, we train model based on training data and produce residual plot based on test dataset\n",
    "model = lgbm.sklearn.LGBMRegressor(boosting_type='gbdt', \n",
    "                                   objective='regression',\n",
    "                                   min_child_samples=10,  \n",
    "                                   max_depth=-1,\n",
    "                                   categorical_feature=cat_attr_list,\n",
    "                                   nthread=-1,\n",
    "                                   random_state=42,\n",
    "                                   silent=False\n",
    "                                  )\n",
    "model.fit(X_train, y_train)\n",
    "y_pred = model.predict(X_test) "
   ]
  },
  {
   "cell_type": "code",
   "execution_count": 59,
   "metadata": {},
   "outputs": [
    {
     "data": {
      "image/png": "[encoded data removed]",
      "text/plain": [
       "<matplotlib.figure.Figure at 0x124af8b90>"
      ]
     },
     "metadata": {
      "needs_background": "light"
     },
     "output_type": "display_data"
    }
   ],
   "source": [
    "# Analysing Residuals in model's predictinos\n",
    "fig,ax = plt.subplots(figsize=(5,5))\n",
    "ax.scatter(y_test, y_test-y_pred)\n",
    "ax.axhline(lw=2,color='black')\n",
    "ax.set_xlabel('Observed')\n",
    "ax.set_ylabel('Residual')\n",
    "ax.set_title('Residual Plot')\n",
    "plt.show()"
   ]
  },
  {
   "cell_type": "markdown",
   "metadata": {},
   "source": [
    "### Model Evaluation Summary\n",
    "\n",
    "After looking at the performance across all the models, we will decide to select a tree-ensemble based algorithm, in particular the CatBoostRegressor algorith as it has great performance with a mean absoluate deviation of about 31.5 and a standar deviation of less than 4.0. We select this model over LGBMRegressor with a mean absolute devation of 27.98 although it has a better performance it has a larger variance of almost 6.0. Both models perform similarly if we factor in the level of varinace, so we make the conservative choice of going with the one with slightly lower varinace as it stand a better chance to perform better in production making predictions on new unseen data.\n",
    "\n",
    "We can next try some feature engineering in order to possible improve model performance."
   ]
  },
  {
   "cell_type": "markdown",
   "metadata": {},
   "source": [
    "### Feagure Engineering\n",
    "\n",
    "We try to build new features that we can employ in our predictive modeling step, relating temperature and weather information together and see if generates model performance improvement above baseline (without new features). Feature engineering involves turning available data-features into more useful variables that can help us predict our outcome.\n",
    "\n",
    "- Extracting the week number from the date. The date itself, in the format provided, isn’t something that can be processed in our algorithms. From this date, however, we can extract the week number (for that particular using features based on temparature) and use that variable as a predictor for the usage count."
   ]
  },
  {
   "cell_type": "code",
   "execution_count": 69,
   "metadata": {},
   "outputs": [],
   "source": [
    "temp_diff = data.atemp - data.temp\n",
    "ratio_cnt = data.casual / data.registered\n",
    "heat      = data.atemp * data.humidity"
   ]
  },
  {
   "cell_type": "code",
   "execution_count": 70,
   "metadata": {},
   "outputs": [],
   "source": [
    "features = pd.concat([#ratio_cnt,\n",
    "                      temp_diff, heat,\n",
    "                      data.total_count, data.season, #data.year, \n",
    "                      data.month, data.hour, data.is_holiday,\n",
    "                      data.weekday, data.is_workingday, data.weather_condition, data.windspeed\n",
    "                     ],\n",
    "                     axis=1,\n",
    "                     join='outer',\n",
    "                     ignore_index=True)"
   ]
  },
  {
   "cell_type": "code",
   "execution_count": null,
   "metadata": {},
   "outputs": [],
   "source": [
    "features.rename(columns={0: \"ratio_cnt\",\n",
    "                         1: \"temp_diff\", \n",
    "                         2: \"heat\", \n",
    "                         3: \"total_count\",\n",
    "                         4: \"season\", #5: \"year\", \n",
    "                         5: \"month\", 6: \"hour\", \n",
    "                         7: \"is_holiday\", \n",
    "                         8: \"weekday\",\n",
    "                         9: \"is_workingday\", \n",
    "                         10: \"weather_condition\", \n",
    "                         11: \"windspeed\"\n",
    "                        }, inplace=True)\n",
    "features.head()"
   ]
  },
  {
   "cell_type": "code",
   "execution_count": 71,
   "metadata": {},
   "outputs": [
    {
     "data": {
      "text/html": [
       "<div>\n",
       "<style scoped>\n",
       "    .dataframe tbody tr th:only-of-type {\n",
       "        vertical-align: middle;\n",
       "    }\n",
       "\n",
       "    .dataframe tbody tr th {\n",
       "        vertical-align: top;\n",
       "    }\n",
       "\n",
       "    .dataframe thead th {\n",
       "        text-align: right;\n",
       "    }\n",
       "</style>\n",
       "<table border=\"1\" class=\"dataframe\">\n",
       "  <thead>\n",
       "    <tr style=\"text-align: right;\">\n",
       "      <th></th>\n",
       "      <th>temp_diff</th>\n",
       "      <th>heat</th>\n",
       "      <th>total_count</th>\n",
       "      <th>season</th>\n",
       "      <th>month</th>\n",
       "      <th>is_holiday</th>\n",
       "      <th>weekday</th>\n",
       "      <th>is_workingday</th>\n",
       "      <th>8</th>\n",
       "      <th>weather_condition</th>\n",
       "      <th>windspeed</th>\n",
       "    </tr>\n",
       "  </thead>\n",
       "  <tbody>\n",
       "    <tr>\n",
       "      <th>0</th>\n",
       "      <td>0.0479</td>\n",
       "      <td>0.233199</td>\n",
       "      <td>16</td>\n",
       "      <td>1</td>\n",
       "      <td>1</td>\n",
       "      <td>0</td>\n",
       "      <td>0</td>\n",
       "      <td>6</td>\n",
       "      <td>0</td>\n",
       "      <td>1</td>\n",
       "      <td>0.0</td>\n",
       "    </tr>\n",
       "    <tr>\n",
       "      <th>1</th>\n",
       "      <td>0.0527</td>\n",
       "      <td>0.218160</td>\n",
       "      <td>40</td>\n",
       "      <td>1</td>\n",
       "      <td>1</td>\n",
       "      <td>1</td>\n",
       "      <td>0</td>\n",
       "      <td>6</td>\n",
       "      <td>0</td>\n",
       "      <td>1</td>\n",
       "      <td>0.0</td>\n",
       "    </tr>\n",
       "    <tr>\n",
       "      <th>2</th>\n",
       "      <td>0.0527</td>\n",
       "      <td>0.218160</td>\n",
       "      <td>32</td>\n",
       "      <td>1</td>\n",
       "      <td>1</td>\n",
       "      <td>2</td>\n",
       "      <td>0</td>\n",
       "      <td>6</td>\n",
       "      <td>0</td>\n",
       "      <td>1</td>\n",
       "      <td>0.0</td>\n",
       "    </tr>\n",
       "    <tr>\n",
       "      <th>3</th>\n",
       "      <td>0.0479</td>\n",
       "      <td>0.215925</td>\n",
       "      <td>13</td>\n",
       "      <td>1</td>\n",
       "      <td>1</td>\n",
       "      <td>3</td>\n",
       "      <td>0</td>\n",
       "      <td>6</td>\n",
       "      <td>0</td>\n",
       "      <td>1</td>\n",
       "      <td>0.0</td>\n",
       "    </tr>\n",
       "    <tr>\n",
       "      <th>4</th>\n",
       "      <td>0.0479</td>\n",
       "      <td>0.215925</td>\n",
       "      <td>1</td>\n",
       "      <td>1</td>\n",
       "      <td>1</td>\n",
       "      <td>4</td>\n",
       "      <td>0</td>\n",
       "      <td>6</td>\n",
       "      <td>0</td>\n",
       "      <td>1</td>\n",
       "      <td>0.0</td>\n",
       "    </tr>\n",
       "  </tbody>\n",
       "</table>\n",
       "</div>"
      ],
      "text/plain": [
       "   temp_diff      heat  total_count season month is_holiday weekday  \\\n",
       "0     0.0479  0.233199           16      1     1          0       0   \n",
       "1     0.0527  0.218160           40      1     1          1       0   \n",
       "2     0.0527  0.218160           32      1     1          2       0   \n",
       "3     0.0479  0.215925           13      1     1          3       0   \n",
       "4     0.0479  0.215925            1      1     1          4       0   \n",
       "\n",
       "  is_workingday  8 weather_condition  windspeed  \n",
       "0             6  0                 1        0.0  \n",
       "1             6  0                 1        0.0  \n",
       "2             6  0                 1        0.0  \n",
       "3             6  0                 1        0.0  \n",
       "4             6  0                 1        0.0  "
      ]
     },
     "execution_count": 71,
     "metadata": {},
     "output_type": "execute_result"
    }
   ],
   "source": [
    "features.rename(columns={\n",
    "                         0: \"temp_diff\", \n",
    "                         1: \"heat\", \n",
    "                         2: \"total_count\",\n",
    "                         3: \"season\", #5: \"year\", \n",
    "                         4: \"month\", 6: \"hour\", \n",
    "                         5: \"is_holiday\", \n",
    "                         6: \"weekday\",\n",
    "                         7: \"is_workingday\", \n",
    "                         9: \"weather_condition\", \n",
    "                         10: \"windspeed\"\n",
    "                        }, inplace=True)\n",
    "features.head()"
   ]
  },
  {
   "cell_type": "code",
   "execution_count": 72,
   "metadata": {},
   "outputs": [],
   "source": [
    "# Divide the dataset into training and testing sets (randomly and stratified)\n",
    "x_train, x_test, y_train, y_test = train_test_split(features.drop('total_count', axis=1),\n",
    "                                                    features['total_count'],\n",
    "                                                    test_size=0.33,\n",
    "                                                    stratify=None,\n",
    "                                                    random_state=42)\n",
    "# Training data used for model developement\n",
    "x_train.reset_index(inplace=True)\n",
    "y_train = y_train.reset_index()\n",
    "\n",
    "# Set aside a hold-out test data used for final model performance\n",
    "x_test.reset_index(inplace=True)\n",
    "y_test = y_test.reset_index()\n",
    "\n",
    "y_train = y_train['total_count']\n",
    "y_test = y_test['total_count']"
   ]
  },
  {
   "cell_type": "code",
   "execution_count": 73,
   "metadata": {},
   "outputs": [],
   "source": [
    "# Setup estimator\n",
    "lgbmr = lgbm.sklearn.LGBMRegressor(boosting_type='gbdt', \n",
    "                               objective='regression',\n",
    "                               min_child_samples=10,  \n",
    "                               max_depth=-1,\n",
    "                               categorical_feature=cat_attr_list,\n",
    "                               nthread=-1,\n",
    "                               random_state=42\n",
    "                              )"
   ]
  },
  {
   "cell_type": "code",
   "execution_count": 74,
   "metadata": {},
   "outputs": [
    {
     "data": {
      "text/plain": [
       "LGBMRegressor(boosting_type='gbdt',\n",
       "       categorical_feature=['season', 'is_holiday', 'weather_condition', 'is_workingday', 'hour', 'weekday', 'month'],\n",
       "       class_weight=None, colsample_bytree=1.0, importance_type='split',\n",
       "       learning_rate=0.1, max_depth=-1, min_child_samples=10,\n",
       "       min_child_weight=0.001, min_split_gain=0.0, n_estimators=100,\n",
       "       n_jobs=-1, nthread=-1, num_leaves=31, objective='regression',\n",
       "       random_state=42, reg_alpha=0.0, reg_lambda=0.0, silent=True,\n",
       "       subsample=1.0, subsample_for_bin=200000, subsample_freq=0)"
      ]
     },
     "execution_count": 74,
     "metadata": {},
     "output_type": "execute_result"
    }
   ],
   "source": [
    "# Train model\n",
    "lgbmr.fit(x_train, y_train)"
   ]
  },
  {
   "cell_type": "code",
   "execution_count": 75,
   "metadata": {},
   "outputs": [],
   "source": [
    "y_pred = lgbmr.predict(x_test)\n",
    "lgbm_mae = mean_absolute_error(y_pred, y_test)\n",
    "lgbm_train_mae = mean_absolute_error(lgbmr.predict(x_train), y_train)\n",
    "lgbm_variance = abs(lgbm_train_mae - lgbm_mae)"
   ]
  },
  {
   "cell_type": "code",
   "execution_count": 76,
   "metadata": {},
   "outputs": [],
   "source": [
    "table = PrettyTable()\n",
    "table.field_names = [\"Model\", \"Mean Absolute Deviation\"]"
   ]
  },
  {
   "cell_type": "code",
   "execution_count": 77,
   "metadata": {},
   "outputs": [
    {
     "name": "stdout",
     "output_type": "stream",
     "text": [
      "+---------------+-------------------------+\n",
      "|     Model     | Mean Absolute Deviation |\n",
      "+---------------+-------------------------+\n",
      "| LGBMRegressor |          30.02          |\n",
      "+---------------+-------------------------+\n"
     ]
    }
   ],
   "source": [
    "# Evaluate model performance using CV Mean absolute error regression loss\n",
    "mae_cv = -np.mean(cross_val_score(lgbmr, x_train, y_train, cv=3, n_jobs=-1, scoring=\"neg_mean_absolute_error\"))    \n",
    "\n",
    "table.add_row([type(lgbmr).__name__, \n",
    "               format(mae_cv, '.2f'), \n",
    "               ])\n",
    "\n",
    "print(table)"
   ]
  },
  {
   "cell_type": "markdown",
   "metadata": {},
   "source": [
    "The MAD for LGBMRegressor model was 30.02 on the test dataset. This model train on a dataset based on engineered features did performe better compared to the non-featured engineer modeling. We can conclude that including these specific engineared features as opposed to the raw feature values can benifit the models performance. "
   ]
  },
  {
   "cell_type": "markdown",
   "metadata": {},
   "source": [
    "### Conclusion\n",
    "With these three forms of modelling, there was still not much accuracy in predicting the use of bike sharing per day, using only the data about weather and time of the year (ie, day of week or month/season). When originally plotted the data to observe any clear correlations, we found that a lot of the data is roughly, but not strongly correlated to amount of uses. As a matter of fact, the most important factor was the hour of day, which only had a correlation of about 0.51 (quick calculation performed outside these notebooks). For most of the independent features, there was not a strong connection to the count target with the exception of humidity and temparature related features.\n",
    "\n",
    "However, while not exactly the most accurate predictions, we did discover a few key points along the way, there was a connection between the amount of uses and weather and type of day. For instance, when felt temperature was high and windspeed was low, more people used the bike sharing method, most likely because it is nicer out and they prefer using bikes over other public transportation methods. As well, we found that the original assumption, that more bikes were used on weekends, to be inaccurate, signaling that people might be using shared bikes during the week to get to and to cummute to and from work or school.\n",
    "\n",
    "Lastly, in the next notebook we tackle model optimization to train the selected model more robustly resulting in a model that would generalize better to new unseet data."
   ]
  },
  {
   "cell_type": "code",
   "execution_count": null,
   "metadata": {},
   "outputs": [],
   "source": []
  }
 ],
 "metadata": {
  "kernelspec": {
   "display_name": "Python 2",
   "language": "python",
   "name": "python2"
  },
  "language_info": {
   "codemirror_mode": {
    "name": "ipython",
    "version": 2
   },
   "file_extension": ".py",
   "mimetype": "text/x-python",
   "name": "python",
   "nbconvert_exporter": "python",
   "pygments_lexer": "ipython2",
   "version": "2.7.10"
  },
  "nteract": {
   "version": "0.15.0"
  }
 },
 "nbformat": 4,
 "nbformat_minor": 2
}
