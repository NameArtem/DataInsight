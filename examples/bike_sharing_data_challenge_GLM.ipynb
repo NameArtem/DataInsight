{
 "cells": [
  {
   "cell_type": "markdown",
   "metadata": {},
   "source": [
    "## Bike Sharing Problem - Generalized Linear Modeling"
   ]
  },
  {
   "cell_type": "code",
   "execution_count": 52,
   "metadata": {},
   "outputs": [],
   "source": [
    "## Loading required package\n",
    "import warnings\n",
    "warnings.filterwarnings(\"ignore\", category=DeprecationWarning)\n",
    "warnings.filterwarnings(\"ignore\", category=UserWarning)\n",
    "warnings.filterwarnings(\"ignore\", category=RuntimeWarning)\n",
    "warnings.filterwarnings(\"ignore\", category=FutureWarning)\n",
    "from warnings import filterwarnings\n",
    "filterwarnings('ignore')\n",
    "\n",
    "import numpy as np\n",
    "import pandas as pd\n",
    "import matplotlib.pyplot as plt\n",
    "import seaborn as sns\n",
    "sns.set(style=\"whitegrid\")\n",
    "import scipy.stats as stats\n",
    "\n",
    "# Sklearn metrics\n",
    "from sklearn.metrics import mean_squared_error, mean_squared_log_error\n",
    "from sklearn.metrics import mean_absolute_error, median_absolute_error\n",
    "from sklearn.model_selection import cross_val_predict\n",
    "from sklearn.model_selection import cross_val_score\n",
    "from sklearn import preprocessing\n",
    "\n",
    "# Sklearn models\n",
    "from sklearn.linear_model import Lasso, ElasticNet, Ridge, SGDRegressor, LinearRegression\n",
    "from sklearn.ensemble import RandomForestRegressor, GradientBoostingRegressor, AdaBoostRegressor\n",
    "from sklearn.tree import DecisionTreeRegressor\n",
    "\n",
    "# Sklearn untility functions\n",
    "from sklearn.model_selection import train_test_split\n",
    "\n",
    "# XGBoost, Catboost, and LightGBM models\n",
    "import xgboost as xgb\n",
    "from xgboost import XGBClassifier\n",
    "from catboost import CatBoostRegressor\n",
    "import lightgbm as lgbm\n",
    "\n",
    "# Beautify evaluation tables\n",
    "from prettytable import PrettyTable\n",
    "\n",
    "# Bayesian Optimization\n",
    "from bayes_opt import BayesianOptimization\n",
    "from bayes_opt.observer import JSONLogger\n",
    "from bayes_opt.event import Events\n",
    "from bayes_opt.util import load_logs\n",
    "\n",
    "from skopt.space import Integer, Real, Categorical\n",
    "from skopt.utils import use_named_args\n",
    "from skopt import gp_minimize\n",
    "from skopt.plots import plot_evaluations\n",
    "from skopt.plots import plot_objective\n",
    "from skopt.plots import plot_convergence\n",
    "\n",
    "from hyperopt import fmin, tpe, hp, STATUS_OK, Trials\n",
    "\n",
    "np.random.seed(42)"
   ]
  },
  {
   "cell_type": "code",
   "execution_count": 2,
   "metadata": {},
   "outputs": [
    {
     "name": "stdout",
     "output_type": "stream",
     "text": [
      "Checking whether there is an H2O instance running at http://localhost:54321 ..... not found.\n",
      "Attempting to start a local H2O server...\n",
      "  Java Version: java version \"1.8.0_231\"; Java(TM) SE Runtime Environment (build 1.8.0_231-b11); Java HotSpot(TM) 64-Bit Server VM (build 25.231-b11, mixed mode)\n",
      "  Starting server from /Users/chrisjcc/virtualenvs/ml/lib/python2.7/site-packages/h2o/backend/bin/h2o.jar\n",
      "  Ice root: /var/folders/wx/2nnnpz4x1d12_15l55htrrbh0000gn/T/tmpXNTz4Q\n",
      "  JVM stdout: /var/folders/wx/2nnnpz4x1d12_15l55htrrbh0000gn/T/tmpXNTz4Q/h2o_chrisjcc_started_from_python.out\n",
      "  JVM stderr: /var/folders/wx/2nnnpz4x1d12_15l55htrrbh0000gn/T/tmpXNTz4Q/h2o_chrisjcc_started_from_python.err\n",
      "  Server is running at http://127.0.0.1:54321\n",
      "Connecting to H2O server at http://127.0.0.1:54321 ... successful.\n"
     ]
    },
    {
     "data": {
      "text/html": [
       "<div style=\"overflow:auto\"><table style=\"width:50%\"><tr><td>H2O cluster uptime:</td>\n",
       "<td>02 secs</td></tr>\n",
       "<tr><td>H2O cluster timezone:</td>\n",
       "<td>Europe/Berlin</td></tr>\n",
       "<tr><td>H2O data parsing timezone:</td>\n",
       "<td>UTC</td></tr>\n",
       "<tr><td>H2O cluster version:</td>\n",
       "<td>3.26.0.9</td></tr>\n",
       "<tr><td>H2O cluster version age:</td>\n",
       "<td>1 month and 19 days </td></tr>\n",
       "<tr><td>H2O cluster name:</td>\n",
       "<td>H2O_from_python_chrisjcc_bzmk2p</td></tr>\n",
       "<tr><td>H2O cluster total nodes:</td>\n",
       "<td>1</td></tr>\n",
       "<tr><td>H2O cluster free memory:</td>\n",
       "<td>3.556 Gb</td></tr>\n",
       "<tr><td>H2O cluster total cores:</td>\n",
       "<td>8</td></tr>\n",
       "<tr><td>H2O cluster allowed cores:</td>\n",
       "<td>8</td></tr>\n",
       "<tr><td>H2O cluster status:</td>\n",
       "<td>accepting new members, healthy</td></tr>\n",
       "<tr><td>H2O connection url:</td>\n",
       "<td>http://127.0.0.1:54321</td></tr>\n",
       "<tr><td>H2O connection proxy:</td>\n",
       "<td>{u'http': None, u'https': None}</td></tr>\n",
       "<tr><td>H2O internal security:</td>\n",
       "<td>False</td></tr>\n",
       "<tr><td>H2O API Extensions:</td>\n",
       "<td>Amazon S3, XGBoost, Algos, AutoML, Core V3, TargetEncoder, Core V4</td></tr>\n",
       "<tr><td>Python version:</td>\n",
       "<td>2.7.10 final</td></tr></table></div>"
      ],
      "text/plain": [
       "--------------------------  ------------------------------------------------------------------\n",
       "H2O cluster uptime:         02 secs\n",
       "H2O cluster timezone:       Europe/Berlin\n",
       "H2O data parsing timezone:  UTC\n",
       "H2O cluster version:        3.26.0.9\n",
       "H2O cluster version age:    1 month and 19 days\n",
       "H2O cluster name:           H2O_from_python_chrisjcc_bzmk2p\n",
       "H2O cluster total nodes:    1\n",
       "H2O cluster free memory:    3.556 Gb\n",
       "H2O cluster total cores:    8\n",
       "H2O cluster allowed cores:  8\n",
       "H2O cluster status:         accepting new members, healthy\n",
       "H2O connection url:         http://127.0.0.1:54321\n",
       "H2O connection proxy:       {u'http': None, u'https': None}\n",
       "H2O internal security:      False\n",
       "H2O API Extensions:         Amazon S3, XGBoost, Algos, AutoML, Core V3, TargetEncoder, Core V4\n",
       "Python version:             2.7.10 final\n",
       "--------------------------  ------------------------------------------------------------------"
      ]
     },
     "metadata": {},
     "output_type": "display_data"
    }
   ],
   "source": [
    "import h2o\n",
    "from h2o.estimators.glm import H2OGeneralizedLinearEstimator\n",
    "from h2o.estimators.deeplearning import H2ODeepLearningEstimator\n",
    "\n",
    "# Cluster Inspection\n",
    "h2o.init()"
   ]
  },
  {
   "cell_type": "code",
   "execution_count": 3,
   "metadata": {},
   "outputs": [],
   "source": [
    "# File path \n",
    "base_dir = '/Users/chrisjcc/Downloads/'\n",
    "\n",
    "data_path = base_dir + 'hour.csv'\n",
    "# Load data\n",
    "#data = pd.read_csv(data_path) "
   ]
  },
  {
   "cell_type": "code",
   "execution_count": 4,
   "metadata": {},
   "outputs": [
    {
     "name": "stdout",
     "output_type": "stream",
     "text": [
      "Parse progress: |█████████████████████████████████████████████████████████| 100%\n"
     ]
    }
   ],
   "source": [
    "# Load data\n",
    "#data = h2o.import_file(data_path)\n",
    "data = h2o.upload_file(data_path, destination_frame=\"train_frame\")"
   ]
  },
  {
   "cell_type": "code",
   "execution_count": 5,
   "metadata": {},
   "outputs": [
    {
     "data": {
      "text/html": [
       "<table>\n",
       "<thead>\n",
       "<tr><th style=\"text-align: right;\">  instant</th><th>dteday             </th><th style=\"text-align: right;\">  season</th><th style=\"text-align: right;\">  yr</th><th style=\"text-align: right;\">  mnth</th><th style=\"text-align: right;\">  hr</th><th style=\"text-align: right;\">  holiday</th><th style=\"text-align: right;\">  weekday</th><th style=\"text-align: right;\">  workingday</th><th style=\"text-align: right;\">  weathersit</th><th style=\"text-align: right;\">  temp</th><th style=\"text-align: right;\">  atemp</th><th style=\"text-align: right;\">  hum</th><th style=\"text-align: right;\">  windspeed</th><th style=\"text-align: right;\">  casual</th><th style=\"text-align: right;\">  registered</th><th style=\"text-align: right;\">  cnt</th></tr>\n",
       "</thead>\n",
       "<tbody>\n",
       "<tr><td style=\"text-align: right;\">        1</td><td>2011-01-01 00:00:00</td><td style=\"text-align: right;\">       1</td><td style=\"text-align: right;\">   0</td><td style=\"text-align: right;\">     1</td><td style=\"text-align: right;\">   0</td><td style=\"text-align: right;\">        0</td><td style=\"text-align: right;\">        6</td><td style=\"text-align: right;\">           0</td><td style=\"text-align: right;\">           1</td><td style=\"text-align: right;\">  0.24</td><td style=\"text-align: right;\"> 0.2879</td><td style=\"text-align: right;\"> 0.81</td><td style=\"text-align: right;\">     0     </td><td style=\"text-align: right;\">       3</td><td style=\"text-align: right;\">          13</td><td style=\"text-align: right;\">   16</td></tr>\n",
       "<tr><td style=\"text-align: right;\">        2</td><td>2011-01-01 00:00:00</td><td style=\"text-align: right;\">       1</td><td style=\"text-align: right;\">   0</td><td style=\"text-align: right;\">     1</td><td style=\"text-align: right;\">   1</td><td style=\"text-align: right;\">        0</td><td style=\"text-align: right;\">        6</td><td style=\"text-align: right;\">           0</td><td style=\"text-align: right;\">           1</td><td style=\"text-align: right;\">  0.22</td><td style=\"text-align: right;\"> 0.2727</td><td style=\"text-align: right;\"> 0.8 </td><td style=\"text-align: right;\">     0     </td><td style=\"text-align: right;\">       8</td><td style=\"text-align: right;\">          32</td><td style=\"text-align: right;\">   40</td></tr>\n",
       "<tr><td style=\"text-align: right;\">        3</td><td>2011-01-01 00:00:00</td><td style=\"text-align: right;\">       1</td><td style=\"text-align: right;\">   0</td><td style=\"text-align: right;\">     1</td><td style=\"text-align: right;\">   2</td><td style=\"text-align: right;\">        0</td><td style=\"text-align: right;\">        6</td><td style=\"text-align: right;\">           0</td><td style=\"text-align: right;\">           1</td><td style=\"text-align: right;\">  0.22</td><td style=\"text-align: right;\"> 0.2727</td><td style=\"text-align: right;\"> 0.8 </td><td style=\"text-align: right;\">     0     </td><td style=\"text-align: right;\">       5</td><td style=\"text-align: right;\">          27</td><td style=\"text-align: right;\">   32</td></tr>\n",
       "<tr><td style=\"text-align: right;\">        4</td><td>2011-01-01 00:00:00</td><td style=\"text-align: right;\">       1</td><td style=\"text-align: right;\">   0</td><td style=\"text-align: right;\">     1</td><td style=\"text-align: right;\">   3</td><td style=\"text-align: right;\">        0</td><td style=\"text-align: right;\">        6</td><td style=\"text-align: right;\">           0</td><td style=\"text-align: right;\">           1</td><td style=\"text-align: right;\">  0.24</td><td style=\"text-align: right;\"> 0.2879</td><td style=\"text-align: right;\"> 0.75</td><td style=\"text-align: right;\">     0     </td><td style=\"text-align: right;\">       3</td><td style=\"text-align: right;\">          10</td><td style=\"text-align: right;\">   13</td></tr>\n",
       "<tr><td style=\"text-align: right;\">        5</td><td>2011-01-01 00:00:00</td><td style=\"text-align: right;\">       1</td><td style=\"text-align: right;\">   0</td><td style=\"text-align: right;\">     1</td><td style=\"text-align: right;\">   4</td><td style=\"text-align: right;\">        0</td><td style=\"text-align: right;\">        6</td><td style=\"text-align: right;\">           0</td><td style=\"text-align: right;\">           1</td><td style=\"text-align: right;\">  0.24</td><td style=\"text-align: right;\"> 0.2879</td><td style=\"text-align: right;\"> 0.75</td><td style=\"text-align: right;\">     0     </td><td style=\"text-align: right;\">       0</td><td style=\"text-align: right;\">           1</td><td style=\"text-align: right;\">    1</td></tr>\n",
       "<tr><td style=\"text-align: right;\">        6</td><td>2011-01-01 00:00:00</td><td style=\"text-align: right;\">       1</td><td style=\"text-align: right;\">   0</td><td style=\"text-align: right;\">     1</td><td style=\"text-align: right;\">   5</td><td style=\"text-align: right;\">        0</td><td style=\"text-align: right;\">        6</td><td style=\"text-align: right;\">           0</td><td style=\"text-align: right;\">           2</td><td style=\"text-align: right;\">  0.24</td><td style=\"text-align: right;\"> 0.2576</td><td style=\"text-align: right;\"> 0.75</td><td style=\"text-align: right;\">     0.0896</td><td style=\"text-align: right;\">       0</td><td style=\"text-align: right;\">           1</td><td style=\"text-align: right;\">    1</td></tr>\n",
       "<tr><td style=\"text-align: right;\">        7</td><td>2011-01-01 00:00:00</td><td style=\"text-align: right;\">       1</td><td style=\"text-align: right;\">   0</td><td style=\"text-align: right;\">     1</td><td style=\"text-align: right;\">   6</td><td style=\"text-align: right;\">        0</td><td style=\"text-align: right;\">        6</td><td style=\"text-align: right;\">           0</td><td style=\"text-align: right;\">           1</td><td style=\"text-align: right;\">  0.22</td><td style=\"text-align: right;\"> 0.2727</td><td style=\"text-align: right;\"> 0.8 </td><td style=\"text-align: right;\">     0     </td><td style=\"text-align: right;\">       2</td><td style=\"text-align: right;\">           0</td><td style=\"text-align: right;\">    2</td></tr>\n",
       "<tr><td style=\"text-align: right;\">        8</td><td>2011-01-01 00:00:00</td><td style=\"text-align: right;\">       1</td><td style=\"text-align: right;\">   0</td><td style=\"text-align: right;\">     1</td><td style=\"text-align: right;\">   7</td><td style=\"text-align: right;\">        0</td><td style=\"text-align: right;\">        6</td><td style=\"text-align: right;\">           0</td><td style=\"text-align: right;\">           1</td><td style=\"text-align: right;\">  0.2 </td><td style=\"text-align: right;\"> 0.2576</td><td style=\"text-align: right;\"> 0.86</td><td style=\"text-align: right;\">     0     </td><td style=\"text-align: right;\">       1</td><td style=\"text-align: right;\">           2</td><td style=\"text-align: right;\">    3</td></tr>\n",
       "<tr><td style=\"text-align: right;\">        9</td><td>2011-01-01 00:00:00</td><td style=\"text-align: right;\">       1</td><td style=\"text-align: right;\">   0</td><td style=\"text-align: right;\">     1</td><td style=\"text-align: right;\">   8</td><td style=\"text-align: right;\">        0</td><td style=\"text-align: right;\">        6</td><td style=\"text-align: right;\">           0</td><td style=\"text-align: right;\">           1</td><td style=\"text-align: right;\">  0.24</td><td style=\"text-align: right;\"> 0.2879</td><td style=\"text-align: right;\"> 0.75</td><td style=\"text-align: right;\">     0     </td><td style=\"text-align: right;\">       1</td><td style=\"text-align: right;\">           7</td><td style=\"text-align: right;\">    8</td></tr>\n",
       "<tr><td style=\"text-align: right;\">       10</td><td>2011-01-01 00:00:00</td><td style=\"text-align: right;\">       1</td><td style=\"text-align: right;\">   0</td><td style=\"text-align: right;\">     1</td><td style=\"text-align: right;\">   9</td><td style=\"text-align: right;\">        0</td><td style=\"text-align: right;\">        6</td><td style=\"text-align: right;\">           0</td><td style=\"text-align: right;\">           1</td><td style=\"text-align: right;\">  0.32</td><td style=\"text-align: right;\"> 0.3485</td><td style=\"text-align: right;\"> 0.76</td><td style=\"text-align: right;\">     0     </td><td style=\"text-align: right;\">       8</td><td style=\"text-align: right;\">           6</td><td style=\"text-align: right;\">   14</td></tr>\n",
       "</tbody>\n",
       "</table>"
      ]
     },
     "metadata": {},
     "output_type": "display_data"
    },
    {
     "data": {
      "text/plain": []
     },
     "execution_count": 5,
     "metadata": {},
     "output_type": "execute_result"
    }
   ],
   "source": [
    "# Quick check of proper loading of dataset\n",
    "data.head()"
   ]
  },
  {
   "cell_type": "code",
   "execution_count": 6,
   "metadata": {},
   "outputs": [
    {
     "data": {
      "text/html": [
       "<table>\n",
       "<thead>\n",
       "<tr><th>       </th><th>instant      </th><th>dteday             </th><th>season       </th><th>yr            </th><th>mnth         </th><th>hr           </th><th>holiday        </th><th>weekday      </th><th>workingday    </th><th>weathersit    </th><th>temp          </th><th>atemp         </th><th>hum           </th><th>windspeed     </th><th>casual       </th><th>registered   </th><th>cnt          </th></tr>\n",
       "</thead>\n",
       "<tbody>\n",
       "<tr><td>type   </td><td>int          </td><td>time               </td><td>int          </td><td>int           </td><td>int          </td><td>int          </td><td>int            </td><td>int          </td><td>int           </td><td>int           </td><td>real          </td><td>real          </td><td>real          </td><td>real          </td><td>int          </td><td>int          </td><td>int          </td></tr>\n",
       "<tr><td>mins   </td><td>1.0          </td><td>1.29384e+12        </td><td>1.0          </td><td>0.0           </td><td>1.0          </td><td>0.0          </td><td>0.0            </td><td>0.0          </td><td>0.0           </td><td>1.0           </td><td>0.02          </td><td>0.0           </td><td>0.0           </td><td>0.0           </td><td>0.0          </td><td>0.0          </td><td>1.0          </td></tr>\n",
       "<tr><td>mean   </td><td>8690.0       </td><td>1.32547731455e+12  </td><td>2.50163991024</td><td>0.502560561597</td><td>6.53777547615</td><td>11.5467518269</td><td>0.0287703550262</td><td>3.00368260544</td><td>0.682720524771</td><td>1.425283388   </td><td>0.496987168422</td><td>0.475775102135</td><td>0.627228839404</td><td>0.190097606306</td><td>35.6762184245</td><td>153.78686921 </td><td>189.463087635</td></tr>\n",
       "<tr><td>maxs   </td><td>17379.0      </td><td>1.356912e+12       </td><td>4.0          </td><td>1.0           </td><td>12.0         </td><td>23.0         </td><td>1.0            </td><td>6.0          </td><td>1.0           </td><td>4.0           </td><td>1.0           </td><td>1.0           </td><td>1.0           </td><td>0.8507        </td><td>367.0        </td><td>886.0        </td><td>977.0        </td></tr>\n",
       "<tr><td>sigma  </td><td>5017.02949961</td><td>18150225217.8      </td><td>1.10691813945</td><td>0.500007829091</td><td>3.43877571375</td><td>6.91440509526</td><td>0.167165276384 </td><td>2.00577145611</td><td>0.465430633524</td><td>0.639356877754</td><td>0.19255612125 </td><td>0.171850215635</td><td>0.192929834063</td><td>0.122340228573</td><td>49.3050303871</td><td>151.357285913</td><td>181.387599092</td></tr>\n",
       "<tr><td>zeros  </td><td>0            </td><td>0                  </td><td>0            </td><td>8645          </td><td>0            </td><td>726          </td><td>16879          </td><td>2502         </td><td>5514          </td><td>0             </td><td>0             </td><td>2             </td><td>22            </td><td>2180          </td><td>1581         </td><td>24           </td><td>0            </td></tr>\n",
       "<tr><td>missing</td><td>0            </td><td>0                  </td><td>0            </td><td>0             </td><td>0            </td><td>0            </td><td>0              </td><td>0            </td><td>0             </td><td>0             </td><td>0             </td><td>0             </td><td>0             </td><td>0             </td><td>0            </td><td>0            </td><td>0            </td></tr>\n",
       "<tr><td>0      </td><td>1.0          </td><td>2011-01-01 00:00:00</td><td>1.0          </td><td>0.0           </td><td>1.0          </td><td>0.0          </td><td>0.0            </td><td>6.0          </td><td>0.0           </td><td>1.0           </td><td>0.24          </td><td>0.2879        </td><td>0.81          </td><td>0.0           </td><td>3.0          </td><td>13.0         </td><td>16.0         </td></tr>\n",
       "<tr><td>1      </td><td>2.0          </td><td>2011-01-01 00:00:00</td><td>1.0          </td><td>0.0           </td><td>1.0          </td><td>1.0          </td><td>0.0            </td><td>6.0          </td><td>0.0           </td><td>1.0           </td><td>0.22          </td><td>0.2727        </td><td>0.8           </td><td>0.0           </td><td>8.0          </td><td>32.0         </td><td>40.0         </td></tr>\n",
       "<tr><td>2      </td><td>3.0          </td><td>2011-01-01 00:00:00</td><td>1.0          </td><td>0.0           </td><td>1.0          </td><td>2.0          </td><td>0.0            </td><td>6.0          </td><td>0.0           </td><td>1.0           </td><td>0.22          </td><td>0.2727        </td><td>0.8           </td><td>0.0           </td><td>5.0          </td><td>27.0         </td><td>32.0         </td></tr>\n",
       "<tr><td>3      </td><td>4.0          </td><td>2011-01-01 00:00:00</td><td>1.0          </td><td>0.0           </td><td>1.0          </td><td>3.0          </td><td>0.0            </td><td>6.0          </td><td>0.0           </td><td>1.0           </td><td>0.24          </td><td>0.2879        </td><td>0.75          </td><td>0.0           </td><td>3.0          </td><td>10.0         </td><td>13.0         </td></tr>\n",
       "<tr><td>4      </td><td>5.0          </td><td>2011-01-01 00:00:00</td><td>1.0          </td><td>0.0           </td><td>1.0          </td><td>4.0          </td><td>0.0            </td><td>6.0          </td><td>0.0           </td><td>1.0           </td><td>0.24          </td><td>0.2879        </td><td>0.75          </td><td>0.0           </td><td>0.0          </td><td>1.0          </td><td>1.0          </td></tr>\n",
       "<tr><td>5      </td><td>6.0          </td><td>2011-01-01 00:00:00</td><td>1.0          </td><td>0.0           </td><td>1.0          </td><td>5.0          </td><td>0.0            </td><td>6.0          </td><td>0.0           </td><td>2.0           </td><td>0.24          </td><td>0.2576        </td><td>0.75          </td><td>0.0896        </td><td>0.0          </td><td>1.0          </td><td>1.0          </td></tr>\n",
       "<tr><td>6      </td><td>7.0          </td><td>2011-01-01 00:00:00</td><td>1.0          </td><td>0.0           </td><td>1.0          </td><td>6.0          </td><td>0.0            </td><td>6.0          </td><td>0.0           </td><td>1.0           </td><td>0.22          </td><td>0.2727        </td><td>0.8           </td><td>0.0           </td><td>2.0          </td><td>0.0          </td><td>2.0          </td></tr>\n",
       "<tr><td>7      </td><td>8.0          </td><td>2011-01-01 00:00:00</td><td>1.0          </td><td>0.0           </td><td>1.0          </td><td>7.0          </td><td>0.0            </td><td>6.0          </td><td>0.0           </td><td>1.0           </td><td>0.2           </td><td>0.2576        </td><td>0.86          </td><td>0.0           </td><td>1.0          </td><td>2.0          </td><td>3.0          </td></tr>\n",
       "<tr><td>8      </td><td>9.0          </td><td>2011-01-01 00:00:00</td><td>1.0          </td><td>0.0           </td><td>1.0          </td><td>8.0          </td><td>0.0            </td><td>6.0          </td><td>0.0           </td><td>1.0           </td><td>0.24          </td><td>0.2879        </td><td>0.75          </td><td>0.0           </td><td>1.0          </td><td>7.0          </td><td>8.0          </td></tr>\n",
       "<tr><td>9      </td><td>10.0         </td><td>2011-01-01 00:00:00</td><td>1.0          </td><td>0.0           </td><td>1.0          </td><td>9.0          </td><td>0.0            </td><td>6.0          </td><td>0.0           </td><td>1.0           </td><td>0.32          </td><td>0.3485        </td><td>0.76          </td><td>0.0           </td><td>8.0          </td><td>6.0          </td><td>14.0         </td></tr>\n",
       "</tbody>\n",
       "</table>"
      ]
     },
     "metadata": {},
     "output_type": "display_data"
    }
   ],
   "source": [
    "data.summary()"
   ]
  },
  {
   "cell_type": "code",
   "execution_count": null,
   "metadata": {},
   "outputs": [],
   "source": [
    "# Preprocessing: Renaming columns names to more readable names\n",
    "#data.rename(columns={'instant':'rec_id',\n",
    "#                     'dteday':'datetime',\n",
    "#                     'holiday':'is_holiday',\n",
    "#                     'workingday':'is_workingday',\n",
    "#                     'weathersit':'weather_condition',\n",
    "#                     'hum':'humidity',\n",
    "#                     'mnth':'month',\n",
    "#                     'hr':'hour',\n",
    "#                     'cnt':'total_count',\n",
    "#                     'yr':'year', # remove\n",
    "#                    },\n",
    "#            #inplace=True\n",
    "#           )"
   ]
  },
  {
   "cell_type": "code",
   "execution_count": 159,
   "metadata": {},
   "outputs": [
    {
     "name": "stdout",
     "output_type": "stream",
     "text": [
      "[u'rec_id', u'datetime', u'season', u'year', u'month', u'hour', u'is_holiday', u'weekday', u'is_workingday', u'weather_condition', u'temp', u'atemp', u'humidity', u'windspeed', u'casual', u'registered', u'total_count']\n"
     ]
    }
   ],
   "source": [
    "print(data.names)"
   ]
  },
  {
   "cell_type": "code",
   "execution_count": 8,
   "metadata": {},
   "outputs": [
    {
     "data": {
      "text/html": [
       "<table>\n",
       "<thead>\n",
       "<tr><th style=\"text-align: right;\">  rec_id</th><th>datetime           </th><th style=\"text-align: right;\">  season</th><th style=\"text-align: right;\">  year</th><th style=\"text-align: right;\">  month</th><th style=\"text-align: right;\">  hour</th><th style=\"text-align: right;\">  is_holiday</th><th style=\"text-align: right;\">  weekday</th><th style=\"text-align: right;\">  is_workingday</th><th style=\"text-align: right;\">  weather_condition</th><th style=\"text-align: right;\">  temp</th><th style=\"text-align: right;\">  atemp</th><th style=\"text-align: right;\">  humidity</th><th style=\"text-align: right;\">  windspeed</th><th style=\"text-align: right;\">  casual</th><th style=\"text-align: right;\">  registered</th><th style=\"text-align: right;\">  total_count</th></tr>\n",
       "</thead>\n",
       "<tbody>\n",
       "<tr><td style=\"text-align: right;\">       1</td><td>2011-01-01 00:00:00</td><td style=\"text-align: right;\">       1</td><td style=\"text-align: right;\">     0</td><td style=\"text-align: right;\">      1</td><td style=\"text-align: right;\">     0</td><td style=\"text-align: right;\">           0</td><td style=\"text-align: right;\">        6</td><td style=\"text-align: right;\">              0</td><td style=\"text-align: right;\">                  1</td><td style=\"text-align: right;\">  0.24</td><td style=\"text-align: right;\"> 0.2879</td><td style=\"text-align: right;\">      0.81</td><td style=\"text-align: right;\">     0     </td><td style=\"text-align: right;\">       3</td><td style=\"text-align: right;\">          13</td><td style=\"text-align: right;\">           16</td></tr>\n",
       "<tr><td style=\"text-align: right;\">       2</td><td>2011-01-01 00:00:00</td><td style=\"text-align: right;\">       1</td><td style=\"text-align: right;\">     0</td><td style=\"text-align: right;\">      1</td><td style=\"text-align: right;\">     1</td><td style=\"text-align: right;\">           0</td><td style=\"text-align: right;\">        6</td><td style=\"text-align: right;\">              0</td><td style=\"text-align: right;\">                  1</td><td style=\"text-align: right;\">  0.22</td><td style=\"text-align: right;\"> 0.2727</td><td style=\"text-align: right;\">      0.8 </td><td style=\"text-align: right;\">     0     </td><td style=\"text-align: right;\">       8</td><td style=\"text-align: right;\">          32</td><td style=\"text-align: right;\">           40</td></tr>\n",
       "<tr><td style=\"text-align: right;\">       3</td><td>2011-01-01 00:00:00</td><td style=\"text-align: right;\">       1</td><td style=\"text-align: right;\">     0</td><td style=\"text-align: right;\">      1</td><td style=\"text-align: right;\">     2</td><td style=\"text-align: right;\">           0</td><td style=\"text-align: right;\">        6</td><td style=\"text-align: right;\">              0</td><td style=\"text-align: right;\">                  1</td><td style=\"text-align: right;\">  0.22</td><td style=\"text-align: right;\"> 0.2727</td><td style=\"text-align: right;\">      0.8 </td><td style=\"text-align: right;\">     0     </td><td style=\"text-align: right;\">       5</td><td style=\"text-align: right;\">          27</td><td style=\"text-align: right;\">           32</td></tr>\n",
       "<tr><td style=\"text-align: right;\">       4</td><td>2011-01-01 00:00:00</td><td style=\"text-align: right;\">       1</td><td style=\"text-align: right;\">     0</td><td style=\"text-align: right;\">      1</td><td style=\"text-align: right;\">     3</td><td style=\"text-align: right;\">           0</td><td style=\"text-align: right;\">        6</td><td style=\"text-align: right;\">              0</td><td style=\"text-align: right;\">                  1</td><td style=\"text-align: right;\">  0.24</td><td style=\"text-align: right;\"> 0.2879</td><td style=\"text-align: right;\">      0.75</td><td style=\"text-align: right;\">     0     </td><td style=\"text-align: right;\">       3</td><td style=\"text-align: right;\">          10</td><td style=\"text-align: right;\">           13</td></tr>\n",
       "<tr><td style=\"text-align: right;\">       5</td><td>2011-01-01 00:00:00</td><td style=\"text-align: right;\">       1</td><td style=\"text-align: right;\">     0</td><td style=\"text-align: right;\">      1</td><td style=\"text-align: right;\">     4</td><td style=\"text-align: right;\">           0</td><td style=\"text-align: right;\">        6</td><td style=\"text-align: right;\">              0</td><td style=\"text-align: right;\">                  1</td><td style=\"text-align: right;\">  0.24</td><td style=\"text-align: right;\"> 0.2879</td><td style=\"text-align: right;\">      0.75</td><td style=\"text-align: right;\">     0     </td><td style=\"text-align: right;\">       0</td><td style=\"text-align: right;\">           1</td><td style=\"text-align: right;\">            1</td></tr>\n",
       "<tr><td style=\"text-align: right;\">       6</td><td>2011-01-01 00:00:00</td><td style=\"text-align: right;\">       1</td><td style=\"text-align: right;\">     0</td><td style=\"text-align: right;\">      1</td><td style=\"text-align: right;\">     5</td><td style=\"text-align: right;\">           0</td><td style=\"text-align: right;\">        6</td><td style=\"text-align: right;\">              0</td><td style=\"text-align: right;\">                  2</td><td style=\"text-align: right;\">  0.24</td><td style=\"text-align: right;\"> 0.2576</td><td style=\"text-align: right;\">      0.75</td><td style=\"text-align: right;\">     0.0896</td><td style=\"text-align: right;\">       0</td><td style=\"text-align: right;\">           1</td><td style=\"text-align: right;\">            1</td></tr>\n",
       "<tr><td style=\"text-align: right;\">       7</td><td>2011-01-01 00:00:00</td><td style=\"text-align: right;\">       1</td><td style=\"text-align: right;\">     0</td><td style=\"text-align: right;\">      1</td><td style=\"text-align: right;\">     6</td><td style=\"text-align: right;\">           0</td><td style=\"text-align: right;\">        6</td><td style=\"text-align: right;\">              0</td><td style=\"text-align: right;\">                  1</td><td style=\"text-align: right;\">  0.22</td><td style=\"text-align: right;\"> 0.2727</td><td style=\"text-align: right;\">      0.8 </td><td style=\"text-align: right;\">     0     </td><td style=\"text-align: right;\">       2</td><td style=\"text-align: right;\">           0</td><td style=\"text-align: right;\">            2</td></tr>\n",
       "<tr><td style=\"text-align: right;\">       8</td><td>2011-01-01 00:00:00</td><td style=\"text-align: right;\">       1</td><td style=\"text-align: right;\">     0</td><td style=\"text-align: right;\">      1</td><td style=\"text-align: right;\">     7</td><td style=\"text-align: right;\">           0</td><td style=\"text-align: right;\">        6</td><td style=\"text-align: right;\">              0</td><td style=\"text-align: right;\">                  1</td><td style=\"text-align: right;\">  0.2 </td><td style=\"text-align: right;\"> 0.2576</td><td style=\"text-align: right;\">      0.86</td><td style=\"text-align: right;\">     0     </td><td style=\"text-align: right;\">       1</td><td style=\"text-align: right;\">           2</td><td style=\"text-align: right;\">            3</td></tr>\n",
       "<tr><td style=\"text-align: right;\">       9</td><td>2011-01-01 00:00:00</td><td style=\"text-align: right;\">       1</td><td style=\"text-align: right;\">     0</td><td style=\"text-align: right;\">      1</td><td style=\"text-align: right;\">     8</td><td style=\"text-align: right;\">           0</td><td style=\"text-align: right;\">        6</td><td style=\"text-align: right;\">              0</td><td style=\"text-align: right;\">                  1</td><td style=\"text-align: right;\">  0.24</td><td style=\"text-align: right;\"> 0.2879</td><td style=\"text-align: right;\">      0.75</td><td style=\"text-align: right;\">     0     </td><td style=\"text-align: right;\">       1</td><td style=\"text-align: right;\">           7</td><td style=\"text-align: right;\">            8</td></tr>\n",
       "<tr><td style=\"text-align: right;\">      10</td><td>2011-01-01 00:00:00</td><td style=\"text-align: right;\">       1</td><td style=\"text-align: right;\">     0</td><td style=\"text-align: right;\">      1</td><td style=\"text-align: right;\">     9</td><td style=\"text-align: right;\">           0</td><td style=\"text-align: right;\">        6</td><td style=\"text-align: right;\">              0</td><td style=\"text-align: right;\">                  1</td><td style=\"text-align: right;\">  0.32</td><td style=\"text-align: right;\"> 0.3485</td><td style=\"text-align: right;\">      0.76</td><td style=\"text-align: right;\">     0     </td><td style=\"text-align: right;\">       8</td><td style=\"text-align: right;\">           6</td><td style=\"text-align: right;\">           14</td></tr>\n",
       "</tbody>\n",
       "</table>"
      ]
     },
     "metadata": {},
     "output_type": "display_data"
    },
    {
     "data": {
      "text/plain": []
     },
     "execution_count": 8,
     "metadata": {},
     "output_type": "execute_result"
    }
   ],
   "source": [
    "data.set_names(['rec_id','datetime', 'season', 'year', 'month', 'hour', 'is_holiday', \n",
    "                'weekday', 'is_workingday', 'weather_condition', 'temp', 'atemp', 'humidity', \n",
    "                'windspeed', 'casual', 'registered', 'total_count'])"
   ]
  },
  {
   "cell_type": "markdown",
   "metadata": {},
   "source": [
    "Divide the dataset into training and testing sets (randomly and stratified)."
   ]
  },
  {
   "cell_type": "code",
   "execution_count": 9,
   "metadata": {},
   "outputs": [],
   "source": [
    "# Split the data into Train/Test/Validation with Train having 70% and test and validation 15% each\n",
    "train, test, valid = data.split_frame(ratios=[.7, .15], \n",
    "                                      destination_frames=['train', 'test', 'valid'])"
   ]
  },
  {
   "cell_type": "code",
   "execution_count": 10,
   "metadata": {},
   "outputs": [
    {
     "data": {
      "text/html": [
       "<table>\n",
       "<thead>\n",
       "<tr><th style=\"text-align: right;\">  year</th></tr>\n",
       "</thead>\n",
       "<tbody>\n",
       "<tr><td style=\"text-align: right;\">     0</td></tr>\n",
       "<tr><td style=\"text-align: right;\">     0</td></tr>\n",
       "<tr><td style=\"text-align: right;\">     0</td></tr>\n",
       "<tr><td style=\"text-align: right;\">     0</td></tr>\n",
       "<tr><td style=\"text-align: right;\">     0</td></tr>\n",
       "<tr><td style=\"text-align: right;\">     0</td></tr>\n",
       "<tr><td style=\"text-align: right;\">     0</td></tr>\n",
       "<tr><td style=\"text-align: right;\">     0</td></tr>\n",
       "<tr><td style=\"text-align: right;\">     0</td></tr>\n",
       "<tr><td style=\"text-align: right;\">     0</td></tr>\n",
       "</tbody>\n",
       "</table>"
      ]
     },
     "metadata": {},
     "output_type": "display_data"
    },
    {
     "data": {
      "text/plain": []
     },
     "execution_count": 10,
     "metadata": {},
     "output_type": "execute_result"
    }
   ],
   "source": [
    "# Setting proper data types (i.e.categorical fetures)\n",
    "\n",
    "# convert response column to a factor\n",
    "train[\"season\"].asfactor()\n",
    "\n",
    "# date time conversion\n",
    "pattern = \"%m/%d/%Y %I:%M:%S %p\"\n",
    "train.as_date(pattern)\n",
    "\n",
    "train['season'].asfactor()\n",
    "train['is_holiday'].asfactor()\n",
    "train['weekday'].asfactor()\n",
    "train['weather_condition'].asfactor()\n",
    "train['is_workingday'].asfactor()\n",
    "train['month'].asfactor()\n",
    "train['hour'].asfactor()\n",
    "train['year'].asfactor()"
   ]
  },
  {
   "cell_type": "code",
   "execution_count": 11,
   "metadata": {},
   "outputs": [],
   "source": [
    "predictors = [\"season\", \"is_holiday\", \"weekday\", \"weather_condition\", \n",
    "              \"is_workingday\", \"month\", \"hour\"]\n",
    "response_col = \"total_count\""
   ]
  },
  {
   "cell_type": "code",
   "execution_count": 12,
   "metadata": {},
   "outputs": [
    {
     "name": "stdout",
     "output_type": "stream",
     "text": [
      "We have 12146 training samples and 2630 test samples.\n"
     ]
    }
   ],
   "source": [
    "print(\"We have %d training samples and %d test samples.\" % (train['total_count'].dim[0], \n",
    "                                                            test['total_count'].dim[0]))"
   ]
  },
  {
   "cell_type": "code",
   "execution_count": 13,
   "metadata": {},
   "outputs": [],
   "source": [
    "# Encoding all the categorical features\n",
    "cat_attr_list = ['season','is_holiday',\n",
    "                 'weather_condition','is_workingday',\n",
    "                 'hour','weekday','month',#'year'\n",
    "                ]\n",
    "\n",
    "# though we have transformed all categoricals into their one-hot encodings, note that ordinal\n",
    "# attributes such as hour, weekday, and so on do not require such encoding.\n",
    "numeric_feature_cols = ['temp','humidity','windspeed', 'atemp',\n",
    "                        'hour','weekday','month',#'year'\n",
    "                       ]\n",
    "subset_cat_features =  ['season','is_holiday','weather_condition','is_workingday']"
   ]
  },
  {
   "cell_type": "code",
   "execution_count": 14,
   "metadata": {},
   "outputs": [],
   "source": [
    "# Generate a GLM model using the training dataset\n",
    "glm_model = H2OGeneralizedLinearEstimator(family = \"poisson\", #\"gaussian\"\n",
    "                                          #use_all_factor_levels_flag = True,\n",
    "                                          solver='IRLSM', # Iteratively Reweighted Least Squares Method, and L_BFGS: Limited-memory Broyden-Fletcher-Goldfarb-Shanno algorithm\n",
    "                                          lambda_ = 0, \n",
    "                                          nfolds = 3,\n",
    "                                          fold_assignment = \"stratified\",\n",
    "                                          compute_p_values = True\n",
    "                                          #validation_frame = valid\n",
    "                                         )"
   ]
  },
  {
   "cell_type": "code",
   "execution_count": 15,
   "metadata": {},
   "outputs": [
    {
     "name": "stdout",
     "output_type": "stream",
     "text": [
      "glm Model Build progress: |███████████████████████████████████████████████| 100%\n"
     ]
    }
   ],
   "source": [
    "glm_model.train(x=predictors, y=response_col, training_frame=train)"
   ]
  },
  {
   "cell_type": "code",
   "execution_count": 16,
   "metadata": {},
   "outputs": [
    {
     "name": "stdout",
     "output_type": "stream",
     "text": [
      "{u'hour': 0.05573218996791075, u'season': 0.24561398025858946, u'is_workingday': 0.04707691474173261, u'month': -0.034528386869351425, u'is_holiday': -0.15755668791115818, u'Intercept': 4.384787013435053, u'weather_condition': -0.23497454175911667, u'weekday': 0.014005827075447388}\n"
     ]
    }
   ],
   "source": [
    "# Coefficients that can be applied to the non-standardized data.\n",
    "print(glm_model.coef())"
   ]
  },
  {
   "cell_type": "code",
   "execution_count": 17,
   "metadata": {},
   "outputs": [
    {
     "name": "stdout",
     "output_type": "stream",
     "text": [
      "{u'hour': 0.38525681302662024, u'season': 0.2721008702694859, u'is_workingday': 0.021925463333274393, u'month': -0.11880896172908753, u'is_holiday': -0.026395140347488286, u'Intercept': 5.1520556356857545, u'weather_condition': -0.15079149835087968, u'weekday': 0.028157842683230225}\n"
     ]
    }
   ],
   "source": [
    "# Coefficients fitted on the standardized data (requires standardize = True, which is on by default)\n",
    "print(glm_model.coef_norm())"
   ]
  },
  {
   "cell_type": "code",
   "execution_count": 18,
   "metadata": {},
   "outputs": [
    {
     "name": "stdout",
     "output_type": "stream",
     "text": [
      "\n",
      "Coefficients: glm coefficients\n"
     ]
    },
    {
     "data": {
      "text/html": [
       "<div>\n",
       "<style scoped>\n",
       "    .dataframe tbody tr th:only-of-type {\n",
       "        vertical-align: middle;\n",
       "    }\n",
       "\n",
       "    .dataframe tbody tr th {\n",
       "        vertical-align: top;\n",
       "    }\n",
       "\n",
       "    .dataframe thead th {\n",
       "        text-align: right;\n",
       "    }\n",
       "</style>\n",
       "<table border=\"1\" class=\"dataframe\">\n",
       "  <thead>\n",
       "    <tr style=\"text-align: right;\">\n",
       "      <th></th>\n",
       "      <th>names</th>\n",
       "      <th>coefficients</th>\n",
       "      <th>std_error</th>\n",
       "      <th>z_value</th>\n",
       "      <th>p_value</th>\n",
       "      <th>standardized_coefficients</th>\n",
       "    </tr>\n",
       "  </thead>\n",
       "  <tbody>\n",
       "    <tr>\n",
       "      <th>0</th>\n",
       "      <td>Intercept</td>\n",
       "      <td>4.384787</td>\n",
       "      <td>0.003092</td>\n",
       "      <td>1418.051497</td>\n",
       "      <td>0.0</td>\n",
       "      <td>5.152056</td>\n",
       "    </tr>\n",
       "    <tr>\n",
       "      <th>1</th>\n",
       "      <td>season</td>\n",
       "      <td>0.245614</td>\n",
       "      <td>0.001302</td>\n",
       "      <td>188.703231</td>\n",
       "      <td>0.0</td>\n",
       "      <td>0.272101</td>\n",
       "    </tr>\n",
       "    <tr>\n",
       "      <th>2</th>\n",
       "      <td>month</td>\n",
       "      <td>-0.034528</td>\n",
       "      <td>0.000423</td>\n",
       "      <td>-81.574303</td>\n",
       "      <td>0.0</td>\n",
       "      <td>-0.118809</td>\n",
       "    </tr>\n",
       "    <tr>\n",
       "      <th>3</th>\n",
       "      <td>hour</td>\n",
       "      <td>0.055732</td>\n",
       "      <td>0.000099</td>\n",
       "      <td>562.005658</td>\n",
       "      <td>0.0</td>\n",
       "      <td>0.385257</td>\n",
       "    </tr>\n",
       "    <tr>\n",
       "      <th>4</th>\n",
       "      <td>is_holiday</td>\n",
       "      <td>-0.157557</td>\n",
       "      <td>0.004493</td>\n",
       "      <td>-35.067371</td>\n",
       "      <td>0.0</td>\n",
       "      <td>-0.026395</td>\n",
       "    </tr>\n",
       "    <tr>\n",
       "      <th>5</th>\n",
       "      <td>weekday</td>\n",
       "      <td>0.014006</td>\n",
       "      <td>0.000330</td>\n",
       "      <td>42.419079</td>\n",
       "      <td>0.0</td>\n",
       "      <td>0.028158</td>\n",
       "    </tr>\n",
       "    <tr>\n",
       "      <th>6</th>\n",
       "      <td>is_workingday</td>\n",
       "      <td>0.047077</td>\n",
       "      <td>0.001466</td>\n",
       "      <td>32.112510</td>\n",
       "      <td>0.0</td>\n",
       "      <td>0.021925</td>\n",
       "    </tr>\n",
       "    <tr>\n",
       "      <th>7</th>\n",
       "      <td>weather_condition</td>\n",
       "      <td>-0.234975</td>\n",
       "      <td>0.001127</td>\n",
       "      <td>-208.565245</td>\n",
       "      <td>0.0</td>\n",
       "      <td>-0.150791</td>\n",
       "    </tr>\n",
       "  </tbody>\n",
       "</table>\n",
       "</div>"
      ],
      "text/plain": [
       "               names  coefficients  std_error      z_value  p_value  \\\n",
       "0          Intercept      4.384787   0.003092  1418.051497      0.0   \n",
       "1             season      0.245614   0.001302   188.703231      0.0   \n",
       "2              month     -0.034528   0.000423   -81.574303      0.0   \n",
       "3               hour      0.055732   0.000099   562.005658      0.0   \n",
       "4         is_holiday     -0.157557   0.004493   -35.067371      0.0   \n",
       "5            weekday      0.014006   0.000330    42.419079      0.0   \n",
       "6      is_workingday      0.047077   0.001466    32.112510      0.0   \n",
       "7  weather_condition     -0.234975   0.001127  -208.565245      0.0   \n",
       "\n",
       "   standardized_coefficients  \n",
       "0                   5.152056  \n",
       "1                   0.272101  \n",
       "2                  -0.118809  \n",
       "3                   0.385257  \n",
       "4                  -0.026395  \n",
       "5                   0.028158  \n",
       "6                   0.021925  \n",
       "7                  -0.150791  "
      ]
     },
     "metadata": {},
     "output_type": "display_data"
    },
    {
     "data": {
      "text/plain": []
     },
     "execution_count": 18,
     "metadata": {},
     "output_type": "execute_result"
    }
   ],
   "source": [
    "# Print the Coefficients table\n",
    "glm_model._model_json['output']['coefficients_table']"
   ]
  },
  {
   "cell_type": "code",
   "execution_count": 19,
   "metadata": {},
   "outputs": [
    {
     "name": "stdout",
     "output_type": "stream",
     "text": [
      "[0.0030921211415158197, 0.001301588630758296, 0.0004232752889190196, 9.916659952064865e-05, 0.004492971225501657, 0.00033017754143117384, 0.001465999234278495, 0.001126623669421556]\n"
     ]
    }
   ],
   "source": [
    "# Print the Standard error\n",
    "print(glm_model._model_json['output']['coefficients_table']['std_error'])"
   ]
  },
  {
   "cell_type": "code",
   "execution_count": 20,
   "metadata": {},
   "outputs": [
    {
     "name": "stdout",
     "output_type": "stream",
     "text": [
      "[0.0, 0.0, 0.0, 0.0, 0.0, 0.0, 0.0, 0.0]\n"
     ]
    }
   ],
   "source": [
    "# Print the p values\n",
    "print(glm_model._model_json['output']['coefficients_table']['p_value'])"
   ]
  },
  {
   "cell_type": "code",
   "execution_count": 21,
   "metadata": {},
   "outputs": [
    {
     "name": "stdout",
     "output_type": "stream",
     "text": [
      "[1418.0514969363533, 188.703231154913, -81.57430346933705, 562.0056575228849, -35.067370789486056, 42.4190785803853, 32.11250977556066, -208.56524510954043]\n"
     ]
    }
   ],
   "source": [
    "# Print the z values\n",
    "print(glm_model._model_json['output']['coefficients_table']['z_value'])"
   ]
  },
  {
   "cell_type": "code",
   "execution_count": 22,
   "metadata": {},
   "outputs": [
    {
     "data": {
      "image/png": "[encoded data removed]",
      "text/plain": [
       "<matplotlib.figure.Figure at 0x1261d6e50>"
      ]
     },
     "metadata": {
      "needs_background": "light"
     },
     "output_type": "display_data"
    }
   ],
   "source": [
    "# Retrieve a graphical plot of the standardized coefficient magnitudes\n",
    "glm_model.std_coef_plot()"
   ]
  },
  {
   "cell_type": "code",
   "execution_count": 23,
   "metadata": {},
   "outputs": [
    {
     "name": "stdout",
     "output_type": "stream",
     "text": [
      "glm prediction progress: |████████████████████████████████████████████████| 100%\n"
     ]
    },
    {
     "data": {
      "text/html": [
       "<table>\n",
       "<thead>\n",
       "<tr><th style=\"text-align: right;\">  predict</th><th style=\"text-align: right;\">    StdErr</th></tr>\n",
       "</thead>\n",
       "<tbody>\n",
       "<tr><td style=\"text-align: right;\">  85.1942</td><td style=\"text-align: right;\">0.00242518</td></tr>\n",
       "<tr><td style=\"text-align: right;\"> 100.698 </td><td style=\"text-align: right;\">0.00226547</td></tr>\n",
       "<tr><td style=\"text-align: right;\"> 119.024 </td><td style=\"text-align: right;\">0.00213547</td></tr>\n",
       "<tr><td style=\"text-align: right;\"> 125.846 </td><td style=\"text-align: right;\">0.00209973</td></tr>\n",
       "<tr><td style=\"text-align: right;\"> 133.059 </td><td style=\"text-align: right;\">0.00206813</td></tr>\n",
       "<tr><td style=\"text-align: right;\"> 155.391 </td><td style=\"text-align: right;\">0.00211243</td></tr>\n",
       "<tr><td style=\"text-align: right;\"> 242.693 </td><td style=\"text-align: right;\">0.00229367</td></tr>\n",
       "<tr><td style=\"text-align: right;\">  61.925 </td><td style=\"text-align: right;\">0.00255043</td></tr>\n",
       "<tr><td style=\"text-align: right;\"> 168.866 </td><td style=\"text-align: right;\">0.00216967</td></tr>\n",
       "<tr><td style=\"text-align: right;\"> 238.78  </td><td style=\"text-align: right;\">0.00208594</td></tr>\n",
       "</tbody>\n",
       "</table>"
      ]
     },
     "metadata": {},
     "output_type": "display_data"
    },
    {
     "data": {
      "text/plain": []
     },
     "execution_count": 23,
     "metadata": {},
     "output_type": "execute_result"
    }
   ],
   "source": [
    "# Predict using the GLM model and the testing dataset\n",
    "predict = glm_model.predict(test)\n",
    "\n",
    "# View a summary of the prediction\n",
    "predict.head()"
   ]
  },
  {
   "cell_type": "code",
   "execution_count": 24,
   "metadata": {},
   "outputs": [
    {
     "name": "stdout",
     "output_type": "stream",
     "text": [
      "Parse progress: |█████████████████████████████████████████████████████████| 100%\n"
     ]
    }
   ],
   "source": [
    "bc = h2o.H2OFrame([(\"Intercept\",-1000,1000,3,30)], \n",
    "                  column_names=[\"names\",\"lower_bounds\",\"upper_bounds\",\"beta_given\",\"rho\"])"
   ]
  },
  {
   "cell_type": "code",
   "execution_count": 25,
   "metadata": {},
   "outputs": [],
   "source": [
    "# Model selection\n",
    "models = [\n",
    "    # specify the hyper-parameters \n",
    "    # Generate a GLM model using the training dataset\n",
    "    H2OGeneralizedLinearEstimator(family = \"poisson\", #\"gaussian\"\n",
    "                                  #use_all_factor_levels_flag = True,\n",
    "                                  solver= 'l_bfgs', # 'irlsm' Iteratively Reweighted Least Squares Method, and l_bfgs: Limited-memory Broyden-Fletcher-Goldfarb-Shanno algorithm\n",
    "                                  lambda_ = 1e-5, \n",
    "                                  alpha = 1, # 1 - LASSO,  0 - Ridge regression\n",
    "                                  nfolds = 3,\n",
    "                                  fold_assignment = 'stratified',\n",
    "                                  #compute_p_values = True, # only with 'irlsm' solver\n",
    "                                  validation_frame = valid,\n",
    "                                  lambda_search = True,\n",
    "                                  beta_constraints=bc,\n",
    "                                  standardize=True,\n",
    "                                  )\n",
    "]"
   ]
  },
  {
   "cell_type": "code",
   "execution_count": 26,
   "metadata": {},
   "outputs": [],
   "source": [
    "table = PrettyTable()\n",
    "table.field_names = [\"Model\", \"Dataset\", \n",
    "                     \"MAE\", \n",
    "                     #\"MSE\",\n",
    "                     #\"Variance\"\n",
    "                    ]"
   ]
  },
  {
   "cell_type": "code",
   "execution_count": 27,
   "metadata": {},
   "outputs": [
    {
     "name": "stdout",
     "output_type": "stream",
     "text": [
      "glm Model Build progress: |███████████████████████████████████████████████| 100%\n",
      "glm prediction progress: |████████████████████████████████████████████████| 100%\n",
      "glm prediction progress: |████████████████████████████████████████████████| 100%\n",
      "+-------------------------------+----------+--------+\n",
      "|             Model             | Dataset  |  MAE   |\n",
      "+-------------------------------+----------+--------+\n",
      "| H2OGeneralizedLinearEstimator | training | 120.22 |\n",
      "+-------------------------------+----------+--------+\n"
     ]
    }
   ],
   "source": [
    "#%%time\n",
    "for model in models:\n",
    "    dataset = 'training'\n",
    "    \n",
    "    # Model training\n",
    "    model.train(x=predictors, y=response_col, training_frame=train)\n",
    "    \n",
    "    # Make prediction on test and training data set\n",
    "    y_pred = model.predict(test)\n",
    "    y_res  = model.predict(train)\n",
    "    \n",
    "    #print(test[response_col].as_data_frame().as_matrix())\n",
    "    #print(y_pred['predict'].as_data_frame().as_matrix())\n",
    "    \n",
    "    #print(test[response_col].shape)\n",
    "    #print(y_pred['predict'].shape)\n",
    "    \n",
    "    # Evaluate model performance (for shortness of time will only CV MAE)\n",
    "    mae = mean_absolute_error(test[response_col].as_data_frame(),\n",
    "                              y_pred['predict'].as_data_frame()\n",
    "                             )\n",
    "    \n",
    "    # Cross-Validated Mean Absolute Deviation regression loss\n",
    "    #mae = -np.mean(cross_val_score(model, \n",
    "    #                               train[predictors].as_data_frame(),\n",
    "    #                               train[response_col].as_data_frame(), \n",
    "    #                               cv=3, n_jobs=-1, \n",
    "    #                               scoring=\"neg_mean_absolute_error\"))\n",
    "\n",
    "    #mae = model.mae(xval=True)\n",
    "    \n",
    "    #variance  = abs(mean_absolute_error(train[response_col].as_data_frame(),\n",
    "    #                                    y_res) - mae\n",
    "    #               )\n",
    "    \n",
    "    #print(\"%.2f\" % mean_absolute_error(train[response_col].as_data_frame(),\n",
    "    #                                   y_res\n",
    "    #                                  )\n",
    "    #     )\n",
    " \n",
    "    table.add_row([type(model).__name__, \n",
    "                   dataset,\n",
    "                   format(mae, '.2f'),\n",
    "                   #format(mse, '.2f'),   \n",
    "                   #format(variance, '.2f')\n",
    "                  ],\n",
    "                 )\n",
    "    \n",
    "print(table)"
   ]
  },
  {
   "cell_type": "code",
   "execution_count": 28,
   "metadata": {},
   "outputs": [
    {
     "data": {
      "text/plain": [
       "{u'Intercept': 3.769616084377265,\n",
       " u'hour': 0.07564578548707833,\n",
       " u'is_holiday': -0.2639534552727617,\n",
       " u'is_workingday': 0.07168927155020803,\n",
       " u'month': 0.01380731568076803,\n",
       " u'season': 0.1584587694289864,\n",
       " u'weather_condition': -0.325648166426235,\n",
       " u'weekday': 0.01781221385762686}"
      ]
     },
     "execution_count": 28,
     "metadata": {},
     "output_type": "execute_result"
    }
   ],
   "source": [
    "models[0].coef()"
   ]
  },
  {
   "cell_type": "code",
   "execution_count": 29,
   "metadata": {},
   "outputs": [
    {
     "name": "stdout",
     "output_type": "stream",
     "text": [
      "glm prediction progress: |████████████████████████████████████████████████| 100%\n"
     ]
    },
    {
     "data": {
      "image/png": "[encoded data removed]",
      "text/plain": [
       "<matplotlib.figure.Figure at 0x124d6d310>"
      ]
     },
     "metadata": {
      "needs_background": "light"
     },
     "output_type": "display_data"
    }
   ],
   "source": [
    "# Analysing Residuals in model's predictinos\n",
    "predicted = model.predict(test)\n",
    "\n",
    "fig,ax = plt.subplots(figsize=(5,5))\n",
    "ax.scatter(train.as_data_frame()[response_col], \n",
    "           train.as_data_frame()[response_col] -  predicted.as_data_frame()['predict'])\n",
    "ax.axhline(lw=2,color='black')\n",
    "ax.set_xlabel('Observed')\n",
    "ax.set_ylabel('Residual')\n",
    "ax.set_title('Residual Plot')\n",
    "plt.show()"
   ]
  },
  {
   "cell_type": "markdown",
   "metadata": {},
   "source": [
    "## Deep Learning"
   ]
  },
  {
   "cell_type": "code",
   "execution_count": 154,
   "metadata": {},
   "outputs": [
    {
     "name": "stdout",
     "output_type": "stream",
     "text": [
      "deeplearning Model Build progress: |██████████████████████████████████████| 100%\n"
     ]
    }
   ],
   "source": [
    "# Simple Deep Learning - Predict Arrest\n",
    "model_dl = H2ODeepLearningEstimator(distribution=\"poisson\", #\"gaussian\", \n",
    "                                    variable_importances=True,\n",
    "                                    categorical_encoding='one_hot_internal',\n",
    "                                    loss=\"Automatic\",\n",
    "                                    activation = \"rectifier\", \n",
    "                                    hidden = [150, 150, 150], \n",
    "                                    epochs = 64\n",
    "                                   )\n",
    "\n",
    "model_dl.train(x=predictors, \n",
    "               y=response_col,\n",
    "               training_frame   =train,\n",
    "               #validation_frame=valid\n",
    "              )"
   ]
  },
  {
   "cell_type": "code",
   "execution_count": 155,
   "metadata": {},
   "outputs": [
    {
     "name": "stdout",
     "output_type": "stream",
     "text": [
      "deeplearning prediction progress: |███████████████████████████████████████| 100%\n",
      "deeplearning prediction progress: |███████████████████████████████████████| 100%\n"
     ]
    }
   ],
   "source": [
    "# Make prediction on test and training data set\n",
    "y_pred = model_dl.predict(test)\n",
    "y_res  = model_dl.predict(train)"
   ]
  },
  {
   "cell_type": "code",
   "execution_count": 156,
   "metadata": {},
   "outputs": [],
   "source": [
    "# Evaluate model performance (for shortness of time will only CV MAE)\n",
    "mae = mean_absolute_error(test[response_col].as_data_frame(), \n",
    "                         y_pred['predict'].as_data_frame()\n",
    "                        )\n",
    "#mae = model_dl.mae(xval=True)"
   ]
  },
  {
   "cell_type": "code",
   "execution_count": 157,
   "metadata": {},
   "outputs": [],
   "source": [
    "table = PrettyTable()\n",
    "table.field_names = [\"Model\", \n",
    "                     \"Dataset\", \n",
    "                     \"MAE\", \n",
    "                     #\"MSE\",\n",
    "                     #\"Variance\"\n",
    "                    ]"
   ]
  },
  {
   "cell_type": "code",
   "execution_count": 158,
   "metadata": {},
   "outputs": [
    {
     "name": "stdout",
     "output_type": "stream",
     "text": [
      "+--------------------------+----------+-------+\n",
      "|          Model           | Dataset  |  MAE  |\n",
      "+--------------------------+----------+-------+\n",
      "| H2ODeepLearningEstimator | training | 69.27 |\n",
      "+--------------------------+----------+-------+\n"
     ]
    }
   ],
   "source": [
    "table.add_row(['H2ODeepLearningEstimator', \n",
    "               'training',\n",
    "               format(mae, '.2f'),\n",
    "               ],\n",
    "              )\n",
    "print(table)\n",
    "#H2ODeepLearningEstimator"
   ]
  }
 ],
 "metadata": {
  "kernelspec": {
   "display_name": "Python 2",
   "language": "python",
   "name": "python2"
  },
  "language_info": {
   "codemirror_mode": {
    "name": "ipython",
    "version": 2
   },
   "file_extension": ".py",
   "mimetype": "text/x-python",
   "name": "python",
   "nbconvert_exporter": "python",
   "pygments_lexer": "ipython2",
   "version": "2.7.10"
  }
 },
 "nbformat": 4,
 "nbformat_minor": 2
}
