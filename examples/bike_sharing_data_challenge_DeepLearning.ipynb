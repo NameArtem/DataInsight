{
 "cells": [
  {
   "cell_type": "markdown",
   "metadata": {},
   "source": [
    "## Bike Sharing Problem - Deep Learning"
   ]
  },
  {
   "cell_type": "code",
   "execution_count": 21,
   "metadata": {},
   "outputs": [
    {
     "name": "stderr",
     "output_type": "stream",
     "text": [
      "Using TensorFlow backend.\n"
     ]
    }
   ],
   "source": [
    "## Loading required package\n",
    "import warnings\n",
    "warnings.filterwarnings(\"ignore\", category=DeprecationWarning)\n",
    "warnings.filterwarnings(\"ignore\", category=UserWarning)\n",
    "warnings.filterwarnings(\"ignore\", category=RuntimeWarning)\n",
    "warnings.filterwarnings(\"ignore\", category=FutureWarning)\n",
    "from warnings import filterwarnings\n",
    "filterwarnings('ignore')\n",
    "\n",
    "import numpy as np\n",
    "import pandas as pd\n",
    "import matplotlib.pyplot as plt\n",
    "import seaborn as sns\n",
    "sns.set(style=\"whitegrid\")\n",
    "import scipy.stats as stats\n",
    "\n",
    "# Sklearn metrics\n",
    "from sklearn.metrics import mean_squared_error, mean_squared_log_error\n",
    "from sklearn.metrics import mean_absolute_error, median_absolute_error\n",
    "from sklearn.model_selection import cross_val_predict\n",
    "from sklearn.model_selection import cross_val_score\n",
    "from sklearn import preprocessing\n",
    "\n",
    "# Sklearn models\n",
    "from sklearn.linear_model import Lasso, ElasticNet, Ridge, SGDRegressor, LinearRegression\n",
    "from sklearn.ensemble import RandomForestRegressor, GradientBoostingRegressor, AdaBoostRegressor\n",
    "from sklearn.tree import DecisionTreeRegressor\n",
    "\n",
    "# Sklearn untility functions\n",
    "from sklearn.model_selection import train_test_split\n",
    "\n",
    "# XGBoost, Catboost, and LightGBM models\n",
    "import xgboost as xgb\n",
    "from xgboost import XGBClassifier\n",
    "from catboost import CatBoostRegressor\n",
    "import lightgbm as lgbm\n",
    "\n",
    "# Keras \n",
    "from keras.models import Sequential\n",
    "from keras.layers.core import Dense, Dropout, Activation\n",
    "from keras.optimizers import Adadelta, Adam, rmsprop\n",
    "\n",
    "from sklearn.model_selection import train_test_split\n",
    "\n",
    "# Beautify evaluation tables\n",
    "from prettytable import PrettyTable\n",
    "\n",
    "# Bayesian Optimization\n",
    "from bayes_opt import BayesianOptimization\n",
    "from bayes_opt.observer import JSONLogger\n",
    "from bayes_opt.event import Events\n",
    "from bayes_opt.util import load_logs\n",
    "\n",
    "from skopt.space import Integer, Real, Categorical\n",
    "from skopt.utils import use_named_args\n",
    "from skopt import gp_minimize\n",
    "from skopt.plots import plot_evaluations\n",
    "from skopt.plots import plot_objective\n",
    "from skopt.plots import plot_convergence\n",
    "\n",
    "from hyperopt import fmin, tpe, hp, STATUS_OK, Trials\n",
    "\n",
    "np.random.seed(42)\n",
    "\n",
    "import h2o\n",
    "from h2o.estimators.glm import H2OGeneralizedLinearEstimator\n",
    "from h2o.estimators.deeplearning import H2ODeepLearningEstimator"
   ]
  },
  {
   "cell_type": "code",
   "execution_count": 3,
   "metadata": {},
   "outputs": [
    {
     "name": "stdout",
     "output_type": "stream",
     "text": [
      "Checking whether there is an H2O instance running at http://localhost:54321 . connected.\n"
     ]
    },
    {
     "data": {
      "text/html": [
       "<div style=\"overflow:auto\"><table style=\"width:50%\"><tr><td>H2O cluster uptime:</td>\n",
       "<td>10 hours 50 mins</td></tr>\n",
       "<tr><td>H2O cluster timezone:</td>\n",
       "<td>Europe/Berlin</td></tr>\n",
       "<tr><td>H2O data parsing timezone:</td>\n",
       "<td>UTC</td></tr>\n",
       "<tr><td>H2O cluster version:</td>\n",
       "<td>3.26.0.9</td></tr>\n",
       "<tr><td>H2O cluster version age:</td>\n",
       "<td>1 month and 19 days </td></tr>\n",
       "<tr><td>H2O cluster name:</td>\n",
       "<td>H2O_from_python_chrisjcc_bzmk2p</td></tr>\n",
       "<tr><td>H2O cluster total nodes:</td>\n",
       "<td>1</td></tr>\n",
       "<tr><td>H2O cluster free memory:</td>\n",
       "<td>3.187 Gb</td></tr>\n",
       "<tr><td>H2O cluster total cores:</td>\n",
       "<td>8</td></tr>\n",
       "<tr><td>H2O cluster allowed cores:</td>\n",
       "<td>8</td></tr>\n",
       "<tr><td>H2O cluster status:</td>\n",
       "<td>locked, healthy</td></tr>\n",
       "<tr><td>H2O connection url:</td>\n",
       "<td>http://localhost:54321</td></tr>\n",
       "<tr><td>H2O connection proxy:</td>\n",
       "<td>{u'http': None, u'https': None}</td></tr>\n",
       "<tr><td>H2O internal security:</td>\n",
       "<td>False</td></tr>\n",
       "<tr><td>H2O API Extensions:</td>\n",
       "<td>Amazon S3, XGBoost, Algos, AutoML, Core V3, TargetEncoder, Core V4</td></tr>\n",
       "<tr><td>Python version:</td>\n",
       "<td>2.7.10 final</td></tr></table></div>"
      ],
      "text/plain": [
       "--------------------------  ------------------------------------------------------------------\n",
       "H2O cluster uptime:         10 hours 50 mins\n",
       "H2O cluster timezone:       Europe/Berlin\n",
       "H2O data parsing timezone:  UTC\n",
       "H2O cluster version:        3.26.0.9\n",
       "H2O cluster version age:    1 month and 19 days\n",
       "H2O cluster name:           H2O_from_python_chrisjcc_bzmk2p\n",
       "H2O cluster total nodes:    1\n",
       "H2O cluster free memory:    3.187 Gb\n",
       "H2O cluster total cores:    8\n",
       "H2O cluster allowed cores:  8\n",
       "H2O cluster status:         locked, healthy\n",
       "H2O connection url:         http://localhost:54321\n",
       "H2O connection proxy:       {u'http': None, u'https': None}\n",
       "H2O internal security:      False\n",
       "H2O API Extensions:         Amazon S3, XGBoost, Algos, AutoML, Core V3, TargetEncoder, Core V4\n",
       "Python version:             2.7.10 final\n",
       "--------------------------  ------------------------------------------------------------------"
      ]
     },
     "metadata": {},
     "output_type": "display_data"
    }
   ],
   "source": [
    "# Cluster Inspection\n",
    "h2o.init()"
   ]
  },
  {
   "cell_type": "code",
   "execution_count": 4,
   "metadata": {},
   "outputs": [],
   "source": [
    "# File path \n",
    "base_dir = '/Users/chrisjcc/Downloads/'\n",
    "\n",
    "data_path = base_dir + 'hour.csv'"
   ]
  },
  {
   "cell_type": "code",
   "execution_count": 5,
   "metadata": {},
   "outputs": [
    {
     "name": "stdout",
     "output_type": "stream",
     "text": [
      "Parse progress: |█████████████████████████████████████████████████████████| 100%\n"
     ]
    }
   ],
   "source": [
    "# Load data\n",
    "#data = h2o.import_file(data_path)\n",
    "data = h2o.upload_file(data_path, destination_frame=\"train_frame\")"
   ]
  },
  {
   "cell_type": "code",
   "execution_count": 6,
   "metadata": {},
   "outputs": [
    {
     "data": {
      "text/html": [
       "<table>\n",
       "<thead>\n",
       "<tr><th style=\"text-align: right;\">  instant</th><th>dteday             </th><th style=\"text-align: right;\">  season</th><th style=\"text-align: right;\">  yr</th><th style=\"text-align: right;\">  mnth</th><th style=\"text-align: right;\">  hr</th><th style=\"text-align: right;\">  holiday</th><th style=\"text-align: right;\">  weekday</th><th style=\"text-align: right;\">  workingday</th><th style=\"text-align: right;\">  weathersit</th><th style=\"text-align: right;\">  temp</th><th style=\"text-align: right;\">  atemp</th><th style=\"text-align: right;\">  hum</th><th style=\"text-align: right;\">  windspeed</th><th style=\"text-align: right;\">  casual</th><th style=\"text-align: right;\">  registered</th><th style=\"text-align: right;\">  cnt</th></tr>\n",
       "</thead>\n",
       "<tbody>\n",
       "<tr><td style=\"text-align: right;\">        1</td><td>2011-01-01 00:00:00</td><td style=\"text-align: right;\">       1</td><td style=\"text-align: right;\">   0</td><td style=\"text-align: right;\">     1</td><td style=\"text-align: right;\">   0</td><td style=\"text-align: right;\">        0</td><td style=\"text-align: right;\">        6</td><td style=\"text-align: right;\">           0</td><td style=\"text-align: right;\">           1</td><td style=\"text-align: right;\">  0.24</td><td style=\"text-align: right;\"> 0.2879</td><td style=\"text-align: right;\"> 0.81</td><td style=\"text-align: right;\">     0     </td><td style=\"text-align: right;\">       3</td><td style=\"text-align: right;\">          13</td><td style=\"text-align: right;\">   16</td></tr>\n",
       "<tr><td style=\"text-align: right;\">        2</td><td>2011-01-01 00:00:00</td><td style=\"text-align: right;\">       1</td><td style=\"text-align: right;\">   0</td><td style=\"text-align: right;\">     1</td><td style=\"text-align: right;\">   1</td><td style=\"text-align: right;\">        0</td><td style=\"text-align: right;\">        6</td><td style=\"text-align: right;\">           0</td><td style=\"text-align: right;\">           1</td><td style=\"text-align: right;\">  0.22</td><td style=\"text-align: right;\"> 0.2727</td><td style=\"text-align: right;\"> 0.8 </td><td style=\"text-align: right;\">     0     </td><td style=\"text-align: right;\">       8</td><td style=\"text-align: right;\">          32</td><td style=\"text-align: right;\">   40</td></tr>\n",
       "<tr><td style=\"text-align: right;\">        3</td><td>2011-01-01 00:00:00</td><td style=\"text-align: right;\">       1</td><td style=\"text-align: right;\">   0</td><td style=\"text-align: right;\">     1</td><td style=\"text-align: right;\">   2</td><td style=\"text-align: right;\">        0</td><td style=\"text-align: right;\">        6</td><td style=\"text-align: right;\">           0</td><td style=\"text-align: right;\">           1</td><td style=\"text-align: right;\">  0.22</td><td style=\"text-align: right;\"> 0.2727</td><td style=\"text-align: right;\"> 0.8 </td><td style=\"text-align: right;\">     0     </td><td style=\"text-align: right;\">       5</td><td style=\"text-align: right;\">          27</td><td style=\"text-align: right;\">   32</td></tr>\n",
       "<tr><td style=\"text-align: right;\">        4</td><td>2011-01-01 00:00:00</td><td style=\"text-align: right;\">       1</td><td style=\"text-align: right;\">   0</td><td style=\"text-align: right;\">     1</td><td style=\"text-align: right;\">   3</td><td style=\"text-align: right;\">        0</td><td style=\"text-align: right;\">        6</td><td style=\"text-align: right;\">           0</td><td style=\"text-align: right;\">           1</td><td style=\"text-align: right;\">  0.24</td><td style=\"text-align: right;\"> 0.2879</td><td style=\"text-align: right;\"> 0.75</td><td style=\"text-align: right;\">     0     </td><td style=\"text-align: right;\">       3</td><td style=\"text-align: right;\">          10</td><td style=\"text-align: right;\">   13</td></tr>\n",
       "<tr><td style=\"text-align: right;\">        5</td><td>2011-01-01 00:00:00</td><td style=\"text-align: right;\">       1</td><td style=\"text-align: right;\">   0</td><td style=\"text-align: right;\">     1</td><td style=\"text-align: right;\">   4</td><td style=\"text-align: right;\">        0</td><td style=\"text-align: right;\">        6</td><td style=\"text-align: right;\">           0</td><td style=\"text-align: right;\">           1</td><td style=\"text-align: right;\">  0.24</td><td style=\"text-align: right;\"> 0.2879</td><td style=\"text-align: right;\"> 0.75</td><td style=\"text-align: right;\">     0     </td><td style=\"text-align: right;\">       0</td><td style=\"text-align: right;\">           1</td><td style=\"text-align: right;\">    1</td></tr>\n",
       "<tr><td style=\"text-align: right;\">        6</td><td>2011-01-01 00:00:00</td><td style=\"text-align: right;\">       1</td><td style=\"text-align: right;\">   0</td><td style=\"text-align: right;\">     1</td><td style=\"text-align: right;\">   5</td><td style=\"text-align: right;\">        0</td><td style=\"text-align: right;\">        6</td><td style=\"text-align: right;\">           0</td><td style=\"text-align: right;\">           2</td><td style=\"text-align: right;\">  0.24</td><td style=\"text-align: right;\"> 0.2576</td><td style=\"text-align: right;\"> 0.75</td><td style=\"text-align: right;\">     0.0896</td><td style=\"text-align: right;\">       0</td><td style=\"text-align: right;\">           1</td><td style=\"text-align: right;\">    1</td></tr>\n",
       "<tr><td style=\"text-align: right;\">        7</td><td>2011-01-01 00:00:00</td><td style=\"text-align: right;\">       1</td><td style=\"text-align: right;\">   0</td><td style=\"text-align: right;\">     1</td><td style=\"text-align: right;\">   6</td><td style=\"text-align: right;\">        0</td><td style=\"text-align: right;\">        6</td><td style=\"text-align: right;\">           0</td><td style=\"text-align: right;\">           1</td><td style=\"text-align: right;\">  0.22</td><td style=\"text-align: right;\"> 0.2727</td><td style=\"text-align: right;\"> 0.8 </td><td style=\"text-align: right;\">     0     </td><td style=\"text-align: right;\">       2</td><td style=\"text-align: right;\">           0</td><td style=\"text-align: right;\">    2</td></tr>\n",
       "<tr><td style=\"text-align: right;\">        8</td><td>2011-01-01 00:00:00</td><td style=\"text-align: right;\">       1</td><td style=\"text-align: right;\">   0</td><td style=\"text-align: right;\">     1</td><td style=\"text-align: right;\">   7</td><td style=\"text-align: right;\">        0</td><td style=\"text-align: right;\">        6</td><td style=\"text-align: right;\">           0</td><td style=\"text-align: right;\">           1</td><td style=\"text-align: right;\">  0.2 </td><td style=\"text-align: right;\"> 0.2576</td><td style=\"text-align: right;\"> 0.86</td><td style=\"text-align: right;\">     0     </td><td style=\"text-align: right;\">       1</td><td style=\"text-align: right;\">           2</td><td style=\"text-align: right;\">    3</td></tr>\n",
       "<tr><td style=\"text-align: right;\">        9</td><td>2011-01-01 00:00:00</td><td style=\"text-align: right;\">       1</td><td style=\"text-align: right;\">   0</td><td style=\"text-align: right;\">     1</td><td style=\"text-align: right;\">   8</td><td style=\"text-align: right;\">        0</td><td style=\"text-align: right;\">        6</td><td style=\"text-align: right;\">           0</td><td style=\"text-align: right;\">           1</td><td style=\"text-align: right;\">  0.24</td><td style=\"text-align: right;\"> 0.2879</td><td style=\"text-align: right;\"> 0.75</td><td style=\"text-align: right;\">     0     </td><td style=\"text-align: right;\">       1</td><td style=\"text-align: right;\">           7</td><td style=\"text-align: right;\">    8</td></tr>\n",
       "<tr><td style=\"text-align: right;\">       10</td><td>2011-01-01 00:00:00</td><td style=\"text-align: right;\">       1</td><td style=\"text-align: right;\">   0</td><td style=\"text-align: right;\">     1</td><td style=\"text-align: right;\">   9</td><td style=\"text-align: right;\">        0</td><td style=\"text-align: right;\">        6</td><td style=\"text-align: right;\">           0</td><td style=\"text-align: right;\">           1</td><td style=\"text-align: right;\">  0.32</td><td style=\"text-align: right;\"> 0.3485</td><td style=\"text-align: right;\"> 0.76</td><td style=\"text-align: right;\">     0     </td><td style=\"text-align: right;\">       8</td><td style=\"text-align: right;\">           6</td><td style=\"text-align: right;\">   14</td></tr>\n",
       "</tbody>\n",
       "</table>"
      ]
     },
     "metadata": {},
     "output_type": "display_data"
    },
    {
     "data": {
      "text/plain": []
     },
     "execution_count": 6,
     "metadata": {},
     "output_type": "execute_result"
    }
   ],
   "source": [
    "# Quick check of proper loading of dataset\n",
    "data.head()"
   ]
  },
  {
   "cell_type": "code",
   "execution_count": 7,
   "metadata": {},
   "outputs": [
    {
     "data": {
      "text/html": [
       "<table>\n",
       "<thead>\n",
       "<tr><th>       </th><th>instant      </th><th>dteday             </th><th>season       </th><th>yr            </th><th>mnth         </th><th>hr           </th><th>holiday        </th><th>weekday      </th><th>workingday    </th><th>weathersit    </th><th>temp          </th><th>atemp         </th><th>hum           </th><th>windspeed     </th><th>casual       </th><th>registered   </th><th>cnt          </th></tr>\n",
       "</thead>\n",
       "<tbody>\n",
       "<tr><td>type   </td><td>int          </td><td>time               </td><td>int          </td><td>int           </td><td>int          </td><td>int          </td><td>int            </td><td>int          </td><td>int           </td><td>int           </td><td>real          </td><td>real          </td><td>real          </td><td>real          </td><td>int          </td><td>int          </td><td>int          </td></tr>\n",
       "<tr><td>mins   </td><td>1.0          </td><td>1.29384e+12        </td><td>1.0          </td><td>0.0           </td><td>1.0          </td><td>0.0          </td><td>0.0            </td><td>0.0          </td><td>0.0           </td><td>1.0           </td><td>0.02          </td><td>0.0           </td><td>0.0           </td><td>0.0           </td><td>0.0          </td><td>0.0          </td><td>1.0          </td></tr>\n",
       "<tr><td>mean   </td><td>8690.0       </td><td>1.32547731455e+12  </td><td>2.50163991024</td><td>0.502560561597</td><td>6.53777547615</td><td>11.5467518269</td><td>0.0287703550262</td><td>3.00368260544</td><td>0.682720524771</td><td>1.425283388   </td><td>0.496987168422</td><td>0.475775102135</td><td>0.627228839404</td><td>0.190097606306</td><td>35.6762184245</td><td>153.78686921 </td><td>189.463087635</td></tr>\n",
       "<tr><td>maxs   </td><td>17379.0      </td><td>1.356912e+12       </td><td>4.0          </td><td>1.0           </td><td>12.0         </td><td>23.0         </td><td>1.0            </td><td>6.0          </td><td>1.0           </td><td>4.0           </td><td>1.0           </td><td>1.0           </td><td>1.0           </td><td>0.8507        </td><td>367.0        </td><td>886.0        </td><td>977.0        </td></tr>\n",
       "<tr><td>sigma  </td><td>5017.02949961</td><td>18150225217.8      </td><td>1.10691813945</td><td>0.500007829091</td><td>3.43877571375</td><td>6.91440509526</td><td>0.167165276384 </td><td>2.00577145611</td><td>0.465430633524</td><td>0.639356877754</td><td>0.19255612125 </td><td>0.171850215635</td><td>0.192929834063</td><td>0.122340228573</td><td>49.3050303871</td><td>151.357285913</td><td>181.387599092</td></tr>\n",
       "<tr><td>zeros  </td><td>0            </td><td>0                  </td><td>0            </td><td>8645          </td><td>0            </td><td>726          </td><td>16879          </td><td>2502         </td><td>5514          </td><td>0             </td><td>0             </td><td>2             </td><td>22            </td><td>2180          </td><td>1581         </td><td>24           </td><td>0            </td></tr>\n",
       "<tr><td>missing</td><td>0            </td><td>0                  </td><td>0            </td><td>0             </td><td>0            </td><td>0            </td><td>0              </td><td>0            </td><td>0             </td><td>0             </td><td>0             </td><td>0             </td><td>0             </td><td>0             </td><td>0            </td><td>0            </td><td>0            </td></tr>\n",
       "<tr><td>0      </td><td>1.0          </td><td>2011-01-01 00:00:00</td><td>1.0          </td><td>0.0           </td><td>1.0          </td><td>0.0          </td><td>0.0            </td><td>6.0          </td><td>0.0           </td><td>1.0           </td><td>0.24          </td><td>0.2879        </td><td>0.81          </td><td>0.0           </td><td>3.0          </td><td>13.0         </td><td>16.0         </td></tr>\n",
       "<tr><td>1      </td><td>2.0          </td><td>2011-01-01 00:00:00</td><td>1.0          </td><td>0.0           </td><td>1.0          </td><td>1.0          </td><td>0.0            </td><td>6.0          </td><td>0.0           </td><td>1.0           </td><td>0.22          </td><td>0.2727        </td><td>0.8           </td><td>0.0           </td><td>8.0          </td><td>32.0         </td><td>40.0         </td></tr>\n",
       "<tr><td>2      </td><td>3.0          </td><td>2011-01-01 00:00:00</td><td>1.0          </td><td>0.0           </td><td>1.0          </td><td>2.0          </td><td>0.0            </td><td>6.0          </td><td>0.0           </td><td>1.0           </td><td>0.22          </td><td>0.2727        </td><td>0.8           </td><td>0.0           </td><td>5.0          </td><td>27.0         </td><td>32.0         </td></tr>\n",
       "<tr><td>3      </td><td>4.0          </td><td>2011-01-01 00:00:00</td><td>1.0          </td><td>0.0           </td><td>1.0          </td><td>3.0          </td><td>0.0            </td><td>6.0          </td><td>0.0           </td><td>1.0           </td><td>0.24          </td><td>0.2879        </td><td>0.75          </td><td>0.0           </td><td>3.0          </td><td>10.0         </td><td>13.0         </td></tr>\n",
       "<tr><td>4      </td><td>5.0          </td><td>2011-01-01 00:00:00</td><td>1.0          </td><td>0.0           </td><td>1.0          </td><td>4.0          </td><td>0.0            </td><td>6.0          </td><td>0.0           </td><td>1.0           </td><td>0.24          </td><td>0.2879        </td><td>0.75          </td><td>0.0           </td><td>0.0          </td><td>1.0          </td><td>1.0          </td></tr>\n",
       "<tr><td>5      </td><td>6.0          </td><td>2011-01-01 00:00:00</td><td>1.0          </td><td>0.0           </td><td>1.0          </td><td>5.0          </td><td>0.0            </td><td>6.0          </td><td>0.0           </td><td>2.0           </td><td>0.24          </td><td>0.2576        </td><td>0.75          </td><td>0.0896        </td><td>0.0          </td><td>1.0          </td><td>1.0          </td></tr>\n",
       "<tr><td>6      </td><td>7.0          </td><td>2011-01-01 00:00:00</td><td>1.0          </td><td>0.0           </td><td>1.0          </td><td>6.0          </td><td>0.0            </td><td>6.0          </td><td>0.0           </td><td>1.0           </td><td>0.22          </td><td>0.2727        </td><td>0.8           </td><td>0.0           </td><td>2.0          </td><td>0.0          </td><td>2.0          </td></tr>\n",
       "<tr><td>7      </td><td>8.0          </td><td>2011-01-01 00:00:00</td><td>1.0          </td><td>0.0           </td><td>1.0          </td><td>7.0          </td><td>0.0            </td><td>6.0          </td><td>0.0           </td><td>1.0           </td><td>0.2           </td><td>0.2576        </td><td>0.86          </td><td>0.0           </td><td>1.0          </td><td>2.0          </td><td>3.0          </td></tr>\n",
       "<tr><td>8      </td><td>9.0          </td><td>2011-01-01 00:00:00</td><td>1.0          </td><td>0.0           </td><td>1.0          </td><td>8.0          </td><td>0.0            </td><td>6.0          </td><td>0.0           </td><td>1.0           </td><td>0.24          </td><td>0.2879        </td><td>0.75          </td><td>0.0           </td><td>1.0          </td><td>7.0          </td><td>8.0          </td></tr>\n",
       "<tr><td>9      </td><td>10.0         </td><td>2011-01-01 00:00:00</td><td>1.0          </td><td>0.0           </td><td>1.0          </td><td>9.0          </td><td>0.0            </td><td>6.0          </td><td>0.0           </td><td>1.0           </td><td>0.32          </td><td>0.3485        </td><td>0.76          </td><td>0.0           </td><td>8.0          </td><td>6.0          </td><td>14.0         </td></tr>\n",
       "</tbody>\n",
       "</table>"
      ]
     },
     "metadata": {},
     "output_type": "display_data"
    }
   ],
   "source": [
    "data.summary()"
   ]
  },
  {
   "cell_type": "code",
   "execution_count": 8,
   "metadata": {},
   "outputs": [
    {
     "name": "stdout",
     "output_type": "stream",
     "text": [
      "[u'instant', u'dteday', u'season', u'yr', u'mnth', u'hr', u'holiday', u'weekday', u'workingday', u'weathersit', u'temp', u'atemp', u'hum', u'windspeed', u'casual', u'registered', u'cnt']\n"
     ]
    }
   ],
   "source": [
    "print(data.names)"
   ]
  },
  {
   "cell_type": "code",
   "execution_count": 9,
   "metadata": {},
   "outputs": [
    {
     "data": {
      "text/html": [
       "<table>\n",
       "<thead>\n",
       "<tr><th style=\"text-align: right;\">  rec_id</th><th>datetime           </th><th style=\"text-align: right;\">  season</th><th style=\"text-align: right;\">  year</th><th style=\"text-align: right;\">  month</th><th style=\"text-align: right;\">  hour</th><th style=\"text-align: right;\">  is_holiday</th><th style=\"text-align: right;\">  weekday</th><th style=\"text-align: right;\">  is_workingday</th><th style=\"text-align: right;\">  weather_condition</th><th style=\"text-align: right;\">  temp</th><th style=\"text-align: right;\">  atemp</th><th style=\"text-align: right;\">  humidity</th><th style=\"text-align: right;\">  windspeed</th><th style=\"text-align: right;\">  casual</th><th style=\"text-align: right;\">  registered</th><th style=\"text-align: right;\">  total_count</th></tr>\n",
       "</thead>\n",
       "<tbody>\n",
       "<tr><td style=\"text-align: right;\">       1</td><td>2011-01-01 00:00:00</td><td style=\"text-align: right;\">       1</td><td style=\"text-align: right;\">     0</td><td style=\"text-align: right;\">      1</td><td style=\"text-align: right;\">     0</td><td style=\"text-align: right;\">           0</td><td style=\"text-align: right;\">        6</td><td style=\"text-align: right;\">              0</td><td style=\"text-align: right;\">                  1</td><td style=\"text-align: right;\">  0.24</td><td style=\"text-align: right;\"> 0.2879</td><td style=\"text-align: right;\">      0.81</td><td style=\"text-align: right;\">     0     </td><td style=\"text-align: right;\">       3</td><td style=\"text-align: right;\">          13</td><td style=\"text-align: right;\">           16</td></tr>\n",
       "<tr><td style=\"text-align: right;\">       2</td><td>2011-01-01 00:00:00</td><td style=\"text-align: right;\">       1</td><td style=\"text-align: right;\">     0</td><td style=\"text-align: right;\">      1</td><td style=\"text-align: right;\">     1</td><td style=\"text-align: right;\">           0</td><td style=\"text-align: right;\">        6</td><td style=\"text-align: right;\">              0</td><td style=\"text-align: right;\">                  1</td><td style=\"text-align: right;\">  0.22</td><td style=\"text-align: right;\"> 0.2727</td><td style=\"text-align: right;\">      0.8 </td><td style=\"text-align: right;\">     0     </td><td style=\"text-align: right;\">       8</td><td style=\"text-align: right;\">          32</td><td style=\"text-align: right;\">           40</td></tr>\n",
       "<tr><td style=\"text-align: right;\">       3</td><td>2011-01-01 00:00:00</td><td style=\"text-align: right;\">       1</td><td style=\"text-align: right;\">     0</td><td style=\"text-align: right;\">      1</td><td style=\"text-align: right;\">     2</td><td style=\"text-align: right;\">           0</td><td style=\"text-align: right;\">        6</td><td style=\"text-align: right;\">              0</td><td style=\"text-align: right;\">                  1</td><td style=\"text-align: right;\">  0.22</td><td style=\"text-align: right;\"> 0.2727</td><td style=\"text-align: right;\">      0.8 </td><td style=\"text-align: right;\">     0     </td><td style=\"text-align: right;\">       5</td><td style=\"text-align: right;\">          27</td><td style=\"text-align: right;\">           32</td></tr>\n",
       "<tr><td style=\"text-align: right;\">       4</td><td>2011-01-01 00:00:00</td><td style=\"text-align: right;\">       1</td><td style=\"text-align: right;\">     0</td><td style=\"text-align: right;\">      1</td><td style=\"text-align: right;\">     3</td><td style=\"text-align: right;\">           0</td><td style=\"text-align: right;\">        6</td><td style=\"text-align: right;\">              0</td><td style=\"text-align: right;\">                  1</td><td style=\"text-align: right;\">  0.24</td><td style=\"text-align: right;\"> 0.2879</td><td style=\"text-align: right;\">      0.75</td><td style=\"text-align: right;\">     0     </td><td style=\"text-align: right;\">       3</td><td style=\"text-align: right;\">          10</td><td style=\"text-align: right;\">           13</td></tr>\n",
       "<tr><td style=\"text-align: right;\">       5</td><td>2011-01-01 00:00:00</td><td style=\"text-align: right;\">       1</td><td style=\"text-align: right;\">     0</td><td style=\"text-align: right;\">      1</td><td style=\"text-align: right;\">     4</td><td style=\"text-align: right;\">           0</td><td style=\"text-align: right;\">        6</td><td style=\"text-align: right;\">              0</td><td style=\"text-align: right;\">                  1</td><td style=\"text-align: right;\">  0.24</td><td style=\"text-align: right;\"> 0.2879</td><td style=\"text-align: right;\">      0.75</td><td style=\"text-align: right;\">     0     </td><td style=\"text-align: right;\">       0</td><td style=\"text-align: right;\">           1</td><td style=\"text-align: right;\">            1</td></tr>\n",
       "<tr><td style=\"text-align: right;\">       6</td><td>2011-01-01 00:00:00</td><td style=\"text-align: right;\">       1</td><td style=\"text-align: right;\">     0</td><td style=\"text-align: right;\">      1</td><td style=\"text-align: right;\">     5</td><td style=\"text-align: right;\">           0</td><td style=\"text-align: right;\">        6</td><td style=\"text-align: right;\">              0</td><td style=\"text-align: right;\">                  2</td><td style=\"text-align: right;\">  0.24</td><td style=\"text-align: right;\"> 0.2576</td><td style=\"text-align: right;\">      0.75</td><td style=\"text-align: right;\">     0.0896</td><td style=\"text-align: right;\">       0</td><td style=\"text-align: right;\">           1</td><td style=\"text-align: right;\">            1</td></tr>\n",
       "<tr><td style=\"text-align: right;\">       7</td><td>2011-01-01 00:00:00</td><td style=\"text-align: right;\">       1</td><td style=\"text-align: right;\">     0</td><td style=\"text-align: right;\">      1</td><td style=\"text-align: right;\">     6</td><td style=\"text-align: right;\">           0</td><td style=\"text-align: right;\">        6</td><td style=\"text-align: right;\">              0</td><td style=\"text-align: right;\">                  1</td><td style=\"text-align: right;\">  0.22</td><td style=\"text-align: right;\"> 0.2727</td><td style=\"text-align: right;\">      0.8 </td><td style=\"text-align: right;\">     0     </td><td style=\"text-align: right;\">       2</td><td style=\"text-align: right;\">           0</td><td style=\"text-align: right;\">            2</td></tr>\n",
       "<tr><td style=\"text-align: right;\">       8</td><td>2011-01-01 00:00:00</td><td style=\"text-align: right;\">       1</td><td style=\"text-align: right;\">     0</td><td style=\"text-align: right;\">      1</td><td style=\"text-align: right;\">     7</td><td style=\"text-align: right;\">           0</td><td style=\"text-align: right;\">        6</td><td style=\"text-align: right;\">              0</td><td style=\"text-align: right;\">                  1</td><td style=\"text-align: right;\">  0.2 </td><td style=\"text-align: right;\"> 0.2576</td><td style=\"text-align: right;\">      0.86</td><td style=\"text-align: right;\">     0     </td><td style=\"text-align: right;\">       1</td><td style=\"text-align: right;\">           2</td><td style=\"text-align: right;\">            3</td></tr>\n",
       "<tr><td style=\"text-align: right;\">       9</td><td>2011-01-01 00:00:00</td><td style=\"text-align: right;\">       1</td><td style=\"text-align: right;\">     0</td><td style=\"text-align: right;\">      1</td><td style=\"text-align: right;\">     8</td><td style=\"text-align: right;\">           0</td><td style=\"text-align: right;\">        6</td><td style=\"text-align: right;\">              0</td><td style=\"text-align: right;\">                  1</td><td style=\"text-align: right;\">  0.24</td><td style=\"text-align: right;\"> 0.2879</td><td style=\"text-align: right;\">      0.75</td><td style=\"text-align: right;\">     0     </td><td style=\"text-align: right;\">       1</td><td style=\"text-align: right;\">           7</td><td style=\"text-align: right;\">            8</td></tr>\n",
       "<tr><td style=\"text-align: right;\">      10</td><td>2011-01-01 00:00:00</td><td style=\"text-align: right;\">       1</td><td style=\"text-align: right;\">     0</td><td style=\"text-align: right;\">      1</td><td style=\"text-align: right;\">     9</td><td style=\"text-align: right;\">           0</td><td style=\"text-align: right;\">        6</td><td style=\"text-align: right;\">              0</td><td style=\"text-align: right;\">                  1</td><td style=\"text-align: right;\">  0.32</td><td style=\"text-align: right;\"> 0.3485</td><td style=\"text-align: right;\">      0.76</td><td style=\"text-align: right;\">     0     </td><td style=\"text-align: right;\">       8</td><td style=\"text-align: right;\">           6</td><td style=\"text-align: right;\">           14</td></tr>\n",
       "</tbody>\n",
       "</table>"
      ]
     },
     "metadata": {},
     "output_type": "display_data"
    },
    {
     "data": {
      "text/plain": []
     },
     "execution_count": 9,
     "metadata": {},
     "output_type": "execute_result"
    }
   ],
   "source": [
    "data.set_names(['rec_id','datetime', 'season', 'year', 'month', 'hour', 'is_holiday', \n",
    "                'weekday', 'is_workingday', 'weather_condition', 'temp', 'atemp', 'humidity', \n",
    "                'windspeed', 'casual', 'registered', 'total_count'])"
   ]
  },
  {
   "cell_type": "code",
   "execution_count": 10,
   "metadata": {},
   "outputs": [],
   "source": [
    "# Split the data into Train/Test/Validation with Train having 70% and test and validation 15% each\n",
    "train, test, valid = data.split_frame(ratios=[.7, .15], \n",
    "                                      destination_frames=['train', 'test', 'valid'])"
   ]
  },
  {
   "cell_type": "code",
   "execution_count": 11,
   "metadata": {},
   "outputs": [
    {
     "data": {
      "text/html": [
       "<table>\n",
       "<thead>\n",
       "<tr><th style=\"text-align: right;\">  year</th></tr>\n",
       "</thead>\n",
       "<tbody>\n",
       "<tr><td style=\"text-align: right;\">     0</td></tr>\n",
       "<tr><td style=\"text-align: right;\">     0</td></tr>\n",
       "<tr><td style=\"text-align: right;\">     0</td></tr>\n",
       "<tr><td style=\"text-align: right;\">     0</td></tr>\n",
       "<tr><td style=\"text-align: right;\">     0</td></tr>\n",
       "<tr><td style=\"text-align: right;\">     0</td></tr>\n",
       "<tr><td style=\"text-align: right;\">     0</td></tr>\n",
       "<tr><td style=\"text-align: right;\">     0</td></tr>\n",
       "<tr><td style=\"text-align: right;\">     0</td></tr>\n",
       "<tr><td style=\"text-align: right;\">     0</td></tr>\n",
       "</tbody>\n",
       "</table>"
      ]
     },
     "metadata": {},
     "output_type": "display_data"
    },
    {
     "data": {
      "text/plain": []
     },
     "execution_count": 11,
     "metadata": {},
     "output_type": "execute_result"
    }
   ],
   "source": [
    "# Setting proper data types (i.e.categorical fetures)\n",
    "\n",
    "# convert response column to a factor\n",
    "train[\"season\"].asfactor()\n",
    "\n",
    "# date time conversion\n",
    "pattern = \"%m/%d/%Y %I:%M:%S %p\"\n",
    "train.as_date(pattern)\n",
    "\n",
    "train['season'].asfactor()\n",
    "train['is_holiday'].asfactor()\n",
    "train['weekday'].asfactor()\n",
    "train['weather_condition'].asfactor()\n",
    "train['is_workingday'].asfactor()\n",
    "train['month'].asfactor()\n",
    "train['hour'].asfactor()\n",
    "train['year'].asfactor()"
   ]
  },
  {
   "cell_type": "code",
   "execution_count": 12,
   "metadata": {},
   "outputs": [],
   "source": [
    "predictors = [\"season\", \"is_holiday\", \"weekday\", \"weather_condition\", \n",
    "              \"is_workingday\", \"month\", \"hour\"]\n",
    "response_col = \"total_count\""
   ]
  },
  {
   "cell_type": "code",
   "execution_count": 13,
   "metadata": {},
   "outputs": [
    {
     "name": "stdout",
     "output_type": "stream",
     "text": [
      "We have 12181 training samples and 2584 test samples.\n"
     ]
    }
   ],
   "source": [
    "print(\"We have %d training samples and %d test samples.\" % (train['total_count'].dim[0], \n",
    "                                                            test['total_count'].dim[0]))"
   ]
  },
  {
   "cell_type": "code",
   "execution_count": 14,
   "metadata": {},
   "outputs": [],
   "source": [
    "# Encoding all the categorical features\n",
    "cat_attr_list = ['season','is_holiday',\n",
    "                 'weather_condition','is_workingday',\n",
    "                 'hour','weekday','month',#'year'\n",
    "                ]\n",
    "\n",
    "# though we have transformed all categoricals into their one-hot encodings, note that ordinal\n",
    "# attributes such as hour, weekday, and so on do not require such encoding.\n",
    "numeric_feature_cols = ['temp','humidity','windspeed', 'atemp',\n",
    "                        'hour','weekday','month',#'year'\n",
    "                       ]\n",
    "subset_cat_features =  ['season','is_holiday','weather_condition','is_workingday']"
   ]
  },
  {
   "cell_type": "code",
   "execution_count": 15,
   "metadata": {},
   "outputs": [
    {
     "name": "stdout",
     "output_type": "stream",
     "text": [
      "deeplearning Model Build progress: |██████████████████████████████████████| 100%\n"
     ]
    }
   ],
   "source": [
    "# Simple Deep Learning - Predict Arrest\n",
    "model_dl = H2ODeepLearningEstimator(distribution=\"poisson\", #\"gaussian\", \n",
    "                                    variable_importances=True,\n",
    "                                    categorical_encoding='one_hot_internal',\n",
    "                                    loss=\"Automatic\",\n",
    "                                    activation = \"rectifier\", \n",
    "                                    hidden = [150, 150, 150], \n",
    "                                    epochs = 64\n",
    "                                   )\n",
    "\n",
    "model_dl.train(x=predictors, \n",
    "               y=response_col,\n",
    "               training_frame   =train,\n",
    "               #validation_frame=valid\n",
    "              )"
   ]
  },
  {
   "cell_type": "code",
   "execution_count": 16,
   "metadata": {},
   "outputs": [
    {
     "name": "stdout",
     "output_type": "stream",
     "text": [
      "deeplearning prediction progress: |███████████████████████████████████████| 100%\n",
      "deeplearning prediction progress: |███████████████████████████████████████| 100%\n"
     ]
    }
   ],
   "source": [
    "# Make prediction on test and training data set\n",
    "y_pred = model_dl.predict(test)\n",
    "y_res  = model_dl.predict(train)"
   ]
  },
  {
   "cell_type": "code",
   "execution_count": 17,
   "metadata": {},
   "outputs": [],
   "source": [
    "# Evaluate model performance (for shortness of time will only CV MAE)\n",
    "mae = mean_absolute_error(test[response_col].as_data_frame(), \n",
    "                         y_pred['predict'].as_data_frame()\n",
    "                        )\n",
    "#mae = model_dl.mae(xval=True)"
   ]
  },
  {
   "cell_type": "code",
   "execution_count": 18,
   "metadata": {},
   "outputs": [],
   "source": [
    "table = PrettyTable()\n",
    "table.field_names = [\"Model\", \n",
    "                     \"Dataset\", \n",
    "                     \"MAE\", \n",
    "                    ]"
   ]
  },
  {
   "cell_type": "code",
   "execution_count": 19,
   "metadata": {},
   "outputs": [
    {
     "name": "stdout",
     "output_type": "stream",
     "text": [
      "+--------------------------+----------+-------+\n",
      "|          Model           | Dataset  |  MAE  |\n",
      "+--------------------------+----------+-------+\n",
      "| H2ODeepLearningEstimator | training | 65.69 |\n",
      "+--------------------------+----------+-------+\n"
     ]
    }
   ],
   "source": [
    "table.add_row(['H2ODeepLearningEstimator', \n",
    "               'training',\n",
    "               format(mae, '.2f'),\n",
    "               ],\n",
    "              )\n",
    "print(table)"
   ]
  },
  {
   "cell_type": "markdown",
   "metadata": {},
   "source": [
    "## Model Optimization\n",
    "\n",
    "### Bayesian optimization with BayesianOptimization"
   ]
  },
  {
   "cell_type": "code",
   "execution_count": 20,
   "metadata": {},
   "outputs": [],
   "source": [
    "def train_model(#train,\n",
    "                #x, # predictor labels,\n",
    "                #y, # response label\n",
    "                #x_train, y_train,\n",
    "                #x_valid, y_valid,\n",
    "                hidden=[150, 150, 150],\n",
    "                activation='rectifier',\n",
    "                rate=1e-5,\n",
    "                #hidden_dropout_ratios=[0.2, 0.2]\n",
    "               ):\n",
    "    \n",
    "    params = {\n",
    "        'distribution': 'poisson', #\"gaussian\"\n",
    "        'variable_importances': True,\n",
    "        'categorical_encoding': 'one_hot_internal',\n",
    "        'loss': 'Automatic',\n",
    "        'hidden': hidden,           \n",
    "        'activation': 'rectifier',\n",
    "        'rate': rate,\n",
    "        'epochs' : 64,\n",
    "    }\n",
    "\n",
    "    nn = h2o.estimators.deeplearning.H2ODeepLearningEstimator(nfolds=5,**params)\n",
    "    \n",
    "    #predictor_labels = list(set(x_train.names)-{\"label\"})\n",
    "    #response_label = y_train.names[0]\n",
    "    \n",
    "    nn.train(x = predictors,\n",
    "             y = response_col,\n",
    "             training_frame = train,\n",
    "             #validation_frame = valid\n",
    "            )    \n",
    "    #h2o_data = h2o.ls()\n",
    "    #print(h2o_data)\n",
    "    #h2o_data = list(h2o_data['key'])\n",
    "    #h2o_data = list(filter(lambda x: x not in [\"train_frame\", \"train\", \"test\"], h2o_data))\n",
    "    #list(map(lambda x: h2o.remove(x), h2o_data))\n",
    "\n",
    "    metric = -nn.mae() # model.rmse()\n",
    "    #metric = -nn.rmse()\n",
    "    \n",
    "    return metric"
   ]
  },
  {
   "cell_type": "code",
   "execution_count": null,
   "metadata": {},
   "outputs": [],
   "source": [
    "# Bounded region of parameter space\n",
    "pbounds = {\n",
    "    #'train': (train), \n",
    "    #'x': (predictors), \n",
    "    #'y': (response_col),\n",
    "    'rate': (1e-5, 1e-2)\n",
    "    #'activation_list' : ('tanh', 'tanh_with_dropout', 'rectifier', 'rectifier_with_dropout', 'maxout'),  #Categorical\n",
    "    #'hidden_list' : ([150, 150, 150], [100, 100, 100, 100])\n",
    "}"
   ]
  },
  {
   "cell_type": "code",
   "execution_count": null,
   "metadata": {},
   "outputs": [],
   "source": [
    "optimizer = BayesianOptimization(f=train_model,\n",
    "                                 pbounds=pbounds,\n",
    "                                 random_state=42,\n",
    "                                 verbose=42)"
   ]
  },
  {
   "cell_type": "code",
   "execution_count": null,
   "metadata": {},
   "outputs": [],
   "source": [
    "# Results will be saved in ./logs.json\n",
    "logger = JSONLogger(path=\"./logs.json\")\n",
    "optimizer.subscribe(Events.OPTMIZATION_STEP, logger)"
   ]
  },
  {
   "cell_type": "code",
   "execution_count": null,
   "metadata": {},
   "outputs": [],
   "source": [
    "load_logs(optimizer, logs=[\"./logs.json\"]);"
   ]
  },
  {
   "cell_type": "code",
   "execution_count": null,
   "metadata": {},
   "outputs": [],
   "source": [
    "optimizer.maximize(n_iter=10, init_points=2)"
   ]
  },
  {
   "cell_type": "markdown",
   "metadata": {},
   "source": [
    "- n_iter: How many steps of bayesian optimization you want to perform. The more steps the more likely to find a good maximum you are.\n",
    "- init_points: How many steps of random exploration you want to perform. Random exploration can help by diversifying the exploration space."
   ]
  },
  {
   "cell_type": "code",
   "execution_count": null,
   "metadata": {},
   "outputs": [],
   "source": [
    "optimizer.max"
   ]
  },
  {
   "cell_type": "code",
   "execution_count": null,
   "metadata": {},
   "outputs": [],
   "source": [
    "optimizer.max['params']"
   ]
  },
  {
   "cell_type": "code",
   "execution_count": null,
   "metadata": {},
   "outputs": [],
   "source": [
    "optimizer.max['target']"
   ]
  },
  {
   "cell_type": "code",
   "execution_count": null,
   "metadata": {},
   "outputs": [],
   "source": [
    "# And all the process in each step...(e.g. first step)\n",
    "optimizer.res[0]"
   ]
  },
  {
   "cell_type": "code",
   "execution_count": null,
   "metadata": {},
   "outputs": [],
   "source": [
    "for i, res in enumerate(optimizer.res):\n",
    "    print(\"Iteration {}: \\n\\t{}\".format(i, res))"
   ]
  },
  {
   "cell_type": "markdown",
   "metadata": {},
   "source": [
    "### Bayesian optimization with Skopt"
   ]
  },
  {
   "cell_type": "code",
   "execution_count": 31,
   "metadata": {},
   "outputs": [],
   "source": [
    "# define the space of hyperparameters to search\n",
    "search_space = [Real(name='rate',\n",
    "                     low=1e-5, high=1e-2, \n",
    "                     prior='uniform',  # 'log-uniform'\n",
    "                     ),\n",
    "                Categorical(name='activation', \n",
    "                            categories=['rectifier','tanh']),\n",
    "                #Real(0.1, 0.5, name='dropout'),\n",
    "                #Integer(1, 2, name='p'),\n",
    "               ]"
   ]
  },
  {
   "cell_type": "code",
   "execution_count": 33,
   "metadata": {},
   "outputs": [],
   "source": [
    "# define the function used to evaluate a given configuration\n",
    "@use_named_args(search_space)\n",
    "def evaluate_model(**params):\n",
    "    # Model\n",
    "    model = h2o.estimators.deeplearning.H2ODeepLearningEstimator(nfolds=5, **params)\n",
    "    model.set_params(** {'distribution': 'poisson', #\"gaussian\"\n",
    "                         'variable_importances': True,\n",
    "                         'categorical_encoding': 'one_hot_internal',\n",
    "                         'loss': 'Automatic',\n",
    "                         'hidden': [150, 150, 150],           \n",
    "                         'activation': 'rectifier',\n",
    "                         'epochs' : 64,\n",
    "                         })\n",
    "    \n",
    "    # calculate 5-fold cross validation\n",
    "    model.train(x = predictors,\n",
    "                y = response_col,\n",
    "                training_frame = train,\n",
    "                #validation_frame = valid\n",
    "                )\n",
    "    \n",
    "    # calculate the mean of the scores\n",
    "    estimate = model.mae()\n",
    "    \n",
    "    return 1.0 - estimate"
   ]
  },
  {
   "cell_type": "code",
   "execution_count": 34,
   "metadata": {},
   "outputs": [
    {
     "name": "stdout",
     "output_type": "stream",
     "text": [
      "deeplearning Model Build progress: |██████████████████████████████████████| 100%\n",
      "deeplearning Model Build progress: |██████████████████████████████████████| 100%\n",
      "deeplearning Model Build progress: |██████████████████████████████████████| 100%\n",
      "deeplearning Model Build progress: |██████████████████████████████████████| 100%\n",
      "deeplearning Model Build progress: |██████████████████████████████████████| 100%\n",
      "deeplearning Model Build progress: |██████████████████████████████████████| 100%\n",
      "deeplearning Model Build progress: |██████████████████████████████████████| 100%\n",
      "deeplearning Model Build progress: |██████████████████████████████████████| 100%\n",
      "deeplearning Model Build progress: |██████████████████████████████████████| 100%\n",
      "deeplearning Model Build progress: |██████████████████████████████████████| 100%\n"
     ]
    }
   ],
   "source": [
    "# perform optimization\n",
    "result = gp_minimize(func=evaluate_model,      # the function to minimize\n",
    "                     dimensions=search_space,  # the bounds on each dimension\n",
    "                     acq_func='gp_hedge',      # the acquisition function\n",
    "                     n_calls=10,               # the number of evaluations of f (e.g. 100)\n",
    "                     random_state=42)          # the random seed"
   ]
  },
  {
   "cell_type": "code",
   "execution_count": 35,
   "metadata": {},
   "outputs": [
    {
     "name": "stdout",
     "output_type": "stream",
     "text": [
      "Best MAE: 89.021\n"
     ]
    }
   ],
   "source": [
    "# summarizing finding\n",
    "print('Best MAE: %.3f' % (1.0 - result.fun))"
   ]
  },
  {
   "cell_type": "code",
   "execution_count": 36,
   "metadata": {},
   "outputs": [
    {
     "name": "stdout",
     "output_type": "stream",
     "text": [
      "Best parameters:\n",
      "- rate=0.004464\n",
      "\n"
     ]
    }
   ],
   "source": [
    "print(\"\"\"Best parameters:\n",
    "- rate=%.6f\n",
    "\"\"\" % (result.x[0]))"
   ]
  },
  {
   "cell_type": "code",
   "execution_count": 41,
   "metadata": {},
   "outputs": [
    {
     "name": "stdout",
     "output_type": "stream",
     "text": [
      "          fun: -88.02096297714978\n",
      "    func_vals: array([-68.57208003, -72.03527722, -88.02096298, -67.89507861,\n",
      "       -74.02633738, -72.4289914 , -83.53065581, -66.75804452,\n",
      "       -74.45041407, -65.72622653])\n",
      "       models: [GaussianProcessRegressor(alpha=1e-10, copy_X_train=True,\n",
      "             kernel=1**2 * Matern(length_scale=[1, 1], nu=2.5) + WhiteKernel(noise_level=1),\n",
      "             n_restarts_optimizer=2, noise='gaussian', normalize_y=True,\n",
      "             optimizer='fmin_l_bfgs_b', random_state=1608637542)]\n",
      " random_state: <mtrand.RandomState object at 0x125f84e60>\n",
      "        space: Space([Real(low=1e-05, high=0.01, prior='uniform', transform='normalize'),\n",
      "       Categorical(categories=('rectifier', 'tanh'), prior=None)])\n",
      "        specs: {'function': 'base_minimize', 'args': {'base_estimator': GaussianProcessRegressor(alpha=1e-10, copy_X_train=True,\n",
      "             kernel=1**2 * Matern(length_scale=[1, 1], nu=2.5),\n",
      "             n_restarts_optimizer=2, noise='gaussian', normalize_y=True,\n",
      "             optimizer='fmin_l_bfgs_b', random_state=1608637542), 'xi': 0.01, 'verbose': False, 'n_points': 10000, 'acq_func': 'gp_hedge', 'n_jobs': 1, 'func': <function evaluate_model at 0x125f8fde8>, 'n_restarts_optimizer': 5, 'y0': None, 'x0': None, 'kappa': 1.96, 'dimensions': Space([Real(low=1e-05, high=0.01, prior='uniform', transform='normalize'),\n",
      "       Categorical(categories=('rectifier', 'tanh'), prior=None)]), 'n_calls': 10, 'acq_optimizer': 'auto', 'callback': None, 'random_state': <mtrand.RandomState object at 0x125f84e60>, 'n_random_starts': 10}}\n",
      "            x: [0.004463869201007376, 'rectifier']\n",
      "      x_iters: [[0.007967464438733729, 'rectifier'], [0.007799113092724967, 'tanh'], [0.004463869201007376, 'rectifier'], [0.004597896430739014, 'rectifier'], [0.0014372395110401888, 'tanh'], [0.0005735516744807317, 'tanh'], [0.009386141563067347, 'rectifier'], [0.009922193477319265, 'tanh'], [0.006120415073277927, 'rectifier'], [0.00024039362616374346, 'tanh']]\n"
     ]
    }
   ],
   "source": [
    "print(result)"
   ]
  },
  {
   "cell_type": "code",
   "execution_count": 42,
   "metadata": {},
   "outputs": [
    {
     "data": {
      "image/png": "[encoded data removed]",
      "text/plain": [
       "<matplotlib.figure.Figure at 0x128a29950>"
      ]
     },
     "metadata": {
      "needs_background": "light"
     },
     "output_type": "display_data"
    }
   ],
   "source": [
    "# Plot convergence traces\n",
    "plot_convergence(result);"
   ]
  },
  {
   "cell_type": "code",
   "execution_count": 51,
   "metadata": {},
   "outputs": [
    {
     "data": {
      "image/png": "[encoded data removed]",
      "text/plain": [
       "<matplotlib.figure.Figure at 0x1291ff090>"
      ]
     },
     "metadata": {},
     "output_type": "display_data"
    }
   ],
   "source": [
    "# Visualize the order in which points where sampled\n",
    "plot_evaluations(result, bins=5, \n",
    "                 dimensions=['rate', 'activation'] # space.dimensions[-].name\n",
    "                );"
   ]
  },
  {
   "cell_type": "code",
   "execution_count": 47,
   "metadata": {},
   "outputs": [],
   "source": [
    "# Pairwise partial dependence plot of the objective function.\n",
    "#plot_objective(result, \n",
    "#               dimensions=['rate', 'activation']\n",
    "#              )"
   ]
  },
  {
   "cell_type": "markdown",
   "metadata": {},
   "source": [
    "### Bayesian Optimization with hyperopt"
   ]
  },
  {
   "cell_type": "code",
   "execution_count": 62,
   "metadata": {},
   "outputs": [],
   "source": [
    "# Set experiment\n",
    "trials = Trials()"
   ]
  },
  {
   "cell_type": "code",
   "execution_count": 63,
   "metadata": {},
   "outputs": [],
   "source": [
    "def objective(params):\n",
    "    \n",
    "    model = h2o.estimators.deeplearning.H2ODeepLearningEstimator(nfolds=5,**params)\n",
    "    \n",
    "    model.train(x = predictors,\n",
    "                y = response_col,\n",
    "                training_frame = train,\n",
    "                )    \n",
    "\n",
    "    metric = model.mae()\n",
    "\n",
    "    return {'loss': -metric, 'status': STATUS_OK}"
   ]
  },
  {
   "cell_type": "code",
   "execution_count": 64,
   "metadata": {},
   "outputs": [],
   "source": [
    "#hidden_list = [[150, 150, 150], [100, 100, 100, 100]]\n",
    "#activation_list = ['tanh', \n",
    "                   #'tanh_with_dropout',\n",
    "                   #'rectifier', \n",
    "                   #'rectifier_with_dropout',\n",
    "                   #'maxout'\n",
    "                   #]\n",
    "loop = 2\n",
    "max_loop = 2 #200\n",
    "\n",
    "space = {\n",
    "    'rate': hp.uniform('rate', 1e-5, 1e-2),\n",
    "    #'hidden': hp.choice('hidden', hidden_list),\n",
    "    #'activation': hp.choice('activation', activation_list),\n",
    "}"
   ]
  },
  {
   "cell_type": "code",
   "execution_count": 65,
   "metadata": {},
   "outputs": [
    {
     "name": "stdout",
     "output_type": "stream",
     "text": [
      "deeplearning Model Build progress: [\n",
      "#\n",
      "#\n",
      "#\n",
      "#\n",
      "#\n",
      "#\n",
      "#\n",
      "#\n",
      "#\n",
      "#\n",
      "#\n",
      "#\n",
      "#\n",
      "#\n",
      "#\n",
      "#\n",
      "#\n",
      "#\n",
      "#\n",
      "#\n",
      "#\n",
      "#\n",
      "#\n",
      "#\n",
      "#\n",
      "#\n",
      "#\n",
      "#\n",
      "#\n",
      "#\n",
      "#\n",
      "#\n",
      "#\n",
      "#\n",
      "#\n",
      "#\n",
      "#\n",
      "#] 100%\n",
      "deeplearning Model Build progress: [\n",
      "#\n",
      "#\n",
      "#\n",
      "#\n",
      "#\n",
      "#\n",
      "#\n",
      "#\n",
      "#\n",
      "#\n",
      "#\n",
      "#\n",
      "#\n",
      "#\n",
      "#\n",
      "#\n",
      "#\n",
      "#\n",
      "#\n",
      "#\n",
      "#\n",
      "#\n",
      "#\n",
      "#\n",
      "#\n",
      "#\n",
      "#\n",
      "#\n",
      "#\n",
      "#\n",
      "#\n",
      "#\n",
      "#\n",
      "#\n",
      "#\n",
      "#\n",
      "#\n",
      "#] 100%\n",
      "100%|██████████| 2/2 [00:51<00:00, 25.97s/it, best loss: -81.8381753324]\n"
     ]
    }
   ],
   "source": [
    "best = fmin(objective, \n",
    "            space, \n",
    "            algo=tpe.suggest,\n",
    "            max_evals=max_loop,\n",
    "            trials=trials\n",
    "           )"
   ]
  },
  {
   "cell_type": "code",
   "execution_count": 66,
   "metadata": {},
   "outputs": [],
   "source": [
    "best_rate = best['rate']\n",
    "#best_hidden = hidden_list[best['hidden']]\n",
    "#best_activation = activation_list[best['activation']]"
   ]
  },
  {
   "cell_type": "code",
   "execution_count": 67,
   "metadata": {},
   "outputs": [
    {
     "name": "stdout",
     "output_type": "stream",
     "text": [
      "('\\nbest model:', '\\n rate........ ', 0.0035342077838997794)\n"
     ]
    }
   ],
   "source": [
    "print('\\nbest model:',\n",
    "      '\\n rate........ ', best_rate,\n",
    "      #'\\n hidden........ ', best_hidden,\n",
    "      #'\\n activation.... ', best_activation,\n",
    "      #'\\n best mse...... ', best_mse,\n",
    "      #'\\n type.......... ', best_nn.type\n",
    "     )"
   ]
  },
  {
   "cell_type": "code",
   "execution_count": 78,
   "metadata": {},
   "outputs": [],
   "source": [
    "space = {'choice': hp.choice('num_layers',\n",
    "                    [ {'layers':'two', },\n",
    "                    {'layers':'three',\n",
    "                    'units3': hp.uniform('units3', 64,1024), \n",
    "                    'dropout3': hp.uniform('dropout3', .25,.75)}\n",
    "                    ]),\n",
    "\n",
    "            'units1': hp.uniform('units1', 64,1024),\n",
    "            'units2': hp.uniform('units2', 64,1024),\n",
    "\n",
    "            'dropout1': hp.uniform('dropout1', .25,.75),\n",
    "            'dropout2': hp.uniform('dropout2',  .25,.75),\n",
    "\n",
    "            'batch_size' : hp.uniform('batch_size', 28,128),\n",
    "\n",
    "            'nb_epochs' :  100,\n",
    "            'optimizer': hp.choice('optimizer',['adadelta','adam','rmsprop']),\n",
    "            'activation': 'relu'\n",
    "        }"
   ]
  },
  {
   "cell_type": "markdown",
   "metadata": {},
   "source": [
    "### Deep Neural Network modeling with Keras"
   ]
  },
  {
   "cell_type": "code",
   "execution_count": 108,
   "metadata": {},
   "outputs": [],
   "source": [
    "# create dataframes\n",
    "X=train[predictors].as_data_frame()\n",
    "y=train[response_col].as_data_frame()\n",
    "\n",
    "# train test split dataset\n",
    "X_train, X_test, y_train, y_test = train_test_split(X, y, test_size=0.33, random_state=42)   "
   ]
  },
  {
   "cell_type": "code",
   "execution_count": 109,
   "metadata": {},
   "outputs": [],
   "source": [
    "def f_nn(params):   \n",
    "    print ('Params testing: ', params)\n",
    "    model = Sequential()\n",
    "    model.add(Dense(output_dim=int(params['units1']), \n",
    "                    input_dim = X_train.shape[1])) \n",
    "    model.add(Activation(params['activation']))\n",
    "    model.add(Dropout(params['dropout1']))\n",
    "\n",
    "    model.add(Dense(output_dim=int(params['units2']), \n",
    "                    init = \"glorot_uniform\")) \n",
    "    model.add(Activation(params['activation']))\n",
    "    model.add(Dropout(params['dropout2']))\n",
    "\n",
    "    if params['choice']['layers']== 'three':\n",
    "        model.add(Dense(output_dim=int(params['choice']['units3']), \n",
    "                        init = \"glorot_uniform\")) \n",
    "        model.add(Activation(params['activation']))\n",
    "        model.add(Dropout(params['choice']['dropout3']))    \n",
    "\n",
    "    model.add(Dense(1))\n",
    "    model.add(Activation('linear'))\n",
    "    model.compile(loss='mean_absolute_error', \n",
    "                  optimizer=params['optimizer'])\n",
    "\n",
    "    model.fit(X_train, y_train, \n",
    "              nb_epoch=int(params['nb_epochs']), \n",
    "              batch_size=int(params['batch_size']), \n",
    "              verbose = 0)\n",
    "\n",
    "    y_pred = model.predict(X_test, batch_size = 128, verbose = 0)\n",
    "    \n",
    "    metric = mean_absolute_error(y_test, y_pred)\n",
    "    \n",
    "    return {'loss': -metric, 'status': STATUS_OK}"
   ]
  },
  {
   "cell_type": "code",
   "execution_count": 110,
   "metadata": {},
   "outputs": [],
   "source": [
    "trials = Trials()"
   ]
  },
  {
   "cell_type": "code",
   "execution_count": 111,
   "metadata": {},
   "outputs": [
    {
     "name": "stdout",
     "output_type": "stream",
     "text": [
      "('Params testing: ', {'units1': 299.597514846921, 'units2': 122.37571220666888, 'optimizer': 'adadelta', 'activation': 'relu', 'batch_size': 112.3011047664082, 'choice': {'layers': 'three', 'units3': 688.4336016332991, 'dropout3': 0.3973287091414105}, 'nb_epochs': 100, 'dropout2': 0.5106135181488274, 'dropout1': 0.42023544316850925})\n",
      "  0%|          | 0/50 [00:00<?, ?it/s, best loss: ?]"
     ]
    },
    {
     "name": "stderr",
     "output_type": "stream",
     "text": [
      "WARNING:tensorflow:Large dropout rate: 0.510614 (>0.5). In TensorFlow 2.x, dropout() uses dropout rate instead of keep_prob. Please ensure that this is intended.\n"
     ]
    },
    {
     "name": "stdout",
     "output_type": "stream",
     "text": [
      "('Params testing: ', {'units1': 117.95120636648038, 'units2': 455.8942153127867, 'optimizer': 'adam', 'activation': 'relu', 'batch_size': 105.83897371643303, 'choice': {'layers': 'two'}, 'nb_epochs': 100, 'dropout2': 0.27910508817927165, 'dropout1': 0.44775408776512227})\n",
      "('Params testing: ', {'units1': 863.0642775469593, 'units2': 255.01099637208162, 'optimizer': 'adam', 'activation': 'relu', 'batch_size': 95.95011890355592, 'choice': {'layers': 'three', 'units3': 1012.8033433440023, 'dropout3': 0.6035123118702319}, 'nb_epochs': 100, 'dropout2': 0.7190514843387339, 'dropout1': 0.6705846411144161})\n",
      "('Params testing: ', {'units1': 794.0287494706364, 'units2': 309.1846900874929, 'optimizer': 'rmsprop', 'activation': 'relu', 'batch_size': 123.72916083772, 'choice': {'layers': 'three', 'units3': 149.60471067335374, 'dropout3': 0.32489141661945686}, 'nb_epochs': 100, 'dropout2': 0.337393261997579, 'dropout1': 0.552668329363186})\n",
      "('Params testing: ', {'units1': 623.4945753605699, 'units2': 189.2717015013015, 'optimizer': 'rmsprop', 'activation': 'relu', 'batch_size': 84.20170108472914, 'choice': {'layers': 'two'}, 'nb_epochs': 100, 'dropout2': 0.6534906688271988, 'dropout1': 0.30507247864581444})\n",
      "('Params testing: ', {'units1': 349.87456338825416, 'units2': 879.8663166966676, 'optimizer': 'adadelta', 'activation': 'relu', 'batch_size': 32.2654197287237, 'choice': {'layers': 'three', 'units3': 287.4337658466976, 'dropout3': 0.5379761762206043}, 'nb_epochs': 100, 'dropout2': 0.33074326770518575, 'dropout1': 0.3110778363391023})\n",
      "('Params testing: ', {'units1': 848.8842986880377, 'units2': 554.3056573809074, 'optimizer': 'rmsprop', 'activation': 'relu', 'batch_size': 83.30338834786171, 'choice': {'layers': 'three', 'units3': 597.0347060823324, 'dropout3': 0.6816859788261899}, 'nb_epochs': 100, 'dropout2': 0.429963589370143, 'dropout1': 0.5154410892632975})\n",
      "('Params testing: ', {'units1': 583.0579978408155, 'units2': 395.32773601435315, 'optimizer': 'adadelta', 'activation': 'relu', 'batch_size': 68.88950926965506, 'choice': {'layers': 'three', 'units3': 640.7883562519816, 'dropout3': 0.6253976125800085}, 'nb_epochs': 100, 'dropout2': 0.37086242846030604, 'dropout1': 0.46831103232642585})\n",
      "('Params testing: ', {'units1': 384.9708602696443, 'units2': 390.8713038129098, 'optimizer': 'adadelta', 'activation': 'relu', 'batch_size': 96.55270545927019, 'choice': {'layers': 'two'}, 'nb_epochs': 100, 'dropout2': 0.3147334985722533, 'dropout1': 0.2877494573877001})\n",
      "('Params testing: ', {'units1': 446.50762574528443, 'units2': 191.168054263484, 'optimizer': 'adadelta', 'activation': 'relu', 'batch_size': 94.60961912544553, 'choice': {'layers': 'three', 'units3': 190.52038160747168, 'dropout3': 0.7272782019250625}, 'nb_epochs': 100, 'dropout2': 0.7462065414905569, 'dropout1': 0.31882667780174173})\n",
      "('Params testing: ', {'units1': 645.5412672561446, 'units2': 615.910670053628, 'optimizer': 'rmsprop', 'activation': 'relu', 'batch_size': 33.4812017777371, 'choice': {'layers': 'three', 'units3': 719.0976352179337, 'dropout3': 0.37191167707084305}, 'nb_epochs': 100, 'dropout2': 0.5438889334223871, 'dropout1': 0.7361853937760621})\n",
      "('Params testing: ', {'units1': 570.2869882940827, 'units2': 377.9407420904395, 'optimizer': 'adadelta', 'activation': 'relu', 'batch_size': 77.8452251538634, 'choice': {'layers': 'two'}, 'nb_epochs': 100, 'dropout2': 0.28400395475600265, 'dropout1': 0.3216688324122246})\n",
      "('Params testing: ', {'units1': 339.2227760392522, 'units2': 331.02396003535637, 'optimizer': 'adam', 'activation': 'relu', 'batch_size': 117.26348639045936, 'choice': {'layers': 'three', 'units3': 732.1141068070671, 'dropout3': 0.491958122925631}, 'nb_epochs': 100, 'dropout2': 0.36470365754982953, 'dropout1': 0.42483693134927053})\n",
      "('Params testing: ', {'units1': 444.71684713592015, 'units2': 997.765494313209, 'optimizer': 'rmsprop', 'activation': 'relu', 'batch_size': 57.09730743760072, 'choice': {'layers': 'three', 'units3': 563.6180085459155, 'dropout3': 0.6011499639973373}, 'nb_epochs': 100, 'dropout2': 0.35537653056346147, 'dropout1': 0.6300853419699355})\n",
      "('Params testing: ', {'units1': 199.44407604010044, 'units2': 196.04454981102597, 'optimizer': 'adam', 'activation': 'relu', 'batch_size': 57.49089153089383, 'choice': {'layers': 'three', 'units3': 230.77679552484142, 'dropout3': 0.28495784482326564}, 'nb_epochs': 100, 'dropout2': 0.5710582129547414, 'dropout1': 0.4753976138058627})\n",
      "('Params testing: ', {'units1': 420.8744886939842, 'units2': 517.0329546966415, 'optimizer': 'rmsprop', 'activation': 'relu', 'batch_size': 95.47821221486387, 'choice': {'layers': 'three', 'units3': 990.497980304579, 'dropout3': 0.4759140794982152}, 'nb_epochs': 100, 'dropout2': 0.30245649866508967, 'dropout1': 0.27488333559905254})\n",
      "('Params testing: ', {'units1': 439.19656992496357, 'units2': 102.51774572512461, 'optimizer': 'adadelta', 'activation': 'relu', 'batch_size': 115.25491149090338, 'choice': {'layers': 'three', 'units3': 973.1427891765503, 'dropout3': 0.5257646647018781}, 'nb_epochs': 100, 'dropout2': 0.28073484310755714, 'dropout1': 0.37863335400189546})\n",
      "('Params testing: ', {'units1': 82.97768835650446, 'units2': 798.9147180748918, 'optimizer': 'adam', 'activation': 'relu', 'batch_size': 114.62556296088498, 'choice': {'layers': 'three', 'units3': 627.2353926527956, 'dropout3': 0.735712254240887}, 'nb_epochs': 100, 'dropout2': 0.637647278430435, 'dropout1': 0.677537693624968})\n",
      "('Params testing: ', {'units1': 731.2640831260439, 'units2': 364.8048866221236, 'optimizer': 'adam', 'activation': 'relu', 'batch_size': 109.35653047699037, 'choice': {'layers': 'three', 'units3': 464.1281598249869, 'dropout3': 0.5712180237433925}, 'nb_epochs': 100, 'dropout2': 0.3719687338153792, 'dropout1': 0.29690055982610103})\n",
      "('Params testing: ', {'units1': 938.6278237273066, 'units2': 130.54542897207062, 'optimizer': 'rmsprop', 'activation': 'relu', 'batch_size': 87.8836934960986, 'choice': {'layers': 'two'}, 'nb_epochs': 100, 'dropout2': 0.5991278612577112, 'dropout1': 0.7285133386447549})\n",
      "('Params testing: ', {'units1': 87.21533334408798, 'units2': 764.0954146029459, 'optimizer': 'adam', 'activation': 'relu', 'batch_size': 105.26042987996216, 'choice': {'layers': 'two'}, 'nb_epochs': 100, 'dropout2': 0.661172878011623, 'dropout1': 0.5873503955717131})\n",
      "('Params testing: ', {'units1': 87.62936562360768, 'units2': 768.7248379878898, 'optimizer': 'adam', 'activation': 'relu', 'batch_size': 127.20877943589356, 'choice': {'layers': 'two'}, 'nb_epochs': 100, 'dropout2': 0.6604066664553229, 'dropout1': 0.6030635799857051})\n",
      "('Params testing: ', {'units1': 178.24887306423895, 'units2': 729.1215514068747, 'optimizer': 'adam', 'activation': 'relu', 'batch_size': 126.68411578301343, 'choice': {'layers': 'two'}, 'nb_epochs': 100, 'dropout2': 0.6811578575860276, 'dropout1': 0.6796490834527708})\n",
      "('Params testing: ', {'units1': 248.33854874953352, 'units2': 1006.6251300545578, 'optimizer': 'adam', 'activation': 'relu', 'batch_size': 123.83877846129828, 'choice': {'layers': 'two'}, 'nb_epochs': 100, 'dropout2': 0.6153676130878883, 'dropout1': 0.6028606892380551})\n",
      "('Params testing: ', {'units1': 81.211374910502, 'units2': 877.8975271207835, 'optimizer': 'adam', 'activation': 'relu', 'batch_size': 127.94327371332899, 'choice': {'layers': 'two'}, 'nb_epochs': 100, 'dropout2': 0.45105249923934454, 'dropout1': 0.6721456405902477})\n",
      "('Params testing: ', {'units1': 162.29766851237721, 'units2': 897.6464718814726, 'optimizer': 'adam', 'activation': 'relu', 'batch_size': 127.75871543025004, 'choice': {'layers': 'two'}, 'nb_epochs': 100, 'dropout2': 0.4464289398370317, 'dropout1': 0.5171489615986018})\n",
      "('Params testing: ', {'units1': 69.69316628891076, 'units2': 656.9348450177712, 'optimizer': 'adam', 'activation': 'relu', 'batch_size': 49.01172222229765, 'choice': {'layers': 'two'}, 'nb_epochs': 100, 'dropout2': 0.4507491047399991, 'dropout1': 0.6431172351734432})\n",
      "('Params testing: ', {'units1': 256.15330573040495, 'units2': 650.6946641477736, 'optimizer': 'adam', 'activation': 'relu', 'batch_size': 44.563359175240976, 'choice': {'layers': 'two'}, 'nb_epochs': 100, 'dropout2': 0.4396316570988065, 'dropout1': 0.7492639275564238})\n",
      "('Params testing: ', {'units1': 1005.6667545024359, 'units2': 881.1219976612836, 'optimizer': 'adam', 'activation': 'relu', 'batch_size': 42.27901282466195, 'choice': {'layers': 'two'}, 'nb_epochs': 100, 'dropout2': 0.4973079551437785, 'dropout1': 0.7049061419202354})\n",
      "('Params testing: ', {'units1': 281.72382856904085, 'units2': 685.1785074715242, 'optimizer': 'adam', 'activation': 'relu', 'batch_size': 64.1490757641693, 'choice': {'layers': 'two'}, 'nb_epochs': 100, 'dropout2': 0.49806523768393035, 'dropout1': 0.6326334089289334})\n",
      "('Params testing: ', {'units1': 154.9731577005358, 'units2': 941.3159176535287, 'optimizer': 'adam', 'activation': 'relu', 'batch_size': 43.07659206187729, 'choice': {'layers': 'two'}, 'nb_epochs': 100, 'dropout2': 0.40679412108062735, 'dropout1': 0.6448839020184907})\n",
      "('Params testing: ', {'units1': 514.2403436562433, 'units2': 825.3713162562407, 'optimizer': 'adam', 'activation': 'relu', 'batch_size': 51.22765620156266, 'choice': {'layers': 'two'}, 'nb_epochs': 100, 'dropout2': 0.4736346778400409, 'dropout1': 0.5608201344997312})\n",
      "('Params testing: ', {'units1': 66.86533087570415, 'units2': 573.9205321756814, 'optimizer': 'adam', 'activation': 'relu', 'batch_size': 71.48419839827494, 'choice': {'layers': 'two'}, 'nb_epochs': 100, 'dropout2': 0.5405395400473083, 'dropout1': 0.7032498408748186})\n",
      "('Params testing: ', {'units1': 229.73615487683537, 'units2': 465.50166887099965, 'optimizer': 'adam', 'activation': 'relu', 'batch_size': 74.50872944169606, 'choice': {'layers': 'two'}, 'nb_epochs': 100, 'dropout2': 0.5429209249953413, 'dropout1': 0.6990811013491424})\n",
      "('Params testing: ', {'units1': 317.49711140094695, 'units2': 580.0283918944499, 'optimizer': 'adam', 'activation': 'relu', 'batch_size': 70.08877812644833, 'choice': {'layers': 'two'}, 'nb_epochs': 100, 'dropout2': 0.2518652640239172, 'dropout1': 0.5491768769083103})\n",
      "('Params testing: ', {'units1': 135.98491599045047, 'units2': 488.5665893531386, 'optimizer': 'adam', 'activation': 'relu', 'batch_size': 102.1666801452192, 'choice': {'layers': 'two'}, 'nb_epochs': 100, 'dropout2': 0.5394778034276808, 'dropout1': 0.36754675525125813})\n",
      "('Params testing: ', {'units1': 524.7163013158015, 'units2': 267.117740036772, 'optimizer': 'adam', 'activation': 'relu', 'batch_size': 87.03748712322451, 'choice': {'layers': 'two'}, 'nb_epochs': 100, 'dropout2': 0.40629797845070537, 'dropout1': 0.7127455957051141})\n",
      "('Params testing: ', {'units1': 699.6988702116188, 'units2': 976.959030871717, 'optimizer': 'adadelta', 'activation': 'relu', 'batch_size': 64.44088881683446, 'choice': {'layers': 'two'}, 'nb_epochs': 100, 'dropout2': 0.5821878841860688, 'dropout1': 0.747627094839382})\n",
      "('Params testing: ', {'units1': 365.31307952354047, 'units2': 432.64950103267546, 'optimizer': 'rmsprop', 'activation': 'relu', 'batch_size': 75.44330324067093, 'choice': {'layers': 'two'}, 'nb_epochs': 100, 'dropout2': 0.40502753598622393, 'dropout1': 0.6677442606324518})\n",
      "('Params testing: ', {'units1': 215.56874729846243, 'units2': 714.0291969348917, 'optimizer': 'adadelta', 'activation': 'relu', 'batch_size': 83.500553926941, 'choice': {'layers': 'two'}, 'nb_epochs': 100, 'dropout2': 0.7152378494916182, 'dropout1': 0.5328666584087625})\n",
      "('Params testing: ', {'units1': 815.354148042906, 'units2': 837.1273957424381, 'optimizer': 'adam', 'activation': 'relu', 'batch_size': 35.73959794398241, 'choice': {'layers': 'two'}, 'nb_epochs': 100, 'dropout2': 0.5229812729991903, 'dropout1': 0.5976059410434021})\n",
      "('Params testing: ', {'units1': 119.202683290612, 'units2': 573.5053224790927, 'optimizer': 'rmsprop', 'activation': 'relu', 'batch_size': 57.24655232908484, 'choice': {'layers': 'two'}, 'nb_epochs': 100, 'dropout2': 0.474076762197125, 'dropout1': 0.5701118828973031})\n",
      "('Params testing: ', {'units1': 305.32307978772803, 'units2': 920.8958982152556, 'optimizer': 'adadelta', 'activation': 'relu', 'batch_size': 99.90492165688714, 'choice': {'layers': 'two'}, 'nb_epochs': 100, 'dropout2': 0.5685391917933944, 'dropout1': 0.6577983484954224})\n",
      "('Params testing: ', {'units1': 486.59776996419356, 'units2': 603.3820003311262, 'optimizer': 'adam', 'activation': 'relu', 'batch_size': 90.67850199036975, 'choice': {'layers': 'two'}, 'nb_epochs': 100, 'dropout2': 0.4757770333877431, 'dropout1': 0.4494291948499912})\n",
      "('Params testing: ', {'units1': 604.7260533098352, 'units2': 544.733024927391, 'optimizer': 'rmsprop', 'activation': 'relu', 'batch_size': 79.45859670969448, 'choice': {'layers': 'two'}, 'nb_epochs': 100, 'dropout2': 0.513851754219003, 'dropout1': 0.49499379096413854})\n",
      "('Params testing: ', {'units1': 398.1019749167371, 'units2': 270.2834279995641, 'optimizer': 'adam', 'activation': 'relu', 'batch_size': 63.17679012892174, 'choice': {'layers': 'two'}, 'nb_epochs': 100, 'dropout2': 0.3875370392780473, 'dropout1': 0.6176871373789043})\n",
      "('Params testing: ', {'units1': 970.2172421739967, 'units2': 840.6015015279247, 'optimizer': 'adadelta', 'activation': 'relu', 'batch_size': 118.99623315569116, 'choice': {'layers': 'two'}, 'nb_epochs': 100, 'dropout2': 0.333530385873239, 'dropout1': 0.7182988346785095})\n",
      "('Params testing: ', {'units1': 666.9434756066222, 'units2': 68.30744852694698, 'optimizer': 'adam', 'activation': 'relu', 'batch_size': 71.21082102997082, 'choice': {'layers': 'three', 'units3': 873.393574161281, 'dropout3': 0.2572544234502755}, 'nb_epochs': 100, 'dropout2': 0.747926463978092, 'dropout1': 0.4041560039578677})\n",
      "('Params testing: ', {'units1': 903.569299630119, 'units2': 138.61007494202153, 'optimizer': 'rmsprop', 'activation': 'relu', 'batch_size': 69.11646766575882, 'choice': {'layers': 'three', 'units3': 814.6139336970019, 'dropout3': 0.254521814186505}, 'nb_epochs': 100, 'dropout2': 0.7471913021406165, 'dropout1': 0.3811212199001921})\n",
      "('Params testing: ', {'units1': 747.7409880259873, 'units2': 330.5930508207407, 'optimizer': 'adam', 'activation': 'relu', 'batch_size': 51.62695363310533, 'choice': {'layers': 'three', 'units3': 416.08557703386606, 'dropout3': 0.44759238003546475}, 'nb_epochs': 100, 'dropout2': 0.7061773983160843, 'dropout1': 0.42605660572954873})\n",
      "100%|██████████| 50/50 [1:22:19<00:00, 98.78s/it, best loss: -125.860851026]\n"
     ]
    }
   ],
   "source": [
    "best = fmin(f_nn, space, algo=tpe.suggest, max_evals=50, trials=trials)"
   ]
  },
  {
   "cell_type": "code",
   "execution_count": 118,
   "metadata": {},
   "outputs": [
    {
     "name": "stdout",
     "output_type": "stream",
     "text": [
      "{'units1': 666.9434756066222, 'units3': 873.393574161281, 'units2': 68.30744852694698, 'optimizer': 1, 'batch_size': 71.21082102997082, 'num_layers': 1, 'dropout3': 0.2572544234502755, 'dropout2': 0.747926463978092, 'dropout1': 0.4041560039578677}\n"
     ]
    }
   ],
   "source": [
    "print(best)"
   ]
  },
  {
   "cell_type": "code",
   "execution_count": 117,
   "metadata": {},
   "outputs": [
    {
     "name": "stdout",
     "output_type": "stream",
     "text": [
      "Best parameters:\n",
      "- batch_size=71.210821\n",
      "- dropout1=0.404156\n",
      "- dropout2=0.747926\n",
      "- dropout3=0.257254\n",
      "- num_layers=1\n",
      "- optimizer=1\n",
      "- units1=666\n",
      "- units2=68.307449\n",
      "- units3=873.393574\n",
      "\n"
     ]
    }
   ],
   "source": [
    "print(\"\"\"Best parameters:\n",
    "- batch_size=%.6f\n",
    "- dropout1=%.6f\n",
    "- dropout2=%.6f\n",
    "- dropout3=%.6f\n",
    "- num_layers=%d\n",
    "- optimizer=%d\n",
    "- units1=%d\n",
    "- units2=%.6f\n",
    "- units3=%.6f\n",
    "\"\"\" % (best['batch_size'],\n",
    "       best['dropout1'],\n",
    "       best['dropout2'],\n",
    "       best['dropout3'],\n",
    "       best['num_layers'],\n",
    "       best['optimizer'],\n",
    "       best['units1'],\n",
    "       best['units2'],\n",
    "       best['units3'],\n",
    "      ))"
   ]
  },
  {
   "cell_type": "code",
   "execution_count": 135,
   "metadata": {},
   "outputs": [],
   "source": [
    "space = {'batch_size' : int(best['batch_size']),\n",
    "         'nb_epochs' :  100,\n",
    "         'activation': 'relu',\n",
    "         'choice': [{'layers': 'two', },\n",
    "                   {'layers': 'three',\n",
    "                   'units3': int(best['units3']),\n",
    "                   'dropout3': best['dropout3']}],\n",
    "         'dropout1': best['dropout1'],\n",
    "         'dropout2': best['dropout2'],\n",
    "         'dropout3': best['dropout3'],\n",
    "         'num_layers': best['num_layers'],\n",
    "         'optimizer': best['optimizer'],\n",
    "         'units1': int(best['units1']),\n",
    "         'units2': int(best['units2']),\n",
    "         'units3': int(best['units3'])\n",
    "}"
   ]
  },
  {
   "cell_type": "code",
   "execution_count": 151,
   "metadata": {},
   "outputs": [
    {
     "name": "stdout",
     "output_type": "stream",
     "text": [
      "Epoch 1/100\n",
      "Epoch 2/100\n",
      "Epoch 3/100\n",
      "Epoch 4/100\n",
      "Epoch 5/100\n",
      "Epoch 6/100\n",
      "Epoch 7/100\n",
      "Epoch 8/100\n",
      "Epoch 9/100\n",
      "Epoch 10/100\n",
      "Epoch 11/100\n",
      "Epoch 12/100\n",
      "Epoch 13/100\n",
      "Epoch 14/100\n",
      "Epoch 15/100\n",
      "Epoch 16/100\n",
      "Epoch 17/100\n",
      "Epoch 18/100\n",
      "Epoch 19/100\n",
      "Epoch 20/100\n",
      "Epoch 21/100\n",
      "Epoch 22/100\n",
      "Epoch 23/100\n",
      "Epoch 24/100\n",
      "Epoch 25/100\n",
      "Epoch 26/100\n",
      "Epoch 27/100\n",
      "Epoch 28/100\n",
      "Epoch 29/100\n",
      "Epoch 30/100\n",
      "Epoch 31/100\n",
      "Epoch 32/100\n",
      "Epoch 33/100\n",
      "Epoch 34/100\n",
      "Epoch 35/100\n",
      "Epoch 36/100\n",
      "Epoch 37/100\n",
      "Epoch 38/100\n",
      "Epoch 39/100\n",
      "Epoch 40/100\n",
      "Epoch 41/100\n",
      "Epoch 42/100\n",
      "Epoch 43/100\n",
      "Epoch 44/100\n",
      "Epoch 45/100\n",
      "Epoch 46/100\n",
      "Epoch 47/100\n",
      "Epoch 48/100\n",
      "Epoch 49/100\n",
      "Epoch 50/100\n",
      "Epoch 51/100\n",
      "Epoch 52/100\n",
      "Epoch 53/100\n",
      "Epoch 54/100\n",
      "Epoch 55/100\n",
      "Epoch 56/100\n",
      "Epoch 57/100\n",
      "Epoch 58/100\n",
      "Epoch 59/100\n",
      "Epoch 60/100\n",
      "Epoch 61/100\n",
      "Epoch 62/100\n",
      "Epoch 63/100\n",
      "Epoch 64/100\n",
      "Epoch 65/100\n",
      "Epoch 66/100\n",
      "Epoch 67/100\n",
      "Epoch 68/100\n",
      "Epoch 69/100\n",
      "Epoch 70/100\n",
      "Epoch 71/100\n",
      "Epoch 72/100\n",
      "Epoch 73/100\n",
      "Epoch 74/100\n",
      "Epoch 75/100\n",
      "Epoch 76/100\n",
      "Epoch 77/100\n",
      "Epoch 78/100\n",
      "Epoch 79/100\n",
      "Epoch 80/100\n",
      "Epoch 81/100\n",
      "Epoch 82/100\n",
      "Epoch 83/100\n",
      "Epoch 84/100\n",
      "Epoch 85/100\n",
      "Epoch 86/100\n",
      "Epoch 87/100\n",
      "Epoch 88/100\n",
      "Epoch 89/100\n",
      "Epoch 90/100\n",
      "Epoch 91/100\n",
      "Epoch 92/100\n",
      "Epoch 93/100\n",
      "Epoch 94/100\n",
      "Epoch 95/100\n",
      "Epoch 96/100\n",
      "Epoch 97/100\n",
      "Epoch 98/100\n",
      "Epoch 99/100\n",
      "Epoch 100/100\n"
     ]
    },
    {
     "data": {
      "text/plain": [
       "<keras.callbacks.callbacks.History at 0x166fa9350>"
      ]
     },
     "execution_count": 151,
     "metadata": {},
     "output_type": "execute_result"
    }
   ],
   "source": [
    "# Make prediction and evaluate final model trained on entire training dataset\n",
    "model = Sequential()\n",
    "model.add(Dense(output_dim=int(space['units1']), \n",
    "                input_dim = X_train.shape[1])) \n",
    "model.add(Activation(space['activation']))\n",
    "model.add(Dropout(space['dropout1']))\n",
    "\n",
    "model.add(Dense(output_dim=int(space['units2']), \n",
    "                init = \"glorot_uniform\")) \n",
    "model.add(Activation(space['activation']))\n",
    "model.add(Dropout(space['dropout2']))\n",
    "\n",
    "if space['choice'][1]['layers']== 'three':\n",
    "    model.add(Dense(output_dim=space['choice'][1]['units3'], \n",
    "                    init = \"glorot_uniform\")) \n",
    "    model.add(Activation(space['activation']))\n",
    "    model.add(Dropout(space['choice'][1]['dropout3']))    \n",
    "\n",
    "model.add(Dense(1))\n",
    "model.add(Activation('linear'))\n",
    "model.compile(loss='mean_absolute_error', \n",
    "              optimizer='adam')\n",
    "\n",
    "model.fit(X, y, \n",
    "          nb_epoch=int(space['nb_epochs']), \n",
    "          batch_size=int(space['batch_size']), \n",
    "          verbose=42)"
   ]
  },
  {
   "cell_type": "code",
   "execution_count": 153,
   "metadata": {},
   "outputs": [
    {
     "name": "stdout",
     "output_type": "stream",
     "text": [
      "115.50949273417658\n"
     ]
    }
   ],
   "source": [
    "X_test=test[predictors].as_data_frame()\n",
    "y_test=test[response_col].as_data_frame()\n",
    "\n",
    "y_pred = model.predict(X_test, batch_size = 128, verbose = 42)\n",
    "metric = mean_absolute_error(y_test, y_pred)\n",
    "print(metric)"
   ]
  },
  {
   "cell_type": "markdown",
   "metadata": {},
   "source": [
    "Source:\n",
    "    - https://machinelearningmastery.com/what-is-bayesian-optimization/ \n",
    "    - https://www.dlology.com/blog/how-to-do-hyperparameter-search-with-baysian-optimization-for-keras-model/\n",
    "    - http://blog.cypresspoint.com/2017/10/20/H2O-classification-deep-neural-network.html\n",
    "    - https://github.com/maravenag/bayesian-autoML/blob/master/bayesian_h2o.ipynb\n",
    "    - https://www.kaggle.com/clair14/tutorial-bayesian-optimization\n",
    "    - https://medium.com/spikelab/hyperparameter-optimization-using-bayesian-optimization-f1f393dcd36d"
   ]
  },
  {
   "cell_type": "code",
   "execution_count": null,
   "metadata": {},
   "outputs": [],
   "source": []
  }
 ],
 "metadata": {
  "kernelspec": {
   "display_name": "Python 2",
   "language": "python",
   "name": "python2"
  },
  "language_info": {
   "codemirror_mode": {
    "name": "ipython",
    "version": 2
   },
   "file_extension": ".py",
   "mimetype": "text/x-python",
   "name": "python",
   "nbconvert_exporter": "python",
   "pygments_lexer": "ipython2",
   "version": "2.7.10"
  }
 },
 "nbformat": 4,
 "nbformat_minor": 2
}
