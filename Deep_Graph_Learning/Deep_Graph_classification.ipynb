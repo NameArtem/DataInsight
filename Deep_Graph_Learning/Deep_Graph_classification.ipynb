{
  "nbformat": 4,
  "nbformat_minor": 0,
  "metadata": {
    "colab": {
      "name": "Deep_Graph_classification.ipynb",
      "version": "0.3.2",
      "provenance": [],
      "collapsed_sections": []
    },
    "kernelspec": {
      "name": "python3",
      "display_name": "Python 3"
    }
  },
  "cells": [
    {
      "metadata": {
        "id": "ndSr0sse8S2r",
        "colab_type": "text"
      },
      "cell_type": "markdown",
      "source": [
        "## Graph classification task with DGL\n",
        "\n",
        "Perform batched graph classification of 8 types of regular graphs. We use a dataset that has 8 different types of graphs and each class has the same number of graph samples.[link text](https://)"
      ]
    },
    {
      "metadata": {
        "id": "rThQ3aMt8Rgi",
        "colab_type": "code",
        "colab": {
          "base_uri": "https://localhost:8080/",
          "height": 190
        },
        "outputId": "1a623432-89b7-4549-8039-b7d48865f3db"
      },
      "cell_type": "code",
      "source": [
        "!pip install dgl"
      ],
      "execution_count": 1,
      "outputs": [
        {
          "output_type": "stream",
          "text": [
            "Collecting dgl\n",
            "\u001b[?25l  Downloading https://files.pythonhosted.org/packages/d8/ef/e8e1abfed2d34303e820139de82ff60a96c5690e7fbb7ecb64afc628194f/dgl-0.2-cp36-cp36m-manylinux1_x86_64.whl (744kB)\n",
            "\u001b[K    100% |████████████████████████████████| 747kB 21.3MB/s \n",
            "\u001b[?25hRequirement already satisfied: numpy>=1.14.0 in /usr/local/lib/python3.6/dist-packages (from dgl) (1.16.2)\n",
            "Requirement already satisfied: networkx>=2.1 in /usr/local/lib/python3.6/dist-packages (from dgl) (2.2)\n",
            "Requirement already satisfied: scipy>=1.1.0 in /usr/local/lib/python3.6/dist-packages (from dgl) (1.2.1)\n",
            "Requirement already satisfied: decorator>=4.3.0 in /usr/local/lib/python3.6/dist-packages (from networkx>=2.1->dgl) (4.4.0)\n",
            "Installing collected packages: dgl\n",
            "Successfully installed dgl-0.2\n"
          ],
          "name": "stdout"
        }
      ]
    },
    {
      "metadata": {
        "id": "5cHBxcXK8UBC",
        "colab_type": "code",
        "colab": {}
      },
      "cell_type": "code",
      "source": [
        "from dgl.data import MiniGCDataset\n",
        "import dgl\n",
        "import dgl.function as fn\n",
        "\n",
        "import torch\n",
        "import torch.nn as nn\n",
        "import torch.nn.functional as F\n",
        "import torch.optim as optim\n",
        "from torch.utils.data import DataLoader\n",
        "\n",
        "import matplotlib.pyplot as plt\n",
        "import networkx as nx"
      ],
      "execution_count": 0,
      "outputs": []
    },
    {
      "metadata": {
        "id": "aZjJlI7t8_EY",
        "colab_type": "code",
        "colab": {}
      },
      "cell_type": "code",
      "source": [
        "# Load dataset with 80 samples, each graph is of size [10, 20]\n",
        "dataset = MiniGCDataset(80, 10, 20)"
      ],
      "execution_count": 0,
      "outputs": []
    },
    {
      "metadata": {
        "id": "WQceiOkU9L4F",
        "colab_type": "code",
        "colab": {
          "base_uri": "https://localhost:8080/",
          "height": 281
        },
        "outputId": "591dfaad-41f2-490b-a263-b2a0e408e4f1"
      },
      "cell_type": "code",
      "source": [
        "# Plot sample graph\n",
        "graph, label = dataset[0]\n",
        "\n",
        "fig, ax = plt.subplots()\n",
        "nx.draw(graph.to_networkx(), ax=ax)\n",
        "ax.set_title('Class: {:d}'.format(label))\n",
        "plt.show()"
      ],
      "execution_count": 4,
      "outputs": [
        {
          "output_type": "display_data",
          "data": {
            "image/png": "[encoded data removed]",
            "text/plain": [
              "<Figure size 432x288 with 1 Axes>"
            ]
          },
          "metadata": {
            "tags": []
          }
        }
      ]
    },
    {
      "metadata": {
        "id": "t0LE-Zbl9q22",
        "colab_type": "text"
      },
      "cell_type": "markdown",
      "source": [
        "Define a function that form a mini-batch from a given list of graph and label pairs."
      ]
    },
    {
      "metadata": {
        "id": "0LpMZ1rM9Q1O",
        "colab_type": "code",
        "colab": {}
      },
      "cell_type": "code",
      "source": [
        "def collate(samples):\n",
        "    # The input `samples` is a list of pairs (graph, label).\n",
        "    graphs, labels = map(list, zip(*samples))\n",
        "    batched_graph = dgl.batch(graphs)\n",
        "    \n",
        "    return batched_graph, torch.tensor(labels)"
      ],
      "execution_count": 0,
      "outputs": []
    },
    {
      "metadata": {
        "id": "RqLLHkPj-9h1",
        "colab_type": "code",
        "colab": {}
      },
      "cell_type": "code",
      "source": [
        "def reduce(nodes):\n",
        "    \"\"\"Take an average over all neighbor node features hu and use it to\n",
        "    overwrite the original node feature.\"\"\"\n",
        "    accum = torch.mean(nodes.mailbox['m'], 1)\n",
        "    return {'h': accum}"
      ],
      "execution_count": 0,
      "outputs": []
    },
    {
      "metadata": {
        "id": "3Ji1H00c_B9c",
        "colab_type": "code",
        "colab": {}
      },
      "cell_type": "code",
      "source": [
        "class NodeApplyModule(nn.Module):\n",
        "    \"\"\"Update the node feature hv with ReLU(Whv+b).\"\"\"\n",
        "    def __init__(self, in_feats, out_feats, activation):\n",
        "        super(NodeApplyModule, self).__init__()\n",
        "        self.linear = nn.Linear(in_feats, out_feats)\n",
        "        self.activation = activation\n",
        "\n",
        "    def forward(self, node):\n",
        "        h = self.linear(node.data['h'])\n",
        "        h = self.activation(h)\n",
        "        return {'h' : h}"
      ],
      "execution_count": 0,
      "outputs": []
    },
    {
      "metadata": {
        "id": "qZ7GnMVR_B_4",
        "colab_type": "code",
        "colab": {}
      },
      "cell_type": "code",
      "source": [
        "class GCN(nn.Module):\n",
        "    def __init__(self, in_feats, out_feats, activation):\n",
        "        super(GCN, self).__init__()\n",
        "        self.apply_mod = NodeApplyModule(in_feats, out_feats, activation)\n",
        "\n",
        "    def forward(self, g, feature):\n",
        "        # Initialize the node features with h.\n",
        "        g.ndata['h'] = feature\n",
        "        g.update_all(msg, reduce)\n",
        "        g.apply_nodes(func=self.apply_mod)\n",
        "        return g.ndata.pop('h')"
      ],
      "execution_count": 0,
      "outputs": []
    },
    {
      "metadata": {
        "id": "1dpHTG_5Iadc",
        "colab_type": "text"
      },
      "cell_type": "markdown",
      "source": [
        "### Readout and Classification\n",
        "\n",
        "For this demonstration, we consider initial node features to be their degrees. After two rounds of graph convolution, we perform a graph readout by averaging over all node features for each graph in the batch"
      ]
    },
    {
      "metadata": {
        "id": "e-gUwycw_N06",
        "colab_type": "code",
        "colab": {}
      },
      "cell_type": "code",
      "source": [
        "class Classifier(nn.Module):\n",
        "    def __init__(self, in_dim, hidden_dim, n_classes):\n",
        "        super(Classifier, self).__init__()\n",
        "\n",
        "        self.layers = nn.ModuleList([\n",
        "            GCN(in_dim, hidden_dim, F.relu),\n",
        "            GCN(hidden_dim, hidden_dim, F.relu)])\n",
        "        self.classify = nn.Linear(hidden_dim, n_classes)\n",
        "\n",
        "    def forward(self, g):\n",
        "        # For undirected graphs, in_degree is the same as\n",
        "        # out_degree.\n",
        "        h = g.in_degrees().view(-1, 1).float()\n",
        "        for conv in self.layers:\n",
        "            h = conv(g, h)\n",
        "        g.ndata['h'] = h\n",
        "        hg = dgl.mean_nodes(g, 'h')\n",
        "        return self.classify(hg)"
      ],
      "execution_count": 0,
      "outputs": []
    },
    {
      "metadata": {
        "id": "mRGPaLUFILNe",
        "colab_type": "text"
      },
      "cell_type": "markdown",
      "source": [
        "From a batch of graphs, we first perform message passing/graph convolution for nodes to “communicate” with others. After message passing, we compute a tensor for graph representation from node (and edge) attributes. This step may be called “readout/aggregation” interchangeably. Finally, the graph representations can be fed into a classifier to predict the graph labels."
      ]
    },
    {
      "metadata": {
        "id": "aEu3LhaM-DAh",
        "colab_type": "code",
        "colab": {}
      },
      "cell_type": "code",
      "source": [
        "# Sends a message of node feature h.\n",
        "msg = fn.copy_src(src='h', out='m')"
      ],
      "execution_count": 0,
      "outputs": []
    },
    {
      "metadata": {
        "id": "P8QktR7gIkIM",
        "colab_type": "text"
      },
      "cell_type": "markdown",
      "source": [
        "We create a synthetic dataset of 400 graphs with 10 ~ 20 nodes. 320 graphs constitute a training set and 80 graphs constitute a test set."
      ]
    },
    {
      "metadata": {
        "id": "WUbj1K8R_ShX",
        "colab_type": "code",
        "colab": {}
      },
      "cell_type": "code",
      "source": [
        "# Create training and test sets.\n",
        "trainset = MiniGCDataset(320, 10, 20)\n",
        "testset  = MiniGCDataset(80, 10, 20)"
      ],
      "execution_count": 0,
      "outputs": []
    },
    {
      "metadata": {
        "id": "wN5sW6oK_dDY",
        "colab_type": "code",
        "colab": {}
      },
      "cell_type": "code",
      "source": [
        "# Use PyTorch's DataLoader and the collate function defined before.\n",
        "data_loader = DataLoader(trainset, batch_size=32, shuffle=True,\n",
        "                         collate_fn=collate)"
      ],
      "execution_count": 0,
      "outputs": []
    },
    {
      "metadata": {
        "id": "q71GSNJs_eCm",
        "colab_type": "code",
        "colab": {}
      },
      "cell_type": "code",
      "source": [
        "# Create model\n",
        "model = Classifier(1, 256, trainset.num_classes)\n",
        "loss_func = nn.CrossEntropyLoss()\n",
        "optimizer = optim.Adam(model.parameters(), lr=0.001)"
      ],
      "execution_count": 0,
      "outputs": []
    },
    {
      "metadata": {
        "id": "0efWDeLR_kO2",
        "colab_type": "code",
        "colab": {
          "base_uri": "https://localhost:8080/",
          "height": 272
        },
        "outputId": "15e80dbf-2fbb-4b65-9495-c721fdec8e76"
      },
      "cell_type": "code",
      "source": [
        "# Fit the model\n",
        "model.train()"
      ],
      "execution_count": 27,
      "outputs": [
        {
          "output_type": "execute_result",
          "data": {
            "text/plain": [
              "Classifier(\n",
              "  (layers): ModuleList(\n",
              "    (0): GCN(\n",
              "      (apply_mod): NodeApplyModule(\n",
              "        (linear): Linear(in_features=1, out_features=256, bias=True)\n",
              "      )\n",
              "    )\n",
              "    (1): GCN(\n",
              "      (apply_mod): NodeApplyModule(\n",
              "        (linear): Linear(in_features=256, out_features=256, bias=True)\n",
              "      )\n",
              "    )\n",
              "  )\n",
              "  (classify): Linear(in_features=256, out_features=8, bias=True)\n",
              ")"
            ]
          },
          "metadata": {
            "tags": []
          },
          "execution_count": 27
        }
      ]
    },
    {
      "metadata": {
        "id": "ES8Mm4qG_6f1",
        "colab_type": "code",
        "colab": {
          "base_uri": "https://localhost:8080/",
          "height": 1431
        },
        "outputId": "c8fa8955-2fdd-414c-e875-9caefdeaeb2d"
      },
      "cell_type": "code",
      "source": [
        "epoch_losses = []\n",
        "\n",
        "for epoch in range(80):\n",
        "    epoch_loss = 0\n",
        "    for iter, (bg, label) in enumerate(data_loader):\n",
        "        prediction = model(bg)\n",
        "        loss = loss_func(prediction, label)\n",
        "        optimizer.zero_grad()\n",
        "        loss.backward()\n",
        "        optimizer.step()\n",
        "        epoch_loss += loss.detach().item()\n",
        "    epoch_loss /= (iter + 1)\n",
        "    print('Epoch {}, loss {:.4f}'.format(epoch, epoch_loss))\n",
        "    epoch_losses.append(epoch_loss)"
      ],
      "execution_count": 28,
      "outputs": [
        {
          "output_type": "stream",
          "text": [
            "/usr/local/lib/python3.6/dist-packages/dgl/base.py:18: UserWarning: Initializer is not set. Use zero initializer instead. To suppress this warning, use `set_initializer` to explicitly specify which initializer to use.\n",
            "  warnings.warn(msg)\n"
          ],
          "name": "stderr"
        },
        {
          "output_type": "stream",
          "text": [
            "Epoch 0, loss 2.1371\n",
            "Epoch 1, loss 1.9590\n",
            "Epoch 2, loss 1.8599\n",
            "Epoch 3, loss 1.7915\n",
            "Epoch 4, loss 1.7003\n",
            "Epoch 5, loss 1.6177\n",
            "Epoch 6, loss 1.5214\n",
            "Epoch 7, loss 1.4422\n",
            "Epoch 8, loss 1.3950\n",
            "Epoch 9, loss 1.3020\n",
            "Epoch 10, loss 1.2261\n",
            "Epoch 11, loss 1.1767\n",
            "Epoch 12, loss 1.1317\n",
            "Epoch 13, loss 1.0838\n",
            "Epoch 14, loss 1.0535\n",
            "Epoch 15, loss 1.0280\n",
            "Epoch 16, loss 1.0012\n",
            "Epoch 17, loss 0.9703\n",
            "Epoch 18, loss 0.9344\n",
            "Epoch 19, loss 0.9153\n",
            "Epoch 20, loss 0.9253\n",
            "Epoch 21, loss 1.0121\n",
            "Epoch 22, loss 0.9326\n",
            "Epoch 23, loss 0.8844\n",
            "Epoch 24, loss 0.8529\n",
            "Epoch 25, loss 0.8292\n",
            "Epoch 26, loss 0.8077\n",
            "Epoch 27, loss 0.7918\n",
            "Epoch 28, loss 0.7825\n",
            "Epoch 29, loss 0.7891\n",
            "Epoch 30, loss 0.7789\n",
            "Epoch 31, loss 0.7504\n",
            "Epoch 32, loss 0.7503\n",
            "Epoch 33, loss 0.7226\n",
            "Epoch 34, loss 0.7208\n",
            "Epoch 35, loss 0.7336\n",
            "Epoch 36, loss 0.7325\n",
            "Epoch 37, loss 0.7716\n",
            "Epoch 38, loss 0.7370\n",
            "Epoch 39, loss 0.7177\n",
            "Epoch 40, loss 0.6924\n",
            "Epoch 41, loss 0.6746\n",
            "Epoch 42, loss 0.6703\n",
            "Epoch 43, loss 0.6694\n",
            "Epoch 44, loss 0.6485\n",
            "Epoch 45, loss 0.6339\n",
            "Epoch 46, loss 0.6286\n",
            "Epoch 47, loss 0.6186\n",
            "Epoch 48, loss 0.6619\n",
            "Epoch 49, loss 0.6394\n",
            "Epoch 50, loss 0.6039\n",
            "Epoch 51, loss 0.6115\n",
            "Epoch 52, loss 0.5929\n",
            "Epoch 53, loss 0.5879\n",
            "Epoch 54, loss 0.5905\n",
            "Epoch 55, loss 0.6219\n",
            "Epoch 56, loss 0.6192\n",
            "Epoch 57, loss 0.5746\n",
            "Epoch 58, loss 0.5544\n",
            "Epoch 59, loss 0.5493\n",
            "Epoch 60, loss 0.5747\n",
            "Epoch 61, loss 0.5781\n",
            "Epoch 62, loss 0.5408\n",
            "Epoch 63, loss 0.5543\n",
            "Epoch 64, loss 0.5357\n",
            "Epoch 65, loss 0.5071\n",
            "Epoch 66, loss 0.4995\n",
            "Epoch 67, loss 0.5005\n",
            "Epoch 68, loss 0.4905\n",
            "Epoch 69, loss 0.4801\n",
            "Epoch 70, loss 0.4850\n",
            "Epoch 71, loss 0.4885\n",
            "Epoch 72, loss 0.4714\n",
            "Epoch 73, loss 0.4776\n",
            "Epoch 74, loss 0.4838\n",
            "Epoch 75, loss 0.4835\n",
            "Epoch 76, loss 0.4623\n",
            "Epoch 77, loss 0.4800\n",
            "Epoch 78, loss 0.4491\n",
            "Epoch 79, loss 0.4332\n"
          ],
          "name": "stdout"
        }
      ]
    },
    {
      "metadata": {
        "id": "_CQtzR-FACh0",
        "colab_type": "text"
      },
      "cell_type": "markdown",
      "source": [
        "### Plot learning curve"
      ]
    },
    {
      "metadata": {
        "id": "W_MspDaI_8gu",
        "colab_type": "code",
        "colab": {
          "base_uri": "https://localhost:8080/",
          "height": 281
        },
        "outputId": "7354bd11-3af2-4519-c1e0-5815964070a4"
      },
      "cell_type": "code",
      "source": [
        "# The learning curve of a run is presented below.\n",
        "plt.title('cross entropy averaged over minibatches')\n",
        "plt.plot(epoch_losses)\n",
        "plt.show()"
      ],
      "execution_count": 29,
      "outputs": [
        {
          "output_type": "display_data",
          "data": {
            "image/png": "[encoded data removed]",
            "text/plain": [
              "<Figure size 432x288 with 1 Axes>"
            ]
          },
          "metadata": {
            "tags": []
          }
        }
      ]
    },
    {
      "metadata": {
        "id": "-u0kW9MZAQPP",
        "colab_type": "text"
      },
      "cell_type": "markdown",
      "source": [
        "The trained model is evaluated on the test set created."
      ]
    },
    {
      "metadata": {
        "id": "I-2U1A6gAK-b",
        "colab_type": "code",
        "colab": {
          "base_uri": "https://localhost:8080/",
          "height": 272
        },
        "outputId": "8fc589ad-63db-4406-b7e3-b45658d014d2"
      },
      "cell_type": "code",
      "source": [
        "# Evaluate model\n",
        "model.eval()"
      ],
      "execution_count": 30,
      "outputs": [
        {
          "output_type": "execute_result",
          "data": {
            "text/plain": [
              "Classifier(\n",
              "  (layers): ModuleList(\n",
              "    (0): GCN(\n",
              "      (apply_mod): NodeApplyModule(\n",
              "        (linear): Linear(in_features=1, out_features=256, bias=True)\n",
              "      )\n",
              "    )\n",
              "    (1): GCN(\n",
              "      (apply_mod): NodeApplyModule(\n",
              "        (linear): Linear(in_features=256, out_features=256, bias=True)\n",
              "      )\n",
              "    )\n",
              "  )\n",
              "  (classify): Linear(in_features=256, out_features=8, bias=True)\n",
              ")"
            ]
          },
          "metadata": {
            "tags": []
          },
          "execution_count": 30
        }
      ]
    },
    {
      "metadata": {
        "id": "sIQzBexKATkz",
        "colab_type": "code",
        "colab": {
          "base_uri": "https://localhost:8080/",
          "height": 105
        },
        "outputId": "cf209230-833a-4d3d-8a5a-07aa858f9224"
      },
      "cell_type": "code",
      "source": [
        "# Convert a list of tuples to two lists\n",
        "test_X, test_Y = map(list, zip(*testset))\n",
        "test_bg = dgl.batch(test_X)\n",
        "test_Y = torch.tensor(test_Y).float().view(-1, 1)\n",
        "probs_Y = torch.softmax(model(test_bg), 1)\n",
        "sampled_Y = torch.multinomial(probs_Y, 1)\n",
        "argmax_Y = torch.max(probs_Y, 1)[1].view(-1, 1)\n",
        "print('Accuracy of sampled predictions on the test set: {:.4f}%'.format(\n",
        "    (test_Y == sampled_Y.float()).sum().item() / len(test_Y) * 100))\n",
        "print('Accuracy of argmax predictions on the test set: {:4f}%'.format(\n",
        "    (test_Y == argmax_Y.float()).sum().item() / len(test_Y) * 100))"
      ],
      "execution_count": 31,
      "outputs": [
        {
          "output_type": "stream",
          "text": [
            "Accuracy of sampled predictions on the test set: 70.0000%\n",
            "Accuracy of argmax predictions on the test set: 73.750000%\n"
          ],
          "name": "stdout"
        },
        {
          "output_type": "stream",
          "text": [
            "/usr/local/lib/python3.6/dist-packages/dgl/base.py:18: UserWarning: Initializer is not set. Use zero initializer instead. To suppress this warning, use `set_initializer` to explicitly specify which initializer to use.\n",
            "  warnings.warn(msg)\n"
          ],
          "name": "stderr"
        }
      ]
    },
    {
      "metadata": {
        "id": "Ctqdd_0QAVLa",
        "colab_type": "code",
        "colab": {}
      },
      "cell_type": "code",
      "source": [
        ""
      ],
      "execution_count": 0,
      "outputs": []
    }
  ]
}